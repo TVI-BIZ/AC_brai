{
  "nbformat": 4,
  "nbformat_minor": 0,
  "metadata": {
    "colab": {
      "name": "1212_AgroCode_pre_snippet.ipynb",
      "provenance": [],
      "collapsed_sections": [
        "_rJpamtpt0Kn"
      ],
      "toc_visible": true,
      "include_colab_link": true
    },
    "kernelspec": {
      "display_name": "Python 3",
      "language": "python",
      "name": "python3"
    },
    "language_info": {
      "codemirror_mode": {
        "name": "ipython",
        "version": 3
      },
      "file_extension": ".py",
      "mimetype": "text/x-python",
      "name": "python",
      "nbconvert_exporter": "python",
      "pygments_lexer": "ipython3",
      "version": "3.7.7"
    },
    "widgets": {
      "application/vnd.jupyter.widget-state+json": {
        "b7ae5a4f904d4e5e924ae951d557f848": {
          "model_module": "@jupyter-widgets/controls",
          "model_name": "HBoxModel",
          "state": {
            "_view_name": "HBoxView",
            "_dom_classes": [],
            "_model_name": "HBoxModel",
            "_view_module": "@jupyter-widgets/controls",
            "_model_module_version": "1.5.0",
            "_view_count": null,
            "_view_module_version": "1.5.0",
            "box_style": "",
            "layout": "IPY_MODEL_fa21e31097e0475bbcddce21470f81a2",
            "_model_module": "@jupyter-widgets/controls",
            "children": [
              "IPY_MODEL_a6cd088c184f4d179878572183913c51",
              "IPY_MODEL_4ca8288bbc9044b8ad6344ff0a55d4f8"
            ]
          }
        },
        "fa21e31097e0475bbcddce21470f81a2": {
          "model_module": "@jupyter-widgets/base",
          "model_name": "LayoutModel",
          "state": {
            "_view_name": "LayoutView",
            "grid_template_rows": null,
            "right": null,
            "justify_content": null,
            "_view_module": "@jupyter-widgets/base",
            "overflow": null,
            "_model_module_version": "1.2.0",
            "_view_count": null,
            "flex_flow": null,
            "width": null,
            "min_width": null,
            "border": null,
            "align_items": null,
            "bottom": null,
            "_model_module": "@jupyter-widgets/base",
            "top": null,
            "grid_column": null,
            "overflow_y": null,
            "overflow_x": null,
            "grid_auto_flow": null,
            "grid_area": null,
            "grid_template_columns": null,
            "flex": null,
            "_model_name": "LayoutModel",
            "justify_items": null,
            "grid_row": null,
            "max_height": null,
            "align_content": null,
            "visibility": null,
            "align_self": null,
            "height": null,
            "min_height": null,
            "padding": null,
            "grid_auto_rows": null,
            "grid_gap": null,
            "max_width": null,
            "order": null,
            "_view_module_version": "1.2.0",
            "grid_template_areas": null,
            "object_position": null,
            "object_fit": null,
            "grid_auto_columns": null,
            "margin": null,
            "display": null,
            "left": null
          }
        },
        "a6cd088c184f4d179878572183913c51": {
          "model_module": "@jupyter-widgets/controls",
          "model_name": "FloatProgressModel",
          "state": {
            "_view_name": "ProgressView",
            "style": "IPY_MODEL_77665351f8ec46bd82cd78d51c37c361",
            "_dom_classes": [],
            "description": "100%",
            "_model_name": "FloatProgressModel",
            "bar_style": "success",
            "max": 87306240,
            "_view_module": "@jupyter-widgets/controls",
            "_model_module_version": "1.5.0",
            "value": 87306240,
            "_view_count": null,
            "_view_module_version": "1.5.0",
            "orientation": "horizontal",
            "min": 0,
            "description_tooltip": null,
            "_model_module": "@jupyter-widgets/controls",
            "layout": "IPY_MODEL_6cb617054f97433db3630c4b5046803e"
          }
        },
        "4ca8288bbc9044b8ad6344ff0a55d4f8": {
          "model_module": "@jupyter-widgets/controls",
          "model_name": "HTMLModel",
          "state": {
            "_view_name": "HTMLView",
            "style": "IPY_MODEL_986ac4a2e72148b9afd421e572a1608c",
            "_dom_classes": [],
            "description": "",
            "_model_name": "HTMLModel",
            "placeholder": "​",
            "_view_module": "@jupyter-widgets/controls",
            "_model_module_version": "1.5.0",
            "value": " 83.3M/83.3M [01:06&lt;00:00, 1.31MB/s]",
            "_view_count": null,
            "_view_module_version": "1.5.0",
            "description_tooltip": null,
            "_model_module": "@jupyter-widgets/controls",
            "layout": "IPY_MODEL_abfb8e6c7691482b9f42287fe4d392f4"
          }
        },
        "77665351f8ec46bd82cd78d51c37c361": {
          "model_module": "@jupyter-widgets/controls",
          "model_name": "ProgressStyleModel",
          "state": {
            "_view_name": "StyleView",
            "_model_name": "ProgressStyleModel",
            "description_width": "initial",
            "_view_module": "@jupyter-widgets/base",
            "_model_module_version": "1.5.0",
            "_view_count": null,
            "_view_module_version": "1.2.0",
            "bar_color": null,
            "_model_module": "@jupyter-widgets/controls"
          }
        },
        "6cb617054f97433db3630c4b5046803e": {
          "model_module": "@jupyter-widgets/base",
          "model_name": "LayoutModel",
          "state": {
            "_view_name": "LayoutView",
            "grid_template_rows": null,
            "right": null,
            "justify_content": null,
            "_view_module": "@jupyter-widgets/base",
            "overflow": null,
            "_model_module_version": "1.2.0",
            "_view_count": null,
            "flex_flow": null,
            "width": null,
            "min_width": null,
            "border": null,
            "align_items": null,
            "bottom": null,
            "_model_module": "@jupyter-widgets/base",
            "top": null,
            "grid_column": null,
            "overflow_y": null,
            "overflow_x": null,
            "grid_auto_flow": null,
            "grid_area": null,
            "grid_template_columns": null,
            "flex": null,
            "_model_name": "LayoutModel",
            "justify_items": null,
            "grid_row": null,
            "max_height": null,
            "align_content": null,
            "visibility": null,
            "align_self": null,
            "height": null,
            "min_height": null,
            "padding": null,
            "grid_auto_rows": null,
            "grid_gap": null,
            "max_width": null,
            "order": null,
            "_view_module_version": "1.2.0",
            "grid_template_areas": null,
            "object_position": null,
            "object_fit": null,
            "grid_auto_columns": null,
            "margin": null,
            "display": null,
            "left": null
          }
        },
        "986ac4a2e72148b9afd421e572a1608c": {
          "model_module": "@jupyter-widgets/controls",
          "model_name": "DescriptionStyleModel",
          "state": {
            "_view_name": "StyleView",
            "_model_name": "DescriptionStyleModel",
            "description_width": "",
            "_view_module": "@jupyter-widgets/base",
            "_model_module_version": "1.5.0",
            "_view_count": null,
            "_view_module_version": "1.2.0",
            "_model_module": "@jupyter-widgets/controls"
          }
        },
        "abfb8e6c7691482b9f42287fe4d392f4": {
          "model_module": "@jupyter-widgets/base",
          "model_name": "LayoutModel",
          "state": {
            "_view_name": "LayoutView",
            "grid_template_rows": null,
            "right": null,
            "justify_content": null,
            "_view_module": "@jupyter-widgets/base",
            "overflow": null,
            "_model_module_version": "1.2.0",
            "_view_count": null,
            "flex_flow": null,
            "width": null,
            "min_width": null,
            "border": null,
            "align_items": null,
            "bottom": null,
            "_model_module": "@jupyter-widgets/base",
            "top": null,
            "grid_column": null,
            "overflow_y": null,
            "overflow_x": null,
            "grid_auto_flow": null,
            "grid_area": null,
            "grid_template_columns": null,
            "flex": null,
            "_model_name": "LayoutModel",
            "justify_items": null,
            "grid_row": null,
            "max_height": null,
            "align_content": null,
            "visibility": null,
            "align_self": null,
            "height": null,
            "min_height": null,
            "padding": null,
            "grid_auto_rows": null,
            "grid_gap": null,
            "max_width": null,
            "order": null,
            "_view_module_version": "1.2.0",
            "grid_template_areas": null,
            "object_position": null,
            "object_fit": null,
            "grid_auto_columns": null,
            "margin": null,
            "display": null,
            "left": null
          }
        },
        "4bf7ee945f01419fb717c28d451afdd5": {
          "model_module": "@jupyter-widgets/controls",
          "model_name": "HBoxModel",
          "state": {
            "_view_name": "HBoxView",
            "_dom_classes": [],
            "_model_name": "HBoxModel",
            "_view_module": "@jupyter-widgets/controls",
            "_model_module_version": "1.5.0",
            "_view_count": null,
            "_view_module_version": "1.5.0",
            "box_style": "",
            "layout": "IPY_MODEL_249918f212214d78b80c7edfe04ae79e",
            "_model_module": "@jupyter-widgets/controls",
            "children": [
              "IPY_MODEL_7ee4ae27a489409a83760c310d05c6ee",
              "IPY_MODEL_4599b4047a2e4dc18e6b5b23bed12d56"
            ]
          }
        },
        "249918f212214d78b80c7edfe04ae79e": {
          "model_module": "@jupyter-widgets/base",
          "model_name": "LayoutModel",
          "state": {
            "_view_name": "LayoutView",
            "grid_template_rows": null,
            "right": null,
            "justify_content": null,
            "_view_module": "@jupyter-widgets/base",
            "overflow": null,
            "_model_module_version": "1.2.0",
            "_view_count": null,
            "flex_flow": null,
            "width": null,
            "min_width": null,
            "border": null,
            "align_items": null,
            "bottom": null,
            "_model_module": "@jupyter-widgets/base",
            "top": null,
            "grid_column": null,
            "overflow_y": null,
            "overflow_x": null,
            "grid_auto_flow": null,
            "grid_area": null,
            "grid_template_columns": null,
            "flex": null,
            "_model_name": "LayoutModel",
            "justify_items": null,
            "grid_row": null,
            "max_height": null,
            "align_content": null,
            "visibility": null,
            "align_self": null,
            "height": null,
            "min_height": null,
            "padding": null,
            "grid_auto_rows": null,
            "grid_gap": null,
            "max_width": null,
            "order": null,
            "_view_module_version": "1.2.0",
            "grid_template_areas": null,
            "object_position": null,
            "object_fit": null,
            "grid_auto_columns": null,
            "margin": null,
            "display": null,
            "left": null
          }
        },
        "7ee4ae27a489409a83760c310d05c6ee": {
          "model_module": "@jupyter-widgets/controls",
          "model_name": "FloatProgressModel",
          "state": {
            "_view_name": "ProgressView",
            "style": "IPY_MODEL_1a68dd5b6c1747459bbffa734ff06f18",
            "_dom_classes": [],
            "description": "100%",
            "_model_name": "FloatProgressModel",
            "bar_style": "success",
            "max": 20,
            "_view_module": "@jupyter-widgets/controls",
            "_model_module_version": "1.5.0",
            "value": 20,
            "_view_count": null,
            "_view_module_version": "1.5.0",
            "orientation": "horizontal",
            "min": 0,
            "description_tooltip": null,
            "_model_module": "@jupyter-widgets/controls",
            "layout": "IPY_MODEL_f53fc2f2120e43489c0fb8c06dff2d8b"
          }
        },
        "4599b4047a2e4dc18e6b5b23bed12d56": {
          "model_module": "@jupyter-widgets/controls",
          "model_name": "HTMLModel",
          "state": {
            "_view_name": "HTMLView",
            "style": "IPY_MODEL_5519bcc2f4004dbeae436d1922ac6fee",
            "_dom_classes": [],
            "description": "",
            "_model_name": "HTMLModel",
            "placeholder": "​",
            "_view_module": "@jupyter-widgets/controls",
            "_model_module_version": "1.5.0",
            "value": " 20/20 [24:10&lt;00:00, 72.54s/it]",
            "_view_count": null,
            "_view_module_version": "1.5.0",
            "description_tooltip": null,
            "_model_module": "@jupyter-widgets/controls",
            "layout": "IPY_MODEL_2e8d28786b91466f8e4f18ba71483b1d"
          }
        },
        "1a68dd5b6c1747459bbffa734ff06f18": {
          "model_module": "@jupyter-widgets/controls",
          "model_name": "ProgressStyleModel",
          "state": {
            "_view_name": "StyleView",
            "_model_name": "ProgressStyleModel",
            "description_width": "initial",
            "_view_module": "@jupyter-widgets/base",
            "_model_module_version": "1.5.0",
            "_view_count": null,
            "_view_module_version": "1.2.0",
            "bar_color": null,
            "_model_module": "@jupyter-widgets/controls"
          }
        },
        "f53fc2f2120e43489c0fb8c06dff2d8b": {
          "model_module": "@jupyter-widgets/base",
          "model_name": "LayoutModel",
          "state": {
            "_view_name": "LayoutView",
            "grid_template_rows": null,
            "right": null,
            "justify_content": null,
            "_view_module": "@jupyter-widgets/base",
            "overflow": null,
            "_model_module_version": "1.2.0",
            "_view_count": null,
            "flex_flow": null,
            "width": null,
            "min_width": null,
            "border": null,
            "align_items": null,
            "bottom": null,
            "_model_module": "@jupyter-widgets/base",
            "top": null,
            "grid_column": null,
            "overflow_y": null,
            "overflow_x": null,
            "grid_auto_flow": null,
            "grid_area": null,
            "grid_template_columns": null,
            "flex": null,
            "_model_name": "LayoutModel",
            "justify_items": null,
            "grid_row": null,
            "max_height": null,
            "align_content": null,
            "visibility": null,
            "align_self": null,
            "height": null,
            "min_height": null,
            "padding": null,
            "grid_auto_rows": null,
            "grid_gap": null,
            "max_width": null,
            "order": null,
            "_view_module_version": "1.2.0",
            "grid_template_areas": null,
            "object_position": null,
            "object_fit": null,
            "grid_auto_columns": null,
            "margin": null,
            "display": null,
            "left": null
          }
        },
        "5519bcc2f4004dbeae436d1922ac6fee": {
          "model_module": "@jupyter-widgets/controls",
          "model_name": "DescriptionStyleModel",
          "state": {
            "_view_name": "StyleView",
            "_model_name": "DescriptionStyleModel",
            "description_width": "",
            "_view_module": "@jupyter-widgets/base",
            "_model_module_version": "1.5.0",
            "_view_count": null,
            "_view_module_version": "1.2.0",
            "_model_module": "@jupyter-widgets/controls"
          }
        },
        "2e8d28786b91466f8e4f18ba71483b1d": {
          "model_module": "@jupyter-widgets/base",
          "model_name": "LayoutModel",
          "state": {
            "_view_name": "LayoutView",
            "grid_template_rows": null,
            "right": null,
            "justify_content": null,
            "_view_module": "@jupyter-widgets/base",
            "overflow": null,
            "_model_module_version": "1.2.0",
            "_view_count": null,
            "flex_flow": null,
            "width": null,
            "min_width": null,
            "border": null,
            "align_items": null,
            "bottom": null,
            "_model_module": "@jupyter-widgets/base",
            "top": null,
            "grid_column": null,
            "overflow_y": null,
            "overflow_x": null,
            "grid_auto_flow": null,
            "grid_area": null,
            "grid_template_columns": null,
            "flex": null,
            "_model_name": "LayoutModel",
            "justify_items": null,
            "grid_row": null,
            "max_height": null,
            "align_content": null,
            "visibility": null,
            "align_self": null,
            "height": null,
            "min_height": null,
            "padding": null,
            "grid_auto_rows": null,
            "grid_gap": null,
            "max_width": null,
            "order": null,
            "_view_module_version": "1.2.0",
            "grid_template_areas": null,
            "object_position": null,
            "object_fit": null,
            "grid_auto_columns": null,
            "margin": null,
            "display": null,
            "left": null
          }
        }
      }
    }
  },
  "cells": [
    {
      "cell_type": "markdown",
      "metadata": {
        "id": "view-in-github",
        "colab_type": "text"
      },
      "source": [
        "<a href=\"https://colab.research.google.com/github/TVI-BIZ/AC_brai/blob/main/1212_AgroCode_pre_snippet.ipynb\" target=\"_parent\"><img src=\"https://colab.research.google.com/assets/colab-badge.svg\" alt=\"Open In Colab\"/></a>"
      ]
    },
    {
      "cell_type": "markdown",
      "metadata": {
        "id": "7TEh0U5WjsEb"
      },
      "source": [
        "Хакатон Agro-Code (предвартельная подготовка)\r\n",
        "\r\n",
        "**Данные:**\r\n",
        "\r\n",
        "Командам будет предоставлен размеченный датасет из нескольких сотен фотографий листьев яблони.\r\n",
        "\r\n",
        "**Задача:**\r\n",
        "\r\n",
        "Обучение глубокой нейросети для обнаружения заболевания листа яблони по фотографии.\r\n",
        "\r\n",
        "Сделаем прототип по https://towardsdatascience.com/build-a-web-application-for-predicting-apple-leaf-diseases-using-pytorch-and-flask-413f9fa9276a"
      ]
    },
    {
      "cell_type": "code",
      "metadata": {
        "id": "XstQYk2R1YLF"
      },
      "source": [
        "import torch\n",
        "import pickle\n",
        "import numpy as np\n",
        "from skimage import io\n",
        "import copy\n",
        "from sklearn.metrics import f1_score\n",
        "from sklearn.model_selection import train_test_split\n",
        " \n",
        "from tqdm import tqdm, tqdm_notebook\n",
        "from PIL import Image\n",
        "from pathlib import Path\n",
        " \n",
        "from torchvision import transforms, models\n",
        "from multiprocessing.pool import ThreadPool\n",
        "from sklearn.preprocessing import LabelEncoder\n",
        "from torch.utils.data import Dataset, DataLoader\n",
        "import torch.nn as nn\n",
        "from torch.optim import lr_scheduler\n",
        " \n",
        "from matplotlib import colors, pyplot as plt\n",
        "%matplotlib inline\n",
        " \n",
        "# в sklearn не все гладко, чтобы в colab удобно выводить картинки \n",
        "# мы будем игнорировать warnings\n",
        "import warnings\n",
        "warnings.filterwarnings(action='ignore', category=DeprecationWarning)"
      ],
      "execution_count": 2,
      "outputs": []
    },
    {
      "cell_type": "code",
      "metadata": {
        "id": "JJ8N9syI0Aq4"
      },
      "source": [
        "# В замечательной статье PyTorch 101, Part 4: Memory Management and Using Multiple GPUs\n",
        "# https://blog.paperspace.com/pytorch-memory-multi-gpu-debugging/\n",
        "# описано что это позволяет оптимизировать использование памяти \n",
        "# и ускорить расчеты при использовании GPU Nvidia\n",
        "torch.backends.cudnn.benchmark = True\n",
        "torch.backends.cudnn.enabled = True"
      ],
      "execution_count": 3,
      "outputs": []
    },
    {
      "cell_type": "code",
      "metadata": {
        "id": "TF86noaVs-Wk"
      },
      "source": [
        "#для воспроизводимости итогового Score попробуем зафиксировать ВСЕ случайные параметры\r\n",
        "#еще я сохраняю веса обученных моделей, чтобы их можно было загрузить и проверить.\r\n",
        "np.random.seed(77)\r\n",
        "torch.manual_seed(77)\r\n",
        "torch.cuda.manual_seed(0)\r\n",
        "torch.backends.cudnn.deterministic = True"
      ],
      "execution_count": 4,
      "outputs": []
    },
    {
      "cell_type": "code",
      "metadata": {
        "id": "x7VkSumJuvrW"
      },
      "source": [
        ""
      ],
      "execution_count": null,
      "outputs": []
    },
    {
      "cell_type": "markdown",
      "metadata": {
        "id": "bmtP1wi3uwEi"
      },
      "source": [
        "Привет Антон!\r\n",
        "\r\n",
        "Привет, Влад."
      ]
    },
    {
      "cell_type": "code",
      "metadata": {
        "colab": {
          "base_uri": "https://localhost:8080/"
        },
        "id": "0Zc6VMKeidub",
        "outputId": "8a79ab06-478b-42fe-80a6-06456c52331a"
      },
      "source": [
        "# посмотрим какую GPU нам дали\r\n",
        "!nvidia-smi"
      ],
      "execution_count": 5,
      "outputs": [
        {
          "output_type": "stream",
          "text": [
            "Sat Dec 12 14:36:05 2020       \n",
            "+-----------------------------------------------------------------------------+\n",
            "| NVIDIA-SMI 455.45.01    Driver Version: 418.67       CUDA Version: 10.1     |\n",
            "|-------------------------------+----------------------+----------------------+\n",
            "| GPU  Name        Persistence-M| Bus-Id        Disp.A | Volatile Uncorr. ECC |\n",
            "| Fan  Temp  Perf  Pwr:Usage/Cap|         Memory-Usage | GPU-Util  Compute M. |\n",
            "|                               |                      |               MIG M. |\n",
            "|===============================+======================+======================|\n",
            "|   0  Tesla T4            Off  | 00000000:00:04.0 Off |                    0 |\n",
            "| N/A   32C    P8     9W /  70W |      0MiB / 15079MiB |      0%      Default |\n",
            "|                               |                      |                 ERR! |\n",
            "+-------------------------------+----------------------+----------------------+\n",
            "                                                                               \n",
            "+-----------------------------------------------------------------------------+\n",
            "| Processes:                                                                  |\n",
            "|  GPU   GI   CI        PID   Type   Process name                  GPU Memory |\n",
            "|        ID   ID                                                   Usage      |\n",
            "|=============================================================================|\n",
            "|  No running processes found                                                 |\n",
            "+-----------------------------------------------------------------------------+\n"
          ],
          "name": "stdout"
        }
      ]
    },
    {
      "cell_type": "markdown",
      "metadata": {
        "id": "_rJpamtpt0Kn"
      },
      "source": [
        "## Обощая все ноутбуки и документацию PyTorch, были собраны и модифицированы эти полезные функции:"
      ]
    },
    {
      "cell_type": "markdown",
      "metadata": {
        "id": "DGe5nR1SkNzg"
      },
      "source": [
        "### Полезные функции для сериализации и десериализации словарей (Losses и Accurancy)"
      ]
    },
    {
      "cell_type": "code",
      "metadata": {
        "id": "G_GzvK09kI3I"
      },
      "source": [
        "import pickle\n",
        "\n",
        "def save_dict_to_file(my_dict, file_path):\n",
        "    \"\"\"Функция сохранения словаря my_dict в файл file_path с помощью модуля \n",
        "    pickle. (Сериализация).\n",
        "    \n",
        "    Parameters:\n",
        "\n",
        "    my_dict : dict, словарь, который мы хоти сохранить.\n",
        "    file_path : str, путь куда мы хотим сохранить включащий имя файла.\n",
        "    \"\"\"\n",
        "    with open(file_path, 'wb') as handle:\n",
        "        pickle.dump(my_dict, handle, protocol=pickle.HIGHEST_PROTOCOL)\n",
        "\n",
        "def load_dict_from_file(file_path):\n",
        "    \"\"\"Функция загрузки словаря из файла расположенного по пути file_path с \n",
        "    помощью модуля pickle. (Десериализация).\n",
        "    \n",
        "    Parameters:\n",
        "\n",
        "    file_path : str, путь по которому мы хотим загрузить, сохраненый ранее \n",
        "        словарь.\n",
        "    \"\"\"\n",
        "    with open(file_path, 'rb') as handle:\n",
        "        unserialized_data = pickle.load(handle)\n",
        "        \n",
        "    return unserialized_data\n",
        "\n",
        "def save_model(path, model, losses, acc, best_model_wts):\n",
        "    \"\"\"Функция для сохранения состояние нашей нейросети model \n",
        "    (ее весов state_dict()), а так же словарей с losses и accurancy за весь \n",
        "    процесс обучения.\n",
        "\n",
        "    Parameters:\n",
        "\n",
        "    path : str, путь по которому мы хотим сохранить веса нейросети model, \n",
        "        а так же словари losses и acc.\n",
        "        словарь.\n",
        "    model : обученая нейросеть, содержит веса своего текущесго состояния \n",
        "        после обучения.\n",
        "    losses : dict, ключи 'train' и 'val' содежат list, в котором сохранены\n",
        "        значения loss функции на каждой эпохе обучения.\n",
        "    acc : dict, ключи 'train' и 'val' содежат list, в котором сохранены\n",
        "        значения accurancy на каждой эпохе обучения.\n",
        "    best_model_wts : model.state_dict() содержит веса обучаемой нейросети\n",
        "        model, при которых была получена лучшая точность на валидационной \n",
        "        выборке.\n",
        "    \"\"\"\n",
        "\n",
        "    torch.save(model.state_dict(), path + '.pth')\n",
        "    torch.save(best_model_wts, path + '_best_w.pth')\n",
        "    save_dict_to_file(losses, path + '_losses.pickle')\n",
        "    save_dict_to_file(acc, path + '_acc.pickle') "
      ],
      "execution_count": 6,
      "outputs": []
    },
    {
      "cell_type": "markdown",
      "metadata": {
        "id": "redE6ovevfka"
      },
      "source": [
        "### Полезные функции для обучения нейросети"
      ]
    },
    {
      "cell_type": "code",
      "metadata": {
        "id": "9lqPGdfCskpZ"
      },
      "source": [
        "from tqdm import tqdm_notebook\n",
        "import time\n",
        "import logging\n",
        "\n",
        "def train_model(model, dataloaders, criterion, optimizer, num_epochs=25,\n",
        "                scheduler=None, use_gpu=True, best_acc=None, best_loss=None,\n",
        "                flag_save_wts_to_file = False, path = None, losses=None, \n",
        "                acc=None):\n",
        "    \n",
        "    \"\"\"Модифицированная мной функция тренеровки модели из \n",
        "    https://pytorch.org/tutorials/beginner/finetuning_torchvision_models_tutorial.html\n",
        "    https://pytorch.org/tutorials/beginner/transfer_learning_tutorial\n",
        "\n",
        "    Тестировалась в новой версии PyTorch 1.5\n",
        "    Ключевые особенности:\n",
        "    1. Сохраняет веса модели, если была достигнута лучшая точность на этапах \n",
        "    валидации, чем ранее на каждой эпохе в переменную best_model_wts. \n",
        "    (Далее эти веса при необходимости могут быть заружены в модель)\n",
        "    2. Можно задать порог точности для сохранения best_model_wts, например,\n",
        "    мы уже обучили модель на 0.9700 точности. Сохранили ее веса и продолжаем \n",
        "    обучение, зададим порог по точности не ниже полученной ранее. Тогда в \n",
        "    best_model_wts будут записаны веса модели лишь в том случае, если модель\n",
        "    улучшила свою точность в процессе нового обучения.\n",
        "    3. Имеет поддержку планировщика learning rate (scheduler), работающего один \n",
        "    раз за эпоху обучения.\n",
        "    4. При обучении веса модели с последней эпохи обучения и при которой была \n",
        "    достигнута лучшая точность а так же losses и accurancy могут сохраняться\n",
        "    на каждой эпохе обучения по указанному пути path(Я сохранял на Google Диск).\n",
        "    Это удобно если вдруг обучение модели прервалось, у нас будут последние веса\n",
        "    и обучение может быть продолжено с места разрыва. За это отвечает флаг \n",
        "    flag_save_wts_to_file.\n",
        "    5. При включении flag_save_wts_to_file ведет лог обучения (все print) в файл.\n",
        "    Это сделано на тот случай если print в Google Colab не сохраняться. При \n",
        "    обучении моделейф на локальной машине print в ноутбуке в случае выключения \n",
        "    машины скорее всего точно не сохранятся, и тут нам помогут лог-файлы.\n",
        "    6. Возможно продолжение обучения с прерванного места, для этого надо просто\n",
        "    загрузить в модель веса с последней эпохи, и передать в эту функцию \n",
        "    сохраненные losses как losses и accurancy как acc и достигнутое ранее \n",
        "    значение лучшей точности при которой было сохранено последнее значение\n",
        "    лучших весов(тут надо смотреть лог-файл) как best_acc.\n",
        "    7. Если мы используем технику раздельного lr для различных групп слоев нашей\n",
        "    модели данная функция будет писать список всех lr используемых нашей моделью\n",
        "    на каждой эпохе обучения. Да же если мы сипользуем отдельных lr для каждого\n",
        "    слоя модели.\n",
        "\n",
        "    Parameters:\n",
        "\n",
        "    model : torchvision.models или самописаная нейронная сеть созданная \n",
        "        в PyTorch или предобученная из torchvision.models.\n",
        "    dataloaders : torch.utils.data.DataLoader загрузчик картинок из нашего \n",
        "        dataset.\n",
        "    criterion : loss функция из модуля torch.nn.\n",
        "    optimizer : оптимизатор из модуля torch.optim.\n",
        "    num_epochs : int, число эпох обучения.\n",
        "    scheduler : планировщик learning rate из torch.optim, расчитанный на простую\n",
        "    работу один раз в эпоху и не использующего losses или accurancy для своей \n",
        "    работы. (По умолчанию None).\n",
        "    use_gpu : bool, используем ли мы GPU в расчетах ? (По умолчанию True)\n",
        "    best_acc : float (в долях, не в процентах!), задать порог точности для \n",
        "        сохранения best_model_wts, например мы уже обучили модель на 0.9700 \n",
        "        точности. Сохранили ее веса и продолжаем обучение, зададим порог по \n",
        "        точности не ниже полученной ранее. Тогда в best_model_wts будут \n",
        "        записаны веса модели лишь в том случае если модель улучшила свою \n",
        "        точность в процессе нового обучения. (По умолчанию None)\n",
        "    flag_save_wts_to_file : bool, хотим ли сохранять веса модели с последней \n",
        "        эпохи обучения и при которой была достигнута лучшая точность, а так же\n",
        "        losses и accurancy на каждой эпохе обучения по указанному пути path\n",
        "        (Я сохранял на Google Диск).\n",
        "        Это удобно если вдруг обучение модели прервалось, у нас будут последние\n",
        "        веса и обучение может быть продолжено с места разрыва.\n",
        "        Замедляет обучение на сохранение моделей в файл, имеет смысл \n",
        "        использовать для моделей где обучение одной эпохи длится более 5 минут.\n",
        "        Тогда практически не заметно. (По умолчанию False).\n",
        "    path : string, путь по которому мы будем сохранять веса модели, а так же \n",
        "        losses и accurancy. Путь состоит из пути к папке и названия модели\n",
        "        Пример, path = '/content/gdrive/My Drive/folder/model_name'\n",
        "        (По умолчанию False, его необходимо задать если \n",
        "        flag_save_wts_to_file = True)\n",
        "    losses : dict вида {'train': list значений loss, полученных эпохе на обучающей выборке,\n",
        "                        'val': list значений loss, полученных на эпохе на валидационной выборке}\n",
        "            используется при продолжении обучения с места разрыва, так не нужен.\n",
        "            (По умолчанию None).\n",
        "    acc : dict вида {'train': list значений accurancy, полученных эпохе на обучающей выборке,\n",
        "                        'val': list значений accurancy, полученных на эпохе на валидационной выборке}\n",
        "            используется при продолжении обучения с места разрыва, так не нужен.\n",
        "            (По умолчанию None).\n",
        "\n",
        "    Returns:\n",
        "    \n",
        "    model : обученая нейросеть, содержит веса своего текущесго состояния \n",
        "        после обучения.\n",
        "    losses : dict, ключи 'train' и 'val' содежат list, в котором сохранены\n",
        "        значения loss функции на каждой эпохе обучения.\n",
        "    acc : dict, ключи 'train' и 'val' содежат list, в котором сохранены\n",
        "        значения accurancy на каждой эпохе обучения.\n",
        "    best_model_wts : model.state_dict() содержит веса обучаемой нейросети\n",
        "        model, при которых была получена лучшая точность на валидационной \n",
        "        выборке.\n",
        "    \"\"\"\n",
        "    since = time.time()\n",
        "\n",
        "    if flag_save_wts_to_file:\n",
        "        if path is None:\n",
        "            raise ValueError('Вы хотетите сохранять веса, но не задали путь в переменную path!')\n",
        "        else:\n",
        "            print('Logging...')\n",
        "            logging.basicConfig(level=logging.INFO, filemode='w', filename=path + '_log_file.txt')\n",
        "            logger = logging.getLogger(__name__)\n",
        "\n",
        "    best_model_wts = copy.deepcopy(model.state_dict())\n",
        "    epoch_best_acc = 0\n",
        "    best_loss_model_wts = copy.deepcopy(model.state_dict())\n",
        "    epoch_best_loss = 0\n",
        "    \n",
        "    if best_acc is None:\n",
        "        best_acc = 0.0\n",
        "\n",
        "    if best_loss is None:\n",
        "        best_loss = np.inf\n",
        "    \n",
        "    if losses is None and acc is None:\n",
        "        losses = {'train': [], 'val': [], 'best':[]}\n",
        "        acc = {'train': [], 'val': [], 'best':[]}\n",
        "    \n",
        "    for epoch in tqdm_notebook(range(num_epochs)):\n",
        "        if scheduler is None:\n",
        "            lr_epoch = []\n",
        "            # выводим lr для каждой группы слоев которую мы определили\n",
        "            # если мы используем один lr для всех обучаемых слоев выведет его\n",
        "            for param_group in optimizer.param_groups:\n",
        "                lr_epoch.append(param_group[\"lr\"])\n",
        "        else:\n",
        "            lr_epoch = scheduler.get_lr()\n",
        "            \n",
        "        print(f'Epoch {epoch}/{num_epochs - 1} lr={lr_epoch}')\n",
        "        print('-' * 10)\n",
        "\n",
        "        if flag_save_wts_to_file:\n",
        "            logger.info(f'Epoch {epoch}/{num_epochs - 1} lr={lr_epoch}')\n",
        "            logger.info('-' * 10)\n",
        "\n",
        "        # каждя эпоха имеет обучающую и тестовую стадии\n",
        "        for phase in ['train', 'val']:\n",
        "            if phase == 'train':\n",
        "                model.train()  # установаить модель в режим обучения\n",
        "            else:\n",
        "                model.eval()  # установить модель в режим предсказания\n",
        "\n",
        "            running_loss = 0.0\n",
        "            running_corrects = 0\n",
        "\n",
        "            # итерируемся по батчам\n",
        "            for inputs, labels in dataloaders[phase]:\n",
        "                # оборачиваем в переменные\n",
        "                if use_gpu:\n",
        "                    inputs = inputs.to(DEVICE)\n",
        "                    labels = labels.to(DEVICE)\n",
        "                else:\n",
        "                    inputs, labels = inputs, labels\n",
        "\n",
        "                # инициализируем градиенты параметров\n",
        "                optimizer.zero_grad()\n",
        "\n",
        "                # активируем расчет градиентов для фазы обучения\n",
        "                with torch.set_grad_enabled(phase == 'train'):\n",
        "                    outputs = model(inputs)\n",
        "                    loss = criterion(outputs, labels)\n",
        "                    _, preds = torch.max(outputs, 1)\n",
        "\n",
        "                    # сделаем backward шаг оптимизатора если сейчас фаза обучения\n",
        "                    if phase == 'train':\n",
        "                        loss.backward()\n",
        "                        optimizer.step()\n",
        "\n",
        "                # подсчитаем статистику по эпохе\n",
        "                running_loss += loss.item() * inputs.size(0)\n",
        "                running_corrects += torch.sum(preds == labels.data)\n",
        "\n",
        "            if phase == 'train':\n",
        "                if scheduler is not None:\n",
        "                    scheduler.step()\n",
        "\n",
        "            epoch_loss = running_loss / len(dataloaders[phase].dataset)\n",
        "            epoch_acc = running_corrects.double() / len(dataloaders[phase].dataset)\n",
        "            epoch_acc = epoch_acc.item()\n",
        "            \n",
        "            losses[phase].append(epoch_loss)\n",
        "            acc[phase].append(epoch_acc)\n",
        "            \n",
        "            print('{} Loss: {:.4f} Acc: {:.4f}'.format(phase, epoch_loss, epoch_acc))\n",
        "            if flag_save_wts_to_file:\n",
        "                logger.info('{} Loss: {:.4f} Acc: {:.4f}'.format(phase, epoch_loss, epoch_acc))\n",
        "\n",
        "            # если на валидационной выборке удалось получить лучшую,\n",
        "            # чем ранее точность, то запомним веса модели в best_model_wts\n",
        "            if phase == 'val' and epoch_acc > best_acc:\n",
        "                best_acc = epoch_acc\n",
        "                best_model_wts = copy.deepcopy(model.state_dict())\n",
        "                epoch_best_acc = epoch\n",
        "                print(f'\\n***new best wts with acc {best_acc} at {epoch_best_acc} epoh***')\n",
        "                if flag_save_wts_to_file:\n",
        "                    torch.save(best_model_wts, path + '_best_w.pth')\n",
        "                    logger.info(f'save new best wts with acc {best_acc} at {epoch_best_acc} epoh')\n",
        "                acc['best'] = [epoch_best_acc, best_acc]\n",
        "            \n",
        "            if phase == 'val' and epoch_loss < best_loss:\n",
        "                best_loss = epoch_loss\n",
        "                best_loss_model_wts = copy.deepcopy(model.state_dict())\n",
        "                epoch_best_loss = epoch\n",
        "                print(f'\\n***new best wts with loss {best_loss} at {epoch_best_loss} epoh***')\n",
        "                if flag_save_wts_to_file:\n",
        "                    torch.save(best_loss_model_wts, path + '_best_w_loss.pth')\n",
        "                    logger.info(f'save new best wts with loss {best_loss} at {epoch_best_loss} epoh')\n",
        "                losses['best'] = [epoch_best_loss, best_loss]\n",
        "\n",
        "        if flag_save_wts_to_file:\n",
        "            print(f'*** save model wts at this {epoch} epoch ! *** \\n')\n",
        "            torch.save(model.state_dict(), path + '.pth')\n",
        "            save_dict_to_file(losses, path + '_losses.pickle')\n",
        "            save_dict_to_file(acc, path + '_acc.pickle')\n",
        "            logger.info(f'*** save model wts at this {epoch} epoch ! *** \\n')\n",
        "\n",
        "    time_elapsed = time.time() - since\n",
        "    print('Training complete in {:.0f}m {:.0f}s'.format(\n",
        "        time_elapsed // 60, time_elapsed % 60))\n",
        "    print('Best val Acc: {:4f} at {}'.format(best_acc, epoch_best_acc))\n",
        "    print('Best val Loss: {:4f} at {}'.format(best_loss, epoch_best_loss))\n",
        "\n",
        "    if flag_save_wts_to_file:\n",
        "        logger.info('Training complete in {:.0f}m {:.0f}s'.format(\n",
        "            time_elapsed // 60, time_elapsed % 60))\n",
        "        logger.info('Best val Acc: {:4f} at {}'.format(best_acc, epoch_best_acc))\n",
        "        logger.info('Best val Loss: {:4f} at {}'.format(best_loss, epoch_best_loss))\n",
        "\n",
        "    logging.shutdown() # выключаем логирование\n",
        "\n",
        "    return model, losses, acc, best_model_wts\n",
        "             \n",
        "def evaluate(model, dataloader_val, DEVICE, use_gpu =True):\n",
        "    '''Функция для измерения точности модели на валидационном датасете\n",
        "    метрика accurancy\n",
        "    \n",
        "    Parameters:\n",
        "\n",
        "    model : torchvision.models или самописаная нейронная сеть созданная \n",
        "        в PyTorch или предобученная из torchvision.models.\n",
        "    dataloader_val : torch.utils.data.DataLoader загрузчик картинок из \n",
        "        валидационной выборки.\n",
        "    use_gpu : bool, используем ли мы GPU в расчетах ?\n",
        "\n",
        "    Returns:\n",
        "\n",
        "    accurancy : float, число accurancy [0. ,1.], полученная на валидационной \n",
        "        выборке.\n",
        "    '''\n",
        "    model.eval() # перевели модель в режим предсказание\n",
        "    \n",
        "    runninig_correct = 0\n",
        "    # Контекстный менеджер, который отключает вычисление градиентов.\n",
        "    # отключаем вычисление градиентов, мы только предсказываем, а не обучаем.\n",
        "    # экономит оперативную память GPU и ускоряет расчеты.\n",
        "    with torch.no_grad(): \n",
        "        for inputs, labels in dataloader_val:\n",
        "            # переносим на GPU, если оно используется\n",
        "            if use_gpu:\n",
        "                inputs = inputs.to(DEVICE)\n",
        "                labels = labels.to(DEVICE)\n",
        "                \n",
        "            # forard pass\n",
        "            output = model(inputs)\n",
        "            _, predicted = torch.max(output, 1)\n",
        "            \n",
        "            runninig_correct += int(torch.sum(predicted == labels))\n",
        "        \n",
        "    return runninig_correct / len(dataloader_val.dataset)\n",
        "\n",
        "def predict(model, test_loader):\n",
        "    \"\"\"Сделать предсказание нейросетью model на выборке из загрузчика \n",
        "    test_loader.\n",
        "    \n",
        "    Parameters:\n",
        "\n",
        "    model : torchvision.models или самописаная нейронная сеть созданная \n",
        "        в PyTorch или предобученная из torchvision.models.\n",
        "    test_loader : torch.utils.data.DataLoader загрузчик картинок из \n",
        "        валидационной или тестовой выборки.\n",
        "    use_gpu : bool, используем ли мы GPU в расчетах ?\n",
        "    \n",
        "    Returns:\n",
        "\n",
        "    probs : torch.tensor, массив предсказаний нашей нейросети model\n",
        "    \"\"\"\n",
        "    model.eval() # перевели модель в режим предсказание\n",
        "    logits = []\n",
        "\n",
        "    # Контекстный менеджер, который отключает вычисление градиентов.\n",
        "    # отключаем вычисление градиентов, мы только предсказываем, а не обучаем.\n",
        "    # экономит оперативную память GPU и ускоряет расчеты.\n",
        "    with torch.no_grad():\n",
        "        for inputs in test_loader:\n",
        "            inputs = inputs.to(DEVICE)\n",
        "            outputs = model(inputs).cpu()\n",
        "            logits.append(outputs)\n",
        "            \n",
        "    probs = nn.functional.softmax(torch.cat(logits), dim=-1).numpy()\n",
        "    return probs"
      ],
      "execution_count": 7,
      "outputs": []
    },
    {
      "cell_type": "code",
      "metadata": {
        "id": "NIwSCHu2U12G"
      },
      "source": [
        "import math\n",
        "def find_lr(model, dataloaders, loss_fn, optimizer, init_value=1e-8, final_value=10.0, use_gpu=True):\n",
        "    \"\"\"Функция для поиска оптимального learning rate, модифицирована мной для \n",
        "    поддержки GPU.\n",
        "\n",
        "    Суть подхода заключается в том, чтобы обучать нейросеть на каждом батче с \n",
        "    различным уровнем lr, начиная с самого малого init_value в выбранном нами \n",
        "    диапазоне [init_value, final_value] и заканчивая самым большим final_value. \n",
        "    При этом мы будем записывать в массив значение lr и полученного на этом \n",
        "    значении lr значение loss функции. В результате мы получим таблицу\n",
        "    зависимости loss от значения lr. Построив по ним график, в области\n",
        "    резкого снижения полученых значений loss функции и будет оптимальный \n",
        "    для обучения lr.\n",
        "\n",
        "    Функция взята из замечатлеьной книги книги \"Ian Pointer - Programming PyTorch\n",
        "    for Deep Learning - Creating and Deploying Deep Learning Applications-\n",
        "    O’Reilly Media (2019).\n",
        "    Ccылка на книгу на goodreads (https://www.goodreads.com/book/show/48225828-programming-pytorch-for-deep-learning)\n",
        "    Chapter 4. \"Transfer Learning and Other Tricks\" про \"Transfer Learning with ResNet50\" и\n",
        "    \"Finding That Learning Rate\".\n",
        "    Сделана автором книги на основе подхода описанного в статье\n",
        "    “Cyclical Learning Rates for Training Neural Networks” by Leslie Smith (2015).\n",
        "    Однако популярным данный подход сделал Jeremy Howard автор курса fast.ai\n",
        "    Эта функция так же сделана на основе реализации подобного подбора в \n",
        "    библиотеке fast.ai функции lr_find()\n",
        "    https://towardsdatascience.com/transfer-learning-using-the-fastai-library-d686b238213e\n",
        "    Функция из fast.ai лучше, но это сделана на чистом PyTorch и хорошо\n",
        "    показывает идею.\n",
        "\n",
        "    Parameters:\n",
        "\n",
        "    model : torchvision.models или самописаная нейронная сеть созданная \n",
        "        в PyTorch или предобученная из torchvision.models.\n",
        "    dataloaders : torch.utils.data.DataLoader загрузчик картинок из нашего \n",
        "        dataset.\n",
        "    loss_fn : loss функция из модуля torch.nn.\n",
        "    optimizer : оптимизатор из модуля torch.optim.\n",
        "    init_value : float, начальное значение learning rate, из выбранного нами\n",
        "        диапазона.\n",
        "    final_value : float, конечное значение learning rate.\n",
        "    use_gpu : bool, используем ли мы GPU в расчетах ?\n",
        "\n",
        "    Returns:\n",
        "\n",
        "    log_lrs : list, содержащий степень 10 от исследованых нами lr(десятичный \n",
        "        логорифм от lr)\n",
        "    losses : list, содержащий полученные значения loss функции.\n",
        "    \"\"\"\n",
        "    model.train() # переключаем модель в режим обучения\n",
        "\n",
        "    number_in_epoch = len(dataloaders['train']) - 1\n",
        "    update_step = (final_value / init_value) ** (1 / number_in_epoch)\n",
        "    lr = init_value\n",
        "    optimizer.param_groups[0][\"lr\"] = lr\n",
        "    best_loss = 0.0\n",
        "    batch_num = 0\n",
        "    losses = []\n",
        "    log_lrs = []\n",
        "    for inputs, labels in dataloaders['train']:\n",
        "        if use_gpu:\n",
        "            inputs = inputs.to(DEVICE)\n",
        "            labels = labels.to(DEVICE)\n",
        "\n",
        "        batch_num += 1\n",
        "        optimizer.zero_grad()\n",
        "        outputs = model(inputs)\n",
        "        loss = loss_fn(outputs, labels)\n",
        "\n",
        "        # Crash out if loss explodes\n",
        "        if batch_num > 1 and loss > 4 * best_loss:\n",
        "            return log_lrs[10:-5], losses[10:-5]\n",
        "\n",
        "        # Record the best loss\n",
        "        if loss < best_loss or batch_num == 1:\n",
        "            best_loss = loss\n",
        "\n",
        "        # Store the values\n",
        "        losses.append(loss)\n",
        "        log_lrs.append(math.log10(lr))\n",
        "\n",
        "        # Do the backward pass and optimize\n",
        "        loss.backward()\n",
        "        optimizer.step()\n",
        "\n",
        "        # Update the lr for the next step and store\n",
        "        lr *= update_step\n",
        "        optimizer.param_groups[0][\"lr\"] = lr\n",
        "\n",
        "    return log_lrs[10:-5], losses[10:-5]"
      ],
      "execution_count": 8,
      "outputs": []
    },
    {
      "cell_type": "code",
      "metadata": {
        "id": "zHErHlaGgcCF"
      },
      "source": [
        "def print_learn_params(model):\n",
        "    \"\"\"Функция напечатает все веса нейросети model, которые мы обучаем.\n",
        "\n",
        "    Parameters:\n",
        "\n",
        "    model : torchvision.models или самописаная нейронная сеть созданная\n",
        "        в PyTorch или предобученная из torchvision.models.\n",
        "\n",
        "    Returns: list, спиок параметров слоев нейросети, которые мы обучаем,\n",
        "            будет отдан оптимизатору.\n",
        "    \"\"\"\n",
        "    print('Params to update:')\n",
        "    params_to_update = []\n",
        "    for name,param in model.named_parameters():\n",
        "        if param.requires_grad == True:\n",
        "            params_to_update.append(param)\n",
        "            print(\"\\t\",name)\n",
        "\n",
        "    return params_to_update\n",
        "\n",
        "def print_params(model):\n",
        "    \"\"\"Функция напечатает все веса нейросети model, которые мы можем обучать.\n",
        "\n",
        "    Parameters:\n",
        "\n",
        "    model : torchvision.models или самописаная нейронная сеть созданная\n",
        "        в PyTorch или предобученная из torchvision.models.\n",
        "\n",
        "    Returns:\n",
        "\n",
        "    params_number_name: python dict вида {'num': список значений порядковых \n",
        "                                                номеров слоя нейросети,\n",
        "                                        'param_name': название слоев нейросети\n",
        "                                         идущих по порядку}\n",
        "    \"\"\"\n",
        "    print('Params to update:')\n",
        "    i = 0\n",
        "    params_to_learn = {'num':[], 'param_name':[]}\n",
        "    for name,param in model.named_parameters():\n",
        "        params_to_learn['num'].append(i)\n",
        "        params_to_learn['param_name'].append(name)\n",
        "        print(f\"{i} {name}\")\n",
        "        i += 1\n",
        "\n",
        "    return params_to_learn\n",
        "\n",
        "\n",
        "def show_param_lr_plots(params_number_name, lrs, layer_names=False, figsize=None):\n",
        "    \"\"\"Функция для построения графика значений learning rate(lr) по всем слоям \n",
        "    которые мы учим нейросети, чтобы посмотреть какие lr мы задаем для слоев\n",
        "    нейросети.\n",
        "\n",
        "    Parameters:\n",
        "\n",
        "    params_number_name: python dict вида {'num': список значений порядковых номеров слоя нейросети,\n",
        "                                     'param_name': название слоев нейросети идущих по порядку}\n",
        "\n",
        "    lrs: python list, содержит значения learning rate для каждого из слоев нейросети.\n",
        "        его длинна должна равняться число слоев нейросети.\n",
        "\n",
        "    layer_names : bool, хоти ли мы отобразить по оси Х названия слоев нейросети? (по умолчанию False)\n",
        "    figsize: задать соотношение сторон для графика (figsize для figure нашего графика)\n",
        "    \"\"\"\n",
        "    plt.clf()\n",
        "\n",
        "    if figsize is None:\n",
        "        figsize = (12, 8)\n",
        "\n",
        "    fig = plt.figure(figsize=figsize)\n",
        "    ax = fig.add_subplot(1, 1, 1)\n",
        "    ax.plot(params_number_name['num'], lrs, 'r', label='learning rate')\n",
        "    ax.set_title('learning rate for all layers of neuronet')\n",
        "    ax.set_xlabel('layers')\n",
        "    ax.set_ylabel('lr')\n",
        "    if layer_names:\n",
        "        ax.set_xticks(params_number_name['num'])\n",
        "        ax.set_xticklabels(params_number_name['param_name'])\n",
        "        ax.xaxis.set_tick_params(rotation=90)\n",
        "    plt.legend()\n",
        "    plt.show()\n",
        "\n",
        "\n",
        "def set_learn_params(model, lrs):\n",
        "    \"\"\"Функция которая задаст каждому слою нейросети значения learning rate из списка lrs.\n",
        "\n",
        "    Parameters:\n",
        "\n",
        "    model: torchvision.models или самописаная нейронная сеть созданная\n",
        "        в PyTorch или предобученная из torchvision.models.\n",
        "\n",
        "    lrs: python list, содержит значения learning rate для каждого из слоев нейросети.\n",
        "    его длинна должна равняться число слоев нейросети.\n",
        "\n",
        "    Returns: list, спиок слоев нейросети, которые мы обучаем\n",
        "            и lr для каждого из них, будет отдан оптимизатору.\n",
        "    \"\"\"\n",
        "    print('Params to learn:')\n",
        "    learn_params = []\n",
        "    i = 0\n",
        "\n",
        "    for name, param in model.named_parameters():\n",
        "        if param.requires_grad == True:\n",
        "            learn_params.append({'params': param, 'lr': lrs[i]})\n",
        "            print(f'{lrs[i]} {name}')\n",
        "        i += 1\n",
        "\n",
        "    return learn_params"
      ],
      "execution_count": 9,
      "outputs": []
    },
    {
      "cell_type": "markdown",
      "metadata": {
        "id": "sRxSUDxNkYh0"
      },
      "source": [
        "### Оптимизатор AdaShift (взят из репозитория МФТИ [AdaShift](https://github.com/MichaelKonobeev/adashift/blob/master/adashift/optimizers.py))\n",
        "\n",
        "В данном репозитории лежит самостоятельно написанная сотрудниками МФТИ реализация нового оптимизатора AdaShift для PyTorch.\n",
        "\n",
        "https://github.com/MichaelKonobeev/adashift/blob/master/adashift/optimizers.py\n",
        "\n",
        "там же дана ссылка на оригинальную статью по данный оптимизатор\n",
        "\n",
        "Reproducing of the AdaShift: Decorrelation and Convergence of Adaptive Learning Rate Methods as a part of ICLR Reproducibility Challange 2019. See our report.\n",
        "\n",
        "Можно завести отдельную ячейку с данным оптимизатором и использовать его для обучения нейросети )"
      ]
    },
    {
      "cell_type": "code",
      "metadata": {
        "id": "9RCJJEeKFIDc"
      },
      "source": [
        "\"\"\" Implements AdaShift optimizer. \"\"\"\n",
        "# здесь я просто взял готовый оптимизатор AdaShift, релизованный в реползитории \n",
        "# МФТИ (https://github.com/MichaelKonobeev/adashift/blob/master/adashift/optimizers.py)\n",
        "from collections import deque\n",
        "\n",
        "from torch.optim import Optimizer\n",
        "\n",
        "\n",
        "class AdaShift(Optimizer):\n",
        "  r\"\"\" Implements AdaShift algorithm.\n",
        "  See https://openreview.net/forum?id=HkgTkhRcKQ\n",
        "  Arguments:\n",
        "    params (iterable): iterable of parameters to optimize or dicts defining\n",
        "      parameter groups\n",
        "    lr (float, optional): learning rate\n",
        "    keep_num (int): number of gradients used to compute first moment\n",
        "      estimation.\n",
        "    betas (Tuple[float, float], optional): coefficients used for computing\n",
        "     running averages of gradient and its square\n",
        "    eps (float, optional): term added to the denominator to improve\n",
        "      numerical stability\n",
        "    reduce_func (callable or None): function applied to squared gradients\n",
        "      to further reduce the correlation. If None, no function is applied.\n",
        "  \"\"\"\n",
        "  def __init__(self, params, lr=1e-3, keep_num=10, betas=(0.9, 0.999),\n",
        "               eps=1e-10, reduce_func=torch.max):\n",
        "    beta1, _ = betas\n",
        "    exp_weight_sum = sum(beta1 ** i for i in range(keep_num))\n",
        "    first_grad_weight = beta1 ** (keep_num - 1) / exp_weight_sum\n",
        "    last_grad_weight = 1. / exp_weight_sum\n",
        "    defaults = dict(lr=lr, keep_num=keep_num, betas=betas,\n",
        "                    eps=eps, reduce_func=reduce_func,\n",
        "                    first_grad_weight=first_grad_weight,\n",
        "                    last_grad_weight=last_grad_weight)\n",
        "    super(AdaShift, self).__init__(params, defaults)\n",
        "\n",
        "  def step(self, closure=None):\n",
        "    loss = None\n",
        "    if closure is not None:\n",
        "      loss = closure()\n",
        "\n",
        "    for group in self.param_groups:\n",
        "      for p in group[\"params\"]:\n",
        "        if p.grad is None:\n",
        "          continue\n",
        "        grad = p.grad.data\n",
        "        if grad.is_sparse:\n",
        "          raise RuntimeError(\"AdaShift does not support sparse gradients.\")\n",
        "\n",
        "        state = self.state[p]\n",
        "        if len(state) == 0:\n",
        "          state[\"step\"] = 1\n",
        "          state[\"grad_deque\"] = deque([grad.clone()], maxlen=group[\"keep_num\"])\n",
        "          state[\"exp_avg\"] = torch.zeros_like(p.data)\n",
        "          state[\"exp_avg_sq\"] = torch.zeros_like(p.data)\n",
        "          continue\n",
        "\n",
        "        grad_deque = state[\"grad_deque\"]\n",
        "        exp_avg, exp_avg_sq = state[\"exp_avg\"], state[\"exp_avg_sq\"]\n",
        "\n",
        "        state[\"step\"] += 1\n",
        "        grad_apply = len(grad_deque) == group[\"keep_num\"]\n",
        "        offset_grad = grad_deque[0]\n",
        "        grad_deque.append(grad.clone())\n",
        "        if not grad_apply:\n",
        "          continue\n",
        "\n",
        "        first_grad_weight = group[\"first_grad_weight\"]\n",
        "        last_grad_weight = group[\"last_grad_weight\"]\n",
        "        beta1, beta2 = group[\"betas\"]\n",
        "        (exp_avg.sub_(first_grad_weight, offset_grad).mul_(beta1)\n",
        "         .add_(last_grad_weight, grad))\n",
        "\n",
        "        reduce_func = group[\"reduce_func\"] or (lambda x: x)\n",
        "        reduced_grad_sq = reduce_func(offset_grad.mul_(offset_grad))\n",
        "        exp_avg_sq.mul_(beta2).add_(1 - beta2, reduced_grad_sq)\n",
        "        bias_correction = 1 - beta2 ** (state[\"step\"] - group[\"keep_num\"])\n",
        "        denom = exp_avg_sq.div(bias_correction).sqrt_().add_(group[\"eps\"])\n",
        "\n",
        "        p.data.addcdiv_(-group[\"lr\"], exp_avg, denom)\n",
        "\n",
        "    return loss"
      ],
      "execution_count": 10,
      "outputs": []
    },
    {
      "cell_type": "markdown",
      "metadata": {
        "id": "LLghG1J7eEp9"
      },
      "source": [
        "### Полезные функции для построения графиков (Losses и Accurancy)"
      ]
    },
    {
      "cell_type": "code",
      "metadata": {
        "id": "pam61s9KeN4m"
      },
      "source": [
        "# Скользящее среднее\n",
        "def smooth_curve(points, factor=0.9):\n",
        "    \"\"\"Функция для сглаживания графиков\n",
        "    \n",
        "    Parameters:\n",
        "\n",
        "    points : list or numpy.array содержащий значения амплитудных отсчетов\n",
        "        графика, который необходимо сгладить.\n",
        "    factor : float, коэффициент сглаживания.\n",
        "\n",
        "    Returns:\n",
        "\n",
        "    points : list содержащий значения амплитудных отсчетов сглаженного графика.\n",
        "    \"\"\"\n",
        "    smoothed_points = []\n",
        "    for point in points:\n",
        "        if smoothed_points:\n",
        "            previous = smoothed_points[-1]\n",
        "            smoothed_points.append(previous * factor + point * (1 - factor))\n",
        "        else:\n",
        "            smoothed_points.append(point)\n",
        "    return smoothed_points\n",
        "\n",
        "def show_losses_plots(losses, smooth_flag = False, min = 0):\n",
        "    \"\"\"Функция для построения графиков loss функции по всем эпохам обучения \n",
        "    нейросети.\n",
        "    \n",
        "    Parameters:\n",
        "\n",
        "    losses : dict, ключи 'train' и 'val' содежат list, в котором сохранены\n",
        "        значения loss функции на каждой эпохе обучения.\n",
        "    smooth_flag : bool, осуществить сглаживание графика ?\n",
        "    min : int, с какой эпохи начать ось абсцисс ?\n",
        "    \"\"\"\n",
        "    plt.clf()\n",
        "\n",
        "    losses_train, losses_test = losses['train'], losses['val']\n",
        "    epochs = np.arange(len(losses_train))\n",
        "\n",
        "    #Сглаживаем ли мы графики функций потерь?\n",
        "    if smooth_flag:\n",
        "      losses_train = smooth_curve(losses_train)\n",
        "      losses_test = smooth_curve(losses_test)\n",
        "\n",
        "    # Построим график лосса при обучении и валидации\n",
        "    plt.plot(epochs[min:], losses_train[min:], 'r', label='Training loss')\n",
        "    plt.plot(epochs[min:], losses_test[min:], 'b', label='Validation loss')\n",
        "    plt.plot(losses['best'][0], losses['best'][1], 'bo', label='best val loss')\n",
        "    plt.title('Training and validation loss')\n",
        "    plt.xlabel('Epochs')\n",
        "    plt.ylabel('Loss')\n",
        "    plt.yscale('log')\n",
        "    plt.legend()\n",
        "    plt.show()\n",
        "    \n",
        "def show_acc_plots(acc, smooth_flag = False, min = 0):\n",
        "    \"\"\"Функция для построения графиков accurancy по всем эпохам обучения \n",
        "    нейросети.\n",
        "        \n",
        "    Parameters:\n",
        "\n",
        "    acc : dict, ключи 'train' и 'val' содежат list, в котором сохранены\n",
        "        значения accurancy функции на каждой эпохе обучения.\n",
        "    smooth_flag : bool, осуществить сглаживание графика ?\n",
        "    min : int, с какой эпохи начать ось абсцисс ?\n",
        "    \"\"\"\n",
        "    plt.clf()\n",
        "\n",
        "    acc_train, acc_test = acc['train'], acc['val']\n",
        "    epochs = np.arange(len(acc_train))\n",
        "\n",
        "    #Сглаживаем ли мы графики функций точности?\n",
        "    if smooth_flag:\n",
        "      acc_train = smooth_curve(acc_train)\n",
        "      acc_test = smooth_curve(acc_test)\n",
        "\n",
        "    # Построим график лосса при обучении и валидации\n",
        "    plt.plot(epochs[min:], acc_train[min:], 'r', label='Training acc')\n",
        "    plt.plot(epochs[min:], acc_test[min:], 'b', label='Validation acc')\n",
        "    plt.plot(acc['best'][0], acc['best'][1], 'bo', label='best val acc')\n",
        "    plt.title('Training and validation acc')\n",
        "    plt.xlabel('Epochs')\n",
        "    plt.ylabel('acc')\n",
        "    plt.legend()\n",
        "    plt.show()"
      ],
      "execution_count": 11,
      "outputs": []
    },
    {
      "cell_type": "markdown",
      "metadata": {
        "id": "i14Zvq6wVBRs"
      },
      "source": [
        "### Функции для оценки точности (**confusion** matrix, и точность по каждому классу)"
      ]
    },
    {
      "cell_type": "code",
      "metadata": {
        "id": "sNrEqEJzVBRs"
      },
      "source": [
        "import itertools\n",
        "from sklearn.metrics import confusion_matrix\n",
        "    \n",
        "def plot_confusion_matrix(cm, classes,\n",
        "                          normalize=False,\n",
        "                          title='Confusion matrix',\n",
        "                          cmap=plt.cm.Blues):\n",
        "    \"\"\"\n",
        "    Функция из документации matplotlib, отрисовывающая confusion matrix \n",
        "    Source https://scikit-learn.org/stable/auto_examples/model_selection/plot_confusion_matrix.html  \n",
        "\n",
        "    Parameters:\n",
        "\n",
        "    cm : Рассчитанная confusion matrix возвращаемая функцией confusion_matrix\n",
        "        из sklearn. Или аналогичная структура данных.\n",
        "    classes : (set or list or tuple) названия классов.\n",
        "    title : str, название диаграммы.\n",
        "    cmap : цветовая палитра bp matplotlib для отрисовки значений \n",
        "        confusion matrix цветом.\n",
        "    \"\"\"\n",
        "    cm = cm.T\n",
        "    if normalize:\n",
        "        cm = cm.astype('float') / cm.sum(axis=1)[:, np.newaxis]\n",
        "        print(\"Normalized confusion matrix\")\n",
        "    else:\n",
        "        print('Confusion matrix, without normalization')\n",
        "\n",
        "    plt.figure(figsize=(16,11))\n",
        "    plt.imshow(cm, interpolation='nearest', cmap=cmap)\n",
        "    plt.title(title)\n",
        "    plt.colorbar()\n",
        "    tick_marks = np.arange(len(classes))\n",
        "    plt.xticks(tick_marks, classes, rotation=90)\n",
        "    plt.yticks(tick_marks, classes)\n",
        "\n",
        "    fmt = '.2f' if normalize else 'd'\n",
        "    thresh = cm.max() / 2.\n",
        "    for i, j in itertools.product(range(cm.shape[0]), range(cm.shape[1])):\n",
        "        plt.text(j, i, format(cm[i, j], fmt),\n",
        "                 horizontalalignment=\"center\",\n",
        "                 color=\"white\" if cm[i, j] > thresh else \"black\")\n",
        "\n",
        "    plt.ylabel('True label')\n",
        "    plt.xlabel('Predicted label')\n",
        "\n",
        "    plt.tight_layout()\n",
        "    \n",
        "def show_confusion_matrix_fucn(model, dataloaders):\n",
        "    \"\"\"Построить диаграмму confusion matrix и посчитать точность предсказаний \n",
        "    модели по каждому классу по метрике accurancy\n",
        "    \n",
        "    Parameters:\n",
        "\n",
        "    model : torchvision.models или самописаная нейронная сеть созданная \n",
        "        в PyTorch или предобученная из torchvision.models.\n",
        "    dataloaders : torch.utils.data.DataLoader загрузчик картинок из нашего \n",
        "        dataset.\n",
        "\n",
        "    Returns:\n",
        "\n",
        "    y_test_all : numpy.array правильные классы.\n",
        "    predictions_all : numpy.array предсказания нейросети.\n",
        "    feature_names : названия классов.\n",
        "    \"\"\"\n",
        "    y_test_all = torch.Tensor().long()\n",
        "    predictions_all = torch.Tensor().long()\n",
        "\n",
        "    # Пройдём по всему validation датасету и запишем ответы сети\n",
        "    with torch.no_grad():\n",
        "        for inputs, labels in dataloaders['val']:\n",
        "            predictions = model(inputs.to(DEVICE))\n",
        "            y_test = labels\n",
        "            _, predictions = torch.max(predictions.cpu(), 1)\n",
        "\n",
        "            # Аналог append для list\n",
        "            y_test_all = torch.cat((y_test_all, y_test), 0)\n",
        "            predictions_all = torch.cat((predictions_all, predictions), 0)\n",
        "\n",
        "    feature_names = sorted(set(dataloaders['val'].dataset.labels))\n",
        "\n",
        "    y_test_all = y_test_all.numpy()\n",
        "    predictions_all = predictions_all.numpy()\n",
        "\n",
        "    # Функция из sklearn, создаёт confusion матрицу\n",
        "    cm = confusion_matrix(y_test_all, predictions_all, np.arange(classes_number))\n",
        "    # Выведем её\n",
        "    plot_confusion_matrix(cm, feature_names, normalize=True)\n",
        "    \n",
        "    return y_test_all, predictions_all, feature_names\n",
        "  \n",
        "def accurancy_for_each_class(y_test_all, predictions_all, feature_names):\n",
        "    \"\"\"Функция выводит accurancy полученное нашей нейросетью на каждом из \n",
        "    классов классификации.\n",
        "    \n",
        "    Parameters:\n",
        "\n",
        "    y_test_all : numpy.array правильные классы.\n",
        "    predictions_all : numpy.array предсказания нейросети.\n",
        "    feature_names : названия классов.\n",
        "    \"\"\"\n",
        "\n",
        "    class_correct = [0 for i in range(classes_number)]\n",
        "    class_total = [0 for i in range(classes_number)]\n",
        "\n",
        "    c = (predictions_all == y_test_all).squeeze()\n",
        "    for i in range(len(predictions_all)):\n",
        "        label = predictions_all[i]            \n",
        "        class_correct[label] += c[i].item()\n",
        "        class_total[label] += 1\n",
        "\n",
        "    print(class_total)\n",
        "    print(len(class_total))\n",
        "\n",
        "    for i in range(classes_number):\n",
        "        print('Accuracy of %5s\\t%2d %%' % (\n",
        "            (feature_names[i], (100 * class_correct[i] / class_total[i]) if class_total[i] != 0 else -1)))"
      ],
      "execution_count": 12,
      "outputs": []
    },
    {
      "cell_type": "markdown",
      "metadata": {
        "id": "in4AZUz9vGUu"
      },
      "source": [
        "### Еще несколько полезных функций"
      ]
    },
    {
      "cell_type": "code",
      "metadata": {
        "id": "Zhpe848ZyV2w"
      },
      "source": [
        "def classes_number_from_labels(train_val_labels):\n",
        "    \"\"\"Функция возвращает число уникальных классов из list train_val_labels\"\"\"\n",
        "    return len(np.unique(train_val_labels))\n",
        "\n",
        "def create_dct_from_labels(train_val_labels):\n",
        "    \"\"\"Функция создает из list train_val_labels, содержащего метки классов\n",
        "    соответсвующим картинкам из выборки, словарь dict с ключами соответсвующими\n",
        "    названиям классов, и значениями, соответвующими колчеству этих классов в \n",
        "    list train_val_labels\"\"\"\n",
        "    dct_simpsons = {}\n",
        "    for label_i in np.unique(train_val_labels).tolist():\n",
        "        dct_simpsons.update({label_i:train_val_labels.count(label_i)})\n",
        "\n",
        "    return dct_simpsons\n",
        "\n",
        "def create_dct_path_labels(train_files, train_labels):\n",
        "    \"\"\"Функция создает словарь dct, в котором ключами является названия классов \n",
        "    из train_labels, а значениями список из путей к картинкам соответсвующих \n",
        "    этим классам из train_files.\n",
        "    \n",
        "    Parameters:\n",
        "\n",
        "    train_files : list, список содержащий пути к картинкам выборки.\n",
        "    train_labels: list, список содержащий метки классов к картинкам из \n",
        "        train_files.\n",
        "\n",
        "    Returns:\n",
        "\n",
        "    dct_simpsons : dct, словарь в котором ключами является названия классов из \n",
        "    train_labels, а значениями список из путей к картинкам соответсвующих этим \n",
        "    классам из train_files.\n",
        "    \"\"\"\n",
        "    dct_simpsons = {}\n",
        "    for label_i in np.unique(train_labels).tolist():\n",
        "        dct_simpsons[label_i] = []\n",
        "\n",
        "    for path_i, label_i in zip(train_files, train_labels):\n",
        "        dct_simpsons[label_i].append(path_i)\n",
        "\n",
        "    return dct_simpsons\n",
        "\n",
        "def print_dct(dct_simpsons):\n",
        "    \"\"\"Функция напечать все пары ключ-значение в словаре, переданном в качестве \n",
        "    аргумента\"\"\"\n",
        "    for key in dct_simpsons:\n",
        "        print(f\"{key}\\t{dct_simpsons[key]}\")\n",
        "\n",
        "def count_weights(dct_simpsons):\n",
        "    \"\"\"Функция расчета весов.\n",
        "    \n",
        "    Parameters:\n",
        "\n",
        "    dct_simpsons : словарь dict с ключами соответсвующими\n",
        "        названиям классов, и значениями, соответвующими колчеству этих классов\n",
        "        в выборке\n",
        "\n",
        "    Returns:\n",
        "\n",
        "    dct_simpsons_wht : dct, словарь в котором ключами является названия классов,\n",
        "        а значениями веса соответсвующих этим классам из выборки.\n",
        "    \"\"\"\n",
        "    dct_simpsons_wht = {}\n",
        "    for key in dct_simpsons:\n",
        "        dct_simpsons_wht.update({key:1. / dct_simpsons[key]})\n",
        "\n",
        "    return dct_simpsons_wht\n",
        "\n",
        "def create_sample_weights_from_labels(train_val_labels, dct_simpsons_wht):\n",
        "    \"\"\"Создать torch.tensor с весами, вычисленным по количествку картинок в \n",
        "    каждом классе, соответвующим картинкам. \n",
        "    Необходимо для torch.utils.data.WeightedRandomSampler\n",
        "    \n",
        "    Parameters:\n",
        "\n",
        "    train_labels: list, список содержащий метки классов к картинкам из \n",
        "        train_files.\n",
        "    dct_simpsons_wht : словарь: ключ название класса, значение вес для данного \n",
        "        класса\n",
        "\n",
        "    Returns:\n",
        "\n",
        "    sampler_weights : torch.tensor с весами из dct_simpsons_wht, вычисленным \n",
        "        по количествку картинок в каждом классе, соответвующим списку классов \n",
        "        картинок из выборки train_val_labels.\n",
        "    \"\"\"\n",
        "    samples_weight = []\n",
        "    for label_i in train_val_labels:\n",
        "        samples_weight.append(dct_simpsons_wht[label_i])\n",
        "\n",
        "    return torch.from_numpy(np.array(samples_weight))"
      ],
      "execution_count": 13,
      "outputs": []
    },
    {
      "cell_type": "markdown",
      "metadata": {
        "id": "hrpCWm5ayj5n"
      },
      "source": [
        "# Предварительная скачка датасета (Cейчас не нужно!)"
      ]
    },
    {
      "cell_type": "code",
      "metadata": {
        "colab": {
          "base_uri": "https://localhost:8080/"
        },
        "id": "O9e6LD_Fo6B4",
        "outputId": "ddd87ba5-7469-41b7-f5da-f35686236e5c"
      },
      "source": [
        "# клонируем репозиторий \"PlantVillage-Dataset\"\r\n",
        "!git clone https://github.com/spMohanty/PlantVillage-Dataset"
      ],
      "execution_count": null,
      "outputs": [
        {
          "output_type": "stream",
          "text": [
            "Cloning into 'PlantVillage-Dataset'...\n",
            "remote: Enumerating objects: 163229, done.\u001b[K\n",
            "remote: Total 163229 (delta 0), reused 0 (delta 0), pack-reused 163229\u001b[K\n",
            "Receiving objects: 100% (163229/163229), 2.00 GiB | 33.37 MiB/s, done.\n",
            "Resolving deltas: 100% (99/99), done.\n",
            "Checking out files: 100% (182401/182401), done.\n"
          ],
          "name": "stdout"
        }
      ]
    },
    {
      "cell_type": "code",
      "metadata": {
        "id": "6BlW88Adp13l"
      },
      "source": [
        "!zip -r apple.zip /content/PlantVillage-Dataset/raw/color"
      ],
      "execution_count": null,
      "outputs": []
    },
    {
      "cell_type": "code",
      "metadata": {
        "colab": {
          "base_uri": "https://localhost:8080/"
        },
        "id": "z14iWfuiq6Gv",
        "outputId": "b1db618f-bcf8-4a14-a3d1-9e216ad1c15b"
      },
      "source": [
        "files.download('apple.zip')"
      ],
      "execution_count": null,
      "outputs": [
        {
          "output_type": "display_data",
          "data": {
            "application/javascript": [
              "\n",
              "    async function download(id, filename, size) {\n",
              "      if (!google.colab.kernel.accessAllowed) {\n",
              "        return;\n",
              "      }\n",
              "      const div = document.createElement('div');\n",
              "      const label = document.createElement('label');\n",
              "      label.textContent = `Downloading \"${filename}\": `;\n",
              "      div.appendChild(label);\n",
              "      const progress = document.createElement('progress');\n",
              "      progress.max = size;\n",
              "      div.appendChild(progress);\n",
              "      document.body.appendChild(div);\n",
              "\n",
              "      const buffers = [];\n",
              "      let downloaded = 0;\n",
              "\n",
              "      const channel = await google.colab.kernel.comms.open(id);\n",
              "      // Send a message to notify the kernel that we're ready.\n",
              "      channel.send({})\n",
              "\n",
              "      for await (const message of channel.messages) {\n",
              "        // Send a message to notify the kernel that we're ready.\n",
              "        channel.send({})\n",
              "        if (message.buffers) {\n",
              "          for (const buffer of message.buffers) {\n",
              "            buffers.push(buffer);\n",
              "            downloaded += buffer.byteLength;\n",
              "            progress.value = downloaded;\n",
              "          }\n",
              "        }\n",
              "      }\n",
              "      const blob = new Blob(buffers, {type: 'application/binary'});\n",
              "      const a = document.createElement('a');\n",
              "      a.href = window.URL.createObjectURL(blob);\n",
              "      a.download = filename;\n",
              "      div.appendChild(a);\n",
              "      a.click();\n",
              "      div.remove();\n",
              "    }\n",
              "  "
            ],
            "text/plain": [
              "<IPython.core.display.Javascript object>"
            ]
          },
          "metadata": {
            "tags": []
          }
        },
        {
          "output_type": "display_data",
          "data": {
            "application/javascript": [
              "download(\"download_d278179f-c4c7-4bc0-8b56-9ac91e930568\", \"apple.zip\", 859716422)"
            ],
            "text/plain": [
              "<IPython.core.display.Javascript object>"
            ]
          },
          "metadata": {
            "tags": []
          }
        }
      ]
    },
    {
      "cell_type": "markdown",
      "metadata": {
        "id": "dra1GH0Cyptx"
      },
      "source": [
        "# Загрузка подготовленного датасета"
      ]
    },
    {
      "cell_type": "code",
      "metadata": {
        "colab": {
          "base_uri": "https://localhost:8080/"
        },
        "id": "xA3o2xC3MlMI",
        "outputId": "4487fdb2-f70c-4939-dbeb-311a9f508e0e"
      },
      "source": [
        "from google.colab import drive\n",
        "drive.mount('/content/gdrive/')"
      ],
      "execution_count": 14,
      "outputs": [
        {
          "output_type": "stream",
          "text": [
            "Drive already mounted at /content/gdrive/; to attempt to forcibly remount, call drive.mount(\"/content/gdrive/\", force_remount=True).\n"
          ],
          "name": "stdout"
        }
      ]
    },
    {
      "cell_type": "code",
      "metadata": {
        "id": "UJ-R1DQ9zMGD"
      },
      "source": [
        "# раззиповка архива, необходимо сделать при первом запуске ноутбука,\n",
        "# в дальнейшем файлы уже будут на жестком диске виртуальной машины Google Colab \n",
        "# и раззиповывать архив повторно с Google Drive не требуется. Команда \n",
        "# поддерживает перезапись картинок при распаковке, если не уверены, что все \n",
        "# распаковалось верно можно вызвать ее повторно.\n",
        "\n",
        "# распаковываем в папку dataset\n",
        "!unzip -o /content/gdrive/MyDrive/AgroCode_pre_snippets/dataset_agro_code/public.zip -d dataset"
      ],
      "execution_count": null,
      "outputs": []
    },
    {
      "cell_type": "markdown",
      "metadata": {
        "id": "PKZuLqtJ3t7Z"
      },
      "source": [
        "# Разбиение датасета на train, val, test (Ненужна, делалась в начале 1 раз)"
      ]
    },
    {
      "cell_type": "code",
      "metadata": {
        "id": "Sf1Gi2Lx0nCT"
      },
      "source": [
        "# определяем данные на которых будем обучаться 'train' и 'val' и те накоторых будем тестировать модель 'test'\r\n",
        "DIR = Path('/content/dataset')\r\n",
        "\r\n",
        "files = sorted(list(DIR.rglob('*.jpg')))"
      ],
      "execution_count": null,
      "outputs": []
    },
    {
      "cell_type": "code",
      "metadata": {
        "id": "Tm8OF0AV1ffs"
      },
      "source": [
        "labels = [path.parent.name for path in files] # классы train"
      ],
      "execution_count": null,
      "outputs": []
    },
    {
      "cell_type": "code",
      "metadata": {
        "colab": {
          "base_uri": "https://localhost:8080/"
        },
        "id": "hm7EhmfN2GrJ",
        "outputId": "e008a286-5282-47a6-a2f9-2243268a80e6"
      },
      "source": [
        "# посмотрим сколько всего классов\r\n",
        "print(np.unique(labels))\r\n",
        "print(len(np.unique(labels)))"
      ],
      "execution_count": null,
      "outputs": [
        {
          "output_type": "stream",
          "text": [
            "['health' 'sick']\n",
            "2\n"
          ],
          "name": "stdout"
        }
      ]
    },
    {
      "cell_type": "code",
      "metadata": {
        "colab": {
          "base_uri": "https://localhost:8080/"
        },
        "id": "RKZkwfkIo7yZ",
        "outputId": "53c50e19-d65d-42cc-b243-9e59f0a0c2ea"
      },
      "source": [
        "# Создадим словарь в которм будут классы персонажей и кличество их картинок\n",
        "dct_apples = create_dct_from_labels(labels)\n",
        "\n",
        "# выведим на печать класс : количесвто картинок\n",
        "print_dct(dct_apples)"
      ],
      "execution_count": null,
      "outputs": [
        {
          "output_type": "stream",
          "text": [
            "health\t882\n",
            "sick\t507\n"
          ],
          "name": "stdout"
        }
      ]
    },
    {
      "cell_type": "code",
      "metadata": {
        "id": "TmPhhKKlRyCF"
      },
      "source": [
        "# разделяем все фалы на train_val и test(20%) выборки\n",
        "train_val_files, test_files = train_test_split(files,\n",
        "                                           test_size=0.20,\n",
        "                                           stratify=labels)\n",
        "\n",
        "train_val_labels = [path.parent.name for path in train_val_files] # классы train_val\n",
        "test_labels = [path.parent.name for path in test_files]     # классы test"
      ],
      "execution_count": null,
      "outputs": []
    },
    {
      "cell_type": "code",
      "metadata": {
        "id": "xKqsTO_usaOl"
      },
      "source": [
        "# разделяем train на train и val(10%) выборки\n",
        "train_files, val_files = train_test_split(train_val_files,\n",
        "                                           test_size=0.10,\n",
        "                                           stratify=train_val_labels)\n",
        "\n",
        "train_labels = [path.parent.name for path in train_files] # классы train\n",
        "val_labels = [path.parent.name for path in val_files]     # классы val"
      ],
      "execution_count": null,
      "outputs": []
    },
    {
      "cell_type": "code",
      "metadata": {
        "colab": {
          "base_uri": "https://localhost:8080/"
        },
        "id": "9PBq3R-l6YA2",
        "outputId": "1999ac17-732f-4bf4-d1cb-4e9a4925b9ee"
      },
      "source": [
        "# выведим на печать класс : количесвто картинок\r\n",
        "print(create_dct_from_labels(train_labels))"
      ],
      "execution_count": null,
      "outputs": [
        {
          "output_type": "stream",
          "text": [
            "{'health': 634, 'sick': 365}\n"
          ],
          "name": "stdout"
        }
      ]
    },
    {
      "cell_type": "code",
      "metadata": {
        "colab": {
          "base_uri": "https://localhost:8080/"
        },
        "id": "vVQ1FHdG6zcH",
        "outputId": "eedcc555-9d78-4151-f74e-121b4ea2bd5b"
      },
      "source": [
        "# выведим на печать класс : количесвто картинок\r\n",
        "print(create_dct_from_labels(val_labels))"
      ],
      "execution_count": null,
      "outputs": [
        {
          "output_type": "stream",
          "text": [
            "{'health': 71, 'sick': 41}\n"
          ],
          "name": "stdout"
        }
      ]
    },
    {
      "cell_type": "code",
      "metadata": {
        "colab": {
          "base_uri": "https://localhost:8080/"
        },
        "id": "r-p8cyQQ62dX",
        "outputId": "747ee06c-a7bb-43cd-d16f-168ef194e2df"
      },
      "source": [
        "# выведим на печать класс : количесвто картинок\r\n",
        "print(create_dct_from_labels(test_labels))"
      ],
      "execution_count": null,
      "outputs": [
        {
          "output_type": "stream",
          "text": [
            "{'health': 177, 'sick': 101}\n"
          ],
          "name": "stdout"
        }
      ]
    },
    {
      "cell_type": "code",
      "metadata": {
        "id": "Z4eLFhel8OGz"
      },
      "source": [
        "# сохраняем разбиение нашей выборки для того, чтоб разные модели\r\n",
        "# тестировались на одних и тех же выборках\r\n",
        "data_save_path = '//content//gdrive//MyDrive//AgroCode_pre_snippets//dataset_agro_code//'\r\n",
        "\r\n",
        "datas = [train_files, train_labels, val_files, val_labels, test_files, test_labels]\r\n",
        "file_names = ['train_files.pickle', 'train_labels.pickle', 'val_files.pickle', 'val_labels.pickle', 'test_files.pickle', 'test_labels.pickle']\r\n",
        "\r\n",
        "for data_i, file in zip(datas, file_names):\r\n",
        "    \r\n",
        "    with open(data_save_path + file, 'wb') as f:\r\n",
        "        pickle.dump(data_i, f)"
      ],
      "execution_count": null,
      "outputs": []
    },
    {
      "cell_type": "markdown",
      "metadata": {
        "id": "X480H5If95yL"
      },
      "source": [
        "# Загружаем, созданное ранее разбиение"
      ]
    },
    {
      "cell_type": "code",
      "metadata": {
        "id": "vXFRPVl18vv6"
      },
      "source": [
        "# загружаем сохранненное разбиение, чтобы нейросети учились\n",
        "# на одних и тех же выборках\n",
        "data_load_path = '//content//gdrive//MyDrive//AgroCode_pre_snippets//dataset_agro_code//'\n",
        " \n",
        "with open(data_load_path + 'train_files.pickle', 'rb') as f:\n",
        "    train_files = pickle.load(f)\n",
        " \n",
        "with open(data_load_path + 'train_labels.pickle', 'rb') as f:\n",
        "    train_labels = pickle.load(f)\n",
        " \n",
        "with open(data_load_path + 'val_files.pickle', 'rb') as f:\n",
        "    val_files = pickle.load(f)\n",
        " \n",
        "with open(data_load_path + 'val_labels.pickle', 'rb') as f:\n",
        "    val_labels = pickle.load(f)\n",
        " \n",
        "with open(data_load_path + 'test_files.pickle', 'rb') as f:\n",
        "    test_files = pickle.load(f)\n",
        " \n",
        "with open(data_load_path + 'test_labels.pickle', 'rb') as f:\n",
        "    test_labels = pickle.load(f)"
      ],
      "execution_count": 16,
      "outputs": []
    },
    {
      "cell_type": "markdown",
      "metadata": {
        "id": "iVnNaLBT99c4"
      },
      "source": [
        "## Dataset\n"
      ]
    },
    {
      "cell_type": "code",
      "metadata": {
        "id": "pkxL4ZTKBSKe"
      },
      "source": [
        "# разные режимы датасета \r\n",
        "DATA_MODES = ['train', 'val', 'test']\r\n",
        "# все изображения будут масштабированы к размеру 224x224 px\r\n",
        "RESCALE_SIZE = 224\r\n",
        "# работаем на видеокарте\r\n",
        "DEVICE = torch.device(\"cuda\")"
      ],
      "execution_count": 17,
      "outputs": []
    },
    {
      "cell_type": "code",
      "metadata": {
        "id": "cj32U5iTQUe4"
      },
      "source": [
        "class AppleDataset(Dataset):\n",
        "    \"\"\"\n",
        "    Датасет с картинками, который паралельно подгружает их из папок\n",
        "    производит изменения размера картинок, аугментации и преобразование в тензоры\n",
        "    PyTorch\n",
        "    \"\"\"\n",
        "    def __init__(self, files, mode):\n",
        "        super().__init__()\n",
        "        # список файлов для загрузки\n",
        "        self.files = sorted(files)\n",
        "        # режим работы\n",
        "        self.mode = mode\n",
        "\n",
        "        if self.mode not in DATA_MODES:\n",
        "            print(f\"{self.mode} is not correct; correct modes: {DATA_MODES}\")\n",
        "            raise NameError\n",
        "\n",
        "        self.len_ = len(self.files)\n",
        "     \n",
        "        # кодировщик имен классов\n",
        "        self.label_encoder = LabelEncoder()\n",
        "\n",
        "        if self.mode != 'test':\n",
        "            self.labels = [path.parent.name for path in self.files]\n",
        "            self.label_encoder.fit(self.labels)\n",
        "\n",
        "            path = '//content//gdrive//MyDrive//AgroCode_pre_snippets//model//'\n",
        "            #path = '/content/gdrive/MyDrive/agb/model/'\n",
        "            with open(path + 'label_encoder.pkl', 'wb') as le_dump_file:\n",
        "                  pickle.dump(self.label_encoder, le_dump_file)\n",
        "                      \n",
        "    def __len__(self):\n",
        "        return self.len_\n",
        "      \n",
        "    def load_sample(self, file):\n",
        "        image = Image.open(file)\n",
        "        image.load()\n",
        "        return image\n",
        "  \n",
        "    def __getitem__(self, index):\n",
        "        # для преобразования изображений в тензоры PyTorch и нормализации входа\n",
        "        transform = transforms.Compose([\n",
        "            transforms.Resize(256),\n",
        "            transforms.CenterCrop(RESCALE_SIZE),\n",
        "            transforms.ToTensor(),\n",
        "            # mean и std для набора данных ImageNet на котором были обучены \n",
        "            # предобученные сети из torchvision\n",
        "            transforms.Normalize(mean=[0.485, 0.456, 0.406],\n",
        "                                 std=[0.229, 0.224, 0.225])\n",
        "            ])\n",
        "\n",
        "        # трансформация с аугментацией для обучающей выборки средствами PyTorch\n",
        "        transform_augment = transforms.Compose([\n",
        "            transforms.Resize(size=(256, 256)),\n",
        "            transforms.RandomResizedCrop(RESCALE_SIZE),\n",
        "            transforms.RandomHorizontalFlip(),\n",
        "            # transforms.RandomRotation(40),\n",
        "            # transforms.RandomPerspective(),\n",
        "            # transforms.ColorJitter(hue=.1, saturation=.1),\n",
        "            transforms.ToTensor(),\n",
        "            # mean и std для набора данных ImageNet на котором были обучены \n",
        "            # предобученные сети из torchvision\n",
        "            transforms.Normalize(mean=[0.485, 0.456, 0.406],\n",
        "                                 std=[0.229, 0.224, 0.225])\n",
        "            ])\n",
        "\n",
        "        x = self.load_sample(self.files[index])\n",
        "\n",
        "        # У нас тр режима датасета \n",
        "        # DATA_MODES = ['train', 'val', 'test']\n",
        "        # train - обчающая выборка на которой мы обучаем нейросеть \n",
        "        # (есть картинки и ответы к ним)\n",
        "        # val - валидационная выборка на которой мы тестируем как хорошо\n",
        "        #  нейросеть обучилась! (есть картинки и ответы к ним)\n",
        "        # test - тестовая выборка на которой мы предсказываем ответы для\n",
        "        #  скора в соревновании (есть картинки ответов нет!)\n",
        "\n",
        "        if self.mode == 'test': # если тестовая выборка у нас нет ответов и\n",
        "            x = transform(x)    # датасет не должен аугментировать картинки\n",
        "            return x\n",
        "        else:\n",
        "            if self.mode == 'train': # аугментируем обучающую выборку\n",
        "                x = transform_augment(x)\n",
        "            else:\n",
        "                x = transform(x) # не аугментируем валидационную выборку\n",
        "\n",
        "            # для train или val выборок у нас есть ответы по классам\n",
        "            label = self.labels[index]\n",
        "            label_id = self.label_encoder.transform([label])\n",
        "            y = label_id.item()\n",
        "            return x, y"
      ],
      "execution_count": 18,
      "outputs": []
    },
    {
      "cell_type": "markdown",
      "metadata": {
        "id": "rakkL7r_ZpzK"
      },
      "source": [
        "### Ручной oversampling до 100 картинок (Выполняется для всех нейросетей в подзаголовках заголовка Теперь обучаем лучшими подходами)\n",
        "\n"
      ]
    },
    {
      "cell_type": "code",
      "metadata": {
        "colab": {
          "base_uri": "https://localhost:8080/"
        },
        "id": "8JyPrcaIZpzN",
        "outputId": "d534935e-a684-434d-863a-ee57767adf44"
      },
      "source": [
        "BATCH_SIZE = 16\n",
        "\n",
        "# Создадим словарь в котором ключами будут ЯБЛОКИ, а значениями списки с путями к картинкам.\n",
        "dct_path_train = create_dct_path_labels(train_files, train_labels)\n",
        "\n",
        "# Дополним картинки классов у которых менее 100 картинок, до 100 картинок в классе\n",
        "for person in dct_path_train:\n",
        "    if len(dct_path_train[person]) < 100:\n",
        "        dct_path_train[person] = dct_path_train[person] * (100 // len(dct_path_train[person]))\n",
        "        dct_path_train[person].extend(dct_path_train[person][:100 - len(dct_path_train[person])])\n",
        "\n",
        "new_train_files = []\n",
        "\n",
        "for person in dct_path_train:\n",
        "    new_train_files.extend(dct_path_train[person])\n",
        "\n",
        "new_train_label = [path.parent.name for path in new_train_files] # классы train\n",
        "\n",
        "val_dataset = AppleDataset(val_files, mode='val')\n",
        "new_train_dataset = AppleDataset(new_train_files, mode='train')\n",
        "\n",
        "# определим загрузщики данных без взвешивания классов для их балансировки простой вариант\n",
        "# DataLoader достаёт данные из dataset батчами\n",
        "dataloaders = {'train': DataLoader(new_train_dataset, batch_size=BATCH_SIZE, shuffle=True),\n",
        "               'val': DataLoader(val_dataset, batch_size=BATCH_SIZE, shuffle=False)}\n",
        "dataset_sizes = {'train': len(new_train_dataset), 'val':len(val_dataset) }\n",
        "\n",
        "# Ничего не изменилось всех картинок и так больше 100!\n",
        "# исходный вариант {'train': 2282, 'val': 254}\n",
        "dataset_sizes"
      ],
      "execution_count": 19,
      "outputs": [
        {
          "output_type": "execute_result",
          "data": {
            "text/plain": [
              "{'train': 999, 'val': 112}"
            ]
          },
          "metadata": {
            "tags": []
          },
          "execution_count": 19
        }
      ]
    },
    {
      "cell_type": "markdown",
      "metadata": {
        "id": "-BdFpOoSDAtk"
      },
      "source": [
        "#ResNet-34"
      ]
    },
    {
      "cell_type": "code",
      "metadata": {
        "id": "iyfzKOc0DAto",
        "colab": {
          "base_uri": "https://localhost:8080/",
          "height": 83,
          "referenced_widgets": [
            "b7ae5a4f904d4e5e924ae951d557f848",
            "fa21e31097e0475bbcddce21470f81a2",
            "a6cd088c184f4d179878572183913c51",
            "4ca8288bbc9044b8ad6344ff0a55d4f8",
            "77665351f8ec46bd82cd78d51c37c361",
            "6cb617054f97433db3630c4b5046803e",
            "986ac4a2e72148b9afd421e572a1608c",
            "abfb8e6c7691482b9f42287fe4d392f4"
          ]
        },
        "outputId": "92af0dc2-90c0-4192-9dc8-57d767760e66"
      },
      "source": [
        "# Создаём сеть\n",
        "model_resnet= models.resnet34(pretrained=True)"
      ],
      "execution_count": 20,
      "outputs": [
        {
          "output_type": "stream",
          "text": [
            "Downloading: \"https://download.pytorch.org/models/resnet34-333f7ec4.pth\" to /root/.cache/torch/hub/checkpoints/resnet34-333f7ec4.pth\n"
          ],
          "name": "stderr"
        },
        {
          "output_type": "display_data",
          "data": {
            "application/vnd.jupyter.widget-view+json": {
              "model_id": "b7ae5a4f904d4e5e924ae951d557f848",
              "version_minor": 0,
              "version_major": 2
            },
            "text/plain": [
              "HBox(children=(FloatProgress(value=0.0, max=87306240.0), HTML(value='')))"
            ]
          },
          "metadata": {
            "tags": []
          }
        },
        {
          "output_type": "stream",
          "text": [
            "\n"
          ],
          "name": "stdout"
        }
      ]
    },
    {
      "cell_type": "code",
      "metadata": {
        "id": "jw4P9QhPCTIE"
      },
      "source": [
        "# посмотрим на сеть от которой мы делаем transfer learning\r\n",
        "#model_resnet"
      ],
      "execution_count": 21,
      "outputs": []
    },
    {
      "cell_type": "code",
      "metadata": {
        "id": "nvy8JmeTChpR"
      },
      "source": [
        "#Заменяем родной классификатор model на наш новый линейный классификатор\r\n",
        "classes_number=2\r\n",
        "model_resnet.fc = nn.Linear(model_resnet.fc.in_features, classes_number)"
      ],
      "execution_count": 24,
      "outputs": []
    },
    {
      "cell_type": "markdown",
      "metadata": {
        "id": "5SW-oeKGPqnb"
      },
      "source": [
        "## Подберем оптимальный learning rate для ResNet-152 (подбор learning rate осуществляем на классификаторе)"
      ]
    },
    {
      "cell_type": "code",
      "metadata": {
        "id": "agjq_i_BDXEJ"
      },
      "source": [
        "for param in model_resnet.parameters():\r\n",
        "    param.requires_grad = False\r\n",
        "\r\n",
        "for param in model_resnet.fc.parameters():\r\n",
        "    param.requires_grad = True"
      ],
      "execution_count": 23,
      "outputs": []
    },
    {
      "cell_type": "code",
      "metadata": {
        "id": "ImmUDgXXDcOY"
      },
      "source": [
        "# посмотрим какие параметры в нашей модели можно обучать\r\n",
        "#print_params(model_resnet)"
      ],
      "execution_count": null,
      "outputs": []
    },
    {
      "cell_type": "code",
      "metadata": {
        "colab": {
          "base_uri": "https://localhost:8080/"
        },
        "id": "piCC-ECqER1J",
        "outputId": "01cd9a37-1ef1-4e36-93c7-df7c1a917720"
      },
      "source": [
        "# посмотрим какие параметры учим (учим все слои)\r\n",
        "params_to_update = print_learn_params(model_resnet)"
      ],
      "execution_count": null,
      "outputs": [
        {
          "output_type": "stream",
          "text": [
            "Params to update:\n",
            "\t fc.weight\n",
            "\t fc.bias\n"
          ],
          "name": "stdout"
        }
      ]
    },
    {
      "cell_type": "code",
      "metadata": {
        "id": "SOZN5alREWbS"
      },
      "source": [
        "# В качестве cost function используем кросс-энтропию\r\n",
        "loss_fn = nn.CrossEntropyLoss()\r\n",
        "\r\n",
        "# В качестве оптимизатора AdaShift из репозитория МФТИ\r\n",
        "optimizer = torch.optim.Adam(params_to_update, lr=1e-3, amsgrad=True)\r\n",
        "\r\n",
        "# Задем планировщик изменения learning rate нашего оптимизатора.\r\n",
        "# будет просто умножать lr optimizer на gamma, каждые step_size эпох.\r\n",
        "# step_lr_scheduler = lr_scheduler.StepLR(optimizer, step_size=30, gamma=0.1)\r\n",
        "\r\n",
        "# Использовать ли GPU\r\n",
        "model_resnet = model_resnet.cuda()"
      ],
      "execution_count": null,
      "outputs": []
    },
    {
      "cell_type": "code",
      "metadata": {
        "id": "EaQ6XJn_MA4Y"
      },
      "source": [
        "# подбор оптимального lr для классификатора model.fc\r\n",
        "logs, losses = find_lr(model_resnet, dataloaders, loss_fn, optimizer, init_value=1e-8, final_value=10.0)"
      ],
      "execution_count": null,
      "outputs": []
    },
    {
      "cell_type": "code",
      "metadata": {
        "colab": {
          "base_uri": "https://localhost:8080/",
          "height": 625
        },
        "id": "NFf08W7SMj16",
        "outputId": "ab480b39-12b4-494b-d646-27203ae8a40a"
      },
      "source": [
        "# построим график для оптимального подбора lr\r\n",
        "fig = plt.figure(figsize=(10,10))\r\n",
        "ax = fig.add_subplot(111)\r\n",
        "ax.plot(logs,losses)\r\n",
        "ax.set_xlabel(\"$10^x$\")\r\n",
        "ax.set_ylabel(\"loss\")"
      ],
      "execution_count": null,
      "outputs": [
        {
          "output_type": "execute_result",
          "data": {
            "text/plain": [
              "Text(0, 0.5, 'loss')"
            ]
          },
          "metadata": {
            "tags": []
          },
          "execution_count": 50
        },
        {
          "output_type": "display_data",
          "data": {
            "image/png": "[encoded data removed]",
            "text/plain": [
              "<Figure size 720x720 with 1 Axes>"
            ]
          },
          "metadata": {
            "tags": [],
            "needs_background": "light"
          }
        }
      ]
    },
    {
      "cell_type": "code",
      "metadata": {
        "id": "KQ93eFgcv-KQ"
      },
      "source": [
        "# освободим cuda кэш\n",
        "torch.cuda.empty_cache()"
      ],
      "execution_count": null,
      "outputs": []
    },
    {
      "cell_type": "markdown",
      "metadata": {
        "id": "xdcKZm_KDAty"
      },
      "source": [
        "По оси абсцисс у нас значение lr ее степени 10 (например x=-2 , значит что lr=10**-2=0.01) по оси ординат показаны значения loss функции полученные при даном lr. Значение оптимального lr наблюдается там где у нас видно резкое спадание значения loss функции по графику. Резкий спад наблюдается от lr=[10**-4, 10**-2] , поэтому в данном случае оптимальным будет lr=10**-3."
      ]
    },
    {
      "cell_type": "code",
      "metadata": {
        "colab": {
          "base_uri": "https://localhost:8080/"
        },
        "id": "CMAcTzrgDAty",
        "outputId": "4a4c41cc-2339-4b97-a666-9e364106bb39"
      },
      "source": [
        "# из графика видно, что лучший lr для это 1e-3\n",
        "found_lr = 1e-2\n",
        "found_lr"
      ],
      "execution_count": 25,
      "outputs": [
        {
          "output_type": "execute_result",
          "data": {
            "text/plain": [
              "0.01"
            ]
          },
          "metadata": {
            "tags": []
          },
          "execution_count": 25
        }
      ]
    },
    {
      "cell_type": "markdown",
      "metadata": {
        "id": "YY_7QLcXQdod"
      },
      "source": [
        "веса подобраны перезапускаем ноутбук, только теперь переходим сразу к обучению модели без подбора learning_rate"
      ]
    },
    {
      "cell_type": "markdown",
      "metadata": {
        "id": "kiq-J1qwQScg"
      },
      "source": [
        "### Обучение ResNet подходом Differential Groups Layers"
      ]
    },
    {
      "cell_type": "code",
      "metadata": {
        "colab": {
          "base_uri": "https://localhost:8080/"
        },
        "id": "A1QYUbIjItYK",
        "outputId": "127bd936-c39f-4e21-f469-68d5af99b0f5"
      },
      "source": [
        "BATCH_SIZE"
      ],
      "execution_count": 26,
      "outputs": [
        {
          "output_type": "execute_result",
          "data": {
            "text/plain": [
              "16"
            ]
          },
          "metadata": {
            "tags": []
          },
          "execution_count": 26
        }
      ]
    },
    {
      "cell_type": "code",
      "metadata": {
        "id": "uwJ6jqblJdNB"
      },
      "source": [
        "# теперь нам необходимо сделать все веса обучаемыми снова!\n",
        "for param in model_resnet.parameters():\n",
        "    param.requires_grad = True"
      ],
      "execution_count": 27,
      "outputs": []
    },
    {
      "cell_type": "code",
      "metadata": {
        "colab": {
          "base_uri": "https://localhost:8080/"
        },
        "id": "NnVBa7GfJPXO",
        "outputId": "9364b1b7-e69f-4039-e9f5-4a8129d093f9"
      },
      "source": [
        "# посмотрим какие параметры учим (учим все слои)\n",
        "params_to_update = print_learn_params(model_resnet)"
      ],
      "execution_count": 28,
      "outputs": [
        {
          "output_type": "stream",
          "text": [
            "Params to update:\n",
            "\t conv1.weight\n",
            "\t bn1.weight\n",
            "\t bn1.bias\n",
            "\t layer1.0.conv1.weight\n",
            "\t layer1.0.bn1.weight\n",
            "\t layer1.0.bn1.bias\n",
            "\t layer1.0.conv2.weight\n",
            "\t layer1.0.bn2.weight\n",
            "\t layer1.0.bn2.bias\n",
            "\t layer1.1.conv1.weight\n",
            "\t layer1.1.bn1.weight\n",
            "\t layer1.1.bn1.bias\n",
            "\t layer1.1.conv2.weight\n",
            "\t layer1.1.bn2.weight\n",
            "\t layer1.1.bn2.bias\n",
            "\t layer1.2.conv1.weight\n",
            "\t layer1.2.bn1.weight\n",
            "\t layer1.2.bn1.bias\n",
            "\t layer1.2.conv2.weight\n",
            "\t layer1.2.bn2.weight\n",
            "\t layer1.2.bn2.bias\n",
            "\t layer2.0.conv1.weight\n",
            "\t layer2.0.bn1.weight\n",
            "\t layer2.0.bn1.bias\n",
            "\t layer2.0.conv2.weight\n",
            "\t layer2.0.bn2.weight\n",
            "\t layer2.0.bn2.bias\n",
            "\t layer2.0.downsample.0.weight\n",
            "\t layer2.0.downsample.1.weight\n",
            "\t layer2.0.downsample.1.bias\n",
            "\t layer2.1.conv1.weight\n",
            "\t layer2.1.bn1.weight\n",
            "\t layer2.1.bn1.bias\n",
            "\t layer2.1.conv2.weight\n",
            "\t layer2.1.bn2.weight\n",
            "\t layer2.1.bn2.bias\n",
            "\t layer2.2.conv1.weight\n",
            "\t layer2.2.bn1.weight\n",
            "\t layer2.2.bn1.bias\n",
            "\t layer2.2.conv2.weight\n",
            "\t layer2.2.bn2.weight\n",
            "\t layer2.2.bn2.bias\n",
            "\t layer2.3.conv1.weight\n",
            "\t layer2.3.bn1.weight\n",
            "\t layer2.3.bn1.bias\n",
            "\t layer2.3.conv2.weight\n",
            "\t layer2.3.bn2.weight\n",
            "\t layer2.3.bn2.bias\n",
            "\t layer3.0.conv1.weight\n",
            "\t layer3.0.bn1.weight\n",
            "\t layer3.0.bn1.bias\n",
            "\t layer3.0.conv2.weight\n",
            "\t layer3.0.bn2.weight\n",
            "\t layer3.0.bn2.bias\n",
            "\t layer3.0.downsample.0.weight\n",
            "\t layer3.0.downsample.1.weight\n",
            "\t layer3.0.downsample.1.bias\n",
            "\t layer3.1.conv1.weight\n",
            "\t layer3.1.bn1.weight\n",
            "\t layer3.1.bn1.bias\n",
            "\t layer3.1.conv2.weight\n",
            "\t layer3.1.bn2.weight\n",
            "\t layer3.1.bn2.bias\n",
            "\t layer3.2.conv1.weight\n",
            "\t layer3.2.bn1.weight\n",
            "\t layer3.2.bn1.bias\n",
            "\t layer3.2.conv2.weight\n",
            "\t layer3.2.bn2.weight\n",
            "\t layer3.2.bn2.bias\n",
            "\t layer3.3.conv1.weight\n",
            "\t layer3.3.bn1.weight\n",
            "\t layer3.3.bn1.bias\n",
            "\t layer3.3.conv2.weight\n",
            "\t layer3.3.bn2.weight\n",
            "\t layer3.3.bn2.bias\n",
            "\t layer3.4.conv1.weight\n",
            "\t layer3.4.bn1.weight\n",
            "\t layer3.4.bn1.bias\n",
            "\t layer3.4.conv2.weight\n",
            "\t layer3.4.bn2.weight\n",
            "\t layer3.4.bn2.bias\n",
            "\t layer3.5.conv1.weight\n",
            "\t layer3.5.bn1.weight\n",
            "\t layer3.5.bn1.bias\n",
            "\t layer3.5.conv2.weight\n",
            "\t layer3.5.bn2.weight\n",
            "\t layer3.5.bn2.bias\n",
            "\t layer4.0.conv1.weight\n",
            "\t layer4.0.bn1.weight\n",
            "\t layer4.0.bn1.bias\n",
            "\t layer4.0.conv2.weight\n",
            "\t layer4.0.bn2.weight\n",
            "\t layer4.0.bn2.bias\n",
            "\t layer4.0.downsample.0.weight\n",
            "\t layer4.0.downsample.1.weight\n",
            "\t layer4.0.downsample.1.bias\n",
            "\t layer4.1.conv1.weight\n",
            "\t layer4.1.bn1.weight\n",
            "\t layer4.1.bn1.bias\n",
            "\t layer4.1.conv2.weight\n",
            "\t layer4.1.bn2.weight\n",
            "\t layer4.1.bn2.bias\n",
            "\t layer4.2.conv1.weight\n",
            "\t layer4.2.bn1.weight\n",
            "\t layer4.2.bn1.bias\n",
            "\t layer4.2.conv2.weight\n",
            "\t layer4.2.bn2.weight\n",
            "\t layer4.2.bn2.bias\n",
            "\t fc.weight\n",
            "\t fc.bias\n"
          ],
          "name": "stdout"
        }
      ]
    },
    {
      "cell_type": "code",
      "metadata": {
        "id": "gpIfesRL4p9v"
      },
      "source": [
        "# В качестве cost function используем кросс-энтропию\n",
        "loss_fn = nn.CrossEntropyLoss()\n",
        " \n",
        "# Дифференциальное обучение подход взят из \n",
        "# https://blog.slavv.com/differential-learning-rates-59eff5209a4f\n",
        "# и книги Ian Pointer - Programming PyTorch for Deep Learning_ Creating and Deploying Deep Learning Applications-O’Reilly Media (2019)\n",
        "# сылка на книгу на goodreads (https://www.goodreads.com/book/show/48225828-programming-pytorch-for-deep-learning)\n",
        "# Chapter 4. Transfer Learning and Other Tricks про\n",
        "# Transfer Learning with ResNet50\n",
        " \n",
        "# Выставляем различные скорости обучения для различных слоев\n",
        "optimizer = torch.optim.Adam([\n",
        "{ 'params': model_resnet.fc.parameters(), 'lr': found_lr},\n",
        "{ 'params': model_resnet.layer4.parameters(), 'lr': found_lr / 3},\n",
        "{ 'params': model_resnet.layer3.parameters(), 'lr': found_lr / 10},\n",
        "{ 'params': model_resnet.layer2.parameters(), 'lr': found_lr / 50},\n",
        "{ 'params': model_resnet.layer1.parameters(), 'lr': found_lr / 100},\n",
        "{'params': model_resnet.bn1.parameters(), 'lr': found_lr / 100},\n",
        "{'params': model_resnet.conv1.parameters(), 'lr': found_lr / 100}],\n",
        "lr=found_lr / 100, amsgrad=True)\n",
        " \n",
        " \n",
        "# Задем планировщик изменения learning rate нашего оптимизатора.\n",
        "# будет просто умножать lr optimizer на gamma, каждые step_size эпох.\n",
        "# step_lr_scheduler = lr_scheduler.StepLR(optimizer, step_size=30, gamma=0.1)\n",
        " \n",
        "# Использовать ли GPU\n",
        "model_resnet= model_resnet.cuda()"
      ],
      "execution_count": 29,
      "outputs": []
    },
    {
      "cell_type": "markdown",
      "metadata": {
        "id": "k3bpBkIM4p9q"
      },
      "source": [
        "### 1-вый цикл обучения (20 эпох) Accuracy: 0.9859"
      ]
    },
    {
      "cell_type": "code",
      "metadata": {
        "id": "Hy6c3HN04p90"
      },
      "source": [
        "# Зададим путь для сохранения моделей!\n",
        "path = '/content/gdrive/MyDrive/Local_AgroCode_pre_snippets/model/ResNet34_DGL_AdamW_aug_oversampling_batchsize_16'\n",
        "# path = '/content/gdrive/MyDrive/agb/model/ResNet34_DGL_AdamW_aug_oversampling_batchsize_16'"
      ],
      "execution_count": 32,
      "outputs": []
    },
    {
      "cell_type": "code",
      "metadata": {
        "colab": {
          "base_uri": "https://localhost:8080/",
          "height": 1000,
          "referenced_widgets": [
            "4bf7ee945f01419fb717c28d451afdd5",
            "249918f212214d78b80c7edfe04ae79e",
            "7ee4ae27a489409a83760c310d05c6ee",
            "4599b4047a2e4dc18e6b5b23bed12d56",
            "1a68dd5b6c1747459bbffa734ff06f18",
            "f53fc2f2120e43489c0fb8c06dff2d8b",
            "5519bcc2f4004dbeae436d1922ac6fee",
            "2e8d28786b91466f8e4f18ba71483b1d"
          ]
        },
        "id": "9EV_OVXL4p92",
        "outputId": "4b8d990a-9972-4fe6-f8aa-215e5eef1b91"
      },
      "source": [
        "# Обучаем модель (Неиспользуется в финальном score можно сразу загрузить веса!)\n",
        "model_resnet, losses, acc, best_model_wts = train_model(model_resnet, dataloaders, loss_fn, optimizer, num_epochs=20, flag_save_wts_to_file=True, path=path)"
      ],
      "execution_count": null,
      "outputs": [
        {
          "output_type": "stream",
          "text": [
            "Logging...\n"
          ],
          "name": "stdout"
        },
        {
          "output_type": "display_data",
          "data": {
            "application/vnd.jupyter.widget-view+json": {
              "model_id": "4bf7ee945f01419fb717c28d451afdd5",
              "version_minor": 0,
              "version_major": 2
            },
            "text/plain": [
              "HBox(children=(FloatProgress(value=0.0, max=20.0), HTML(value='')))"
            ]
          },
          "metadata": {
            "tags": []
          }
        },
        {
          "output_type": "stream",
          "text": [
            "Epoch 0/19 lr=[0.01, 0.0033333333333333335, 0.001, 0.0002, 0.0001, 0.0001, 0.0001]\n",
            "----------\n",
            "train Loss: 0.4013 Acc: 0.8649\n",
            "val Loss: 0.1170 Acc: 0.9732\n",
            "\n",
            "***new best wts with acc 0.9732142857142857 at 0 epoh***\n",
            "\n",
            "***new best wts with loss 0.11697441302905125 at 0 epoh***\n",
            "*** save model wts at this 0 epoch ! *** \n",
            "\n",
            "Epoch 1/19 lr=[0.01, 0.0033333333333333335, 0.001, 0.0002, 0.0001, 0.0001, 0.0001]\n",
            "----------\n",
            "train Loss: 0.2896 Acc: 0.9159\n",
            "val Loss: 0.1883 Acc: 0.9732\n",
            "*** save model wts at this 1 epoch ! *** \n",
            "\n",
            "Epoch 2/19 lr=[0.01, 0.0033333333333333335, 0.001, 0.0002, 0.0001, 0.0001, 0.0001]\n",
            "----------\n",
            "train Loss: 0.1357 Acc: 0.9499\n",
            "val Loss: 0.0719 Acc: 0.9911\n",
            "\n",
            "***new best wts with acc 0.9910714285714285 at 2 epoh***\n",
            "\n",
            "***new best wts with loss 0.07192090286740235 at 2 epoh***\n",
            "*** save model wts at this 2 epoch ! *** \n",
            "\n",
            "Epoch 3/19 lr=[0.01, 0.0033333333333333335, 0.001, 0.0002, 0.0001, 0.0001, 0.0001]\n",
            "----------\n",
            "train Loss: 0.1162 Acc: 0.9550\n",
            "val Loss: 0.0289 Acc: 0.9911\n",
            "\n",
            "***new best wts with loss 0.028940468180215766 at 3 epoh***\n",
            "*** save model wts at this 3 epoch ! *** \n",
            "\n",
            "Epoch 4/19 lr=[0.01, 0.0033333333333333335, 0.001, 0.0002, 0.0001, 0.0001, 0.0001]\n",
            "----------\n",
            "train Loss: 0.2436 Acc: 0.9449\n",
            "val Loss: 24.2562 Acc: 0.7768\n",
            "*** save model wts at this 4 epoch ! *** \n",
            "\n",
            "Epoch 5/19 lr=[0.01, 0.0033333333333333335, 0.001, 0.0002, 0.0001, 0.0001, 0.0001]\n",
            "----------\n",
            "train Loss: 0.4400 Acc: 0.9309\n",
            "val Loss: 0.0691 Acc: 0.9821\n",
            "*** save model wts at this 5 epoch ! *** \n",
            "\n",
            "Epoch 6/19 lr=[0.01, 0.0033333333333333335, 0.001, 0.0002, 0.0001, 0.0001, 0.0001]\n",
            "----------\n",
            "train Loss: 0.3136 Acc: 0.9309\n",
            "val Loss: 0.1432 Acc: 0.9554\n",
            "*** save model wts at this 6 epoch ! *** \n",
            "\n",
            "Epoch 7/19 lr=[0.01, 0.0033333333333333335, 0.001, 0.0002, 0.0001, 0.0001, 0.0001]\n",
            "----------\n",
            "train Loss: 0.1114 Acc: 0.9550\n",
            "val Loss: 0.0217 Acc: 0.9821\n",
            "\n",
            "***new best wts with loss 0.021673108577877947 at 7 epoh***\n",
            "*** save model wts at this 7 epoch ! *** \n",
            "\n",
            "Epoch 8/19 lr=[0.01, 0.0033333333333333335, 0.001, 0.0002, 0.0001, 0.0001, 0.0001]\n",
            "----------\n",
            "train Loss: 0.1281 Acc: 0.9560\n",
            "val Loss: 0.0264 Acc: 0.9911\n",
            "*** save model wts at this 8 epoch ! *** \n",
            "\n",
            "Epoch 9/19 lr=[0.01, 0.0033333333333333335, 0.001, 0.0002, 0.0001, 0.0001, 0.0001]\n",
            "----------\n",
            "train Loss: 0.0948 Acc: 0.9710\n",
            "val Loss: 0.0320 Acc: 0.9821\n",
            "*** save model wts at this 9 epoch ! *** \n",
            "\n",
            "Epoch 10/19 lr=[0.01, 0.0033333333333333335, 0.001, 0.0002, 0.0001, 0.0001, 0.0001]\n",
            "----------\n",
            "train Loss: 0.0852 Acc: 0.9670\n",
            "val Loss: 0.0442 Acc: 0.9821\n",
            "*** save model wts at this 10 epoch ! *** \n",
            "\n",
            "Epoch 11/19 lr=[0.01, 0.0033333333333333335, 0.001, 0.0002, 0.0001, 0.0001, 0.0001]\n",
            "----------\n",
            "train Loss: 0.1186 Acc: 0.9640\n",
            "val Loss: 0.0264 Acc: 0.9911\n",
            "*** save model wts at this 11 epoch ! *** \n",
            "\n",
            "Epoch 12/19 lr=[0.01, 0.0033333333333333335, 0.001, 0.0002, 0.0001, 0.0001, 0.0001]\n",
            "----------\n",
            "train Loss: 0.0959 Acc: 0.9760\n",
            "val Loss: 0.0149 Acc: 0.9911\n",
            "\n",
            "***new best wts with loss 0.014866170833036969 at 12 epoh***\n",
            "*** save model wts at this 12 epoch ! *** \n",
            "\n",
            "Epoch 13/19 lr=[0.01, 0.0033333333333333335, 0.001, 0.0002, 0.0001, 0.0001, 0.0001]\n",
            "----------\n",
            "train Loss: 0.0650 Acc: 0.9820\n",
            "val Loss: 0.0215 Acc: 0.9911\n",
            "*** save model wts at this 13 epoch ! *** \n",
            "\n",
            "Epoch 14/19 lr=[0.01, 0.0033333333333333335, 0.001, 0.0002, 0.0001, 0.0001, 0.0001]\n",
            "----------\n",
            "train Loss: 0.0967 Acc: 0.9670\n",
            "val Loss: 0.0073 Acc: 1.0000\n",
            "\n",
            "***new best wts with acc 1.0 at 14 epoh***\n",
            "\n",
            "***new best wts with loss 0.007274870164110325 at 14 epoh***\n",
            "*** save model wts at this 14 epoch ! *** \n",
            "\n",
            "Epoch 15/19 lr=[0.01, 0.0033333333333333335, 0.001, 0.0002, 0.0001, 0.0001, 0.0001]\n",
            "----------\n",
            "train Loss: 0.0927 Acc: 0.9640\n",
            "val Loss: 0.0172 Acc: 0.9911\n",
            "*** save model wts at this 15 epoch ! *** \n",
            "\n",
            "Epoch 16/19 lr=[0.01, 0.0033333333333333335, 0.001, 0.0002, 0.0001, 0.0001, 0.0001]\n",
            "----------\n",
            "train Loss: 0.1513 Acc: 0.9640\n",
            "val Loss: 0.0639 Acc: 0.9821\n",
            "*** save model wts at this 16 epoch ! *** \n",
            "\n",
            "Epoch 17/19 lr=[0.01, 0.0033333333333333335, 0.001, 0.0002, 0.0001, 0.0001, 0.0001]\n",
            "----------\n",
            "train Loss: 0.0764 Acc: 0.9760\n",
            "val Loss: 0.0042 Acc: 1.0000\n",
            "\n",
            "***new best wts with loss 0.004188584348802189 at 17 epoh***\n",
            "*** save model wts at this 17 epoch ! *** \n",
            "\n",
            "Epoch 18/19 lr=[0.01, 0.0033333333333333335, 0.001, 0.0002, 0.0001, 0.0001, 0.0001]\n",
            "----------\n",
            "train Loss: 0.1183 Acc: 0.9600\n",
            "val Loss: 0.0201 Acc: 0.9911\n",
            "*** save model wts at this 18 epoch ! *** \n",
            "\n",
            "Epoch 19/19 lr=[0.01, 0.0033333333333333335, 0.001, 0.0002, 0.0001, 0.0001, 0.0001]\n",
            "----------\n",
            "train Loss: 0.1327 Acc: 0.9489\n",
            "val Loss: 0.0307 Acc: 0.9911\n",
            "*** save model wts at this 19 epoch ! *** \n",
            "\n",
            "\n",
            "Training complete in 24m 3s\n",
            "Best val Acc: 1.000000 at 14\n",
            "Best val Loss: 0.004189 at 17\n"
          ],
          "name": "stdout"
        }
      ]
    },
    {
      "cell_type": "code",
      "metadata": {
        "id": "P368QU4nwp7O"
      },
      "source": [
        "# освободим cuda кэш\n",
        "torch.cuda.empty_cache()"
      ],
      "execution_count": 30,
      "outputs": []
    },
    {
      "cell_type": "code",
      "metadata": {
        "id": "yiGr3lw-4p95"
      },
      "source": [
        "# загрузим состояние нашей модели, ее веса при которых было достигнута лучшая\n",
        "# точность, а так же losses и accurancy\n",
        "# У НАС ЕСТЬ БЫБОР!\n",
        "# Если:\n",
        "# сторка ниже, - забираем модель с последней эпохи обучения\n",
        "# model_resnet.load_state_dict(torch.load(path + '.pth'))\n",
        "\n",
        "# лучше забрать одну из моделей ниже!\n",
        "# или строка ниже, - забираем модель с лучшей точностью на валидации\n",
        "# model_resnet.load_state_dict(torch.load(path + '_best_w.pth')) \n",
        "\n",
        "# или строка ниже, - забираем модель с наименьшим loss на валидации\n",
        "model_resnet.load_state_dict(torch.load(path + '_best_w_loss.pth'))\n",
        "\n",
        "# загружаем accurancy и loss'ы\n",
        "losses = load_dict_from_file(path + '_losses.pickle')\n",
        "acc = load_dict_from_file(path + '_acc.pickle')"
      ],
      "execution_count": 33,
      "outputs": []
    },
    {
      "cell_type": "code",
      "metadata": {
        "colab": {
          "base_uri": "https://localhost:8080/"
        },
        "id": "DgLTBOp04p98",
        "outputId": "4bf58f4f-112a-4344-d94d-e2099b3d6555"
      },
      "source": [
        "# посчитаем Accuracy на всей валидационной выборке Accuracy: 0.9859\n",
        "print(\"Accuracy: {0:.4f}\".format(evaluate(model_resnet, dataloaders['val'], DEVICE, use_gpu =True)))"
      ],
      "execution_count": null,
      "outputs": [
        {
          "output_type": "stream",
          "text": [
            "Accuracy: 1.0000\n"
          ],
          "name": "stdout"
        }
      ]
    },
    {
      "cell_type": "code",
      "metadata": {
        "colab": {
          "base_uri": "https://localhost:8080/",
          "height": 295
        },
        "id": "mdtqIayo4p9_",
        "outputId": "c1291a59-98bb-452e-9063-0e328ef33ec0"
      },
      "source": [
        "show_losses_plots(losses, smooth_flag = False, min = 0)"
      ],
      "execution_count": 34,
      "outputs": [
        {
          "output_type": "display_data",
          "data": {
            "image/png": "[encoded data removed]",
            "text/plain": [
              "<Figure size 432x288 with 1 Axes>"
            ]
          },
          "metadata": {
            "tags": [],
            "needs_background": "light"
          }
        }
      ]
    },
    {
      "cell_type": "code",
      "metadata": {
        "colab": {
          "base_uri": "https://localhost:8080/",
          "height": 295
        },
        "id": "yGA8f5dj4p-C",
        "outputId": "984a957a-bca8-4db7-c97d-447f94d2f11d"
      },
      "source": [
        "show_acc_plots(acc, smooth_flag = False)"
      ],
      "execution_count": 35,
      "outputs": [
        {
          "output_type": "display_data",
          "data": {
            "image/png": "[encoded data removed]",
            "text/plain": [
              "<Figure size 432x288 with 1 Axes>"
            ]
          },
          "metadata": {
            "tags": [],
            "needs_background": "light"
          }
        }
      ]
    },
    {
      "cell_type": "markdown",
      "metadata": {
        "id": "sN-U8B0I4p-F"
      },
      "source": [
        "#### оценка предсказательной точности модели по классам 1 цикл"
      ]
    },
    {
      "cell_type": "code",
      "metadata": {
        "colab": {
          "base_uri": "https://localhost:8080/",
          "height": 818
        },
        "id": "DS_lzuSxyQYV",
        "outputId": "5c5d4536-4174-4d95-e599-d27f42fa27e2"
      },
      "source": [
        "# Построим confusion_matrix\n",
        "y_test_all, predictions_all, feature_names = show_confusion_matrix_fucn(model_resnet, dataloaders)"
      ],
      "execution_count": null,
      "outputs": [
        {
          "output_type": "stream",
          "text": [
            "Normalized confusion matrix\n"
          ],
          "name": "stdout"
        },
        {
          "output_type": "display_data",
          "data": {
            "image/png": "[encoded data removed]",
            "text/plain": [
              "<Figure size 1152x792 with 2 Axes>"
            ]
          },
          "metadata": {
            "tags": [],
            "needs_background": "light"
          }
        }
      ]
    },
    {
      "cell_type": "code",
      "metadata": {
        "colab": {
          "base_uri": "https://localhost:8080/"
        },
        "id": "VJzgLrYyyQYb",
        "scrolled": true,
        "outputId": "7276b4a8-f416-464c-c691-9f4a742e01ba"
      },
      "source": [
        "# Выведем точность для каждого класса\n",
        "accurancy_for_each_class(y_test_all, predictions_all, feature_names)"
      ],
      "execution_count": null,
      "outputs": [
        {
          "output_type": "stream",
          "text": [
            "[71, 41]\n",
            "2\n",
            "Accuracy of health\t100 %\n",
            "Accuracy of  sick\t100 %\n"
          ],
          "name": "stdout"
        }
      ]
    },
    {
      "cell_type": "code",
      "metadata": {
        "id": "EOYQgcfJwzE5"
      },
      "source": [
        "# освободим cuda кэш\n",
        "torch.cuda.empty_cache()"
      ],
      "execution_count": null,
      "outputs": []
    },
    {
      "cell_type": "markdown",
      "metadata": {
        "id": "t0sXkhRgwLHG"
      },
      "source": [
        "# Измерим на тестовой выборке зная ответы"
      ]
    },
    {
      "cell_type": "code",
      "metadata": {
        "id": "VLzT6cVxvajY"
      },
      "source": [
        "test_dataset_metrics = AppleDataset(test_files, mode='val')\r\n",
        "\r\n",
        "# определим загрузщики данных без взвешивания классов для их балансировки простой вариант\r\n",
        "# DataLoader достаёт данные из dataset батчами\r\n",
        "dataloaders_test = {'val': DataLoader(test_dataset_metrics, batch_size=BATCH_SIZE, shuffle=False)}"
      ],
      "execution_count": null,
      "outputs": []
    },
    {
      "cell_type": "code",
      "metadata": {
        "colab": {
          "base_uri": "https://localhost:8080/"
        },
        "id": "EegMz3e7vsg4",
        "outputId": "975090ee-c72d-45f9-b627-988989d2de19"
      },
      "source": [
        "# посчитаем Accuracy на всей валидационной выборке Accuracy: 0.9859\r\n",
        "print(\"Accuracy: {0:.4f}\".format(evaluate(model_resnet, dataloaders_test['val'], DEVICE, use_gpu =True)))"
      ],
      "execution_count": null,
      "outputs": [
        {
          "output_type": "stream",
          "text": [
            "Accuracy: 1.0000\n"
          ],
          "name": "stdout"
        }
      ]
    },
    {
      "cell_type": "code",
      "metadata": {
        "colab": {
          "base_uri": "https://localhost:8080/",
          "height": 818
        },
        "id": "Bv7mmSVjv6J1",
        "outputId": "c0d10a93-43c2-4bea-e846-19ef3397f791"
      },
      "source": [
        "# Построим confusion_matrix\r\n",
        "y_test_all, predictions_all, feature_names = show_confusion_matrix_fucn(model_resnet, dataloaders_test)"
      ],
      "execution_count": null,
      "outputs": [
        {
          "output_type": "stream",
          "text": [
            "Normalized confusion matrix\n"
          ],
          "name": "stdout"
        },
        {
          "output_type": "display_data",
          "data": {
            "image/png": "[encoded data removed]",
            "text/plain": [
              "<Figure size 1152x792 with 2 Axes>"
            ]
          },
          "metadata": {
            "tags": [],
            "needs_background": "light"
          }
        }
      ]
    },
    {
      "cell_type": "code",
      "metadata": {
        "colab": {
          "base_uri": "https://localhost:8080/"
        },
        "id": "V7ZagRtWweo3",
        "outputId": "835b6646-b6ea-4dfd-a6a4-0be499271165"
      },
      "source": [
        "# Выведем точность для каждого класса\r\n",
        "accurancy_for_each_class(y_test_all, predictions_all, feature_names)"
      ],
      "execution_count": null,
      "outputs": [
        {
          "output_type": "stream",
          "text": [
            "[177, 101]\n",
            "2\n",
            "Accuracy of health\t100 %\n",
            "Accuracy of  sick\t100 %\n"
          ],
          "name": "stdout"
        }
      ]
    },
    {
      "cell_type": "code",
      "metadata": {
        "colab": {
          "base_uri": "https://localhost:8080/"
        },
        "id": "4_zZUOZyx7oz",
        "outputId": "ea4dcf56-9808-48f3-e0e2-52df1ea0e148"
      },
      "source": [
        "f1_score(y_test_all, predictions_all)"
      ],
      "execution_count": null,
      "outputs": [
        {
          "output_type": "execute_result",
          "data": {
            "text/plain": [
              "1.0"
            ]
          },
          "metadata": {
            "tags": []
          },
          "execution_count": 52
        }
      ]
    },
    {
      "cell_type": "markdown",
      "metadata": {
        "id": "aFa_dvxzIvk8"
      },
      "source": [
        "##### Competition Submit"
      ]
    },
    {
      "cell_type": "code",
      "metadata": {
        "id": "k0uT1EjVIvk8"
      },
      "source": [
        "test_dataset = AppleDataset(test_files, mode=\"test\")\n",
        "test_loader = DataLoader(test_dataset, shuffle=False, batch_size=BATCH_SIZE)\n",
        "probs = predict(model_resnet, test_loader)\n",
        "\n",
        "label_encoder = pickle.load(open(\"/content/gdrive/MyDrive/AgroCode_pre_snippets/model/label_encoder.pkl\", 'rb'))\n",
        "preds = label_encoder.inverse_transform(np.argmax(probs, axis=1))\n",
        "test_filenames = [path.name for path in test_dataset.files]\n"
      ],
      "execution_count": null,
      "outputs": []
    },
    {
      "cell_type": "code",
      "metadata": {
        "id": "5mDpbdQvIvk9"
      },
      "source": [
        "import pandas as pd\n",
        "# my_submit = pd.read_csv(\"gdrive/My Drive/simpsons/data/labels.csv\")\n",
        "my_submit = pd.DataFrame({'Id': test_filenames, 'Expected': preds}) # Каггле берет только с такими заголовками\n",
        "my_submit.to_csv(path + '_predict.csv', index=False)"
      ],
      "execution_count": null,
      "outputs": []
    },
    {
      "cell_type": "markdown",
      "metadata": {
        "id": "gQ3HOi1EK7c2"
      },
      "source": [
        "## Сохраним всю модель"
      ]
    },
    {
      "cell_type": "code",
      "metadata": {
        "id": "EUWEXa-vK_6K"
      },
      "source": [
        "path = '/content/gdrive/MyDrive/AgroCode_pre_snippets/model/ResNet34_DGL_AdamW_aug_oversampling_batchsize_16'\r\n",
        "torch.save(model_resnet, path + '_full_model.pth')"
      ],
      "execution_count": null,
      "outputs": []
    },
    {
      "cell_type": "markdown",
      "metadata": {
        "id": "hnyQ7R110qGH"
      },
      "source": [
        "# Пример для веба"
      ]
    },
    {
      "cell_type": "markdown",
      "metadata": {
        "id": "hrnNOj23OS7h"
      },
      "source": [
        "Сбрасываем ноутбук и запускаем его начиная отсюда, чтобы ничего из предидущего в памяти ВМ не было."
      ]
    },
    {
      "cell_type": "code",
      "metadata": {
        "colab": {
          "base_uri": "https://localhost:8080/"
        },
        "id": "NZw2C1P-Z9w4",
        "outputId": "78f4676d-9f16-4ecf-8e28-391aabec3814"
      },
      "source": [
        "from google.colab import drive\r\n",
        "drive.mount('/content/gdrive/')"
      ],
      "execution_count": 1,
      "outputs": [
        {
          "output_type": "stream",
          "text": [
            "Drive already mounted at /content/gdrive/; to attempt to forcibly remount, call drive.mount(\"/content/gdrive/\", force_remount=True).\n"
          ],
          "name": "stdout"
        }
      ]
    },
    {
      "cell_type": "code",
      "metadata": {
        "id": "Rk9b-lX8WKhL"
      },
      "source": [
        "import os\n",
        "\n",
        "import torch\n",
        "import pickle\n",
        "import numpy as np\n",
        "import pandas as pd\n",
        " \n",
        "from PIL import Image\n",
        " \n",
        "from torchvision import transforms, models\n",
        "from sklearn.preprocessing import LabelEncoder"
      ],
      "execution_count": 4,
      "outputs": []
    },
    {
      "cell_type": "code",
      "metadata": {
        "id": "4urG2b9LUSdm"
      },
      "source": [
        "class DLModelImageClassifier(object):\r\n",
        "    \"\"\"Класс-обертка над моделью нейросети для классифкации картинок\"\"\"\r\n",
        "\r\n",
        "    def __init__(self, path_model, path_label_enc):\r\n",
        "        \"\"\"\r\n",
        "        Parameters:\r\n",
        "\r\n",
        "        path_model : str, путь до сохраненной нейросети (архитектура и веса модели PyTorch файлом)\r\n",
        "        path_label_enc : str, путь до сохраненного кодировщика имен классов (sklearn.preprocessing.LabelEncoder)\r\n",
        "        \"\"\"\r\n",
        "\r\n",
        "        # загружаем модель\r\n",
        "        # на всякий случай грузим модель для cpu\r\n",
        "        self.model = torch.load(path_model, map_location=torch.device('cpu'))\r\n",
        "        self.model.eval()\r\n",
        "\r\n",
        "        # загружаем кодировщик названий классов\r\n",
        "        with open(path_label_enc, 'rb') as f:\r\n",
        "            label_enc = pickle.load(f)\r\n",
        "\r\n",
        "        self.label_enc = label_enc\r\n",
        "\r\n",
        "        # определим трансформации картинок для предобработки\r\n",
        "        self.our_transforms = transforms.Compose([\r\n",
        "            transforms.Resize(256),\r\n",
        "            transforms.CenterCrop(224),\r\n",
        "            transforms.ToTensor(),\r\n",
        "            transforms.Normalize([0.485, 0.456, 0.406], [0.229, 0.224, 0.225])\r\n",
        "        ])\r\n",
        "\r\n",
        "        # Определим устройство, если есть GPU используем его\r\n",
        "        # если GPU нет, то CPU\r\n",
        "        self.device = torch.device(\"cuda\" if torch.cuda.is_available() else \"cpu\")\r\n",
        "\r\n",
        "        # перенесем DL-модель на устройство\r\n",
        "        self.model.to(self.device)\r\n",
        "\r\n",
        "        # для предсказания на папке файлов\r\n",
        "        self.prediction_images_values = []\r\n",
        "        self.prediction_images_names = []\r\n",
        "\r\n",
        "    def transform_image(self, image_path):\r\n",
        "        \"\"\"делает необходимую трансформацию картинки, расположенной по пути image_path\r\n",
        "         для модели нейросети для классифкации картинок\"\"\"\r\n",
        "        image = Image.open(image_path)\r\n",
        "\r\n",
        "        return self.our_transforms(image).unsqueeze(0)\r\n",
        "\r\n",
        "    def get_prediction(self, image_path):\r\n",
        "        \"\"\"делает предсказание на одной картинке, расположенной по пути image_path\r\n",
        "         для модели нейросети для классифкации картинок\"\"\"\r\n",
        "\r\n",
        "        # отключаем расчет градиентов, мы только предсказываем\r\n",
        "        with torch.no_grad():\r\n",
        "            tensor = self.transform_image(image_path=image_path)\r\n",
        "            outputs = self.model.forward(tensor.to(self.device))\r\n",
        "            _, prediction = torch.max(outputs, 1)\r\n",
        "            prediction = prediction.cpu().detach().numpy()\r\n",
        "\r\n",
        "        return self.label_enc.inverse_transform(prediction)[0]\r\n",
        "\r\n",
        "    def get_prediction_on_image_folder(self, images_folder_path):\r\n",
        "        \"\"\"делает предсказание для всех картинок, расположенных в папке images_folder_path,\r\n",
        "        моделью нейросети для классифкации картинок, результаты хранит в переменных:\r\n",
        "        self.prediction_images_values -  предсказание нейросети\r\n",
        "        self.prediction_images_names - название картинки\r\n",
        "         \"\"\"\r\n",
        "        # для предсказания на папке файлов\r\n",
        "        self.prediction_images_values = []\r\n",
        "        self.prediction_images_names = []\r\n",
        "\r\n",
        "        # получаем пути к изображениям\r\n",
        "        images_filenames = os.listdir(images_folder_path)\r\n",
        "\r\n",
        "        # предсказываем моделью\r\n",
        "        # отключаем расчет градиентов, мы только предсказываем\r\n",
        "        with torch.no_grad():\r\n",
        "            for elem in images_filenames:\r\n",
        "                pred = self.get_prediction(images_folder_path + elem)\r\n",
        "                pred = 0 if pred == 'health' else 1\r\n",
        "                self.prediction_images_values.append(pred)\r\n",
        "                self.prediction_images_names.append(elem)\r\n",
        "\r\n",
        "    def get_csv_prediction_on_image_folder(self, output_csv_filename, csv_index_flag = False):\r\n",
        "        \"\"\"создает csv-файл с именем output_csv_filename с предсказаниями модели,\r\n",
        "        если csv_index_flag == True в csv-файле колонка-индекс картинок.\r\n",
        "        предсказания должны быть предварительно расчитаны методом \r\n",
        "        get_prediction_on_image_folder() !\r\n",
        "        Нужно для сдачи модели менторам.\r\n",
        "        \"\"\"\r\n",
        "\r\n",
        "        # задаем заголовок csv\r\n",
        "        csv_columns = ['disease_flag','name']\r\n",
        "\r\n",
        "        # создаем csv\r\n",
        "        results_df = pd.DataFrame(list(zip(self.prediction_images_values, self.prediction_images_names)), columns=csv_columns)\r\n",
        "        results_df.to_csv(output_csv_filename, index=csv_index_flag)\r\n",
        "\r\n",
        "    def get_dct_prediction_on_image_folder(self):\r\n",
        "        \"\"\"создает python dict с предсказаниями модели,\r\n",
        "        предсказания должны быть предварительно расчитаны методом \r\n",
        "        get_prediction_on_image_folder() !\r\n",
        "        Нужно для веб-сервиса\r\n",
        "        \"\"\"\r\n",
        "\r\n",
        "        dct = {}\r\n",
        "        for i, k in zip(self.prediction_images_names, self.prediction_images_values):\r\n",
        "            dct[i] = k\r\n",
        "\r\n",
        "        return dct\r\n",
        "\r\n",
        "\r\n",
        "\r\n",
        "    def create_dataloader_from_folder(self, path_to_images_folder):\r\n",
        "        pass\r\n",
        "\r\n",
        "    def predict_on_dataloader(self):\r\n",
        "        pass\r\n",
        "        # return predictions\r\n",
        "\r\n",
        "    def get_csv_prediction_on_dataloader(self):\r\n",
        "        pass\r\n",
        "        # create csv - с предсказаниями\r\n",
        "\r\n",
        "    def get_dict_prediction_on_dataloader(self):\r\n",
        "        pass\r\n",
        "        # create dict {./img/tree_1:1, ./img/tree_2: 0, ./img/tree_3: 0, ./img/tree_4: 1}"
      ],
      "execution_count": 5,
      "outputs": []
    },
    {
      "cell_type": "code",
      "metadata": {
        "id": "WthlFZL2W5Zi"
      },
      "source": [
        "# путь к сохраненной модели\r\n",
        "path_model = '/content/gdrive/MyDrive/AgroCode_pre_snippets/model/ResNet34_DGL_AdamW_aug_oversampling_batchsize_16_full_model.pth'\r\n",
        "\r\n",
        "# путь к сохраненному кодировщику классов\r\n",
        "path_label_enc = '/content/gdrive/MyDrive/AgroCode_pre_snippets/model/label_encoder.pkl'"
      ],
      "execution_count": 6,
      "outputs": []
    },
    {
      "cell_type": "code",
      "metadata": {
        "id": "2Kapqux9L3fp"
      },
      "source": [
        "# создадим экземпляр класса нашнй модели и передадим ей пути к сохраненной нейрости\r\n",
        "# и кодировщику классов\r\n",
        "web_dl_model = DLModelImageClassifier(path_model, path_label_enc)"
      ],
      "execution_count": 7,
      "outputs": []
    },
    {
      "cell_type": "markdown",
      "metadata": {
        "id": "YYUe1FsAMy-y"
      },
      "source": [
        "Предсказание на одной картинке"
      ]
    },
    {
      "cell_type": "code",
      "metadata": {
        "id": "3jJgDR459ErX"
      },
      "source": [
        "image_path = '/content/gdrive/MyDrive/AgroCode_pre_snippets/pics_example/00075aa8-d81a-4184-8541-b692b78d398a___FREC_Scab 3335.JPG'"
      ],
      "execution_count": 8,
      "outputs": []
    },
    {
      "cell_type": "code",
      "metadata": {
        "colab": {
          "base_uri": "https://localhost:8080/"
        },
        "id": "x3seWiLEZdym",
        "outputId": "6e41f1cb-df0e-457b-908e-3df6e29f04fb"
      },
      "source": [
        "# отработал на CPU - сессии Colaba\r\n",
        "web_dl_model.device"
      ],
      "execution_count": 9,
      "outputs": [
        {
          "output_type": "execute_result",
          "data": {
            "text/plain": [
              "device(type='cpu')"
            ]
          },
          "metadata": {
            "tags": []
          },
          "execution_count": 9
        }
      ]
    },
    {
      "cell_type": "code",
      "metadata": {
        "colab": {
          "base_uri": "https://localhost:8080/",
          "height": 69
        },
        "id": "RoInwBeTcrLo",
        "outputId": "5993a191-b953-4bb6-f229-796724addab4"
      },
      "source": [
        "%%time\r\n",
        "# сделаем предсказание\r\n",
        "web_dl_model.get_prediction(image_path)"
      ],
      "execution_count": 10,
      "outputs": [
        {
          "output_type": "stream",
          "text": [
            "CPU times: user 191 ms, sys: 16.1 ms, total: 207 ms\n",
            "Wall time: 213 ms\n"
          ],
          "name": "stdout"
        },
        {
          "output_type": "execute_result",
          "data": {
            "application/vnd.google.colaboratory.intrinsic+json": {
              "type": "string"
            },
            "text/plain": [
              "'sick'"
            ]
          },
          "metadata": {
            "tags": []
          },
          "execution_count": 10
        }
      ]
    },
    {
      "cell_type": "code",
      "metadata": {
        "colab": {
          "base_uri": "https://localhost:8080/"
        },
        "id": "neZCudj4a0Re",
        "outputId": "e3b10294-94c5-4642-d220-7154d1eab425"
      },
      "source": [
        "# отработал на GPU - сессии Colaba\r\n",
        "web_dl_model.device"
      ],
      "execution_count": 11,
      "outputs": [
        {
          "output_type": "execute_result",
          "data": {
            "text/plain": [
              "device(type='cpu')"
            ]
          },
          "metadata": {
            "tags": []
          },
          "execution_count": 11
        }
      ]
    },
    {
      "cell_type": "code",
      "metadata": {
        "colab": {
          "base_uri": "https://localhost:8080/",
          "height": 69
        },
        "id": "cxehP3QLdgwc",
        "outputId": "9311c96c-0027-4b8e-f3eb-c9629e9e70b0"
      },
      "source": [
        "%%time\r\n",
        "# сделаем предсказание\r\n",
        "web_dl_model.get_prediction(image_path)"
      ],
      "execution_count": 12,
      "outputs": [
        {
          "output_type": "stream",
          "text": [
            "CPU times: user 179 ms, sys: 763 µs, total: 179 ms\n",
            "Wall time: 182 ms\n"
          ],
          "name": "stdout"
        },
        {
          "output_type": "execute_result",
          "data": {
            "application/vnd.google.colaboratory.intrinsic+json": {
              "type": "string"
            },
            "text/plain": [
              "'sick'"
            ]
          },
          "metadata": {
            "tags": []
          },
          "execution_count": 12
        }
      ]
    },
    {
      "cell_type": "markdown",
      "metadata": {
        "id": "UFXUj2xcNm_s"
      },
      "source": [
        "Предсказание на папке картинок:"
      ]
    },
    {
      "cell_type": "code",
      "metadata": {
        "id": "uGCQybGQSufC"
      },
      "source": [
        "images_folder_path = '//content//dataset//health//'\r\n",
        "output_csv_filename = 'predictions.csv'"
      ],
      "execution_count": 13,
      "outputs": []
    },
    {
      "cell_type": "code",
      "metadata": {
        "colab": {
          "base_uri": "https://localhost:8080/"
        },
        "id": "H5_MFzY2h_Hq",
        "outputId": "4fdf7646-8a52-49f7-d938-841d303e7eeb"
      },
      "source": [
        "%%time\r\n",
        "# сделаем предсказание на папке с картинками health 880\r\n",
        "web_dl_model.get_prediction_on_image_folder(images_folder_path)"
      ],
      "execution_count": 14,
      "outputs": [
        {
          "output_type": "stream",
          "text": [
            "CPU times: user 3min 29s, sys: 3.68 s, total: 3min 33s\n",
            "Wall time: 3min 33s\n"
          ],
          "name": "stdout"
        }
      ]
    },
    {
      "cell_type": "code",
      "metadata": {
        "id": "6sIi1MA9dZTV"
      },
      "source": [
        "# тут результаты предсказаний\r\n",
        "web_dl_model.prediction_images_values"
      ],
      "execution_count": null,
      "outputs": []
    },
    {
      "cell_type": "code",
      "metadata": {
        "id": "1kUTO0O4df98"
      },
      "source": [
        "# тут имена картинок\r\n",
        "web_dl_model.prediction_images_names"
      ],
      "execution_count": null,
      "outputs": []
    },
    {
      "cell_type": "code",
      "metadata": {
        "id": "9squINTlkb7n"
      },
      "source": [
        "# получим csv-файл предсказаний\r\n",
        "web_dl_model.get_csv_prediction_on_image_folder(output_csv_filename, csv_index_flag = False)"
      ],
      "execution_count": 17,
      "outputs": []
    },
    {
      "cell_type": "code",
      "metadata": {
        "colab": {
          "base_uri": "https://localhost:8080/"
        },
        "id": "xIKnTH5ZkqK-",
        "outputId": "e8e1efab-8cb8-426c-b01d-1091dd754c29"
      },
      "source": [
        "# получим python dict предсказаний\r\n",
        "web_dl_model.get_dct_prediction_on_image_folder()"
      ],
      "execution_count": 18,
      "outputs": [
        {
          "output_type": "execute_result",
          "data": {
            "text/plain": [
              "{'Train_0.jpg': 0,\n",
              " 'Train_1.jpg': 0,\n",
              " 'Train_10.jpg': 0,\n",
              " 'Train_100.jpg': 0,\n",
              " 'Train_1000.jpg': 0,\n",
              " 'Train_1001.jpg': 0,\n",
              " 'Train_1005.jpg': 0,\n",
              " 'Train_1006.jpg': 0,\n",
              " 'Train_1007.jpg': 0,\n",
              " 'Train_1008.jpg': 0,\n",
              " 'Train_1010.jpg': 0,\n",
              " 'Train_1014.jpg': 0,\n",
              " 'Train_1015.jpg': 0,\n",
              " 'Train_1017.jpg': 0,\n",
              " 'Train_1018.jpg': 0,\n",
              " 'Train_1019.jpg': 0,\n",
              " 'Train_1022.jpg': 0,\n",
              " 'Train_1024.jpg': 0,\n",
              " 'Train_1026.jpg': 0,\n",
              " 'Train_1028.jpg': 0,\n",
              " 'Train_1034.jpg': 0,\n",
              " 'Train_1037.jpg': 0,\n",
              " 'Train_1038.jpg': 0,\n",
              " 'Train_1039.jpg': 0,\n",
              " 'Train_104.jpg': 0,\n",
              " 'Train_1040.jpg': 0,\n",
              " 'Train_1041.jpg': 0,\n",
              " 'Train_1042.jpg': 0,\n",
              " 'Train_1045.jpg': 0,\n",
              " 'Train_1047.jpg': 0,\n",
              " 'Train_1048.jpg': 0,\n",
              " 'Train_1049.jpg': 0,\n",
              " 'Train_1050.jpg': 0,\n",
              " 'Train_1051.jpg': 0,\n",
              " 'Train_1052.jpg': 0,\n",
              " 'Train_1053.jpg': 0,\n",
              " 'Train_1054.jpg': 0,\n",
              " 'Train_1057.jpg': 0,\n",
              " 'Train_1059.jpg': 0,\n",
              " 'Train_106.jpg': 0,\n",
              " 'Train_1061.jpg': 0,\n",
              " 'Train_1062.jpg': 0,\n",
              " 'Train_1065.jpg': 0,\n",
              " 'Train_1066.jpg': 0,\n",
              " 'Train_1067.jpg': 0,\n",
              " 'Train_1069.jpg': 0,\n",
              " 'Train_107.jpg': 0,\n",
              " 'Train_1071.jpg': 0,\n",
              " 'Train_1072.jpg': 0,\n",
              " 'Train_1073.jpg': 0,\n",
              " 'Train_1074.jpg': 0,\n",
              " 'Train_1078.jpg': 0,\n",
              " 'Train_108.jpg': 0,\n",
              " 'Train_1080.jpg': 0,\n",
              " 'Train_1082.jpg': 0,\n",
              " 'Train_1084.jpg': 0,\n",
              " 'Train_1085.jpg': 0,\n",
              " 'Train_1086.jpg': 0,\n",
              " 'Train_1088.jpg': 0,\n",
              " 'Train_109.jpg': 0,\n",
              " 'Train_1091.jpg': 0,\n",
              " 'Train_1092.jpg': 0,\n",
              " 'Train_1093.jpg': 0,\n",
              " 'Train_1095.jpg': 0,\n",
              " 'Train_11.jpg': 0,\n",
              " 'Train_110.jpg': 0,\n",
              " 'Train_1100.jpg': 0,\n",
              " 'Train_1102.jpg': 0,\n",
              " 'Train_1103.jpg': 0,\n",
              " 'Train_1104.jpg': 0,\n",
              " 'Train_1106.jpg': 0,\n",
              " 'Train_111.jpg': 0,\n",
              " 'Train_1110.jpg': 0,\n",
              " 'Train_1111.jpg': 0,\n",
              " 'Train_1112.jpg': 0,\n",
              " 'Train_1113.jpg': 0,\n",
              " 'Train_1115.jpg': 0,\n",
              " 'Train_1118.jpg': 0,\n",
              " 'Train_1119.jpg': 0,\n",
              " 'Train_1122.jpg': 0,\n",
              " 'Train_1123.jpg': 0,\n",
              " 'Train_1124.jpg': 0,\n",
              " 'Train_1128.jpg': 0,\n",
              " 'Train_1129.jpg': 0,\n",
              " 'Train_113.jpg': 0,\n",
              " 'Train_1130.jpg': 0,\n",
              " 'Train_1132.jpg': 0,\n",
              " 'Train_1134.jpg': 0,\n",
              " 'Train_1135.jpg': 0,\n",
              " 'Train_1137.jpg': 0,\n",
              " 'Train_1138.jpg': 0,\n",
              " 'Train_1140.jpg': 0,\n",
              " 'Train_1141.jpg': 0,\n",
              " 'Train_1143.jpg': 0,\n",
              " 'Train_1144.jpg': 0,\n",
              " 'Train_1145.jpg': 0,\n",
              " 'Train_1149.jpg': 0,\n",
              " 'Train_115.jpg': 0,\n",
              " 'Train_1150.jpg': 0,\n",
              " 'Train_1151.jpg': 0,\n",
              " 'Train_1152.jpg': 0,\n",
              " 'Train_1153.jpg': 0,\n",
              " 'Train_1154.jpg': 0,\n",
              " 'Train_1155.jpg': 0,\n",
              " 'Train_1156.jpg': 0,\n",
              " 'Train_1157.jpg': 0,\n",
              " 'Train_1158.jpg': 0,\n",
              " 'Train_1159.jpg': 0,\n",
              " 'Train_116.jpg': 0,\n",
              " 'Train_1160.jpg': 0,\n",
              " 'Train_1161.jpg': 0,\n",
              " 'Train_1162.jpg': 0,\n",
              " 'Train_1164.jpg': 0,\n",
              " 'Train_1165.jpg': 0,\n",
              " 'Train_1166.jpg': 0,\n",
              " 'Train_1168.jpg': 0,\n",
              " 'Train_1169.jpg': 0,\n",
              " 'Train_117.jpg': 0,\n",
              " 'Train_1170.jpg': 0,\n",
              " 'Train_1171.jpg': 0,\n",
              " 'Train_1172.jpg': 0,\n",
              " 'Train_1173.jpg': 0,\n",
              " 'Train_1175.jpg': 0,\n",
              " 'Train_1176.jpg': 0,\n",
              " 'Train_1178.jpg': 0,\n",
              " 'Train_118.jpg': 0,\n",
              " 'Train_1180.jpg': 0,\n",
              " 'Train_1185.jpg': 0,\n",
              " 'Train_1186.jpg': 0,\n",
              " 'Train_1189.jpg': 0,\n",
              " 'Train_119.jpg': 0,\n",
              " 'Train_1190.jpg': 0,\n",
              " 'Train_1191.jpg': 0,\n",
              " 'Train_1193.jpg': 0,\n",
              " 'Train_1195.jpg': 0,\n",
              " 'Train_1196.jpg': 0,\n",
              " 'Train_1197.jpg': 0,\n",
              " 'Train_1198.jpg': 0,\n",
              " 'Train_1199.jpg': 0,\n",
              " 'Train_12.jpg': 0,\n",
              " 'Train_120.jpg': 0,\n",
              " 'Train_1200.jpg': 0,\n",
              " 'Train_1202.jpg': 0,\n",
              " 'Train_1203.jpg': 0,\n",
              " 'Train_1204.jpg': 0,\n",
              " 'Train_1208.jpg': 0,\n",
              " 'Train_1209.jpg': 0,\n",
              " 'Train_1210.jpg': 0,\n",
              " 'Train_1211.jpg': 0,\n",
              " 'Train_1214.jpg': 0,\n",
              " 'Train_1215.jpg': 0,\n",
              " 'Train_1217.jpg': 0,\n",
              " 'Train_1218.jpg': 0,\n",
              " 'Train_1219.jpg': 0,\n",
              " 'Train_122.jpg': 0,\n",
              " 'Train_1221.jpg': 0,\n",
              " 'Train_1222.jpg': 0,\n",
              " 'Train_1223.jpg': 0,\n",
              " 'Train_1224.jpg': 0,\n",
              " 'Train_1228.jpg': 0,\n",
              " 'Train_1229.jpg': 0,\n",
              " 'Train_1232.jpg': 0,\n",
              " 'Train_1233.jpg': 0,\n",
              " 'Train_1234.jpg': 0,\n",
              " 'Train_1235.jpg': 0,\n",
              " 'Train_1236.jpg': 0,\n",
              " 'Train_1238.jpg': 0,\n",
              " 'Train_1239.jpg': 0,\n",
              " 'Train_124.jpg': 0,\n",
              " 'Train_1240.jpg': 0,\n",
              " 'Train_1242.jpg': 0,\n",
              " 'Train_1243.jpg': 0,\n",
              " 'Train_1244.jpg': 0,\n",
              " 'Train_1245.jpg': 0,\n",
              " 'Train_1246.jpg': 0,\n",
              " 'Train_1247.jpg': 0,\n",
              " 'Train_1249.jpg': 0,\n",
              " 'Train_125.jpg': 0,\n",
              " 'Train_1250.jpg': 0,\n",
              " 'Train_1252.jpg': 0,\n",
              " 'Train_1253.jpg': 0,\n",
              " 'Train_1254.jpg': 0,\n",
              " 'Train_1257.jpg': 0,\n",
              " 'Train_1259.jpg': 0,\n",
              " 'Train_126.jpg': 0,\n",
              " 'Train_1260.jpg': 0,\n",
              " 'Train_1262.jpg': 0,\n",
              " 'Train_1263.jpg': 0,\n",
              " 'Train_1265.jpg': 0,\n",
              " 'Train_1267.jpg': 0,\n",
              " 'Train_1268.jpg': 0,\n",
              " 'Train_1270.jpg': 0,\n",
              " 'Train_1271.jpg': 0,\n",
              " 'Train_1272.jpg': 0,\n",
              " 'Train_1274.jpg': 0,\n",
              " 'Train_1275.jpg': 0,\n",
              " 'Train_1277.jpg': 0,\n",
              " 'Train_1278.jpg': 0,\n",
              " 'Train_128.jpg': 0,\n",
              " 'Train_1281.jpg': 0,\n",
              " 'Train_1282.jpg': 0,\n",
              " 'Train_1287.jpg': 0,\n",
              " 'Train_1288.jpg': 0,\n",
              " 'Train_1289.jpg': 0,\n",
              " 'Train_129.jpg': 0,\n",
              " 'Train_1292.jpg': 0,\n",
              " 'Train_1293.jpg': 0,\n",
              " 'Train_1294.jpg': 0,\n",
              " 'Train_1295.jpg': 0,\n",
              " 'Train_1297.jpg': 0,\n",
              " 'Train_1298.jpg': 0,\n",
              " 'Train_130.jpg': 0,\n",
              " 'Train_1301.jpg': 0,\n",
              " 'Train_1302.jpg': 0,\n",
              " 'Train_1303.jpg': 0,\n",
              " 'Train_1304.jpg': 0,\n",
              " 'Train_1305.jpg': 0,\n",
              " 'Train_1307.jpg': 0,\n",
              " 'Train_1309.jpg': 0,\n",
              " 'Train_131.jpg': 0,\n",
              " 'Train_1310.jpg': 0,\n",
              " 'Train_1311.jpg': 0,\n",
              " 'Train_1314.jpg': 0,\n",
              " 'Train_1315.jpg': 0,\n",
              " 'Train_1316.jpg': 0,\n",
              " 'Train_1317.jpg': 0,\n",
              " 'Train_1318.jpg': 0,\n",
              " 'Train_1319.jpg': 0,\n",
              " 'Train_132.jpg': 0,\n",
              " 'Train_1320.jpg': 0,\n",
              " 'Train_1323.jpg': 0,\n",
              " 'Train_1326.jpg': 0,\n",
              " 'Train_133.jpg': 0,\n",
              " 'Train_1331.jpg': 0,\n",
              " 'Train_1332.jpg': 0,\n",
              " 'Train_1335.jpg': 0,\n",
              " 'Train_1336.jpg': 0,\n",
              " 'Train_1339.jpg': 0,\n",
              " 'Train_1342.jpg': 0,\n",
              " 'Train_1343.jpg': 0,\n",
              " 'Train_1346.jpg': 0,\n",
              " 'Train_1347.jpg': 0,\n",
              " 'Train_1348.jpg': 0,\n",
              " 'Train_1349.jpg': 0,\n",
              " 'Train_135.jpg': 0,\n",
              " 'Train_1350.jpg': 0,\n",
              " 'Train_1351.jpg': 0,\n",
              " 'Train_1352.jpg': 0,\n",
              " 'Train_1353.jpg': 0,\n",
              " 'Train_1354.jpg': 0,\n",
              " 'Train_1355.jpg': 0,\n",
              " 'Train_1356.jpg': 0,\n",
              " 'Train_1358.jpg': 0,\n",
              " 'Train_1359.jpg': 0,\n",
              " 'Train_1360.jpg': 0,\n",
              " 'Train_1363.jpg': 0,\n",
              " 'Train_1364.jpg': 0,\n",
              " 'Train_1366.jpg': 0,\n",
              " 'Train_1367.jpg': 0,\n",
              " 'Train_1369.jpg': 0,\n",
              " 'Train_137.jpg': 0,\n",
              " 'Train_1370.jpg': 0,\n",
              " 'Train_1371.jpg': 0,\n",
              " 'Train_1372.jpg': 0,\n",
              " 'Train_1373.jpg': 0,\n",
              " 'Train_1374.jpg': 0,\n",
              " 'Train_1375.jpg': 0,\n",
              " 'Train_1376.jpg': 0,\n",
              " 'Train_1377.jpg': 0,\n",
              " 'Train_1378.jpg': 0,\n",
              " 'Train_1379.jpg': 0,\n",
              " 'Train_1380.jpg': 0,\n",
              " 'Train_1381.jpg': 0,\n",
              " 'Train_1382.jpg': 0,\n",
              " 'Train_1383.jpg': 0,\n",
              " 'Train_1384.jpg': 0,\n",
              " 'Train_1388.jpg': 0,\n",
              " 'Train_139.jpg': 0,\n",
              " 'Train_14.jpg': 0,\n",
              " 'Train_140.jpg': 0,\n",
              " 'Train_141.jpg': 0,\n",
              " 'Train_142.jpg': 0,\n",
              " 'Train_143.jpg': 0,\n",
              " 'Train_144.jpg': 0,\n",
              " 'Train_145.jpg': 0,\n",
              " 'Train_146.jpg': 0,\n",
              " 'Train_147.jpg': 0,\n",
              " 'Train_148.jpg': 0,\n",
              " 'Train_15.jpg': 0,\n",
              " 'Train_150.jpg': 0,\n",
              " 'Train_152.jpg': 0,\n",
              " 'Train_153.jpg': 0,\n",
              " 'Train_155.jpg': 0,\n",
              " 'Train_157.jpg': 0,\n",
              " 'Train_158.jpg': 0,\n",
              " 'Train_159.jpg': 0,\n",
              " 'Train_16.jpg': 0,\n",
              " 'Train_160.jpg': 0,\n",
              " 'Train_161.jpg': 0,\n",
              " 'Train_163.jpg': 0,\n",
              " 'Train_167.jpg': 0,\n",
              " 'Train_17.jpg': 0,\n",
              " 'Train_170.jpg': 0,\n",
              " 'Train_171.jpg': 0,\n",
              " 'Train_176.jpg': 0,\n",
              " 'Train_177.jpg': 0,\n",
              " 'Train_179.jpg': 0,\n",
              " 'Train_18.jpg': 0,\n",
              " 'Train_182.jpg': 0,\n",
              " 'Train_183.jpg': 0,\n",
              " 'Train_184.jpg': 0,\n",
              " 'Train_185.jpg': 0,\n",
              " 'Train_187.jpg': 0,\n",
              " 'Train_188.jpg': 0,\n",
              " 'Train_189.jpg': 0,\n",
              " 'Train_190.jpg': 0,\n",
              " 'Train_192.jpg': 0,\n",
              " 'Train_193.jpg': 0,\n",
              " 'Train_195.jpg': 0,\n",
              " 'Train_197.jpg': 0,\n",
              " 'Train_198.jpg': 0,\n",
              " 'Train_20.jpg': 0,\n",
              " 'Train_200.jpg': 0,\n",
              " 'Train_201.jpg': 0,\n",
              " 'Train_202.jpg': 0,\n",
              " 'Train_203.jpg': 0,\n",
              " 'Train_204.jpg': 0,\n",
              " 'Train_205.jpg': 0,\n",
              " 'Train_207.jpg': 0,\n",
              " 'Train_208.jpg': 0,\n",
              " 'Train_209.jpg': 0,\n",
              " 'Train_21.jpg': 0,\n",
              " 'Train_210.jpg': 0,\n",
              " 'Train_213.jpg': 0,\n",
              " 'Train_214.jpg': 0,\n",
              " 'Train_215.jpg': 0,\n",
              " 'Train_216.jpg': 0,\n",
              " 'Train_217.jpg': 0,\n",
              " 'Train_218.jpg': 0,\n",
              " 'Train_22.jpg': 0,\n",
              " 'Train_220.jpg': 0,\n",
              " 'Train_221.jpg': 0,\n",
              " 'Train_222.jpg': 0,\n",
              " 'Train_223.jpg': 0,\n",
              " 'Train_224.jpg': 0,\n",
              " 'Train_227.jpg': 0,\n",
              " 'Train_228.jpg': 0,\n",
              " 'Train_23.jpg': 0,\n",
              " 'Train_230.jpg': 0,\n",
              " 'Train_231.jpg': 0,\n",
              " 'Train_234.jpg': 0,\n",
              " 'Train_235.jpg': 0,\n",
              " 'Train_236.jpg': 0,\n",
              " 'Train_239.jpg': 0,\n",
              " 'Train_240.jpg': 0,\n",
              " 'Train_242.jpg': 0,\n",
              " 'Train_243.jpg': 0,\n",
              " 'Train_245.jpg': 0,\n",
              " 'Train_25.jpg': 0,\n",
              " 'Train_250.jpg': 0,\n",
              " 'Train_254.jpg': 0,\n",
              " 'Train_257.jpg': 0,\n",
              " 'Train_258.jpg': 0,\n",
              " 'Train_259.jpg': 0,\n",
              " 'Train_26.jpg': 0,\n",
              " 'Train_260.jpg': 0,\n",
              " 'Train_261.jpg': 0,\n",
              " 'Train_262.jpg': 0,\n",
              " 'Train_266.jpg': 0,\n",
              " 'Train_269.jpg': 0,\n",
              " 'Train_27.jpg': 0,\n",
              " 'Train_270.jpg': 0,\n",
              " 'Train_273.jpg': 0,\n",
              " 'Train_275.jpg': 0,\n",
              " 'Train_276.jpg': 0,\n",
              " 'Train_279.jpg': 0,\n",
              " 'Train_28.jpg': 0,\n",
              " 'Train_280.jpg': 0,\n",
              " 'Train_281.jpg': 0,\n",
              " 'Train_282.jpg': 0,\n",
              " 'Train_283.jpg': 0,\n",
              " 'Train_285.jpg': 0,\n",
              " 'Train_286.jpg': 0,\n",
              " 'Train_288.jpg': 0,\n",
              " 'Train_29.jpg': 0,\n",
              " 'Train_290.jpg': 0,\n",
              " 'Train_291.jpg': 0,\n",
              " 'Train_293.jpg': 0,\n",
              " 'Train_294.jpg': 0,\n",
              " 'Train_295.jpg': 0,\n",
              " 'Train_296.jpg': 0,\n",
              " 'Train_297.jpg': 0,\n",
              " 'Train_298.jpg': 0,\n",
              " 'Train_3.jpg': 0,\n",
              " 'Train_30.jpg': 0,\n",
              " 'Train_300.jpg': 0,\n",
              " 'Train_301.jpg': 0,\n",
              " 'Train_302.jpg': 0,\n",
              " 'Train_303.jpg': 0,\n",
              " 'Train_304.jpg': 0,\n",
              " 'Train_306.jpg': 0,\n",
              " 'Train_307.jpg': 0,\n",
              " 'Train_308.jpg': 0,\n",
              " 'Train_309.jpg': 0,\n",
              " 'Train_31.jpg': 0,\n",
              " 'Train_311.jpg': 0,\n",
              " 'Train_313.jpg': 0,\n",
              " 'Train_314.jpg': 0,\n",
              " 'Train_315.jpg': 0,\n",
              " 'Train_317.jpg': 0,\n",
              " 'Train_318.jpg': 0,\n",
              " 'Train_319.jpg': 0,\n",
              " 'Train_32.jpg': 0,\n",
              " 'Train_320.jpg': 0,\n",
              " 'Train_321.jpg': 0,\n",
              " 'Train_322.jpg': 0,\n",
              " 'Train_324.jpg': 0,\n",
              " 'Train_328.jpg': 0,\n",
              " 'Train_329.jpg': 0,\n",
              " 'Train_330.jpg': 0,\n",
              " 'Train_331.jpg': 0,\n",
              " 'Train_332.jpg': 0,\n",
              " 'Train_334.jpg': 0,\n",
              " 'Train_335.jpg': 0,\n",
              " 'Train_336.jpg': 0,\n",
              " 'Train_338.jpg': 0,\n",
              " 'Train_339.jpg': 0,\n",
              " 'Train_34.jpg': 0,\n",
              " 'Train_341.jpg': 0,\n",
              " 'Train_343.jpg': 0,\n",
              " 'Train_344.jpg': 0,\n",
              " 'Train_345.jpg': 0,\n",
              " 'Train_346.jpg': 0,\n",
              " 'Train_347.jpg': 0,\n",
              " 'Train_348.jpg': 0,\n",
              " 'Train_349.jpg': 0,\n",
              " 'Train_350.jpg': 0,\n",
              " 'Train_351.jpg': 0,\n",
              " 'Train_355.jpg': 0,\n",
              " 'Train_356.jpg': 0,\n",
              " 'Train_357.jpg': 0,\n",
              " 'Train_358.jpg': 0,\n",
              " 'Train_359.jpg': 0,\n",
              " 'Train_36.jpg': 0,\n",
              " 'Train_361.jpg': 0,\n",
              " 'Train_365.jpg': 0,\n",
              " 'Train_367.jpg': 0,\n",
              " 'Train_370.jpg': 0,\n",
              " 'Train_371.jpg': 0,\n",
              " 'Train_372.jpg': 0,\n",
              " 'Train_373.jpg': 0,\n",
              " 'Train_375.jpg': 0,\n",
              " 'Train_377.jpg': 0,\n",
              " 'Train_378.jpg': 0,\n",
              " 'Train_379.jpg': 0,\n",
              " 'Train_38.jpg': 0,\n",
              " 'Train_380.jpg': 0,\n",
              " 'Train_382.jpg': 0,\n",
              " 'Train_384.jpg': 0,\n",
              " 'Train_386.jpg': 0,\n",
              " 'Train_387.jpg': 0,\n",
              " 'Train_388.jpg': 0,\n",
              " 'Train_389.jpg': 0,\n",
              " 'Train_39.jpg': 0,\n",
              " 'Train_391.jpg': 0,\n",
              " 'Train_392.jpg': 0,\n",
              " 'Train_393.jpg': 0,\n",
              " 'Train_395.jpg': 0,\n",
              " 'Train_399.jpg': 0,\n",
              " 'Train_4.jpg': 0,\n",
              " 'Train_400.jpg': 0,\n",
              " 'Train_401.jpg': 0,\n",
              " 'Train_402.jpg': 0,\n",
              " 'Train_403.jpg': 0,\n",
              " 'Train_404.jpg': 0,\n",
              " 'Train_405.jpg': 0,\n",
              " 'Train_407.jpg': 0,\n",
              " 'Train_408.jpg': 0,\n",
              " 'Train_41.jpg': 0,\n",
              " 'Train_414.jpg': 0,\n",
              " 'Train_416.jpg': 0,\n",
              " 'Train_419.jpg': 0,\n",
              " 'Train_42.jpg': 0,\n",
              " 'Train_420.jpg': 0,\n",
              " 'Train_421.jpg': 0,\n",
              " 'Train_423.jpg': 0,\n",
              " 'Train_424.jpg': 0,\n",
              " 'Train_425.jpg': 0,\n",
              " 'Train_426.jpg': 0,\n",
              " 'Train_427.jpg': 0,\n",
              " 'Train_429.jpg': 0,\n",
              " 'Train_433.jpg': 0,\n",
              " 'Train_436.jpg': 0,\n",
              " 'Train_439.jpg': 0,\n",
              " 'Train_44.jpg': 0,\n",
              " 'Train_443.jpg': 0,\n",
              " 'Train_444.jpg': 0,\n",
              " 'Train_447.jpg': 0,\n",
              " 'Train_45.jpg': 0,\n",
              " 'Train_450.jpg': 0,\n",
              " 'Train_453.jpg': 0,\n",
              " 'Train_454.jpg': 0,\n",
              " 'Train_457.jpg': 0,\n",
              " 'Train_46.jpg': 0,\n",
              " 'Train_460.jpg': 0,\n",
              " 'Train_462.jpg': 0,\n",
              " 'Train_467.jpg': 0,\n",
              " 'Train_468.jpg': 0,\n",
              " 'Train_469.jpg': 0,\n",
              " 'Train_470.jpg': 0,\n",
              " 'Train_471.jpg': 0,\n",
              " 'Train_473.jpg': 0,\n",
              " 'Train_474.jpg': 0,\n",
              " 'Train_475.jpg': 0,\n",
              " 'Train_477.jpg': 0,\n",
              " 'Train_478.jpg': 0,\n",
              " 'Train_479.jpg': 0,\n",
              " 'Train_483.jpg': 0,\n",
              " 'Train_484.jpg': 0,\n",
              " 'Train_486.jpg': 0,\n",
              " 'Train_488.jpg': 0,\n",
              " 'Train_489.jpg': 0,\n",
              " 'Train_49.jpg': 0,\n",
              " 'Train_491.jpg': 0,\n",
              " 'Train_492.jpg': 0,\n",
              " 'Train_494.jpg': 0,\n",
              " 'Train_495.jpg': 0,\n",
              " 'Train_496.jpg': 0,\n",
              " 'Train_499.jpg': 0,\n",
              " 'Train_502.jpg': 0,\n",
              " 'Train_503.jpg': 0,\n",
              " 'Train_504.jpg': 0,\n",
              " 'Train_505.jpg': 0,\n",
              " 'Train_507.jpg': 0,\n",
              " 'Train_508.jpg': 0,\n",
              " 'Train_509.jpg': 0,\n",
              " 'Train_51.jpg': 0,\n",
              " 'Train_510.jpg': 0,\n",
              " 'Train_511.jpg': 0,\n",
              " 'Train_512.jpg': 0,\n",
              " 'Train_515.jpg': 0,\n",
              " 'Train_516.jpg': 0,\n",
              " 'Train_518.jpg': 0,\n",
              " 'Train_52.jpg': 0,\n",
              " 'Train_524.jpg': 0,\n",
              " 'Train_525.jpg': 0,\n",
              " 'Train_526.jpg': 0,\n",
              " 'Train_529.jpg': 0,\n",
              " 'Train_530.jpg': 0,\n",
              " 'Train_531.jpg': 0,\n",
              " 'Train_532.jpg': 0,\n",
              " 'Train_533.jpg': 0,\n",
              " 'Train_534.jpg': 0,\n",
              " 'Train_535.jpg': 0,\n",
              " 'Train_536.jpg': 0,\n",
              " 'Train_537.jpg': 0,\n",
              " 'Train_538.jpg': 0,\n",
              " 'Train_54.jpg': 0,\n",
              " 'Train_542.jpg': 0,\n",
              " 'Train_543.jpg': 0,\n",
              " 'Train_544.jpg': 0,\n",
              " 'Train_545.jpg': 0,\n",
              " 'Train_548.jpg': 0,\n",
              " 'Train_549.jpg': 0,\n",
              " 'Train_55.jpg': 0,\n",
              " 'Train_552.jpg': 0,\n",
              " 'Train_554.jpg': 0,\n",
              " 'Train_555.jpg': 0,\n",
              " 'Train_556.jpg': 0,\n",
              " 'Train_56.jpg': 0,\n",
              " 'Train_561.jpg': 0,\n",
              " 'Train_562.jpg': 0,\n",
              " 'Train_565.jpg': 0,\n",
              " 'Train_566.jpg': 0,\n",
              " 'Train_568.jpg': 0,\n",
              " 'Train_569.jpg': 0,\n",
              " 'Train_57.jpg': 0,\n",
              " 'Train_572.jpg': 0,\n",
              " 'Train_573.jpg': 0,\n",
              " 'Train_576.jpg': 0,\n",
              " 'Train_577.jpg': 0,\n",
              " 'Train_579.jpg': 0,\n",
              " 'Train_580.jpg': 0,\n",
              " 'Train_581.jpg': 0,\n",
              " 'Train_583.jpg': 0,\n",
              " 'Train_584.jpg': 0,\n",
              " 'Train_585.jpg': 0,\n",
              " 'Train_587.jpg': 0,\n",
              " 'Train_589.jpg': 0,\n",
              " 'Train_590.jpg': 0,\n",
              " 'Train_592.jpg': 0,\n",
              " 'Train_595.jpg': 0,\n",
              " 'Train_596.jpg': 0,\n",
              " 'Train_597.jpg': 0,\n",
              " 'Train_60.jpg': 0,\n",
              " 'Train_600.jpg': 0,\n",
              " 'Train_601.jpg': 0,\n",
              " 'Train_602.jpg': 0,\n",
              " 'Train_603.jpg': 0,\n",
              " 'Train_605.jpg': 0,\n",
              " 'Train_607.jpg': 0,\n",
              " 'Train_608.jpg': 0,\n",
              " 'Train_609.jpg': 0,\n",
              " 'Train_61.jpg': 0,\n",
              " 'Train_610.jpg': 0,\n",
              " 'Train_612.jpg': 0,\n",
              " 'Train_613.jpg': 0,\n",
              " 'Train_614.jpg': 0,\n",
              " 'Train_615.jpg': 0,\n",
              " 'Train_616.jpg': 0,\n",
              " 'Train_617.jpg': 0,\n",
              " 'Train_618.jpg': 0,\n",
              " 'Train_619.jpg': 0,\n",
              " 'Train_621.jpg': 0,\n",
              " 'Train_623.jpg': 0,\n",
              " 'Train_624.jpg': 0,\n",
              " 'Train_625.jpg': 0,\n",
              " 'Train_626.jpg': 0,\n",
              " 'Train_628.jpg': 0,\n",
              " 'Train_630.jpg': 0,\n",
              " 'Train_631.jpg': 0,\n",
              " 'Train_633.jpg': 0,\n",
              " 'Train_634.jpg': 0,\n",
              " 'Train_636.jpg': 0,\n",
              " 'Train_639.jpg': 0,\n",
              " 'Train_641.jpg': 0,\n",
              " 'Train_643.jpg': 0,\n",
              " 'Train_644.jpg': 0,\n",
              " 'Train_649.jpg': 0,\n",
              " 'Train_65.jpg': 0,\n",
              " 'Train_650.jpg': 0,\n",
              " 'Train_652.jpg': 0,\n",
              " 'Train_653.jpg': 0,\n",
              " 'Train_654.jpg': 0,\n",
              " 'Train_655.jpg': 0,\n",
              " 'Train_656.jpg': 0,\n",
              " 'Train_657.jpg': 0,\n",
              " 'Train_659.jpg': 0,\n",
              " 'Train_66.jpg': 0,\n",
              " 'Train_661.jpg': 0,\n",
              " 'Train_664.jpg': 0,\n",
              " 'Train_667.jpg': 0,\n",
              " 'Train_668.jpg': 0,\n",
              " 'Train_669.jpg': 0,\n",
              " 'Train_67.jpg': 0,\n",
              " 'Train_670.jpg': 0,\n",
              " 'Train_672.jpg': 0,\n",
              " 'Train_673.jpg': 0,\n",
              " 'Train_674.jpg': 0,\n",
              " 'Train_676.jpg': 0,\n",
              " 'Train_677.jpg': 0,\n",
              " 'Train_678.jpg': 0,\n",
              " 'Train_680.jpg': 0,\n",
              " 'Train_681.jpg': 0,\n",
              " 'Train_682.jpg': 0,\n",
              " 'Train_685.jpg': 0,\n",
              " 'Train_688.jpg': 0,\n",
              " 'Train_689.jpg': 0,\n",
              " 'Train_692.jpg': 0,\n",
              " 'Train_694.jpg': 0,\n",
              " 'Train_696.jpg': 0,\n",
              " 'Train_7.jpg': 0,\n",
              " 'Train_70.jpg': 0,\n",
              " 'Train_700.jpg': 0,\n",
              " 'Train_703.jpg': 0,\n",
              " 'Train_704.jpg': 0,\n",
              " 'Train_706.jpg': 0,\n",
              " 'Train_707.jpg': 0,\n",
              " 'Train_708.jpg': 0,\n",
              " 'Train_709.jpg': 0,\n",
              " 'Train_710.jpg': 0,\n",
              " 'Train_712.jpg': 0,\n",
              " 'Train_713.jpg': 0,\n",
              " 'Train_714.jpg': 0,\n",
              " 'Train_715.jpg': 0,\n",
              " 'Train_718.jpg': 0,\n",
              " 'Train_72.jpg': 0,\n",
              " 'Train_720.jpg': 0,\n",
              " 'Train_721.jpg': 0,\n",
              " 'Train_722.jpg': 0,\n",
              " 'Train_727.jpg': 0,\n",
              " 'Train_728.jpg': 0,\n",
              " 'Train_729.jpg': 0,\n",
              " 'Train_73.jpg': 0,\n",
              " 'Train_730.jpg': 0,\n",
              " 'Train_731.jpg': 0,\n",
              " 'Train_732.jpg': 0,\n",
              " 'Train_733.jpg': 0,\n",
              " 'Train_735.jpg': 0,\n",
              " 'Train_737.jpg': 0,\n",
              " 'Train_74.jpg': 0,\n",
              " 'Train_741.jpg': 0,\n",
              " 'Train_743.jpg': 0,\n",
              " 'Train_744.jpg': 0,\n",
              " 'Train_745.jpg': 0,\n",
              " 'Train_746.jpg': 0,\n",
              " 'Train_747.jpg': 0,\n",
              " 'Train_748.jpg': 0,\n",
              " 'Train_749.jpg': 0,\n",
              " 'Train_753.jpg': 0,\n",
              " 'Train_755.jpg': 0,\n",
              " 'Train_756.jpg': 0,\n",
              " 'Train_757.jpg': 0,\n",
              " 'Train_759.jpg': 0,\n",
              " 'Train_760.jpg': 0,\n",
              " 'Train_761.jpg': 0,\n",
              " 'Train_763.jpg': 0,\n",
              " 'Train_766.jpg': 0,\n",
              " 'Train_767.jpg': 0,\n",
              " 'Train_768.jpg': 0,\n",
              " 'Train_769.jpg': 0,\n",
              " 'Train_77.jpg': 0,\n",
              " 'Train_771.jpg': 0,\n",
              " 'Train_774.jpg': 0,\n",
              " 'Train_778.jpg': 0,\n",
              " 'Train_779.jpg': 0,\n",
              " 'Train_781.jpg': 0,\n",
              " 'Train_782.jpg': 0,\n",
              " 'Train_783.jpg': 0,\n",
              " 'Train_785.jpg': 0,\n",
              " 'Train_786.jpg': 0,\n",
              " 'Train_787.jpg': 0,\n",
              " 'Train_789.jpg': 0,\n",
              " 'Train_79.jpg': 0,\n",
              " 'Train_792.jpg': 0,\n",
              " 'Train_793.jpg': 0,\n",
              " 'Train_796.jpg': 0,\n",
              " 'Train_797.jpg': 0,\n",
              " 'Train_798.jpg': 0,\n",
              " 'Train_799.jpg': 0,\n",
              " 'Train_8.jpg': 0,\n",
              " 'Train_80.jpg': 0,\n",
              " 'Train_800.jpg': 0,\n",
              " 'Train_801.jpg': 0,\n",
              " 'Train_802.jpg': 0,\n",
              " 'Train_804.jpg': 0,\n",
              " 'Train_805.jpg': 0,\n",
              " 'Train_806.jpg': 0,\n",
              " 'Train_807.jpg': 0,\n",
              " 'Train_81.jpg': 0,\n",
              " 'Train_812.jpg': 0,\n",
              " 'Train_813.jpg': 0,\n",
              " 'Train_815.jpg': 0,\n",
              " 'Train_816.jpg': 0,\n",
              " 'Train_818.jpg': 0,\n",
              " 'Train_819.jpg': 0,\n",
              " 'Train_82.jpg': 0,\n",
              " 'Train_820.jpg': 0,\n",
              " 'Train_822.jpg': 0,\n",
              " 'Train_824.jpg': 0,\n",
              " 'Train_825.jpg': 0,\n",
              " 'Train_826.jpg': 0,\n",
              " 'Train_827.jpg': 0,\n",
              " 'Train_83.jpg': 0,\n",
              " 'Train_830.jpg': 0,\n",
              " 'Train_831.jpg': 0,\n",
              " 'Train_832.jpg': 0,\n",
              " 'Train_833.jpg': 0,\n",
              " 'Train_834.jpg': 0,\n",
              " 'Train_835.jpg': 0,\n",
              " 'Train_838.jpg': 0,\n",
              " 'Train_84.jpg': 0,\n",
              " 'Train_841.jpg': 0,\n",
              " 'Train_842.jpg': 0,\n",
              " 'Train_844.jpg': 0,\n",
              " 'Train_846.jpg': 0,\n",
              " 'Train_848.jpg': 0,\n",
              " 'Train_85.jpg': 0,\n",
              " 'Train_850.jpg': 0,\n",
              " 'Train_851.jpg': 0,\n",
              " 'Train_853.jpg': 0,\n",
              " 'Train_854.jpg': 0,\n",
              " 'Train_855.jpg': 0,\n",
              " 'Train_856.jpg': 0,\n",
              " 'Train_857.jpg': 0,\n",
              " 'Train_858.jpg': 0,\n",
              " 'Train_859.jpg': 0,\n",
              " 'Train_86.jpg': 0,\n",
              " 'Train_860.jpg': 0,\n",
              " 'Train_861.jpg': 0,\n",
              " 'Train_862.jpg': 0,\n",
              " 'Train_863.jpg': 0,\n",
              " 'Train_864.jpg': 0,\n",
              " 'Train_868.jpg': 0,\n",
              " 'Train_869.jpg': 0,\n",
              " 'Train_870.jpg': 0,\n",
              " 'Train_872.jpg': 0,\n",
              " 'Train_875.jpg': 0,\n",
              " 'Train_876.jpg': 0,\n",
              " 'Train_878.jpg': 0,\n",
              " 'Train_88.jpg': 0,\n",
              " 'Train_881.jpg': 0,\n",
              " 'Train_883.jpg': 0,\n",
              " 'Train_885.jpg': 0,\n",
              " 'Train_886.jpg': 0,\n",
              " 'Train_887.jpg': 0,\n",
              " 'Train_889.jpg': 0,\n",
              " 'Train_89.jpg': 0,\n",
              " 'Train_890.jpg': 0,\n",
              " 'Train_891.jpg': 0,\n",
              " 'Train_892.jpg': 0,\n",
              " 'Train_893.jpg': 0,\n",
              " 'Train_895.jpg': 0,\n",
              " 'Train_897.jpg': 0,\n",
              " 'Train_899.jpg': 0,\n",
              " 'Train_90.jpg': 0,\n",
              " 'Train_900.jpg': 0,\n",
              " 'Train_903.jpg': 0,\n",
              " 'Train_904.jpg': 0,\n",
              " 'Train_906.jpg': 0,\n",
              " 'Train_908.jpg': 0,\n",
              " 'Train_91.jpg': 0,\n",
              " 'Train_910.jpg': 0,\n",
              " 'Train_911.jpg': 0,\n",
              " 'Train_912.jpg': 0,\n",
              " 'Train_913.jpg': 0,\n",
              " 'Train_914.jpg': 0,\n",
              " 'Train_916.jpg': 0,\n",
              " 'Train_917.jpg': 0,\n",
              " 'Train_919.jpg': 0,\n",
              " 'Train_92.jpg': 0,\n",
              " 'Train_921.jpg': 0,\n",
              " 'Train_922.jpg': 0,\n",
              " 'Train_923.jpg': 0,\n",
              " 'Train_924.jpg': 0,\n",
              " 'Train_925.jpg': 0,\n",
              " 'Train_926.jpg': 0,\n",
              " 'Train_927.jpg': 0,\n",
              " 'Train_928.jpg': 0,\n",
              " 'Train_929.jpg': 0,\n",
              " 'Train_931.jpg': 0,\n",
              " 'Train_932.jpg': 0,\n",
              " 'Train_933.jpg': 0,\n",
              " 'Train_934.jpg': 0,\n",
              " 'Train_935.jpg': 0,\n",
              " 'Train_937.jpg': 0,\n",
              " 'Train_939.jpg': 0,\n",
              " 'Train_94.jpg': 0,\n",
              " 'Train_940.jpg': 0,\n",
              " 'Train_941.jpg': 0,\n",
              " 'Train_943.jpg': 0,\n",
              " 'Train_944.jpg': 0,\n",
              " 'Train_945.jpg': 0,\n",
              " 'Train_947.jpg': 0,\n",
              " 'Train_949.jpg': 0,\n",
              " 'Train_95.jpg': 0,\n",
              " 'Train_951.jpg': 0,\n",
              " 'Train_952.jpg': 0,\n",
              " 'Train_953.jpg': 0,\n",
              " 'Train_956.jpg': 0,\n",
              " 'Train_958.jpg': 0,\n",
              " 'Train_959.jpg': 0,\n",
              " 'Train_96.jpg': 0,\n",
              " 'Train_964.jpg': 0,\n",
              " 'Train_966.jpg': 0,\n",
              " 'Train_967.jpg': 0,\n",
              " 'Train_969.jpg': 0,\n",
              " 'Train_97.jpg': 0,\n",
              " 'Train_970.jpg': 0,\n",
              " 'Train_971.jpg': 0,\n",
              " 'Train_972.jpg': 0,\n",
              " 'Train_973.jpg': 0,\n",
              " 'Train_974.jpg': 0,\n",
              " 'Train_975.jpg': 0,\n",
              " 'Train_977.jpg': 0,\n",
              " 'Train_979.jpg': 0,\n",
              " 'Train_980.jpg': 0,\n",
              " 'Train_982.jpg': 0,\n",
              " 'Train_983.jpg': 0,\n",
              " 'Train_984.jpg': 0,\n",
              " 'Train_986.jpg': 0,\n",
              " 'Train_988.jpg': 0,\n",
              " 'Train_989.jpg': 0,\n",
              " 'Train_99.jpg': 0,\n",
              " 'Train_991.jpg': 0,\n",
              " 'Train_992.jpg': 0,\n",
              " 'Train_993.jpg': 0,\n",
              " 'Train_995.jpg': 0,\n",
              " 'Train_996.jpg': 0,\n",
              " 'Train_997.jpg': 0,\n",
              " 'Train_998.jpg': 0,\n",
              " 'Train_999.jpg': 0}"
            ]
          },
          "metadata": {
            "tags": []
          },
          "execution_count": 18
        }
      ]
    }
  ]
}