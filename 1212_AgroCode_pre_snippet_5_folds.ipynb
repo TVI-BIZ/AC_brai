{
  "nbformat": 4,
  "nbformat_minor": 0,
  "metadata": {
    "colab": {
      "name": "1212_AgroCode_pre_snippet_5_folds.ipynb",
      "provenance": [],
      "collapsed_sections": [
        "_rJpamtpt0Kn",
        "hrpCWm5ayj5n",
        "PKZuLqtJ3t7Z",
        "5SW-oeKGPqnb"
      ],
      "toc_visible": true,
      "include_colab_link": true
    },
    "kernelspec": {
      "display_name": "Python 3",
      "language": "python",
      "name": "python3"
    },
    "language_info": {
      "codemirror_mode": {
        "name": "ipython",
        "version": 3
      },
      "file_extension": ".py",
      "mimetype": "text/x-python",
      "name": "python",
      "nbconvert_exporter": "python",
      "pygments_lexer": "ipython3",
      "version": "3.7.7"
    },
    "widgets": {
      "application/vnd.jupyter.widget-state+json": {
        "5d2460182df24c2b9deae025e79661f2": {
          "model_module": "@jupyter-widgets/controls",
          "model_name": "HBoxModel",
          "state": {
            "_view_name": "HBoxView",
            "_dom_classes": [],
            "_model_name": "HBoxModel",
            "_view_module": "@jupyter-widgets/controls",
            "_model_module_version": "1.5.0",
            "_view_count": null,
            "_view_module_version": "1.5.0",
            "box_style": "",
            "layout": "IPY_MODEL_8e29dbb727a14a2e8a9e1b689e5212c0",
            "_model_module": "@jupyter-widgets/controls",
            "children": [
              "IPY_MODEL_32b3f9e70d814cc29dd4ba249ba478b0",
              "IPY_MODEL_142f00c9e97f48a5963bf41fea5faa1f"
            ]
          }
        },
        "8e29dbb727a14a2e8a9e1b689e5212c0": {
          "model_module": "@jupyter-widgets/base",
          "model_name": "LayoutModel",
          "state": {
            "_view_name": "LayoutView",
            "grid_template_rows": null,
            "right": null,
            "justify_content": null,
            "_view_module": "@jupyter-widgets/base",
            "overflow": null,
            "_model_module_version": "1.2.0",
            "_view_count": null,
            "flex_flow": null,
            "width": null,
            "min_width": null,
            "border": null,
            "align_items": null,
            "bottom": null,
            "_model_module": "@jupyter-widgets/base",
            "top": null,
            "grid_column": null,
            "overflow_y": null,
            "overflow_x": null,
            "grid_auto_flow": null,
            "grid_area": null,
            "grid_template_columns": null,
            "flex": null,
            "_model_name": "LayoutModel",
            "justify_items": null,
            "grid_row": null,
            "max_height": null,
            "align_content": null,
            "visibility": null,
            "align_self": null,
            "height": null,
            "min_height": null,
            "padding": null,
            "grid_auto_rows": null,
            "grid_gap": null,
            "max_width": null,
            "order": null,
            "_view_module_version": "1.2.0",
            "grid_template_areas": null,
            "object_position": null,
            "object_fit": null,
            "grid_auto_columns": null,
            "margin": null,
            "display": null,
            "left": null
          }
        },
        "32b3f9e70d814cc29dd4ba249ba478b0": {
          "model_module": "@jupyter-widgets/controls",
          "model_name": "FloatProgressModel",
          "state": {
            "_view_name": "ProgressView",
            "style": "IPY_MODEL_4151bbb316f04010b065b7fef39b6bb4",
            "_dom_classes": [],
            "description": "100%",
            "_model_name": "FloatProgressModel",
            "bar_style": "success",
            "max": 20,
            "_view_module": "@jupyter-widgets/controls",
            "_model_module_version": "1.5.0",
            "value": 20,
            "_view_count": null,
            "_view_module_version": "1.5.0",
            "orientation": "horizontal",
            "min": 0,
            "description_tooltip": null,
            "_model_module": "@jupyter-widgets/controls",
            "layout": "IPY_MODEL_f316509fd1a540b9a456496817b448a6"
          }
        },
        "142f00c9e97f48a5963bf41fea5faa1f": {
          "model_module": "@jupyter-widgets/controls",
          "model_name": "HTMLModel",
          "state": {
            "_view_name": "HTMLView",
            "style": "IPY_MODEL_d30dd8f26aa04c68abf4c95e885c09ef",
            "_dom_classes": [],
            "description": "",
            "_model_name": "HTMLModel",
            "placeholder": "​",
            "_view_module": "@jupyter-widgets/controls",
            "_model_module_version": "1.5.0",
            "value": " 20/20 [39:01&lt;00:00, 117.06s/it]",
            "_view_count": null,
            "_view_module_version": "1.5.0",
            "description_tooltip": null,
            "_model_module": "@jupyter-widgets/controls",
            "layout": "IPY_MODEL_e7babb510d6d4f3e9768a6bb6fb3094a"
          }
        },
        "4151bbb316f04010b065b7fef39b6bb4": {
          "model_module": "@jupyter-widgets/controls",
          "model_name": "ProgressStyleModel",
          "state": {
            "_view_name": "StyleView",
            "_model_name": "ProgressStyleModel",
            "description_width": "initial",
            "_view_module": "@jupyter-widgets/base",
            "_model_module_version": "1.5.0",
            "_view_count": null,
            "_view_module_version": "1.2.0",
            "bar_color": null,
            "_model_module": "@jupyter-widgets/controls"
          }
        },
        "f316509fd1a540b9a456496817b448a6": {
          "model_module": "@jupyter-widgets/base",
          "model_name": "LayoutModel",
          "state": {
            "_view_name": "LayoutView",
            "grid_template_rows": null,
            "right": null,
            "justify_content": null,
            "_view_module": "@jupyter-widgets/base",
            "overflow": null,
            "_model_module_version": "1.2.0",
            "_view_count": null,
            "flex_flow": null,
            "width": null,
            "min_width": null,
            "border": null,
            "align_items": null,
            "bottom": null,
            "_model_module": "@jupyter-widgets/base",
            "top": null,
            "grid_column": null,
            "overflow_y": null,
            "overflow_x": null,
            "grid_auto_flow": null,
            "grid_area": null,
            "grid_template_columns": null,
            "flex": null,
            "_model_name": "LayoutModel",
            "justify_items": null,
            "grid_row": null,
            "max_height": null,
            "align_content": null,
            "visibility": null,
            "align_self": null,
            "height": null,
            "min_height": null,
            "padding": null,
            "grid_auto_rows": null,
            "grid_gap": null,
            "max_width": null,
            "order": null,
            "_view_module_version": "1.2.0",
            "grid_template_areas": null,
            "object_position": null,
            "object_fit": null,
            "grid_auto_columns": null,
            "margin": null,
            "display": null,
            "left": null
          }
        },
        "d30dd8f26aa04c68abf4c95e885c09ef": {
          "model_module": "@jupyter-widgets/controls",
          "model_name": "DescriptionStyleModel",
          "state": {
            "_view_name": "StyleView",
            "_model_name": "DescriptionStyleModel",
            "description_width": "",
            "_view_module": "@jupyter-widgets/base",
            "_model_module_version": "1.5.0",
            "_view_count": null,
            "_view_module_version": "1.2.0",
            "_model_module": "@jupyter-widgets/controls"
          }
        },
        "e7babb510d6d4f3e9768a6bb6fb3094a": {
          "model_module": "@jupyter-widgets/base",
          "model_name": "LayoutModel",
          "state": {
            "_view_name": "LayoutView",
            "grid_template_rows": null,
            "right": null,
            "justify_content": null,
            "_view_module": "@jupyter-widgets/base",
            "overflow": null,
            "_model_module_version": "1.2.0",
            "_view_count": null,
            "flex_flow": null,
            "width": null,
            "min_width": null,
            "border": null,
            "align_items": null,
            "bottom": null,
            "_model_module": "@jupyter-widgets/base",
            "top": null,
            "grid_column": null,
            "overflow_y": null,
            "overflow_x": null,
            "grid_auto_flow": null,
            "grid_area": null,
            "grid_template_columns": null,
            "flex": null,
            "_model_name": "LayoutModel",
            "justify_items": null,
            "grid_row": null,
            "max_height": null,
            "align_content": null,
            "visibility": null,
            "align_self": null,
            "height": null,
            "min_height": null,
            "padding": null,
            "grid_auto_rows": null,
            "grid_gap": null,
            "max_width": null,
            "order": null,
            "_view_module_version": "1.2.0",
            "grid_template_areas": null,
            "object_position": null,
            "object_fit": null,
            "grid_auto_columns": null,
            "margin": null,
            "display": null,
            "left": null
          }
        },
        "9efc3ec63c3c4006b119ceb372e2666c": {
          "model_module": "@jupyter-widgets/controls",
          "model_name": "HBoxModel",
          "state": {
            "_view_name": "HBoxView",
            "_dom_classes": [],
            "_model_name": "HBoxModel",
            "_view_module": "@jupyter-widgets/controls",
            "_model_module_version": "1.5.0",
            "_view_count": null,
            "_view_module_version": "1.5.0",
            "box_style": "",
            "layout": "IPY_MODEL_703110fd88ed4f91addea642c708799b",
            "_model_module": "@jupyter-widgets/controls",
            "children": [
              "IPY_MODEL_d324324793e64c0ca8c777426a73ca17",
              "IPY_MODEL_7b121aaf0b6f446e804eb7956158e7cf"
            ]
          }
        },
        "703110fd88ed4f91addea642c708799b": {
          "model_module": "@jupyter-widgets/base",
          "model_name": "LayoutModel",
          "state": {
            "_view_name": "LayoutView",
            "grid_template_rows": null,
            "right": null,
            "justify_content": null,
            "_view_module": "@jupyter-widgets/base",
            "overflow": null,
            "_model_module_version": "1.2.0",
            "_view_count": null,
            "flex_flow": null,
            "width": null,
            "min_width": null,
            "border": null,
            "align_items": null,
            "bottom": null,
            "_model_module": "@jupyter-widgets/base",
            "top": null,
            "grid_column": null,
            "overflow_y": null,
            "overflow_x": null,
            "grid_auto_flow": null,
            "grid_area": null,
            "grid_template_columns": null,
            "flex": null,
            "_model_name": "LayoutModel",
            "justify_items": null,
            "grid_row": null,
            "max_height": null,
            "align_content": null,
            "visibility": null,
            "align_self": null,
            "height": null,
            "min_height": null,
            "padding": null,
            "grid_auto_rows": null,
            "grid_gap": null,
            "max_width": null,
            "order": null,
            "_view_module_version": "1.2.0",
            "grid_template_areas": null,
            "object_position": null,
            "object_fit": null,
            "grid_auto_columns": null,
            "margin": null,
            "display": null,
            "left": null
          }
        },
        "d324324793e64c0ca8c777426a73ca17": {
          "model_module": "@jupyter-widgets/controls",
          "model_name": "FloatProgressModel",
          "state": {
            "_view_name": "ProgressView",
            "style": "IPY_MODEL_05334d9a7c9f42b5a0a973cd36fee03e",
            "_dom_classes": [],
            "description": "100%",
            "_model_name": "FloatProgressModel",
            "bar_style": "success",
            "max": 87306240,
            "_view_module": "@jupyter-widgets/controls",
            "_model_module_version": "1.5.0",
            "value": 87306240,
            "_view_count": null,
            "_view_module_version": "1.5.0",
            "orientation": "horizontal",
            "min": 0,
            "description_tooltip": null,
            "_model_module": "@jupyter-widgets/controls",
            "layout": "IPY_MODEL_5614cb3d1b4a4419ba9fb03a1fd4a777"
          }
        },
        "7b121aaf0b6f446e804eb7956158e7cf": {
          "model_module": "@jupyter-widgets/controls",
          "model_name": "HTMLModel",
          "state": {
            "_view_name": "HTMLView",
            "style": "IPY_MODEL_7741f5016fc64a579888ec14279ae067",
            "_dom_classes": [],
            "description": "",
            "_model_name": "HTMLModel",
            "placeholder": "​",
            "_view_module": "@jupyter-widgets/controls",
            "_model_module_version": "1.5.0",
            "value": " 83.3M/83.3M [00:37&lt;00:00, 2.33MB/s]",
            "_view_count": null,
            "_view_module_version": "1.5.0",
            "description_tooltip": null,
            "_model_module": "@jupyter-widgets/controls",
            "layout": "IPY_MODEL_da71e29fbce642c6b28103fe20d48f6c"
          }
        },
        "05334d9a7c9f42b5a0a973cd36fee03e": {
          "model_module": "@jupyter-widgets/controls",
          "model_name": "ProgressStyleModel",
          "state": {
            "_view_name": "StyleView",
            "_model_name": "ProgressStyleModel",
            "description_width": "initial",
            "_view_module": "@jupyter-widgets/base",
            "_model_module_version": "1.5.0",
            "_view_count": null,
            "_view_module_version": "1.2.0",
            "bar_color": null,
            "_model_module": "@jupyter-widgets/controls"
          }
        },
        "5614cb3d1b4a4419ba9fb03a1fd4a777": {
          "model_module": "@jupyter-widgets/base",
          "model_name": "LayoutModel",
          "state": {
            "_view_name": "LayoutView",
            "grid_template_rows": null,
            "right": null,
            "justify_content": null,
            "_view_module": "@jupyter-widgets/base",
            "overflow": null,
            "_model_module_version": "1.2.0",
            "_view_count": null,
            "flex_flow": null,
            "width": null,
            "min_width": null,
            "border": null,
            "align_items": null,
            "bottom": null,
            "_model_module": "@jupyter-widgets/base",
            "top": null,
            "grid_column": null,
            "overflow_y": null,
            "overflow_x": null,
            "grid_auto_flow": null,
            "grid_area": null,
            "grid_template_columns": null,
            "flex": null,
            "_model_name": "LayoutModel",
            "justify_items": null,
            "grid_row": null,
            "max_height": null,
            "align_content": null,
            "visibility": null,
            "align_self": null,
            "height": null,
            "min_height": null,
            "padding": null,
            "grid_auto_rows": null,
            "grid_gap": null,
            "max_width": null,
            "order": null,
            "_view_module_version": "1.2.0",
            "grid_template_areas": null,
            "object_position": null,
            "object_fit": null,
            "grid_auto_columns": null,
            "margin": null,
            "display": null,
            "left": null
          }
        },
        "7741f5016fc64a579888ec14279ae067": {
          "model_module": "@jupyter-widgets/controls",
          "model_name": "DescriptionStyleModel",
          "state": {
            "_view_name": "StyleView",
            "_model_name": "DescriptionStyleModel",
            "description_width": "",
            "_view_module": "@jupyter-widgets/base",
            "_model_module_version": "1.5.0",
            "_view_count": null,
            "_view_module_version": "1.2.0",
            "_model_module": "@jupyter-widgets/controls"
          }
        },
        "da71e29fbce642c6b28103fe20d48f6c": {
          "model_module": "@jupyter-widgets/base",
          "model_name": "LayoutModel",
          "state": {
            "_view_name": "LayoutView",
            "grid_template_rows": null,
            "right": null,
            "justify_content": null,
            "_view_module": "@jupyter-widgets/base",
            "overflow": null,
            "_model_module_version": "1.2.0",
            "_view_count": null,
            "flex_flow": null,
            "width": null,
            "min_width": null,
            "border": null,
            "align_items": null,
            "bottom": null,
            "_model_module": "@jupyter-widgets/base",
            "top": null,
            "grid_column": null,
            "overflow_y": null,
            "overflow_x": null,
            "grid_auto_flow": null,
            "grid_area": null,
            "grid_template_columns": null,
            "flex": null,
            "_model_name": "LayoutModel",
            "justify_items": null,
            "grid_row": null,
            "max_height": null,
            "align_content": null,
            "visibility": null,
            "align_self": null,
            "height": null,
            "min_height": null,
            "padding": null,
            "grid_auto_rows": null,
            "grid_gap": null,
            "max_width": null,
            "order": null,
            "_view_module_version": "1.2.0",
            "grid_template_areas": null,
            "object_position": null,
            "object_fit": null,
            "grid_auto_columns": null,
            "margin": null,
            "display": null,
            "left": null
          }
        },
        "bf7379154f7a433c9b74b9714f67a6bc": {
          "model_module": "@jupyter-widgets/controls",
          "model_name": "HBoxModel",
          "state": {
            "_view_name": "HBoxView",
            "_dom_classes": [],
            "_model_name": "HBoxModel",
            "_view_module": "@jupyter-widgets/controls",
            "_model_module_version": "1.5.0",
            "_view_count": null,
            "_view_module_version": "1.5.0",
            "box_style": "",
            "layout": "IPY_MODEL_0fec170184c749eaa47961ed4dc9c1b8",
            "_model_module": "@jupyter-widgets/controls",
            "children": [
              "IPY_MODEL_2f034d2a37ea42c3b2a0051b74f03ea6",
              "IPY_MODEL_10819479954c45a29b5f1c3af48bcfb2"
            ]
          }
        },
        "0fec170184c749eaa47961ed4dc9c1b8": {
          "model_module": "@jupyter-widgets/base",
          "model_name": "LayoutModel",
          "state": {
            "_view_name": "LayoutView",
            "grid_template_rows": null,
            "right": null,
            "justify_content": null,
            "_view_module": "@jupyter-widgets/base",
            "overflow": null,
            "_model_module_version": "1.2.0",
            "_view_count": null,
            "flex_flow": null,
            "width": null,
            "min_width": null,
            "border": null,
            "align_items": null,
            "bottom": null,
            "_model_module": "@jupyter-widgets/base",
            "top": null,
            "grid_column": null,
            "overflow_y": null,
            "overflow_x": null,
            "grid_auto_flow": null,
            "grid_area": null,
            "grid_template_columns": null,
            "flex": null,
            "_model_name": "LayoutModel",
            "justify_items": null,
            "grid_row": null,
            "max_height": null,
            "align_content": null,
            "visibility": null,
            "align_self": null,
            "height": null,
            "min_height": null,
            "padding": null,
            "grid_auto_rows": null,
            "grid_gap": null,
            "max_width": null,
            "order": null,
            "_view_module_version": "1.2.0",
            "grid_template_areas": null,
            "object_position": null,
            "object_fit": null,
            "grid_auto_columns": null,
            "margin": null,
            "display": null,
            "left": null
          }
        },
        "2f034d2a37ea42c3b2a0051b74f03ea6": {
          "model_module": "@jupyter-widgets/controls",
          "model_name": "FloatProgressModel",
          "state": {
            "_view_name": "ProgressView",
            "style": "IPY_MODEL_550603ee6de54527b8d15a1a35fd66fa",
            "_dom_classes": [],
            "description": "100%",
            "_model_name": "FloatProgressModel",
            "bar_style": "success",
            "max": 20,
            "_view_module": "@jupyter-widgets/controls",
            "_model_module_version": "1.5.0",
            "value": 20,
            "_view_count": null,
            "_view_module_version": "1.5.0",
            "orientation": "horizontal",
            "min": 0,
            "description_tooltip": null,
            "_model_module": "@jupyter-widgets/controls",
            "layout": "IPY_MODEL_3714e3644c7c498cbd0356b87803f26a"
          }
        },
        "10819479954c45a29b5f1c3af48bcfb2": {
          "model_module": "@jupyter-widgets/controls",
          "model_name": "HTMLModel",
          "state": {
            "_view_name": "HTMLView",
            "style": "IPY_MODEL_131374c7bde347bea9a33dfe8ebc6030",
            "_dom_classes": [],
            "description": "",
            "_model_name": "HTMLModel",
            "placeholder": "​",
            "_view_module": "@jupyter-widgets/controls",
            "_model_module_version": "1.5.0",
            "value": " 20/20 [23:44&lt;00:00, 71.23s/it]",
            "_view_count": null,
            "_view_module_version": "1.5.0",
            "description_tooltip": null,
            "_model_module": "@jupyter-widgets/controls",
            "layout": "IPY_MODEL_5c305a16370c4cbd80588bd4d25c2677"
          }
        },
        "550603ee6de54527b8d15a1a35fd66fa": {
          "model_module": "@jupyter-widgets/controls",
          "model_name": "ProgressStyleModel",
          "state": {
            "_view_name": "StyleView",
            "_model_name": "ProgressStyleModel",
            "description_width": "initial",
            "_view_module": "@jupyter-widgets/base",
            "_model_module_version": "1.5.0",
            "_view_count": null,
            "_view_module_version": "1.2.0",
            "bar_color": null,
            "_model_module": "@jupyter-widgets/controls"
          }
        },
        "3714e3644c7c498cbd0356b87803f26a": {
          "model_module": "@jupyter-widgets/base",
          "model_name": "LayoutModel",
          "state": {
            "_view_name": "LayoutView",
            "grid_template_rows": null,
            "right": null,
            "justify_content": null,
            "_view_module": "@jupyter-widgets/base",
            "overflow": null,
            "_model_module_version": "1.2.0",
            "_view_count": null,
            "flex_flow": null,
            "width": null,
            "min_width": null,
            "border": null,
            "align_items": null,
            "bottom": null,
            "_model_module": "@jupyter-widgets/base",
            "top": null,
            "grid_column": null,
            "overflow_y": null,
            "overflow_x": null,
            "grid_auto_flow": null,
            "grid_area": null,
            "grid_template_columns": null,
            "flex": null,
            "_model_name": "LayoutModel",
            "justify_items": null,
            "grid_row": null,
            "max_height": null,
            "align_content": null,
            "visibility": null,
            "align_self": null,
            "height": null,
            "min_height": null,
            "padding": null,
            "grid_auto_rows": null,
            "grid_gap": null,
            "max_width": null,
            "order": null,
            "_view_module_version": "1.2.0",
            "grid_template_areas": null,
            "object_position": null,
            "object_fit": null,
            "grid_auto_columns": null,
            "margin": null,
            "display": null,
            "left": null
          }
        },
        "131374c7bde347bea9a33dfe8ebc6030": {
          "model_module": "@jupyter-widgets/controls",
          "model_name": "DescriptionStyleModel",
          "state": {
            "_view_name": "StyleView",
            "_model_name": "DescriptionStyleModel",
            "description_width": "",
            "_view_module": "@jupyter-widgets/base",
            "_model_module_version": "1.5.0",
            "_view_count": null,
            "_view_module_version": "1.2.0",
            "_model_module": "@jupyter-widgets/controls"
          }
        },
        "5c305a16370c4cbd80588bd4d25c2677": {
          "model_module": "@jupyter-widgets/base",
          "model_name": "LayoutModel",
          "state": {
            "_view_name": "LayoutView",
            "grid_template_rows": null,
            "right": null,
            "justify_content": null,
            "_view_module": "@jupyter-widgets/base",
            "overflow": null,
            "_model_module_version": "1.2.0",
            "_view_count": null,
            "flex_flow": null,
            "width": null,
            "min_width": null,
            "border": null,
            "align_items": null,
            "bottom": null,
            "_model_module": "@jupyter-widgets/base",
            "top": null,
            "grid_column": null,
            "overflow_y": null,
            "overflow_x": null,
            "grid_auto_flow": null,
            "grid_area": null,
            "grid_template_columns": null,
            "flex": null,
            "_model_name": "LayoutModel",
            "justify_items": null,
            "grid_row": null,
            "max_height": null,
            "align_content": null,
            "visibility": null,
            "align_self": null,
            "height": null,
            "min_height": null,
            "padding": null,
            "grid_auto_rows": null,
            "grid_gap": null,
            "max_width": null,
            "order": null,
            "_view_module_version": "1.2.0",
            "grid_template_areas": null,
            "object_position": null,
            "object_fit": null,
            "grid_auto_columns": null,
            "margin": null,
            "display": null,
            "left": null
          }
        }
      }
    },
    "accelerator": "GPU"
  },
  "cells": [
    {
      "cell_type": "markdown",
      "metadata": {
        "id": "view-in-github",
        "colab_type": "text"
      },
      "source": [
        "<a href=\"https://colab.research.google.com/github/TVI-BIZ/AC_brai/blob/main/1212_AgroCode_pre_snippet_5_folds.ipynb\" target=\"_parent\"><img src=\"https://colab.research.google.com/assets/colab-badge.svg\" alt=\"Open In Colab\"/></a>"
      ]
    },
    {
      "cell_type": "markdown",
      "metadata": {
        "id": "7TEh0U5WjsEb"
      },
      "source": [
        "Хакатон Agro-Code (предвартельная подготовка)\r\n",
        "\r\n",
        "**Данные:**\r\n",
        "\r\n",
        "Командам будет предоставлен размеченный датасет из нескольких сотен фотографий листьев яблони.\r\n",
        "\r\n",
        "**Задача:**\r\n",
        "\r\n",
        "Обучение глубокой нейросети для обнаружения заболевания листа яблони по фотографии.\r\n",
        "\r\n",
        "Сделаем прототип по https://towardsdatascience.com/build-a-web-application-for-predicting-apple-leaf-diseases-using-pytorch-and-flask-413f9fa9276a"
      ]
    },
    {
      "cell_type": "code",
      "metadata": {
        "id": "XstQYk2R1YLF"
      },
      "source": [
        "import torch\n",
        "import pickle\n",
        "import numpy as np\n",
        "from skimage import io\n",
        "import copy\n",
        "from sklearn.metrics import f1_score\n",
        "from sklearn.model_selection import train_test_split\n",
        " \n",
        "from tqdm import tqdm, tqdm_notebook\n",
        "from PIL import Image\n",
        "from pathlib import Path\n",
        " \n",
        "from torchvision import transforms, models\n",
        "from multiprocessing.pool import ThreadPool\n",
        "from sklearn.preprocessing import LabelEncoder\n",
        "from torch.utils.data import Dataset, DataLoader\n",
        "import torch.nn as nn\n",
        "from torch.optim import lr_scheduler\n",
        " \n",
        "from matplotlib import colors, pyplot as plt\n",
        "%matplotlib inline\n",
        " \n",
        "# в sklearn не все гладко, чтобы в colab удобно выводить картинки \n",
        "# мы будем игнорировать warnings\n",
        "import warnings\n",
        "warnings.filterwarnings(action='ignore', category=DeprecationWarning)"
      ],
      "execution_count": null,
      "outputs": []
    },
    {
      "cell_type": "code",
      "metadata": {
        "id": "JJ8N9syI0Aq4"
      },
      "source": [
        "# В замечательной статье PyTorch 101, Part 4: Memory Management and Using Multiple GPUs\n",
        "# https://blog.paperspace.com/pytorch-memory-multi-gpu-debugging/\n",
        "# описано что это позволяет оптимизировать использование памяти \n",
        "# и ускорить расчеты при использовании GPU Nvidia\n",
        "torch.backends.cudnn.benchmark = True\n",
        "torch.backends.cudnn.enabled = True"
      ],
      "execution_count": null,
      "outputs": []
    },
    {
      "cell_type": "code",
      "metadata": {
        "id": "TF86noaVs-Wk"
      },
      "source": [
        "#для воспроизводимости итогового Score попробуем зафиксировать ВСЕ случайные параметры\r\n",
        "#еще я сохраняю веса обученных моделей, чтобы их можно было загрузить и проверить.\r\n",
        "np.random.seed(77)\r\n",
        "torch.manual_seed(77)\r\n",
        "torch.cuda.manual_seed(0)\r\n",
        "torch.backends.cudnn.deterministic = True"
      ],
      "execution_count": null,
      "outputs": []
    },
    {
      "cell_type": "code",
      "metadata": {
        "colab": {
          "base_uri": "https://localhost:8080/"
        },
        "id": "0Zc6VMKeidub",
        "outputId": "8df5d8f4-edd0-4d72-d38a-91c21e27814e"
      },
      "source": [
        "# посмотрим какую GPU нам дали\r\n",
        "!nvidia-smi"
      ],
      "execution_count": null,
      "outputs": [
        {
          "output_type": "stream",
          "text": [
            "Sun Dec 13 09:58:21 2020       \n",
            "+-----------------------------------------------------------------------------+\n",
            "| NVIDIA-SMI 455.45.01    Driver Version: 418.67       CUDA Version: 10.1     |\n",
            "|-------------------------------+----------------------+----------------------+\n",
            "| GPU  Name        Persistence-M| Bus-Id        Disp.A | Volatile Uncorr. ECC |\n",
            "| Fan  Temp  Perf  Pwr:Usage/Cap|         Memory-Usage | GPU-Util  Compute M. |\n",
            "|                               |                      |               MIG M. |\n",
            "|===============================+======================+======================|\n",
            "|   0  Tesla P100-PCIE...  Off  | 00000000:00:04.0 Off |                    0 |\n",
            "| N/A   36C    P0    27W / 250W |      0MiB / 16280MiB |      0%      Default |\n",
            "|                               |                      |                 ERR! |\n",
            "+-------------------------------+----------------------+----------------------+\n",
            "                                                                               \n",
            "+-----------------------------------------------------------------------------+\n",
            "| Processes:                                                                  |\n",
            "|  GPU   GI   CI        PID   Type   Process name                  GPU Memory |\n",
            "|        ID   ID                                                   Usage      |\n",
            "|=============================================================================|\n",
            "|  No running processes found                                                 |\n",
            "+-----------------------------------------------------------------------------+\n"
          ],
          "name": "stdout"
        }
      ]
    },
    {
      "cell_type": "markdown",
      "metadata": {
        "id": "_rJpamtpt0Kn"
      },
      "source": [
        "## Обощая все ноутбуки и документацию PyTorch, были собраны и модифицированы эти полезные функции:"
      ]
    },
    {
      "cell_type": "markdown",
      "metadata": {
        "id": "DGe5nR1SkNzg"
      },
      "source": [
        "### Полезные функции для сериализации и десериализации словарей (Losses и Accurancy)"
      ]
    },
    {
      "cell_type": "code",
      "metadata": {
        "id": "G_GzvK09kI3I"
      },
      "source": [
        "import pickle\n",
        "\n",
        "def save_dict_to_file(my_dict, file_path):\n",
        "    \"\"\"Функция сохранения словаря my_dict в файл file_path с помощью модуля \n",
        "    pickle. (Сериализация).\n",
        "    \n",
        "    Parameters:\n",
        "\n",
        "    my_dict : dict, словарь, который мы хоти сохранить.\n",
        "    file_path : str, путь куда мы хотим сохранить включащий имя файла.\n",
        "    \"\"\"\n",
        "    with open(file_path, 'wb') as handle:\n",
        "        pickle.dump(my_dict, handle, protocol=pickle.HIGHEST_PROTOCOL)\n",
        "\n",
        "def load_dict_from_file(file_path):\n",
        "    \"\"\"Функция загрузки словаря из файла расположенного по пути file_path с \n",
        "    помощью модуля pickle. (Десериализация).\n",
        "    \n",
        "    Parameters:\n",
        "\n",
        "    file_path : str, путь по которому мы хотим загрузить, сохраненый ранее \n",
        "        словарь.\n",
        "    \"\"\"\n",
        "    with open(file_path, 'rb') as handle:\n",
        "        unserialized_data = pickle.load(handle)\n",
        "        \n",
        "    return unserialized_data\n",
        "\n",
        "def save_model(path, model, losses, acc, best_model_wts):\n",
        "    \"\"\"Функция для сохранения состояние нашей нейросети model \n",
        "    (ее весов state_dict()), а так же словарей с losses и accurancy за весь \n",
        "    процесс обучения.\n",
        "\n",
        "    Parameters:\n",
        "\n",
        "    path : str, путь по которому мы хотим сохранить веса нейросети model, \n",
        "        а так же словари losses и acc.\n",
        "        словарь.\n",
        "    model : обученая нейросеть, содержит веса своего текущесго состояния \n",
        "        после обучения.\n",
        "    losses : dict, ключи 'train' и 'val' содежат list, в котором сохранены\n",
        "        значения loss функции на каждой эпохе обучения.\n",
        "    acc : dict, ключи 'train' и 'val' содежат list, в котором сохранены\n",
        "        значения accurancy на каждой эпохе обучения.\n",
        "    best_model_wts : model.state_dict() содержит веса обучаемой нейросети\n",
        "        model, при которых была получена лучшая точность на валидационной \n",
        "        выборке.\n",
        "    \"\"\"\n",
        "\n",
        "    torch.save(model.state_dict(), path + '.pth')\n",
        "    torch.save(best_model_wts, path + '_best_w.pth')\n",
        "    save_dict_to_file(losses, path + '_losses.pickle')\n",
        "    save_dict_to_file(acc, path + '_acc.pickle') "
      ],
      "execution_count": null,
      "outputs": []
    },
    {
      "cell_type": "markdown",
      "metadata": {
        "id": "redE6ovevfka"
      },
      "source": [
        "### Полезные функции для обучения нейросети"
      ]
    },
    {
      "cell_type": "code",
      "metadata": {
        "id": "9lqPGdfCskpZ"
      },
      "source": [
        "from tqdm import tqdm_notebook\n",
        "import time\n",
        "import logging\n",
        "\n",
        "def train_model(model, dataloaders, criterion, optimizer, num_epochs=25,\n",
        "                scheduler=None, use_gpu=True, best_acc=None, best_loss=None,\n",
        "                flag_save_wts_to_file = False, path = None, losses=None, \n",
        "                acc=None):\n",
        "    \n",
        "    \"\"\"Модифицированная мной функция тренеровки модели из \n",
        "    https://pytorch.org/tutorials/beginner/finetuning_torchvision_models_tutorial.html\n",
        "    https://pytorch.org/tutorials/beginner/transfer_learning_tutorial\n",
        "\n",
        "    Тестировалась в новой версии PyTorch 1.5\n",
        "    Ключевые особенности:\n",
        "    1. Сохраняет веса модели, если была достигнута лучшая точность на этапах \n",
        "    валидации, чем ранее на каждой эпохе в переменную best_model_wts. \n",
        "    (Далее эти веса при необходимости могут быть заружены в модель)\n",
        "    2. Можно задать порог точности для сохранения best_model_wts, например,\n",
        "    мы уже обучили модель на 0.9700 точности. Сохранили ее веса и продолжаем \n",
        "    обучение, зададим порог по точности не ниже полученной ранее. Тогда в \n",
        "    best_model_wts будут записаны веса модели лишь в том случае, если модель\n",
        "    улучшила свою точность в процессе нового обучения.\n",
        "    3. Имеет поддержку планировщика learning rate (scheduler), работающего один \n",
        "    раз за эпоху обучения.\n",
        "    4. При обучении веса модели с последней эпохи обучения и при которой была \n",
        "    достигнута лучшая точность а так же losses и accurancy могут сохраняться\n",
        "    на каждой эпохе обучения по указанному пути path(Я сохранял на Google Диск).\n",
        "    Это удобно если вдруг обучение модели прервалось, у нас будут последние веса\n",
        "    и обучение может быть продолжено с места разрыва. За это отвечает флаг \n",
        "    flag_save_wts_to_file.\n",
        "    5. При включении flag_save_wts_to_file ведет лог обучения (все print) в файл.\n",
        "    Это сделано на тот случай если print в Google Colab не сохраняться. При \n",
        "    обучении моделейф на локальной машине print в ноутбуке в случае выключения \n",
        "    машины скорее всего точно не сохранятся, и тут нам помогут лог-файлы.\n",
        "    6. Возможно продолжение обучения с прерванного места, для этого надо просто\n",
        "    загрузить в модель веса с последней эпохи, и передать в эту функцию \n",
        "    сохраненные losses как losses и accurancy как acc и достигнутое ранее \n",
        "    значение лучшей точности при которой было сохранено последнее значение\n",
        "    лучших весов(тут надо смотреть лог-файл) как best_acc.\n",
        "    7. Если мы используем технику раздельного lr для различных групп слоев нашей\n",
        "    модели данная функция будет писать список всех lr используемых нашей моделью\n",
        "    на каждой эпохе обучения. Да же если мы сипользуем отдельных lr для каждого\n",
        "    слоя модели.\n",
        "\n",
        "    Parameters:\n",
        "\n",
        "    model : torchvision.models или самописаная нейронная сеть созданная \n",
        "        в PyTorch или предобученная из torchvision.models.\n",
        "    dataloaders : torch.utils.data.DataLoader загрузчик картинок из нашего \n",
        "        dataset.\n",
        "    criterion : loss функция из модуля torch.nn.\n",
        "    optimizer : оптимизатор из модуля torch.optim.\n",
        "    num_epochs : int, число эпох обучения.\n",
        "    scheduler : планировщик learning rate из torch.optim, расчитанный на простую\n",
        "    работу один раз в эпоху и не использующего losses или accurancy для своей \n",
        "    работы. (По умолчанию None).\n",
        "    use_gpu : bool, используем ли мы GPU в расчетах ? (По умолчанию True)\n",
        "    best_acc : float (в долях, не в процентах!), задать порог точности для \n",
        "        сохранения best_model_wts, например мы уже обучили модель на 0.9700 \n",
        "        точности. Сохранили ее веса и продолжаем обучение, зададим порог по \n",
        "        точности не ниже полученной ранее. Тогда в best_model_wts будут \n",
        "        записаны веса модели лишь в том случае если модель улучшила свою \n",
        "        точность в процессе нового обучения. (По умолчанию None)\n",
        "    flag_save_wts_to_file : bool, хотим ли сохранять веса модели с последней \n",
        "        эпохи обучения и при которой была достигнута лучшая точность, а так же\n",
        "        losses и accurancy на каждой эпохе обучения по указанному пути path\n",
        "        (Я сохранял на Google Диск).\n",
        "        Это удобно если вдруг обучение модели прервалось, у нас будут последние\n",
        "        веса и обучение может быть продолжено с места разрыва.\n",
        "        Замедляет обучение на сохранение моделей в файл, имеет смысл \n",
        "        использовать для моделей где обучение одной эпохи длится более 5 минут.\n",
        "        Тогда практически не заметно. (По умолчанию False).\n",
        "    path : string, путь по которому мы будем сохранять веса модели, а так же \n",
        "        losses и accurancy. Путь состоит из пути к папке и названия модели\n",
        "        Пример, path = '/content/gdrive/My Drive/folder/model_name'\n",
        "        (По умолчанию False, его необходимо задать если \n",
        "        flag_save_wts_to_file = True)\n",
        "    losses : dict вида {'train': list значений loss, полученных эпохе на обучающей выборке,\n",
        "                        'val': list значений loss, полученных на эпохе на валидационной выборке}\n",
        "            используется при продолжении обучения с места разрыва, так не нужен.\n",
        "            (По умолчанию None).\n",
        "    acc : dict вида {'train': list значений accurancy, полученных эпохе на обучающей выборке,\n",
        "                        'val': list значений accurancy, полученных на эпохе на валидационной выборке}\n",
        "            используется при продолжении обучения с места разрыва, так не нужен.\n",
        "            (По умолчанию None).\n",
        "\n",
        "    Returns:\n",
        "    \n",
        "    model : обученая нейросеть, содержит веса своего текущесго состояния \n",
        "        после обучения.\n",
        "    losses : dict, ключи 'train' и 'val' содежат list, в котором сохранены\n",
        "        значения loss функции на каждой эпохе обучения.\n",
        "    acc : dict, ключи 'train' и 'val' содежат list, в котором сохранены\n",
        "        значения accurancy на каждой эпохе обучения.\n",
        "    best_model_wts : model.state_dict() содержит веса обучаемой нейросети\n",
        "        model, при которых была получена лучшая точность на валидационной \n",
        "        выборке.\n",
        "    \"\"\"\n",
        "    since = time.time()\n",
        "\n",
        "    if flag_save_wts_to_file:\n",
        "        if path is None:\n",
        "            raise ValueError('Вы хотетите сохранять веса, но не задали путь в переменную path!')\n",
        "        else:\n",
        "            print('Logging...')\n",
        "            logging.basicConfig(level=logging.INFO, filemode='w', filename=path + '_log_file.txt')\n",
        "            logger = logging.getLogger(__name__)\n",
        "\n",
        "    best_model_wts = copy.deepcopy(model.state_dict())\n",
        "    epoch_best_acc = 0\n",
        "    best_loss_model_wts = copy.deepcopy(model.state_dict())\n",
        "    epoch_best_loss = 0\n",
        "    \n",
        "    if best_acc is None:\n",
        "        best_acc = 0.0\n",
        "\n",
        "    if best_loss is None:\n",
        "        best_loss = np.inf\n",
        "    \n",
        "    if losses is None and acc is None:\n",
        "        losses = {'train': [], 'val': [], 'best':[]}\n",
        "        acc = {'train': [], 'val': [], 'best':[]}\n",
        "    \n",
        "    for epoch in tqdm_notebook(range(num_epochs)):\n",
        "        if scheduler is None:\n",
        "            lr_epoch = []\n",
        "            # выводим lr для каждой группы слоев которую мы определили\n",
        "            # если мы используем один lr для всех обучаемых слоев выведет его\n",
        "            for param_group in optimizer.param_groups:\n",
        "                lr_epoch.append(param_group[\"lr\"])\n",
        "        else:\n",
        "            lr_epoch = scheduler.get_lr()\n",
        "            \n",
        "        print(f'Epoch {epoch}/{num_epochs - 1} lr={lr_epoch}')\n",
        "        print('-' * 10)\n",
        "\n",
        "        if flag_save_wts_to_file:\n",
        "            logger.info(f'Epoch {epoch}/{num_epochs - 1} lr={lr_epoch}')\n",
        "            logger.info('-' * 10)\n",
        "\n",
        "        # каждя эпоха имеет обучающую и тестовую стадии\n",
        "        for phase in ['train', 'val']:\n",
        "            if phase == 'train':\n",
        "                model.train()  # установаить модель в режим обучения\n",
        "            else:\n",
        "                model.eval()  # установить модель в режим предсказания\n",
        "\n",
        "            running_loss = 0.0\n",
        "            running_corrects = 0\n",
        "\n",
        "            # итерируемся по батчам\n",
        "            for inputs, labels in dataloaders[phase]:\n",
        "                # оборачиваем в переменные\n",
        "                if use_gpu:\n",
        "                    inputs = inputs.to(DEVICE)\n",
        "                    labels = labels.to(DEVICE)\n",
        "                else:\n",
        "                    inputs, labels = inputs, labels\n",
        "\n",
        "                # инициализируем градиенты параметров\n",
        "                optimizer.zero_grad()\n",
        "\n",
        "                # активируем расчет градиентов для фазы обучения\n",
        "                with torch.set_grad_enabled(phase == 'train'):\n",
        "                    outputs = model(inputs)\n",
        "                    loss = criterion(outputs, labels)\n",
        "                    _, preds = torch.max(outputs, 1)\n",
        "\n",
        "                    # сделаем backward шаг оптимизатора если сейчас фаза обучения\n",
        "                    if phase == 'train':\n",
        "                        loss.backward()\n",
        "                        optimizer.step()\n",
        "\n",
        "                # подсчитаем статистику по эпохе\n",
        "                running_loss += loss.item() * inputs.size(0)\n",
        "                running_corrects += torch.sum(preds == labels.data)\n",
        "\n",
        "            if phase == 'train':\n",
        "                if scheduler is not None:\n",
        "                    scheduler.step()\n",
        "\n",
        "            epoch_loss = running_loss / len(dataloaders[phase].dataset)\n",
        "            epoch_acc = running_corrects.double() / len(dataloaders[phase].dataset)\n",
        "            epoch_acc = epoch_acc.item()\n",
        "            \n",
        "            losses[phase].append(epoch_loss)\n",
        "            acc[phase].append(epoch_acc)\n",
        "            \n",
        "            print('{} Loss: {:.4f} Acc: {:.4f}'.format(phase, epoch_loss, epoch_acc))\n",
        "            if flag_save_wts_to_file:\n",
        "                logger.info('{} Loss: {:.4f} Acc: {:.4f}'.format(phase, epoch_loss, epoch_acc))\n",
        "\n",
        "            # если на валидационной выборке удалось получить лучшую,\n",
        "            # чем ранее точность, то запомним веса модели в best_model_wts\n",
        "            if phase == 'val' and epoch_acc > best_acc:\n",
        "                best_acc = epoch_acc\n",
        "                best_model_wts = copy.deepcopy(model.state_dict())\n",
        "                epoch_best_acc = epoch\n",
        "                print(f'\\n***new best wts with acc {best_acc} at {epoch_best_acc} epoh***')\n",
        "                if flag_save_wts_to_file:\n",
        "                    torch.save(best_model_wts, path + '_best_w.pth')\n",
        "                    logger.info(f'save new best wts with acc {best_acc} at {epoch_best_acc} epoh')\n",
        "                acc['best'] = [epoch_best_acc, best_acc]\n",
        "            \n",
        "            if phase == 'val' and epoch_loss < best_loss:\n",
        "                best_loss = epoch_loss\n",
        "                best_loss_model_wts = copy.deepcopy(model.state_dict())\n",
        "                epoch_best_loss = epoch\n",
        "                print(f'\\n***new best wts with loss {best_loss} at {epoch_best_loss} epoh***')\n",
        "                if flag_save_wts_to_file:\n",
        "                    torch.save(best_loss_model_wts, path + '_best_w_loss.pth')\n",
        "                    logger.info(f'save new best wts with loss {best_loss} at {epoch_best_loss} epoh')\n",
        "                losses['best'] = [epoch_best_loss, best_loss]\n",
        "\n",
        "        if flag_save_wts_to_file:\n",
        "            print(f'*** save model wts at this {epoch} epoch ! *** \\n')\n",
        "            torch.save(model.state_dict(), path + '.pth')\n",
        "            save_dict_to_file(losses, path + '_losses.pickle')\n",
        "            save_dict_to_file(acc, path + '_acc.pickle')\n",
        "            logger.info(f'*** save model wts at this {epoch} epoch ! *** \\n')\n",
        "\n",
        "    time_elapsed = time.time() - since\n",
        "    print('Training complete in {:.0f}m {:.0f}s'.format(\n",
        "        time_elapsed // 60, time_elapsed % 60))\n",
        "    print('Best val Acc: {:4f} at {}'.format(best_acc, epoch_best_acc))\n",
        "    print('Best val Loss: {:4f} at {}'.format(best_loss, epoch_best_loss))\n",
        "\n",
        "    if flag_save_wts_to_file:\n",
        "        logger.info('Training complete in {:.0f}m {:.0f}s'.format(\n",
        "            time_elapsed // 60, time_elapsed % 60))\n",
        "        logger.info('Best val Acc: {:4f} at {}'.format(best_acc, epoch_best_acc))\n",
        "        logger.info('Best val Loss: {:4f} at {}'.format(best_loss, epoch_best_loss))\n",
        "\n",
        "    logging.shutdown() # выключаем логирование\n",
        "\n",
        "    return model, losses, acc, best_model_wts\n",
        "             \n",
        "def evaluate(model, dataloader_val, DEVICE, use_gpu =True):\n",
        "    '''Функция для измерения точности модели на валидационном датасете\n",
        "    метрика accurancy\n",
        "    \n",
        "    Parameters:\n",
        "\n",
        "    model : torchvision.models или самописаная нейронная сеть созданная \n",
        "        в PyTorch или предобученная из torchvision.models.\n",
        "    dataloader_val : torch.utils.data.DataLoader загрузчик картинок из \n",
        "        валидационной выборки.\n",
        "    use_gpu : bool, используем ли мы GPU в расчетах ?\n",
        "\n",
        "    Returns:\n",
        "\n",
        "    accurancy : float, число accurancy [0. ,1.], полученная на валидационной \n",
        "        выборке.\n",
        "    '''\n",
        "    model.eval() # перевели модель в режим предсказание\n",
        "    \n",
        "    runninig_correct = 0\n",
        "    # Контекстный менеджер, который отключает вычисление градиентов.\n",
        "    # отключаем вычисление градиентов, мы только предсказываем, а не обучаем.\n",
        "    # экономит оперативную память GPU и ускоряет расчеты.\n",
        "    with torch.no_grad(): \n",
        "        for inputs, labels in dataloader_val:\n",
        "            # переносим на GPU, если оно используется\n",
        "            if use_gpu:\n",
        "                inputs = inputs.to(DEVICE)\n",
        "                labels = labels.to(DEVICE)\n",
        "                \n",
        "            # forard pass\n",
        "            output = model(inputs)\n",
        "            _, predicted = torch.max(output, 1)\n",
        "            \n",
        "            runninig_correct += int(torch.sum(predicted == labels))\n",
        "        \n",
        "    return runninig_correct / len(dataloader_val.dataset)\n",
        "\n",
        "def predict(model, test_loader):\n",
        "    \"\"\"Сделать предсказание нейросетью model на выборке из загрузчика \n",
        "    test_loader.\n",
        "    \n",
        "    Parameters:\n",
        "\n",
        "    model : torchvision.models или самописаная нейронная сеть созданная \n",
        "        в PyTorch или предобученная из torchvision.models.\n",
        "    test_loader : torch.utils.data.DataLoader загрузчик картинок из \n",
        "        валидационной или тестовой выборки.\n",
        "    use_gpu : bool, используем ли мы GPU в расчетах ?\n",
        "    \n",
        "    Returns:\n",
        "\n",
        "    probs : torch.tensor, массив предсказаний нашей нейросети model\n",
        "    \"\"\"\n",
        "    model.eval() # перевели модель в режим предсказание\n",
        "    logits = []\n",
        "\n",
        "    # Контекстный менеджер, который отключает вычисление градиентов.\n",
        "    # отключаем вычисление градиентов, мы только предсказываем, а не обучаем.\n",
        "    # экономит оперативную память GPU и ускоряет расчеты.\n",
        "    with torch.no_grad():\n",
        "        for inputs in test_loader:\n",
        "            inputs = inputs.to(DEVICE)\n",
        "            outputs = model(inputs).cpu()\n",
        "            logits.append(outputs)\n",
        "            \n",
        "    probs = nn.functional.softmax(torch.cat(logits), dim=-1).numpy()\n",
        "    return probs"
      ],
      "execution_count": null,
      "outputs": []
    },
    {
      "cell_type": "code",
      "metadata": {
        "id": "NIwSCHu2U12G"
      },
      "source": [
        "import math\n",
        "def find_lr(model, dataloaders, loss_fn, optimizer, init_value=1e-8, final_value=10.0, use_gpu=True):\n",
        "    \"\"\"Функция для поиска оптимального learning rate, модифицирована мной для \n",
        "    поддержки GPU.\n",
        "\n",
        "    Суть подхода заключается в том, чтобы обучать нейросеть на каждом батче с \n",
        "    различным уровнем lr, начиная с самого малого init_value в выбранном нами \n",
        "    диапазоне [init_value, final_value] и заканчивая самым большим final_value. \n",
        "    При этом мы будем записывать в массив значение lr и полученного на этом \n",
        "    значении lr значение loss функции. В результате мы получим таблицу\n",
        "    зависимости loss от значения lr. Построив по ним график, в области\n",
        "    резкого снижения полученых значений loss функции и будет оптимальный \n",
        "    для обучения lr.\n",
        "\n",
        "    Функция взята из замечатлеьной книги книги \"Ian Pointer - Programming PyTorch\n",
        "    for Deep Learning - Creating and Deploying Deep Learning Applications-\n",
        "    O’Reilly Media (2019).\n",
        "    Ccылка на книгу на goodreads (https://www.goodreads.com/book/show/48225828-programming-pytorch-for-deep-learning)\n",
        "    Chapter 4. \"Transfer Learning and Other Tricks\" про \"Transfer Learning with ResNet50\" и\n",
        "    \"Finding That Learning Rate\".\n",
        "    Сделана автором книги на основе подхода описанного в статье\n",
        "    “Cyclical Learning Rates for Training Neural Networks” by Leslie Smith (2015).\n",
        "    Однако популярным данный подход сделал Jeremy Howard автор курса fast.ai\n",
        "    Эта функция так же сделана на основе реализации подобного подбора в \n",
        "    библиотеке fast.ai функции lr_find()\n",
        "    https://towardsdatascience.com/transfer-learning-using-the-fastai-library-d686b238213e\n",
        "    Функция из fast.ai лучше, но это сделана на чистом PyTorch и хорошо\n",
        "    показывает идею.\n",
        "\n",
        "    Parameters:\n",
        "\n",
        "    model : torchvision.models или самописаная нейронная сеть созданная \n",
        "        в PyTorch или предобученная из torchvision.models.\n",
        "    dataloaders : torch.utils.data.DataLoader загрузчик картинок из нашего \n",
        "        dataset.\n",
        "    loss_fn : loss функция из модуля torch.nn.\n",
        "    optimizer : оптимизатор из модуля torch.optim.\n",
        "    init_value : float, начальное значение learning rate, из выбранного нами\n",
        "        диапазона.\n",
        "    final_value : float, конечное значение learning rate.\n",
        "    use_gpu : bool, используем ли мы GPU в расчетах ?\n",
        "\n",
        "    Returns:\n",
        "\n",
        "    log_lrs : list, содержащий степень 10 от исследованых нами lr(десятичный \n",
        "        логорифм от lr)\n",
        "    losses : list, содержащий полученные значения loss функции.\n",
        "    \"\"\"\n",
        "    model.train() # переключаем модель в режим обучения\n",
        "\n",
        "    number_in_epoch = len(dataloaders['train']) - 1\n",
        "    update_step = (final_value / init_value) ** (1 / number_in_epoch)\n",
        "    lr = init_value\n",
        "    optimizer.param_groups[0][\"lr\"] = lr\n",
        "    best_loss = 0.0\n",
        "    batch_num = 0\n",
        "    losses = []\n",
        "    log_lrs = []\n",
        "    for inputs, labels in dataloaders['train']:\n",
        "        if use_gpu:\n",
        "            inputs = inputs.to(DEVICE)\n",
        "            labels = labels.to(DEVICE)\n",
        "\n",
        "        batch_num += 1\n",
        "        optimizer.zero_grad()\n",
        "        outputs = model(inputs)\n",
        "        loss = loss_fn(outputs, labels)\n",
        "\n",
        "        # Crash out if loss explodes\n",
        "        if batch_num > 1 and loss > 4 * best_loss:\n",
        "            return log_lrs[10:-5], losses[10:-5]\n",
        "\n",
        "        # Record the best loss\n",
        "        if loss < best_loss or batch_num == 1:\n",
        "            best_loss = loss\n",
        "\n",
        "        # Store the values\n",
        "        losses.append(loss)\n",
        "        log_lrs.append(math.log10(lr))\n",
        "\n",
        "        # Do the backward pass and optimize\n",
        "        loss.backward()\n",
        "        optimizer.step()\n",
        "\n",
        "        # Update the lr for the next step and store\n",
        "        lr *= update_step\n",
        "        optimizer.param_groups[0][\"lr\"] = lr\n",
        "\n",
        "    return log_lrs[10:-5], losses[10:-5]"
      ],
      "execution_count": null,
      "outputs": []
    },
    {
      "cell_type": "code",
      "metadata": {
        "id": "zHErHlaGgcCF"
      },
      "source": [
        "def print_learn_params(model):\n",
        "    \"\"\"Функция напечатает все веса нейросети model, которые мы обучаем.\n",
        "\n",
        "    Parameters:\n",
        "\n",
        "    model : torchvision.models или самописаная нейронная сеть созданная\n",
        "        в PyTorch или предобученная из torchvision.models.\n",
        "\n",
        "    Returns: list, спиок параметров слоев нейросети, которые мы обучаем,\n",
        "            будет отдан оптимизатору.\n",
        "    \"\"\"\n",
        "    print('Params to update:')\n",
        "    params_to_update = []\n",
        "    for name,param in model.named_parameters():\n",
        "        if param.requires_grad == True:\n",
        "            params_to_update.append(param)\n",
        "            print(\"\\t\",name)\n",
        "\n",
        "    return params_to_update\n",
        "\n",
        "def print_params(model):\n",
        "    \"\"\"Функция напечатает все веса нейросети model, которые мы можем обучать.\n",
        "\n",
        "    Parameters:\n",
        "\n",
        "    model : torchvision.models или самописаная нейронная сеть созданная\n",
        "        в PyTorch или предобученная из torchvision.models.\n",
        "\n",
        "    Returns:\n",
        "\n",
        "    params_number_name: python dict вида {'num': список значений порядковых \n",
        "                                                номеров слоя нейросети,\n",
        "                                        'param_name': название слоев нейросети\n",
        "                                         идущих по порядку}\n",
        "    \"\"\"\n",
        "    print('Params to update:')\n",
        "    i = 0\n",
        "    params_to_learn = {'num':[], 'param_name':[]}\n",
        "    for name,param in model.named_parameters():\n",
        "        params_to_learn['num'].append(i)\n",
        "        params_to_learn['param_name'].append(name)\n",
        "        print(f\"{i} {name}\")\n",
        "        i += 1\n",
        "\n",
        "    return params_to_learn\n",
        "\n",
        "\n",
        "def show_param_lr_plots(params_number_name, lrs, layer_names=False, figsize=None):\n",
        "    \"\"\"Функция для построения графика значений learning rate(lr) по всем слоям \n",
        "    которые мы учим нейросети, чтобы посмотреть какие lr мы задаем для слоев\n",
        "    нейросети.\n",
        "\n",
        "    Parameters:\n",
        "\n",
        "    params_number_name: python dict вида {'num': список значений порядковых номеров слоя нейросети,\n",
        "                                     'param_name': название слоев нейросети идущих по порядку}\n",
        "\n",
        "    lrs: python list, содержит значения learning rate для каждого из слоев нейросети.\n",
        "        его длинна должна равняться число слоев нейросети.\n",
        "\n",
        "    layer_names : bool, хоти ли мы отобразить по оси Х названия слоев нейросети? (по умолчанию False)\n",
        "    figsize: задать соотношение сторон для графика (figsize для figure нашего графика)\n",
        "    \"\"\"\n",
        "    plt.clf()\n",
        "\n",
        "    if figsize is None:\n",
        "        figsize = (12, 8)\n",
        "\n",
        "    fig = plt.figure(figsize=figsize)\n",
        "    ax = fig.add_subplot(1, 1, 1)\n",
        "    ax.plot(params_number_name['num'], lrs, 'r', label='learning rate')\n",
        "    ax.set_title('learning rate for all layers of neuronet')\n",
        "    ax.set_xlabel('layers')\n",
        "    ax.set_ylabel('lr')\n",
        "    if layer_names:\n",
        "        ax.set_xticks(params_number_name['num'])\n",
        "        ax.set_xticklabels(params_number_name['param_name'])\n",
        "        ax.xaxis.set_tick_params(rotation=90)\n",
        "    plt.legend()\n",
        "    plt.show()\n",
        "\n",
        "\n",
        "def set_learn_params(model, lrs):\n",
        "    \"\"\"Функция которая задаст каждому слою нейросети значения learning rate из списка lrs.\n",
        "\n",
        "    Parameters:\n",
        "\n",
        "    model: torchvision.models или самописаная нейронная сеть созданная\n",
        "        в PyTorch или предобученная из torchvision.models.\n",
        "\n",
        "    lrs: python list, содержит значения learning rate для каждого из слоев нейросети.\n",
        "    его длинна должна равняться число слоев нейросети.\n",
        "\n",
        "    Returns: list, спиок слоев нейросети, которые мы обучаем\n",
        "            и lr для каждого из них, будет отдан оптимизатору.\n",
        "    \"\"\"\n",
        "    print('Params to learn:')\n",
        "    learn_params = []\n",
        "    i = 0\n",
        "\n",
        "    for name, param in model.named_parameters():\n",
        "        if param.requires_grad == True:\n",
        "            learn_params.append({'params': param, 'lr': lrs[i]})\n",
        "            print(f'{lrs[i]} {name}')\n",
        "        i += 1\n",
        "\n",
        "    return learn_params"
      ],
      "execution_count": null,
      "outputs": []
    },
    {
      "cell_type": "markdown",
      "metadata": {
        "id": "sRxSUDxNkYh0"
      },
      "source": [
        "### Оптимизатор AdaShift (взят из репозитория МФТИ [AdaShift](https://github.com/MichaelKonobeev/adashift/blob/master/adashift/optimizers.py))\n",
        "\n",
        "В данном репозитории лежит самостоятельно написанная сотрудниками МФТИ реализация нового оптимизатора AdaShift для PyTorch.\n",
        "\n",
        "https://github.com/MichaelKonobeev/adashift/blob/master/adashift/optimizers.py\n",
        "\n",
        "там же дана ссылка на оригинальную статью по данный оптимизатор\n",
        "\n",
        "Reproducing of the AdaShift: Decorrelation and Convergence of Adaptive Learning Rate Methods as a part of ICLR Reproducibility Challange 2019. See our report.\n",
        "\n",
        "Можно завести отдельную ячейку с данным оптимизатором и использовать его для обучения нейросети )"
      ]
    },
    {
      "cell_type": "code",
      "metadata": {
        "id": "9RCJJEeKFIDc"
      },
      "source": [
        "\"\"\" Implements AdaShift optimizer. \"\"\"\n",
        "# здесь я просто взял готовый оптимизатор AdaShift, релизованный в реползитории \n",
        "# МФТИ (https://github.com/MichaelKonobeev/adashift/blob/master/adashift/optimizers.py)\n",
        "from collections import deque\n",
        "\n",
        "from torch.optim import Optimizer\n",
        "\n",
        "\n",
        "class AdaShift(Optimizer):\n",
        "  r\"\"\" Implements AdaShift algorithm.\n",
        "  See https://openreview.net/forum?id=HkgTkhRcKQ\n",
        "  Arguments:\n",
        "    params (iterable): iterable of parameters to optimize or dicts defining\n",
        "      parameter groups\n",
        "    lr (float, optional): learning rate\n",
        "    keep_num (int): number of gradients used to compute first moment\n",
        "      estimation.\n",
        "    betas (Tuple[float, float], optional): coefficients used for computing\n",
        "     running averages of gradient and its square\n",
        "    eps (float, optional): term added to the denominator to improve\n",
        "      numerical stability\n",
        "    reduce_func (callable or None): function applied to squared gradients\n",
        "      to further reduce the correlation. If None, no function is applied.\n",
        "  \"\"\"\n",
        "  def __init__(self, params, lr=1e-3, keep_num=10, betas=(0.9, 0.999),\n",
        "               eps=1e-10, reduce_func=torch.max):\n",
        "    beta1, _ = betas\n",
        "    exp_weight_sum = sum(beta1 ** i for i in range(keep_num))\n",
        "    first_grad_weight = beta1 ** (keep_num - 1) / exp_weight_sum\n",
        "    last_grad_weight = 1. / exp_weight_sum\n",
        "    defaults = dict(lr=lr, keep_num=keep_num, betas=betas,\n",
        "                    eps=eps, reduce_func=reduce_func,\n",
        "                    first_grad_weight=first_grad_weight,\n",
        "                    last_grad_weight=last_grad_weight)\n",
        "    super(AdaShift, self).__init__(params, defaults)\n",
        "\n",
        "  def step(self, closure=None):\n",
        "    loss = None\n",
        "    if closure is not None:\n",
        "      loss = closure()\n",
        "\n",
        "    for group in self.param_groups:\n",
        "      for p in group[\"params\"]:\n",
        "        if p.grad is None:\n",
        "          continue\n",
        "        grad = p.grad.data\n",
        "        if grad.is_sparse:\n",
        "          raise RuntimeError(\"AdaShift does not support sparse gradients.\")\n",
        "\n",
        "        state = self.state[p]\n",
        "        if len(state) == 0:\n",
        "          state[\"step\"] = 1\n",
        "          state[\"grad_deque\"] = deque([grad.clone()], maxlen=group[\"keep_num\"])\n",
        "          state[\"exp_avg\"] = torch.zeros_like(p.data)\n",
        "          state[\"exp_avg_sq\"] = torch.zeros_like(p.data)\n",
        "          continue\n",
        "\n",
        "        grad_deque = state[\"grad_deque\"]\n",
        "        exp_avg, exp_avg_sq = state[\"exp_avg\"], state[\"exp_avg_sq\"]\n",
        "\n",
        "        state[\"step\"] += 1\n",
        "        grad_apply = len(grad_deque) == group[\"keep_num\"]\n",
        "        offset_grad = grad_deque[0]\n",
        "        grad_deque.append(grad.clone())\n",
        "        if not grad_apply:\n",
        "          continue\n",
        "\n",
        "        first_grad_weight = group[\"first_grad_weight\"]\n",
        "        last_grad_weight = group[\"last_grad_weight\"]\n",
        "        beta1, beta2 = group[\"betas\"]\n",
        "        (exp_avg.sub_(first_grad_weight, offset_grad).mul_(beta1)\n",
        "         .add_(last_grad_weight, grad))\n",
        "\n",
        "        reduce_func = group[\"reduce_func\"] or (lambda x: x)\n",
        "        reduced_grad_sq = reduce_func(offset_grad.mul_(offset_grad))\n",
        "        exp_avg_sq.mul_(beta2).add_(1 - beta2, reduced_grad_sq)\n",
        "        bias_correction = 1 - beta2 ** (state[\"step\"] - group[\"keep_num\"])\n",
        "        denom = exp_avg_sq.div(bias_correction).sqrt_().add_(group[\"eps\"])\n",
        "\n",
        "        p.data.addcdiv_(-group[\"lr\"], exp_avg, denom)\n",
        "\n",
        "    return loss"
      ],
      "execution_count": null,
      "outputs": []
    },
    {
      "cell_type": "markdown",
      "metadata": {
        "id": "LLghG1J7eEp9"
      },
      "source": [
        "### Полезные функции для построения графиков (Losses и Accurancy)"
      ]
    },
    {
      "cell_type": "code",
      "metadata": {
        "id": "pam61s9KeN4m"
      },
      "source": [
        "# Скользящее среднее\n",
        "def smooth_curve(points, factor=0.9):\n",
        "    \"\"\"Функция для сглаживания графиков\n",
        "    \n",
        "    Parameters:\n",
        "\n",
        "    points : list or numpy.array содержащий значения амплитудных отсчетов\n",
        "        графика, который необходимо сгладить.\n",
        "    factor : float, коэффициент сглаживания.\n",
        "\n",
        "    Returns:\n",
        "\n",
        "    points : list содержащий значения амплитудных отсчетов сглаженного графика.\n",
        "    \"\"\"\n",
        "    smoothed_points = []\n",
        "    for point in points:\n",
        "        if smoothed_points:\n",
        "            previous = smoothed_points[-1]\n",
        "            smoothed_points.append(previous * factor + point * (1 - factor))\n",
        "        else:\n",
        "            smoothed_points.append(point)\n",
        "    return smoothed_points\n",
        "\n",
        "def show_losses_plots(losses, smooth_flag = False, min = 0):\n",
        "    \"\"\"Функция для построения графиков loss функции по всем эпохам обучения \n",
        "    нейросети.\n",
        "    \n",
        "    Parameters:\n",
        "\n",
        "    losses : dict, ключи 'train' и 'val' содежат list, в котором сохранены\n",
        "        значения loss функции на каждой эпохе обучения.\n",
        "    smooth_flag : bool, осуществить сглаживание графика ?\n",
        "    min : int, с какой эпохи начать ось абсцисс ?\n",
        "    \"\"\"\n",
        "    plt.clf()\n",
        "\n",
        "    losses_train, losses_test = losses['train'], losses['val']\n",
        "    epochs = np.arange(len(losses_train))\n",
        "\n",
        "    #Сглаживаем ли мы графики функций потерь?\n",
        "    if smooth_flag:\n",
        "      losses_train = smooth_curve(losses_train)\n",
        "      losses_test = smooth_curve(losses_test)\n",
        "\n",
        "    # Построим график лосса при обучении и валидации\n",
        "    plt.plot(epochs[min:], losses_train[min:], 'r', label='Training loss')\n",
        "    plt.plot(epochs[min:], losses_test[min:], 'b', label='Validation loss')\n",
        "    plt.plot(losses['best'][0], losses['best'][1], 'bo', label='best val loss')\n",
        "    plt.title('Training and validation loss')\n",
        "    plt.xlabel('Epochs')\n",
        "    plt.ylabel('Loss')\n",
        "    plt.yscale('log')\n",
        "    plt.legend()\n",
        "    plt.show()\n",
        "    \n",
        "def show_acc_plots(acc, smooth_flag = False, min = 0):\n",
        "    \"\"\"Функция для построения графиков accurancy по всем эпохам обучения \n",
        "    нейросети.\n",
        "        \n",
        "    Parameters:\n",
        "\n",
        "    acc : dict, ключи 'train' и 'val' содежат list, в котором сохранены\n",
        "        значения accurancy функции на каждой эпохе обучения.\n",
        "    smooth_flag : bool, осуществить сглаживание графика ?\n",
        "    min : int, с какой эпохи начать ось абсцисс ?\n",
        "    \"\"\"\n",
        "    plt.clf()\n",
        "\n",
        "    acc_train, acc_test = acc['train'], acc['val']\n",
        "    epochs = np.arange(len(acc_train))\n",
        "\n",
        "    #Сглаживаем ли мы графики функций точности?\n",
        "    if smooth_flag:\n",
        "      acc_train = smooth_curve(acc_train)\n",
        "      acc_test = smooth_curve(acc_test)\n",
        "\n",
        "    # Построим график лосса при обучении и валидации\n",
        "    plt.plot(epochs[min:], acc_train[min:], 'r', label='Training acc')\n",
        "    plt.plot(epochs[min:], acc_test[min:], 'b', label='Validation acc')\n",
        "    plt.plot(acc['best'][0], acc['best'][1], 'bo', label='best val acc')\n",
        "    plt.title('Training and validation acc')\n",
        "    plt.xlabel('Epochs')\n",
        "    plt.ylabel('acc')\n",
        "    plt.legend()\n",
        "    plt.show()"
      ],
      "execution_count": null,
      "outputs": []
    },
    {
      "cell_type": "markdown",
      "metadata": {
        "id": "i14Zvq6wVBRs"
      },
      "source": [
        "### Функции для оценки точности (**confusion** matrix, и точность по каждому классу)"
      ]
    },
    {
      "cell_type": "code",
      "metadata": {
        "id": "sNrEqEJzVBRs"
      },
      "source": [
        "import itertools\n",
        "from sklearn.metrics import confusion_matrix\n",
        "    \n",
        "def plot_confusion_matrix(cm, classes,\n",
        "                          normalize=False,\n",
        "                          title='Confusion matrix',\n",
        "                          cmap=plt.cm.Blues):\n",
        "    \"\"\"\n",
        "    Функция из документации matplotlib, отрисовывающая confusion matrix \n",
        "    Source https://scikit-learn.org/stable/auto_examples/model_selection/plot_confusion_matrix.html  \n",
        "\n",
        "    Parameters:\n",
        "\n",
        "    cm : Рассчитанная confusion matrix возвращаемая функцией confusion_matrix\n",
        "        из sklearn. Или аналогичная структура данных.\n",
        "    classes : (set or list or tuple) названия классов.\n",
        "    title : str, название диаграммы.\n",
        "    cmap : цветовая палитра bp matplotlib для отрисовки значений \n",
        "        confusion matrix цветом.\n",
        "    \"\"\"\n",
        "    cm = cm.T\n",
        "    if normalize:\n",
        "        cm = cm.astype('float') / cm.sum(axis=1)[:, np.newaxis]\n",
        "        print(\"Normalized confusion matrix\")\n",
        "    else:\n",
        "        print('Confusion matrix, without normalization')\n",
        "\n",
        "    plt.figure(figsize=(16,11))\n",
        "    plt.imshow(cm, interpolation='nearest', cmap=cmap)\n",
        "    plt.title(title)\n",
        "    plt.colorbar()\n",
        "    tick_marks = np.arange(len(classes))\n",
        "    plt.xticks(tick_marks, classes, rotation=90)\n",
        "    plt.yticks(tick_marks, classes)\n",
        "\n",
        "    fmt = '.2f' if normalize else 'd'\n",
        "    thresh = cm.max() / 2.\n",
        "    for i, j in itertools.product(range(cm.shape[0]), range(cm.shape[1])):\n",
        "        plt.text(j, i, format(cm[i, j], fmt),\n",
        "                 horizontalalignment=\"center\",\n",
        "                 color=\"white\" if cm[i, j] > thresh else \"black\")\n",
        "\n",
        "    plt.ylabel('True label')\n",
        "    plt.xlabel('Predicted label')\n",
        "\n",
        "    plt.tight_layout()\n",
        "    \n",
        "def show_confusion_matrix_fucn(model, dataloaders):\n",
        "    \"\"\"Построить диаграмму confusion matrix и посчитать точность предсказаний \n",
        "    модели по каждому классу по метрике accurancy\n",
        "    \n",
        "    Parameters:\n",
        "\n",
        "    model : torchvision.models или самописаная нейронная сеть созданная \n",
        "        в PyTorch или предобученная из torchvision.models.\n",
        "    dataloaders : torch.utils.data.DataLoader загрузчик картинок из нашего \n",
        "        dataset.\n",
        "\n",
        "    Returns:\n",
        "\n",
        "    y_test_all : numpy.array правильные классы.\n",
        "    predictions_all : numpy.array предсказания нейросети.\n",
        "    feature_names : названия классов.\n",
        "    \"\"\"\n",
        "    y_test_all = torch.Tensor().long()\n",
        "    predictions_all = torch.Tensor().long()\n",
        "\n",
        "    # Пройдём по всему validation датасету и запишем ответы сети\n",
        "    with torch.no_grad():\n",
        "        for inputs, labels in dataloaders['val']:\n",
        "            predictions = model(inputs.to(DEVICE))\n",
        "            y_test = labels\n",
        "            _, predictions = torch.max(predictions.cpu(), 1)\n",
        "\n",
        "            # Аналог append для list\n",
        "            y_test_all = torch.cat((y_test_all, y_test), 0)\n",
        "            predictions_all = torch.cat((predictions_all, predictions), 0)\n",
        "\n",
        "    feature_names = sorted(set(dataloaders['val'].dataset.labels))\n",
        "\n",
        "    y_test_all = y_test_all.numpy()\n",
        "    predictions_all = predictions_all.numpy()\n",
        "\n",
        "    # Функция из sklearn, создаёт confusion матрицу\n",
        "    cm = confusion_matrix(y_test_all, predictions_all, np.arange(classes_number))\n",
        "    # Выведем её\n",
        "    plot_confusion_matrix(cm, feature_names, normalize=True)\n",
        "    \n",
        "    return y_test_all, predictions_all, feature_names\n",
        "  \n",
        "def accurancy_for_each_class(y_test_all, predictions_all, feature_names):\n",
        "    \"\"\"Функция выводит accurancy полученное нашей нейросетью на каждом из \n",
        "    классов классификации.\n",
        "    \n",
        "    Parameters:\n",
        "\n",
        "    y_test_all : numpy.array правильные классы.\n",
        "    predictions_all : numpy.array предсказания нейросети.\n",
        "    feature_names : названия классов.\n",
        "    \"\"\"\n",
        "\n",
        "    class_correct = [0 for i in range(classes_number)]\n",
        "    class_total = [0 for i in range(classes_number)]\n",
        "\n",
        "    c = (predictions_all == y_test_all).squeeze()\n",
        "    for i in range(len(predictions_all)):\n",
        "        label = predictions_all[i]            \n",
        "        class_correct[label] += c[i].item()\n",
        "        class_total[label] += 1\n",
        "\n",
        "    print(class_total)\n",
        "    print(len(class_total))\n",
        "\n",
        "    for i in range(classes_number):\n",
        "        print('Accuracy of %5s\\t%2d %%' % (\n",
        "            (feature_names[i], (100 * class_correct[i] / class_total[i]) if class_total[i] != 0 else -1)))"
      ],
      "execution_count": null,
      "outputs": []
    },
    {
      "cell_type": "markdown",
      "metadata": {
        "id": "in4AZUz9vGUu"
      },
      "source": [
        "### Еще несколько полезных функций"
      ]
    },
    {
      "cell_type": "code",
      "metadata": {
        "id": "Zhpe848ZyV2w"
      },
      "source": [
        "def classes_number_from_labels(train_val_labels):\n",
        "    \"\"\"Функция возвращает число уникальных классов из list train_val_labels\"\"\"\n",
        "    return len(np.unique(train_val_labels))\n",
        "\n",
        "def create_dct_from_labels(train_val_labels):\n",
        "    \"\"\"Функция создает из list train_val_labels, содержащего метки классов\n",
        "    соответсвующим картинкам из выборки, словарь dict с ключами соответсвующими\n",
        "    названиям классов, и значениями, соответвующими колчеству этих классов в \n",
        "    list train_val_labels\"\"\"\n",
        "    dct_simpsons = {}\n",
        "    for label_i in np.unique(train_val_labels).tolist():\n",
        "        dct_simpsons.update({label_i:train_val_labels.count(label_i)})\n",
        "\n",
        "    return dct_simpsons\n",
        "\n",
        "def create_dct_path_labels(train_files, train_labels):\n",
        "    \"\"\"Функция создает словарь dct, в котором ключами является названия классов \n",
        "    из train_labels, а значениями список из путей к картинкам соответсвующих \n",
        "    этим классам из train_files.\n",
        "    \n",
        "    Parameters:\n",
        "\n",
        "    train_files : list, список содержащий пути к картинкам выборки.\n",
        "    train_labels: list, список содержащий метки классов к картинкам из \n",
        "        train_files.\n",
        "\n",
        "    Returns:\n",
        "\n",
        "    dct_simpsons : dct, словарь в котором ключами является названия классов из \n",
        "    train_labels, а значениями список из путей к картинкам соответсвующих этим \n",
        "    классам из train_files.\n",
        "    \"\"\"\n",
        "    dct_simpsons = {}\n",
        "    for label_i in np.unique(train_labels).tolist():\n",
        "        dct_simpsons[label_i] = []\n",
        "\n",
        "    for path_i, label_i in zip(train_files, train_labels):\n",
        "        dct_simpsons[label_i].append(path_i)\n",
        "\n",
        "    return dct_simpsons\n",
        "\n",
        "def print_dct(dct_simpsons):\n",
        "    \"\"\"Функция напечать все пары ключ-значение в словаре, переданном в качестве \n",
        "    аргумента\"\"\"\n",
        "    for key in dct_simpsons:\n",
        "        print(f\"{key}\\t{dct_simpsons[key]}\")\n",
        "\n",
        "def count_weights(dct_simpsons):\n",
        "    \"\"\"Функция расчета весов.\n",
        "    \n",
        "    Parameters:\n",
        "\n",
        "    dct_simpsons : словарь dict с ключами соответсвующими\n",
        "        названиям классов, и значениями, соответвующими колчеству этих классов\n",
        "        в выборке\n",
        "\n",
        "    Returns:\n",
        "\n",
        "    dct_simpsons_wht : dct, словарь в котором ключами является названия классов,\n",
        "        а значениями веса соответсвующих этим классам из выборки.\n",
        "    \"\"\"\n",
        "    dct_simpsons_wht = {}\n",
        "    for key in dct_simpsons:\n",
        "        dct_simpsons_wht.update({key:1. / dct_simpsons[key]})\n",
        "\n",
        "    return dct_simpsons_wht\n",
        "\n",
        "def create_sample_weights_from_labels(train_val_labels, dct_simpsons_wht):\n",
        "    \"\"\"Создать torch.tensor с весами, вычисленным по количествку картинок в \n",
        "    каждом классе, соответвующим картинкам. \n",
        "    Необходимо для torch.utils.data.WeightedRandomSampler\n",
        "    \n",
        "    Parameters:\n",
        "\n",
        "    train_labels: list, список содержащий метки классов к картинкам из \n",
        "        train_files.\n",
        "    dct_simpsons_wht : словарь: ключ название класса, значение вес для данного \n",
        "        класса\n",
        "\n",
        "    Returns:\n",
        "\n",
        "    sampler_weights : torch.tensor с весами из dct_simpsons_wht, вычисленным \n",
        "        по количествку картинок в каждом классе, соответвующим списку классов \n",
        "        картинок из выборки train_val_labels.\n",
        "    \"\"\"\n",
        "    samples_weight = []\n",
        "    for label_i in train_val_labels:\n",
        "        samples_weight.append(dct_simpsons_wht[label_i])\n",
        "\n",
        "    return torch.from_numpy(np.array(samples_weight))"
      ],
      "execution_count": null,
      "outputs": []
    },
    {
      "cell_type": "markdown",
      "metadata": {
        "id": "hrpCWm5ayj5n"
      },
      "source": [
        "# Предварительная скачка датасета (Cейчас не нужно!)"
      ]
    },
    {
      "cell_type": "code",
      "metadata": {
        "colab": {
          "base_uri": "https://localhost:8080/"
        },
        "id": "O9e6LD_Fo6B4",
        "outputId": "ddd87ba5-7469-41b7-f5da-f35686236e5c"
      },
      "source": [
        "# клонируем репозиторий \"PlantVillage-Dataset\"\r\n",
        "!git clone https://github.com/spMohanty/PlantVillage-Dataset"
      ],
      "execution_count": null,
      "outputs": [
        {
          "output_type": "stream",
          "text": [
            "Cloning into 'PlantVillage-Dataset'...\n",
            "remote: Enumerating objects: 163229, done.\u001b[K\n",
            "remote: Total 163229 (delta 0), reused 0 (delta 0), pack-reused 163229\u001b[K\n",
            "Receiving objects: 100% (163229/163229), 2.00 GiB | 33.37 MiB/s, done.\n",
            "Resolving deltas: 100% (99/99), done.\n",
            "Checking out files: 100% (182401/182401), done.\n"
          ],
          "name": "stdout"
        }
      ]
    },
    {
      "cell_type": "code",
      "metadata": {
        "id": "6BlW88Adp13l"
      },
      "source": [
        "!zip -r apple.zip /content/PlantVillage-Dataset/raw/color"
      ],
      "execution_count": null,
      "outputs": []
    },
    {
      "cell_type": "code",
      "metadata": {
        "colab": {
          "base_uri": "https://localhost:8080/"
        },
        "id": "z14iWfuiq6Gv",
        "outputId": "b1db618f-bcf8-4a14-a3d1-9e216ad1c15b"
      },
      "source": [
        "files.download('apple.zip')"
      ],
      "execution_count": null,
      "outputs": [
        {
          "output_type": "display_data",
          "data": {
            "application/javascript": [
              "\n",
              "    async function download(id, filename, size) {\n",
              "      if (!google.colab.kernel.accessAllowed) {\n",
              "        return;\n",
              "      }\n",
              "      const div = document.createElement('div');\n",
              "      const label = document.createElement('label');\n",
              "      label.textContent = `Downloading \"${filename}\": `;\n",
              "      div.appendChild(label);\n",
              "      const progress = document.createElement('progress');\n",
              "      progress.max = size;\n",
              "      div.appendChild(progress);\n",
              "      document.body.appendChild(div);\n",
              "\n",
              "      const buffers = [];\n",
              "      let downloaded = 0;\n",
              "\n",
              "      const channel = await google.colab.kernel.comms.open(id);\n",
              "      // Send a message to notify the kernel that we're ready.\n",
              "      channel.send({})\n",
              "\n",
              "      for await (const message of channel.messages) {\n",
              "        // Send a message to notify the kernel that we're ready.\n",
              "        channel.send({})\n",
              "        if (message.buffers) {\n",
              "          for (const buffer of message.buffers) {\n",
              "            buffers.push(buffer);\n",
              "            downloaded += buffer.byteLength;\n",
              "            progress.value = downloaded;\n",
              "          }\n",
              "        }\n",
              "      }\n",
              "      const blob = new Blob(buffers, {type: 'application/binary'});\n",
              "      const a = document.createElement('a');\n",
              "      a.href = window.URL.createObjectURL(blob);\n",
              "      a.download = filename;\n",
              "      div.appendChild(a);\n",
              "      a.click();\n",
              "      div.remove();\n",
              "    }\n",
              "  "
            ],
            "text/plain": [
              "<IPython.core.display.Javascript object>"
            ]
          },
          "metadata": {
            "tags": []
          }
        },
        {
          "output_type": "display_data",
          "data": {
            "application/javascript": [
              "download(\"download_d278179f-c4c7-4bc0-8b56-9ac91e930568\", \"apple.zip\", 859716422)"
            ],
            "text/plain": [
              "<IPython.core.display.Javascript object>"
            ]
          },
          "metadata": {
            "tags": []
          }
        }
      ]
    },
    {
      "cell_type": "markdown",
      "metadata": {
        "id": "dra1GH0Cyptx"
      },
      "source": [
        "# Загрузка подготовленного датасета"
      ]
    },
    {
      "cell_type": "code",
      "metadata": {
        "colab": {
          "base_uri": "https://localhost:8080/"
        },
        "id": "xA3o2xC3MlMI",
        "outputId": "317c1c07-72d6-4126-dbea-6f38009c9f6f"
      },
      "source": [
        "from google.colab import drive\n",
        "drive.mount('/content/gdrive/')"
      ],
      "execution_count": null,
      "outputs": [
        {
          "output_type": "stream",
          "text": [
            "Drive already mounted at /content/gdrive/; to attempt to forcibly remount, call drive.mount(\"/content/gdrive/\", force_remount=True).\n"
          ],
          "name": "stdout"
        }
      ]
    },
    {
      "cell_type": "code",
      "metadata": {
        "id": "UJ-R1DQ9zMGD"
      },
      "source": [
        "# раззиповка архива, необходимо сделать при первом запуске ноутбука,\n",
        "# в дальнейшем файлы уже будут на жестком диске виртуальной машины Google Colab \n",
        "# и раззиповывать архив повторно с Google Drive не требуется. Команда \n",
        "# поддерживает перезапись картинок при распаковке, если не уверены, что все \n",
        "# распаковалось верно можно вызвать ее повторно.\n",
        "\n",
        "# распаковываем в папку dataset\n",
        "!unzip -o /content/gdrive/MyDrive/AgroCode_pre_snippets/dataset_agro_code/public.zip -d dataset"
      ],
      "execution_count": null,
      "outputs": []
    },
    {
      "cell_type": "markdown",
      "metadata": {
        "id": "PKZuLqtJ3t7Z"
      },
      "source": [
        "# Разбиение датасета на 5 Foldов train, val (Ненужна, делалась в начале 1 раз)"
      ]
    },
    {
      "cell_type": "code",
      "metadata": {
        "id": "Sf1Gi2Lx0nCT"
      },
      "source": [
        "# определяем данные на которых будем обучаться 'train' и 'val' и те накоторых будем тестировать модель 'test'\r\n",
        "DIR = Path('/content/dataset')\r\n",
        "\r\n",
        "files = sorted(list(DIR.rglob('*.jpg')))"
      ],
      "execution_count": null,
      "outputs": []
    },
    {
      "cell_type": "code",
      "metadata": {
        "id": "Tm8OF0AV1ffs"
      },
      "source": [
        "labels = [path.parent.name for path in files] # классы train"
      ],
      "execution_count": null,
      "outputs": []
    },
    {
      "cell_type": "code",
      "metadata": {
        "colab": {
          "base_uri": "https://localhost:8080/"
        },
        "id": "hm7EhmfN2GrJ",
        "outputId": "2040749b-489b-4446-c02e-fe2f50529347"
      },
      "source": [
        "# посмотрим сколько всего классов\r\n",
        "print(np.unique(labels))\r\n",
        "print(len(np.unique(labels)))"
      ],
      "execution_count": null,
      "outputs": [
        {
          "output_type": "stream",
          "text": [
            "[]\n",
            "0\n"
          ],
          "name": "stdout"
        }
      ]
    },
    {
      "cell_type": "code",
      "metadata": {
        "id": "RKZkwfkIo7yZ"
      },
      "source": [
        "# Создадим словарь в которм будут классы персонажей и кличество их картинок\n",
        "dct_apples = create_dct_from_labels(labels)\n",
        "\n",
        "# выведим на печать класс : количесвто картинок\n",
        "print_dct(dct_apples)"
      ],
      "execution_count": null,
      "outputs": []
    },
    {
      "cell_type": "code",
      "metadata": {
        "id": "mU9WZC3VDSzp"
      },
      "source": [
        "from sklearn.model_selection import KFold"
      ],
      "execution_count": null,
      "outputs": []
    },
    {
      "cell_type": "code",
      "metadata": {
        "colab": {
          "base_uri": "https://localhost:8080/"
        },
        "id": "JhGidCNHEPyM",
        "outputId": "5ab2b57e-7a6b-47fc-b76d-9eecd48ce1ff"
      },
      "source": [
        "kf = KFold(n_splits=5, random_state=0, shuffle=True)\r\n",
        "kf.get_n_splits(files)"
      ],
      "execution_count": null,
      "outputs": [
        {
          "output_type": "execute_result",
          "data": {
            "text/plain": [
              "5"
            ]
          },
          "metadata": {
            "tags": []
          },
          "execution_count": 19
        }
      ]
    },
    {
      "cell_type": "code",
      "metadata": {
        "colab": {
          "base_uri": "https://localhost:8080/"
        },
        "id": "H7S08_QTGF9G",
        "outputId": "f2da54f4-45c1-494a-f301-b31c2f7cb5d4"
      },
      "source": [
        "np.array(files).tolist() == files"
      ],
      "execution_count": null,
      "outputs": [
        {
          "output_type": "execute_result",
          "data": {
            "text/plain": [
              "True"
            ]
          },
          "metadata": {
            "tags": []
          },
          "execution_count": 20
        }
      ]
    },
    {
      "cell_type": "code",
      "metadata": {
        "colab": {
          "base_uri": "https://localhost:8080/"
        },
        "id": "rH5Gl7UyEo6Q",
        "outputId": "22728750-e1da-4097-e326-29897725741d"
      },
      "source": [
        "i = 0 # номер фолда\r\n",
        "\r\n",
        "for train_index, test_index in kf.split(files):\r\n",
        "    train_files, val_files = np.array(files)[train_index].tolist(), np.array(files)[test_index].tolist()\r\n",
        "\r\n",
        "    train_labels = [path.parent.name for path in train_files] # классы train\r\n",
        "    val_labels = [path.parent.name for path in val_files]     # классы val\r\n",
        "\r\n",
        "    # сохраняем разбиение нашей выборки для того, чтоб разные модели\r\n",
        "    # тестировались на одних и тех же выборках\r\n",
        "    data_save_path = '//content//gdrive//MyDrive//AgroCode_pre_snippets//dataset_agro_code//5_folds//'\r\n",
        "\r\n",
        "    datas = [train_files, train_labels, val_files, val_labels]\r\n",
        "    file_names = [f'train_files_fold_{i}.pickle', f'train_labels_fold_{i}.pickle', f'val_files_fold_{i}.pickle', f'val_labels_fold_{i}.pickle']\r\n",
        "\r\n",
        "    for data_i, file in zip(datas, file_names):\r\n",
        "        with open(data_save_path + file, 'wb') as f:\r\n",
        "            pickle.dump(data_i, f)\r\n",
        "\r\n",
        "    i += 1"
      ],
      "execution_count": null,
      "outputs": [
        {
          "output_type": "error",
          "ename": "ValueError",
          "evalue": "ignored",
          "traceback": [
            "\u001b[0;31m---------------------------------------------------------------------------\u001b[0m",
            "\u001b[0;31mValueError\u001b[0m                                Traceback (most recent call last)",
            "\u001b[0;32m<ipython-input-21-1eca3047f244>\u001b[0m in \u001b[0;36m<module>\u001b[0;34m()\u001b[0m\n\u001b[1;32m      1\u001b[0m \u001b[0mi\u001b[0m \u001b[0;34m=\u001b[0m \u001b[0;36m0\u001b[0m \u001b[0;31m# номер фолда\u001b[0m\u001b[0;34m\u001b[0m\u001b[0;34m\u001b[0m\u001b[0m\n\u001b[1;32m      2\u001b[0m \u001b[0;34m\u001b[0m\u001b[0m\n\u001b[0;32m----> 3\u001b[0;31m \u001b[0;32mfor\u001b[0m \u001b[0mtrain_index\u001b[0m\u001b[0;34m,\u001b[0m \u001b[0mtest_index\u001b[0m \u001b[0;32min\u001b[0m \u001b[0mkf\u001b[0m\u001b[0;34m.\u001b[0m\u001b[0msplit\u001b[0m\u001b[0;34m(\u001b[0m\u001b[0mfiles\u001b[0m\u001b[0;34m)\u001b[0m\u001b[0;34m:\u001b[0m\u001b[0;34m\u001b[0m\u001b[0;34m\u001b[0m\u001b[0m\n\u001b[0m\u001b[1;32m      4\u001b[0m     \u001b[0mtrain_files\u001b[0m\u001b[0;34m,\u001b[0m \u001b[0mval_files\u001b[0m \u001b[0;34m=\u001b[0m \u001b[0mnp\u001b[0m\u001b[0;34m.\u001b[0m\u001b[0marray\u001b[0m\u001b[0;34m(\u001b[0m\u001b[0mfiles\u001b[0m\u001b[0;34m)\u001b[0m\u001b[0;34m[\u001b[0m\u001b[0mtrain_index\u001b[0m\u001b[0;34m]\u001b[0m\u001b[0;34m.\u001b[0m\u001b[0mtolist\u001b[0m\u001b[0;34m(\u001b[0m\u001b[0;34m)\u001b[0m\u001b[0;34m,\u001b[0m \u001b[0mnp\u001b[0m\u001b[0;34m.\u001b[0m\u001b[0marray\u001b[0m\u001b[0;34m(\u001b[0m\u001b[0mfiles\u001b[0m\u001b[0;34m)\u001b[0m\u001b[0;34m[\u001b[0m\u001b[0mtest_index\u001b[0m\u001b[0;34m]\u001b[0m\u001b[0;34m.\u001b[0m\u001b[0mtolist\u001b[0m\u001b[0;34m(\u001b[0m\u001b[0;34m)\u001b[0m\u001b[0;34m\u001b[0m\u001b[0;34m\u001b[0m\u001b[0m\n\u001b[1;32m      5\u001b[0m \u001b[0;34m\u001b[0m\u001b[0m\n",
            "\u001b[0;32m/usr/local/lib/python3.6/dist-packages/sklearn/model_selection/_split.py\u001b[0m in \u001b[0;36msplit\u001b[0;34m(self, X, y, groups)\u001b[0m\n\u001b[1;32m    331\u001b[0m                 (\"Cannot have number of splits n_splits={0} greater\"\n\u001b[1;32m    332\u001b[0m                  \" than the number of samples: n_samples={1}.\")\n\u001b[0;32m--> 333\u001b[0;31m                 .format(self.n_splits, n_samples))\n\u001b[0m\u001b[1;32m    334\u001b[0m \u001b[0;34m\u001b[0m\u001b[0m\n\u001b[1;32m    335\u001b[0m         \u001b[0;32mfor\u001b[0m \u001b[0mtrain\u001b[0m\u001b[0;34m,\u001b[0m \u001b[0mtest\u001b[0m \u001b[0;32min\u001b[0m \u001b[0msuper\u001b[0m\u001b[0;34m(\u001b[0m\u001b[0;34m)\u001b[0m\u001b[0;34m.\u001b[0m\u001b[0msplit\u001b[0m\u001b[0;34m(\u001b[0m\u001b[0mX\u001b[0m\u001b[0;34m,\u001b[0m \u001b[0my\u001b[0m\u001b[0;34m,\u001b[0m \u001b[0mgroups\u001b[0m\u001b[0;34m)\u001b[0m\u001b[0;34m:\u001b[0m\u001b[0;34m\u001b[0m\u001b[0;34m\u001b[0m\u001b[0m\n",
            "\u001b[0;31mValueError\u001b[0m: Cannot have number of splits n_splits=5 greater than the number of samples: n_samples=0."
          ]
        }
      ]
    },
    {
      "cell_type": "markdown",
      "metadata": {
        "id": "puX8qFFMSAQb"
      },
      "source": [
        "# Cтатистика по всем фолдам!"
      ]
    },
    {
      "cell_type": "code",
      "metadata": {
        "id": "QRrZhsU8SH_h"
      },
      "source": [
        "f1_score_folds = []"
      ],
      "execution_count": null,
      "outputs": []
    },
    {
      "cell_type": "markdown",
      "metadata": {
        "id": "mAufQuJvG8Ar"
      },
      "source": [
        "# Fold 1"
      ]
    },
    {
      "cell_type": "markdown",
      "metadata": {
        "id": "X480H5If95yL"
      },
      "source": [
        "## Загружаем, созданное ранее разбиение"
      ]
    },
    {
      "cell_type": "code",
      "metadata": {
        "id": "Lm6apbY0HBS3"
      },
      "source": [
        "fold = 0"
      ],
      "execution_count": null,
      "outputs": []
    },
    {
      "cell_type": "code",
      "metadata": {
        "id": "vXFRPVl18vv6",
        "colab": {
          "base_uri": "https://localhost:8080/"
        },
        "outputId": "5db6ffe3-c7c1-4fa1-eafc-2eb08491b392"
      },
      "source": [
        "# загружаем сохранненное разбиение, чтобы нейросети учились\n",
        "# на одних и тех же выборках\n",
        "data_load_path = '//content//gdrive//MyDrive//AgroCode_pre_snippets//dataset_agro_code//5_folds//'\n",
        "\n",
        "print(f'Загружаем данные с fold {fold}')\n",
        " \n",
        "with open(data_load_path + f'train_files_fold_{fold}.pickle', 'rb') as f:\n",
        "    train_files = pickle.load(f)\n",
        " \n",
        "with open(data_load_path + f'train_labels_fold_{fold}.pickle', 'rb') as f:\n",
        "    train_labels = pickle.load(f)\n",
        " \n",
        "with open(data_load_path + f'val_files_fold_{fold}.pickle', 'rb') as f:\n",
        "    val_files = pickle.load(f)\n",
        " \n",
        "with open(data_load_path + f'val_labels_fold_{fold}.pickle', 'rb') as f:\n",
        "    val_labels = pickle.load(f)"
      ],
      "execution_count": null,
      "outputs": [
        {
          "output_type": "stream",
          "text": [
            "Загружаем данные с fold 0\n"
          ],
          "name": "stdout"
        }
      ]
    },
    {
      "cell_type": "markdown",
      "metadata": {
        "id": "iVnNaLBT99c4"
      },
      "source": [
        "## Dataset\n"
      ]
    },
    {
      "cell_type": "code",
      "metadata": {
        "id": "pkxL4ZTKBSKe"
      },
      "source": [
        "# разные режимы датасета \r\n",
        "DATA_MODES = ['train', 'val', 'test']\r\n",
        "# все изображения будут масштабированы к размеру 224x224 px\r\n",
        "RESCALE_SIZE = 224\r\n",
        "# работаем на видеокарте\r\n",
        "DEVICE = torch.device(\"cuda\")"
      ],
      "execution_count": null,
      "outputs": []
    },
    {
      "cell_type": "code",
      "metadata": {
        "id": "cj32U5iTQUe4"
      },
      "source": [
        "class AppleDataset(Dataset):\n",
        "    \"\"\"\n",
        "    Датасет с картинками, который паралельно подгружает их из папок\n",
        "    производит изменения размера картинок, аугментации и преобразование в тензоры\n",
        "    PyTorch\n",
        "    \"\"\"\n",
        "    def __init__(self, files, mode):\n",
        "        super().__init__()\n",
        "        # список файлов для загрузки\n",
        "        self.files = sorted(files)\n",
        "        # режим работы\n",
        "        self.mode = mode\n",
        "\n",
        "        if self.mode not in DATA_MODES:\n",
        "            print(f\"{self.mode} is not correct; correct modes: {DATA_MODES}\")\n",
        "            raise NameError\n",
        "\n",
        "        self.len_ = len(self.files)\n",
        "     \n",
        "        # кодировщик имен классов\n",
        "        self.label_encoder = LabelEncoder()\n",
        "\n",
        "        if self.mode != 'test':\n",
        "            self.labels = [path.parent.name for path in self.files]\n",
        "            self.label_encoder.fit(self.labels)\n",
        "\n",
        "            path = '//content//gdrive//MyDrive//AgroCode_pre_snippets//model//'\n",
        "            #path = '/content/gdrive/MyDrive/agb/model/'\n",
        "            with open(path + 'label_encoder.pkl', 'wb') as le_dump_file:\n",
        "                  pickle.dump(self.label_encoder, le_dump_file)\n",
        "                      \n",
        "    def __len__(self):\n",
        "        return self.len_\n",
        "      \n",
        "    def load_sample(self, file):\n",
        "        image = Image.open(file)\n",
        "        image.load()\n",
        "        return image\n",
        "  \n",
        "    def __getitem__(self, index):\n",
        "        # для преобразования изображений в тензоры PyTorch и нормализации входа\n",
        "        transform = transforms.Compose([\n",
        "            transforms.Resize(256),\n",
        "            transforms.CenterCrop(RESCALE_SIZE),\n",
        "            transforms.ToTensor(),\n",
        "            # mean и std для набора данных ImageNet на котором были обучены \n",
        "            # предобученные сети из torchvision\n",
        "            transforms.Normalize(mean=[0.485, 0.456, 0.406],\n",
        "                                 std=[0.229, 0.224, 0.225])\n",
        "            ])\n",
        "\n",
        "        # трансформация с аугментацией для обучающей выборки средствами PyTorch\n",
        "        transform_augment = transforms.Compose([\n",
        "            transforms.Resize(size=(256, 256)),\n",
        "            transforms.RandomResizedCrop(RESCALE_SIZE),\n",
        "            transforms.RandomHorizontalFlip(),\n",
        "            # transforms.RandomRotation(40),\n",
        "            # transforms.RandomPerspective(),\n",
        "            # transforms.ColorJitter(hue=.1, saturation=.1),\n",
        "            transforms.ToTensor(),\n",
        "            # mean и std для набора данных ImageNet на котором были обучены \n",
        "            # предобученные сети из torchvision\n",
        "            transforms.Normalize(mean=[0.485, 0.456, 0.406],\n",
        "                                 std=[0.229, 0.224, 0.225])\n",
        "            ])\n",
        "\n",
        "        x = self.load_sample(self.files[index])\n",
        "\n",
        "        # У нас тр режима датасета \n",
        "        # DATA_MODES = ['train', 'val', 'test']\n",
        "        # train - обчающая выборка на которой мы обучаем нейросеть \n",
        "        # (есть картинки и ответы к ним)\n",
        "        # val - валидационная выборка на которой мы тестируем как хорошо\n",
        "        #  нейросеть обучилась! (есть картинки и ответы к ним)\n",
        "        # test - тестовая выборка на которой мы предсказываем ответы для\n",
        "        #  скора в соревновании (есть картинки ответов нет!)\n",
        "\n",
        "        if self.mode == 'test': # если тестовая выборка у нас нет ответов и\n",
        "            x = transform(x)    # датасет не должен аугментировать картинки\n",
        "            return x\n",
        "        else:\n",
        "            if self.mode == 'train': # аугментируем обучающую выборку\n",
        "                x = transform_augment(x)\n",
        "            else:\n",
        "                x = transform(x) # не аугментируем валидационную выборку\n",
        "\n",
        "            # для train или val выборок у нас есть ответы по классам\n",
        "            label = self.labels[index]\n",
        "            label_id = self.label_encoder.transform([label])\n",
        "            y = label_id.item()\n",
        "            return x, y"
      ],
      "execution_count": null,
      "outputs": []
    },
    {
      "cell_type": "markdown",
      "metadata": {
        "id": "rakkL7r_ZpzK"
      },
      "source": [
        "### Ручной oversampling до 100 картинок (Выполняется для всех нейросетей в подзаголовках заголовка Теперь обучаем лучшими подходами)\n",
        "\n"
      ]
    },
    {
      "cell_type": "code",
      "metadata": {
        "colab": {
          "base_uri": "https://localhost:8080/"
        },
        "id": "8JyPrcaIZpzN",
        "outputId": "a57f3318-d7c4-4143-86ad-0d2fbe767393"
      },
      "source": [
        "BATCH_SIZE = 16\n",
        "\n",
        "# Создадим словарь в котором ключами будут ЯБЛОКИ, а значениями списки с путями к картинкам.\n",
        "dct_path_train = create_dct_path_labels(train_files, train_labels)\n",
        "\n",
        "# Дополним картинки классов у которых менее 100 картинок, до 100 картинок в классе\n",
        "for person in dct_path_train:\n",
        "    if len(dct_path_train[person]) < 100:\n",
        "        dct_path_train[person] = dct_path_train[person] * (100 // len(dct_path_train[person]))\n",
        "        dct_path_train[person].extend(dct_path_train[person][:100 - len(dct_path_train[person])])\n",
        "\n",
        "new_train_files = []\n",
        "\n",
        "for person in dct_path_train:\n",
        "    new_train_files.extend(dct_path_train[person])\n",
        "\n",
        "new_train_label = [path.parent.name for path in new_train_files] # классы train\n",
        "\n",
        "val_dataset = AppleDataset(val_files, mode='val')\n",
        "new_train_dataset = AppleDataset(new_train_files, mode='train')\n",
        "\n",
        "# определим загрузщики данных без взвешивания классов для их балансировки простой вариант\n",
        "# DataLoader достаёт данные из dataset батчами\n",
        "dataloaders = {'train': DataLoader(new_train_dataset, batch_size=BATCH_SIZE, shuffle=True),\n",
        "               'val': DataLoader(val_dataset, batch_size=BATCH_SIZE, shuffle=False)}\n",
        "dataset_sizes = {'train': len(new_train_dataset), 'val':len(val_dataset) }\n",
        "\n",
        "# Ничего не изменилось всех картинок и так больше 100!\n",
        "# исходный вариант {'train': 2282, 'val': 254}\n",
        "dataset_sizes"
      ],
      "execution_count": null,
      "outputs": [
        {
          "output_type": "execute_result",
          "data": {
            "text/plain": [
              "{'train': 1111, 'val': 278}"
            ]
          },
          "metadata": {
            "tags": []
          },
          "execution_count": 20
        }
      ]
    },
    {
      "cell_type": "markdown",
      "metadata": {
        "id": "-BdFpOoSDAtk"
      },
      "source": [
        "## ResNet-152"
      ]
    },
    {
      "cell_type": "code",
      "metadata": {
        "id": "iyfzKOc0DAto"
      },
      "source": [
        "# Создаём сеть\n",
        "model_resnet= models.resnet152(pretrained=True)"
      ],
      "execution_count": null,
      "outputs": []
    },
    {
      "cell_type": "code",
      "metadata": {
        "id": "jw4P9QhPCTIE"
      },
      "source": [
        "# посмотрим на сеть от которой мы делаем transfer learning\r\n",
        "#model_resnet"
      ],
      "execution_count": null,
      "outputs": []
    },
    {
      "cell_type": "code",
      "metadata": {
        "id": "nvy8JmeTChpR"
      },
      "source": [
        "#Заменяем родной классификатор model на наш новый линейный классификатор\r\n",
        "classes_number=2\r\n",
        "model_resnet.fc = nn.Linear(model_resnet.fc.in_features, classes_number)"
      ],
      "execution_count": null,
      "outputs": []
    },
    {
      "cell_type": "markdown",
      "metadata": {
        "id": "5SW-oeKGPqnb"
      },
      "source": [
        "##№ Подберем оптимальный learning rate для ResNet-152 (подбор learning rate осуществляем на классификаторе) делаем всего 1 раз для всех фолдов!"
      ]
    },
    {
      "cell_type": "code",
      "metadata": {
        "id": "agjq_i_BDXEJ"
      },
      "source": [
        "for param in model_resnet.parameters():\r\n",
        "    param.requires_grad = False\r\n",
        "\r\n",
        "for param in model_resnet.fc.parameters():\r\n",
        "    param.requires_grad = True"
      ],
      "execution_count": null,
      "outputs": []
    },
    {
      "cell_type": "code",
      "metadata": {
        "id": "ImmUDgXXDcOY"
      },
      "source": [
        "# посмотрим какие параметры в нашей модели можно обучать\r\n",
        "#print_params(model_resnet)"
      ],
      "execution_count": null,
      "outputs": []
    },
    {
      "cell_type": "code",
      "metadata": {
        "colab": {
          "base_uri": "https://localhost:8080/"
        },
        "id": "piCC-ECqER1J",
        "outputId": "43d0cfbd-6b99-4dcc-b559-c583857d4a1c"
      },
      "source": [
        "# посмотрим какие параметры учим (учим все слои)\r\n",
        "params_to_update = print_learn_params(model_resnet)"
      ],
      "execution_count": null,
      "outputs": [
        {
          "output_type": "stream",
          "text": [
            "Params to update:\n",
            "\t fc.weight\n",
            "\t fc.bias\n"
          ],
          "name": "stdout"
        }
      ]
    },
    {
      "cell_type": "code",
      "metadata": {
        "id": "SOZN5alREWbS"
      },
      "source": [
        "# В качестве cost function используем кросс-энтропию\r\n",
        "loss_fn = nn.CrossEntropyLoss()\r\n",
        "\r\n",
        "# В качестве оптимизатора AdaShift из репозитория МФТИ\r\n",
        "optimizer = torch.optim.Adam(params_to_update, lr=1e-3, amsgrad=True)\r\n",
        "\r\n",
        "# Задем планировщик изменения learning rate нашего оптимизатора.\r\n",
        "# будет просто умножать lr optimizer на gamma, каждые step_size эпох.\r\n",
        "# step_lr_scheduler = lr_scheduler.StepLR(optimizer, step_size=30, gamma=0.1)\r\n",
        "\r\n",
        "# Использовать ли GPU\r\n",
        "model_resnet = model_resnet.cuda()"
      ],
      "execution_count": null,
      "outputs": []
    },
    {
      "cell_type": "code",
      "metadata": {
        "id": "EaQ6XJn_MA4Y"
      },
      "source": [
        "# подбор оптимального lr для классификатора model.fc\r\n",
        "logs, losses = find_lr(model_resnet, dataloaders, loss_fn, optimizer, init_value=1e-8, final_value=10.0)"
      ],
      "execution_count": null,
      "outputs": []
    },
    {
      "cell_type": "code",
      "metadata": {
        "colab": {
          "base_uri": "https://localhost:8080/"
        },
        "id": "NFf08W7SMj16",
        "outputId": "b92193df-d9de-46f9-b3fb-caf98b581c57"
      },
      "source": [
        "# построим график для оптимального подбора lr\r\n",
        "fig = plt.figure(figsize=(10,10))\r\n",
        "ax = fig.add_subplot(111)\r\n",
        "ax.plot(logs,losses)\r\n",
        "ax.set_xlabel(\"$10^x$\")\r\n",
        "ax.set_ylabel(\"loss\")"
      ],
      "execution_count": null,
      "outputs": [
        {
          "output_type": "execute_result",
          "data": {
            "text/plain": [
              "Text(0, 0.5, 'loss')"
            ]
          },
          "metadata": {
            "tags": []
          },
          "execution_count": 44
        },
        {
          "output_type": "display_data",
          "data": {
            "image/png": "[encoded data removed]",
            "text/plain": [
              "<Figure size 720x720 with 1 Axes>"
            ]
          },
          "metadata": {
            "tags": [],
            "needs_background": "light"
          }
        }
      ]
    },
    {
      "cell_type": "code",
      "metadata": {
        "id": "KQ93eFgcv-KQ"
      },
      "source": [
        "# освободим cuda кэш\n",
        "torch.cuda.empty_cache()"
      ],
      "execution_count": null,
      "outputs": []
    },
    {
      "cell_type": "markdown",
      "metadata": {
        "id": "xdcKZm_KDAty"
      },
      "source": [
        "По оси абсцисс у нас значение lr ее степени 10 (например x=-2 , значит что lr=10**-2=0.01) по оси ординат показаны значения loss функции полученные при даном lr. Значение оптимального lr наблюдается там где у нас видно резкое спадание значения loss функции по графику. Резкий спад наблюдается от lr=[10**-4, 10**-2] , поэтому в данном случае оптимальным будет lr=10**-3."
      ]
    },
    {
      "cell_type": "markdown",
      "metadata": {
        "id": "kiq-J1qwQScg"
      },
      "source": [
        "## Обучение ResNet подходом Differential Groups Layers"
      ]
    },
    {
      "cell_type": "code",
      "metadata": {
        "colab": {
          "base_uri": "https://localhost:8080/"
        },
        "id": "CMAcTzrgDAty",
        "outputId": "32103a95-57f4-4318-c13e-28dc014ea040"
      },
      "source": [
        "# из графика видно, что лучший lr для это 1e-3\n",
        "found_lr = 1e-3\n",
        "found_lr"
      ],
      "execution_count": null,
      "outputs": [
        {
          "output_type": "execute_result",
          "data": {
            "text/plain": [
              "0.001"
            ]
          },
          "metadata": {
            "tags": []
          },
          "execution_count": 28
        }
      ]
    },
    {
      "cell_type": "markdown",
      "metadata": {
        "id": "YY_7QLcXQdod"
      },
      "source": [
        "веса подобраны перезапускаем ноутбук, только теперь переходим сразу к обучению модели без подбора learning_rate"
      ]
    },
    {
      "cell_type": "code",
      "metadata": {
        "colab": {
          "base_uri": "https://localhost:8080/"
        },
        "id": "A1QYUbIjItYK",
        "outputId": "b5f1ce07-ab9d-41e1-c53e-1decd7c3b845"
      },
      "source": [
        "BATCH_SIZE"
      ],
      "execution_count": null,
      "outputs": [
        {
          "output_type": "execute_result",
          "data": {
            "text/plain": [
              "16"
            ]
          },
          "metadata": {
            "tags": []
          },
          "execution_count": 29
        }
      ]
    },
    {
      "cell_type": "code",
      "metadata": {
        "id": "uwJ6jqblJdNB"
      },
      "source": [
        "# теперь нам необходимо сделать все веса обучаемыми снова!\n",
        "for param in model_resnet.parameters():\n",
        "    param.requires_grad = True"
      ],
      "execution_count": null,
      "outputs": []
    },
    {
      "cell_type": "code",
      "metadata": {
        "colab": {
          "base_uri": "https://localhost:8080/"
        },
        "id": "NnVBa7GfJPXO",
        "outputId": "662840af-2a37-4910-ef65-eb1997c73dba"
      },
      "source": [
        "# посмотрим какие параметры учим (учим все слои)\n",
        "params_to_update = print_learn_params(model_resnet)"
      ],
      "execution_count": null,
      "outputs": [
        {
          "output_type": "stream",
          "text": [
            "Params to update:\n",
            "\t conv1.weight\n",
            "\t bn1.weight\n",
            "\t bn1.bias\n",
            "\t layer1.0.conv1.weight\n",
            "\t layer1.0.bn1.weight\n",
            "\t layer1.0.bn1.bias\n",
            "\t layer1.0.conv2.weight\n",
            "\t layer1.0.bn2.weight\n",
            "\t layer1.0.bn2.bias\n",
            "\t layer1.0.conv3.weight\n",
            "\t layer1.0.bn3.weight\n",
            "\t layer1.0.bn3.bias\n",
            "\t layer1.0.downsample.0.weight\n",
            "\t layer1.0.downsample.1.weight\n",
            "\t layer1.0.downsample.1.bias\n",
            "\t layer1.1.conv1.weight\n",
            "\t layer1.1.bn1.weight\n",
            "\t layer1.1.bn1.bias\n",
            "\t layer1.1.conv2.weight\n",
            "\t layer1.1.bn2.weight\n",
            "\t layer1.1.bn2.bias\n",
            "\t layer1.1.conv3.weight\n",
            "\t layer1.1.bn3.weight\n",
            "\t layer1.1.bn3.bias\n",
            "\t layer1.2.conv1.weight\n",
            "\t layer1.2.bn1.weight\n",
            "\t layer1.2.bn1.bias\n",
            "\t layer1.2.conv2.weight\n",
            "\t layer1.2.bn2.weight\n",
            "\t layer1.2.bn2.bias\n",
            "\t layer1.2.conv3.weight\n",
            "\t layer1.2.bn3.weight\n",
            "\t layer1.2.bn3.bias\n",
            "\t layer2.0.conv1.weight\n",
            "\t layer2.0.bn1.weight\n",
            "\t layer2.0.bn1.bias\n",
            "\t layer2.0.conv2.weight\n",
            "\t layer2.0.bn2.weight\n",
            "\t layer2.0.bn2.bias\n",
            "\t layer2.0.conv3.weight\n",
            "\t layer2.0.bn3.weight\n",
            "\t layer2.0.bn3.bias\n",
            "\t layer2.0.downsample.0.weight\n",
            "\t layer2.0.downsample.1.weight\n",
            "\t layer2.0.downsample.1.bias\n",
            "\t layer2.1.conv1.weight\n",
            "\t layer2.1.bn1.weight\n",
            "\t layer2.1.bn1.bias\n",
            "\t layer2.1.conv2.weight\n",
            "\t layer2.1.bn2.weight\n",
            "\t layer2.1.bn2.bias\n",
            "\t layer2.1.conv3.weight\n",
            "\t layer2.1.bn3.weight\n",
            "\t layer2.1.bn3.bias\n",
            "\t layer2.2.conv1.weight\n",
            "\t layer2.2.bn1.weight\n",
            "\t layer2.2.bn1.bias\n",
            "\t layer2.2.conv2.weight\n",
            "\t layer2.2.bn2.weight\n",
            "\t layer2.2.bn2.bias\n",
            "\t layer2.2.conv3.weight\n",
            "\t layer2.2.bn3.weight\n",
            "\t layer2.2.bn3.bias\n",
            "\t layer2.3.conv1.weight\n",
            "\t layer2.3.bn1.weight\n",
            "\t layer2.3.bn1.bias\n",
            "\t layer2.3.conv2.weight\n",
            "\t layer2.3.bn2.weight\n",
            "\t layer2.3.bn2.bias\n",
            "\t layer2.3.conv3.weight\n",
            "\t layer2.3.bn3.weight\n",
            "\t layer2.3.bn3.bias\n",
            "\t layer2.4.conv1.weight\n",
            "\t layer2.4.bn1.weight\n",
            "\t layer2.4.bn1.bias\n",
            "\t layer2.4.conv2.weight\n",
            "\t layer2.4.bn2.weight\n",
            "\t layer2.4.bn2.bias\n",
            "\t layer2.4.conv3.weight\n",
            "\t layer2.4.bn3.weight\n",
            "\t layer2.4.bn3.bias\n",
            "\t layer2.5.conv1.weight\n",
            "\t layer2.5.bn1.weight\n",
            "\t layer2.5.bn1.bias\n",
            "\t layer2.5.conv2.weight\n",
            "\t layer2.5.bn2.weight\n",
            "\t layer2.5.bn2.bias\n",
            "\t layer2.5.conv3.weight\n",
            "\t layer2.5.bn3.weight\n",
            "\t layer2.5.bn3.bias\n",
            "\t layer2.6.conv1.weight\n",
            "\t layer2.6.bn1.weight\n",
            "\t layer2.6.bn1.bias\n",
            "\t layer2.6.conv2.weight\n",
            "\t layer2.6.bn2.weight\n",
            "\t layer2.6.bn2.bias\n",
            "\t layer2.6.conv3.weight\n",
            "\t layer2.6.bn3.weight\n",
            "\t layer2.6.bn3.bias\n",
            "\t layer2.7.conv1.weight\n",
            "\t layer2.7.bn1.weight\n",
            "\t layer2.7.bn1.bias\n",
            "\t layer2.7.conv2.weight\n",
            "\t layer2.7.bn2.weight\n",
            "\t layer2.7.bn2.bias\n",
            "\t layer2.7.conv3.weight\n",
            "\t layer2.7.bn3.weight\n",
            "\t layer2.7.bn3.bias\n",
            "\t layer3.0.conv1.weight\n",
            "\t layer3.0.bn1.weight\n",
            "\t layer3.0.bn1.bias\n",
            "\t layer3.0.conv2.weight\n",
            "\t layer3.0.bn2.weight\n",
            "\t layer3.0.bn2.bias\n",
            "\t layer3.0.conv3.weight\n",
            "\t layer3.0.bn3.weight\n",
            "\t layer3.0.bn3.bias\n",
            "\t layer3.0.downsample.0.weight\n",
            "\t layer3.0.downsample.1.weight\n",
            "\t layer3.0.downsample.1.bias\n",
            "\t layer3.1.conv1.weight\n",
            "\t layer3.1.bn1.weight\n",
            "\t layer3.1.bn1.bias\n",
            "\t layer3.1.conv2.weight\n",
            "\t layer3.1.bn2.weight\n",
            "\t layer3.1.bn2.bias\n",
            "\t layer3.1.conv3.weight\n",
            "\t layer3.1.bn3.weight\n",
            "\t layer3.1.bn3.bias\n",
            "\t layer3.2.conv1.weight\n",
            "\t layer3.2.bn1.weight\n",
            "\t layer3.2.bn1.bias\n",
            "\t layer3.2.conv2.weight\n",
            "\t layer3.2.bn2.weight\n",
            "\t layer3.2.bn2.bias\n",
            "\t layer3.2.conv3.weight\n",
            "\t layer3.2.bn3.weight\n",
            "\t layer3.2.bn3.bias\n",
            "\t layer3.3.conv1.weight\n",
            "\t layer3.3.bn1.weight\n",
            "\t layer3.3.bn1.bias\n",
            "\t layer3.3.conv2.weight\n",
            "\t layer3.3.bn2.weight\n",
            "\t layer3.3.bn2.bias\n",
            "\t layer3.3.conv3.weight\n",
            "\t layer3.3.bn3.weight\n",
            "\t layer3.3.bn3.bias\n",
            "\t layer3.4.conv1.weight\n",
            "\t layer3.4.bn1.weight\n",
            "\t layer3.4.bn1.bias\n",
            "\t layer3.4.conv2.weight\n",
            "\t layer3.4.bn2.weight\n",
            "\t layer3.4.bn2.bias\n",
            "\t layer3.4.conv3.weight\n",
            "\t layer3.4.bn3.weight\n",
            "\t layer3.4.bn3.bias\n",
            "\t layer3.5.conv1.weight\n",
            "\t layer3.5.bn1.weight\n",
            "\t layer3.5.bn1.bias\n",
            "\t layer3.5.conv2.weight\n",
            "\t layer3.5.bn2.weight\n",
            "\t layer3.5.bn2.bias\n",
            "\t layer3.5.conv3.weight\n",
            "\t layer3.5.bn3.weight\n",
            "\t layer3.5.bn3.bias\n",
            "\t layer3.6.conv1.weight\n",
            "\t layer3.6.bn1.weight\n",
            "\t layer3.6.bn1.bias\n",
            "\t layer3.6.conv2.weight\n",
            "\t layer3.6.bn2.weight\n",
            "\t layer3.6.bn2.bias\n",
            "\t layer3.6.conv3.weight\n",
            "\t layer3.6.bn3.weight\n",
            "\t layer3.6.bn3.bias\n",
            "\t layer3.7.conv1.weight\n",
            "\t layer3.7.bn1.weight\n",
            "\t layer3.7.bn1.bias\n",
            "\t layer3.7.conv2.weight\n",
            "\t layer3.7.bn2.weight\n",
            "\t layer3.7.bn2.bias\n",
            "\t layer3.7.conv3.weight\n",
            "\t layer3.7.bn3.weight\n",
            "\t layer3.7.bn3.bias\n",
            "\t layer3.8.conv1.weight\n",
            "\t layer3.8.bn1.weight\n",
            "\t layer3.8.bn1.bias\n",
            "\t layer3.8.conv2.weight\n",
            "\t layer3.8.bn2.weight\n",
            "\t layer3.8.bn2.bias\n",
            "\t layer3.8.conv3.weight\n",
            "\t layer3.8.bn3.weight\n",
            "\t layer3.8.bn3.bias\n",
            "\t layer3.9.conv1.weight\n",
            "\t layer3.9.bn1.weight\n",
            "\t layer3.9.bn1.bias\n",
            "\t layer3.9.conv2.weight\n",
            "\t layer3.9.bn2.weight\n",
            "\t layer3.9.bn2.bias\n",
            "\t layer3.9.conv3.weight\n",
            "\t layer3.9.bn3.weight\n",
            "\t layer3.9.bn3.bias\n",
            "\t layer3.10.conv1.weight\n",
            "\t layer3.10.bn1.weight\n",
            "\t layer3.10.bn1.bias\n",
            "\t layer3.10.conv2.weight\n",
            "\t layer3.10.bn2.weight\n",
            "\t layer3.10.bn2.bias\n",
            "\t layer3.10.conv3.weight\n",
            "\t layer3.10.bn3.weight\n",
            "\t layer3.10.bn3.bias\n",
            "\t layer3.11.conv1.weight\n",
            "\t layer3.11.bn1.weight\n",
            "\t layer3.11.bn1.bias\n",
            "\t layer3.11.conv2.weight\n",
            "\t layer3.11.bn2.weight\n",
            "\t layer3.11.bn2.bias\n",
            "\t layer3.11.conv3.weight\n",
            "\t layer3.11.bn3.weight\n",
            "\t layer3.11.bn3.bias\n",
            "\t layer3.12.conv1.weight\n",
            "\t layer3.12.bn1.weight\n",
            "\t layer3.12.bn1.bias\n",
            "\t layer3.12.conv2.weight\n",
            "\t layer3.12.bn2.weight\n",
            "\t layer3.12.bn2.bias\n",
            "\t layer3.12.conv3.weight\n",
            "\t layer3.12.bn3.weight\n",
            "\t layer3.12.bn3.bias\n",
            "\t layer3.13.conv1.weight\n",
            "\t layer3.13.bn1.weight\n",
            "\t layer3.13.bn1.bias\n",
            "\t layer3.13.conv2.weight\n",
            "\t layer3.13.bn2.weight\n",
            "\t layer3.13.bn2.bias\n",
            "\t layer3.13.conv3.weight\n",
            "\t layer3.13.bn3.weight\n",
            "\t layer3.13.bn3.bias\n",
            "\t layer3.14.conv1.weight\n",
            "\t layer3.14.bn1.weight\n",
            "\t layer3.14.bn1.bias\n",
            "\t layer3.14.conv2.weight\n",
            "\t layer3.14.bn2.weight\n",
            "\t layer3.14.bn2.bias\n",
            "\t layer3.14.conv3.weight\n",
            "\t layer3.14.bn3.weight\n",
            "\t layer3.14.bn3.bias\n",
            "\t layer3.15.conv1.weight\n",
            "\t layer3.15.bn1.weight\n",
            "\t layer3.15.bn1.bias\n",
            "\t layer3.15.conv2.weight\n",
            "\t layer3.15.bn2.weight\n",
            "\t layer3.15.bn2.bias\n",
            "\t layer3.15.conv3.weight\n",
            "\t layer3.15.bn3.weight\n",
            "\t layer3.15.bn3.bias\n",
            "\t layer3.16.conv1.weight\n",
            "\t layer3.16.bn1.weight\n",
            "\t layer3.16.bn1.bias\n",
            "\t layer3.16.conv2.weight\n",
            "\t layer3.16.bn2.weight\n",
            "\t layer3.16.bn2.bias\n",
            "\t layer3.16.conv3.weight\n",
            "\t layer3.16.bn3.weight\n",
            "\t layer3.16.bn3.bias\n",
            "\t layer3.17.conv1.weight\n",
            "\t layer3.17.bn1.weight\n",
            "\t layer3.17.bn1.bias\n",
            "\t layer3.17.conv2.weight\n",
            "\t layer3.17.bn2.weight\n",
            "\t layer3.17.bn2.bias\n",
            "\t layer3.17.conv3.weight\n",
            "\t layer3.17.bn3.weight\n",
            "\t layer3.17.bn3.bias\n",
            "\t layer3.18.conv1.weight\n",
            "\t layer3.18.bn1.weight\n",
            "\t layer3.18.bn1.bias\n",
            "\t layer3.18.conv2.weight\n",
            "\t layer3.18.bn2.weight\n",
            "\t layer3.18.bn2.bias\n",
            "\t layer3.18.conv3.weight\n",
            "\t layer3.18.bn3.weight\n",
            "\t layer3.18.bn3.bias\n",
            "\t layer3.19.conv1.weight\n",
            "\t layer3.19.bn1.weight\n",
            "\t layer3.19.bn1.bias\n",
            "\t layer3.19.conv2.weight\n",
            "\t layer3.19.bn2.weight\n",
            "\t layer3.19.bn2.bias\n",
            "\t layer3.19.conv3.weight\n",
            "\t layer3.19.bn3.weight\n",
            "\t layer3.19.bn3.bias\n",
            "\t layer3.20.conv1.weight\n",
            "\t layer3.20.bn1.weight\n",
            "\t layer3.20.bn1.bias\n",
            "\t layer3.20.conv2.weight\n",
            "\t layer3.20.bn2.weight\n",
            "\t layer3.20.bn2.bias\n",
            "\t layer3.20.conv3.weight\n",
            "\t layer3.20.bn3.weight\n",
            "\t layer3.20.bn3.bias\n",
            "\t layer3.21.conv1.weight\n",
            "\t layer3.21.bn1.weight\n",
            "\t layer3.21.bn1.bias\n",
            "\t layer3.21.conv2.weight\n",
            "\t layer3.21.bn2.weight\n",
            "\t layer3.21.bn2.bias\n",
            "\t layer3.21.conv3.weight\n",
            "\t layer3.21.bn3.weight\n",
            "\t layer3.21.bn3.bias\n",
            "\t layer3.22.conv1.weight\n",
            "\t layer3.22.bn1.weight\n",
            "\t layer3.22.bn1.bias\n",
            "\t layer3.22.conv2.weight\n",
            "\t layer3.22.bn2.weight\n",
            "\t layer3.22.bn2.bias\n",
            "\t layer3.22.conv3.weight\n",
            "\t layer3.22.bn3.weight\n",
            "\t layer3.22.bn3.bias\n",
            "\t layer3.23.conv1.weight\n",
            "\t layer3.23.bn1.weight\n",
            "\t layer3.23.bn1.bias\n",
            "\t layer3.23.conv2.weight\n",
            "\t layer3.23.bn2.weight\n",
            "\t layer3.23.bn2.bias\n",
            "\t layer3.23.conv3.weight\n",
            "\t layer3.23.bn3.weight\n",
            "\t layer3.23.bn3.bias\n",
            "\t layer3.24.conv1.weight\n",
            "\t layer3.24.bn1.weight\n",
            "\t layer3.24.bn1.bias\n",
            "\t layer3.24.conv2.weight\n",
            "\t layer3.24.bn2.weight\n",
            "\t layer3.24.bn2.bias\n",
            "\t layer3.24.conv3.weight\n",
            "\t layer3.24.bn3.weight\n",
            "\t layer3.24.bn3.bias\n",
            "\t layer3.25.conv1.weight\n",
            "\t layer3.25.bn1.weight\n",
            "\t layer3.25.bn1.bias\n",
            "\t layer3.25.conv2.weight\n",
            "\t layer3.25.bn2.weight\n",
            "\t layer3.25.bn2.bias\n",
            "\t layer3.25.conv3.weight\n",
            "\t layer3.25.bn3.weight\n",
            "\t layer3.25.bn3.bias\n",
            "\t layer3.26.conv1.weight\n",
            "\t layer3.26.bn1.weight\n",
            "\t layer3.26.bn1.bias\n",
            "\t layer3.26.conv2.weight\n",
            "\t layer3.26.bn2.weight\n",
            "\t layer3.26.bn2.bias\n",
            "\t layer3.26.conv3.weight\n",
            "\t layer3.26.bn3.weight\n",
            "\t layer3.26.bn3.bias\n",
            "\t layer3.27.conv1.weight\n",
            "\t layer3.27.bn1.weight\n",
            "\t layer3.27.bn1.bias\n",
            "\t layer3.27.conv2.weight\n",
            "\t layer3.27.bn2.weight\n",
            "\t layer3.27.bn2.bias\n",
            "\t layer3.27.conv3.weight\n",
            "\t layer3.27.bn3.weight\n",
            "\t layer3.27.bn3.bias\n",
            "\t layer3.28.conv1.weight\n",
            "\t layer3.28.bn1.weight\n",
            "\t layer3.28.bn1.bias\n",
            "\t layer3.28.conv2.weight\n",
            "\t layer3.28.bn2.weight\n",
            "\t layer3.28.bn2.bias\n",
            "\t layer3.28.conv3.weight\n",
            "\t layer3.28.bn3.weight\n",
            "\t layer3.28.bn3.bias\n",
            "\t layer3.29.conv1.weight\n",
            "\t layer3.29.bn1.weight\n",
            "\t layer3.29.bn1.bias\n",
            "\t layer3.29.conv2.weight\n",
            "\t layer3.29.bn2.weight\n",
            "\t layer3.29.bn2.bias\n",
            "\t layer3.29.conv3.weight\n",
            "\t layer3.29.bn3.weight\n",
            "\t layer3.29.bn3.bias\n",
            "\t layer3.30.conv1.weight\n",
            "\t layer3.30.bn1.weight\n",
            "\t layer3.30.bn1.bias\n",
            "\t layer3.30.conv2.weight\n",
            "\t layer3.30.bn2.weight\n",
            "\t layer3.30.bn2.bias\n",
            "\t layer3.30.conv3.weight\n",
            "\t layer3.30.bn3.weight\n",
            "\t layer3.30.bn3.bias\n",
            "\t layer3.31.conv1.weight\n",
            "\t layer3.31.bn1.weight\n",
            "\t layer3.31.bn1.bias\n",
            "\t layer3.31.conv2.weight\n",
            "\t layer3.31.bn2.weight\n",
            "\t layer3.31.bn2.bias\n",
            "\t layer3.31.conv3.weight\n",
            "\t layer3.31.bn3.weight\n",
            "\t layer3.31.bn3.bias\n",
            "\t layer3.32.conv1.weight\n",
            "\t layer3.32.bn1.weight\n",
            "\t layer3.32.bn1.bias\n",
            "\t layer3.32.conv2.weight\n",
            "\t layer3.32.bn2.weight\n",
            "\t layer3.32.bn2.bias\n",
            "\t layer3.32.conv3.weight\n",
            "\t layer3.32.bn3.weight\n",
            "\t layer3.32.bn3.bias\n",
            "\t layer3.33.conv1.weight\n",
            "\t layer3.33.bn1.weight\n",
            "\t layer3.33.bn1.bias\n",
            "\t layer3.33.conv2.weight\n",
            "\t layer3.33.bn2.weight\n",
            "\t layer3.33.bn2.bias\n",
            "\t layer3.33.conv3.weight\n",
            "\t layer3.33.bn3.weight\n",
            "\t layer3.33.bn3.bias\n",
            "\t layer3.34.conv1.weight\n",
            "\t layer3.34.bn1.weight\n",
            "\t layer3.34.bn1.bias\n",
            "\t layer3.34.conv2.weight\n",
            "\t layer3.34.bn2.weight\n",
            "\t layer3.34.bn2.bias\n",
            "\t layer3.34.conv3.weight\n",
            "\t layer3.34.bn3.weight\n",
            "\t layer3.34.bn3.bias\n",
            "\t layer3.35.conv1.weight\n",
            "\t layer3.35.bn1.weight\n",
            "\t layer3.35.bn1.bias\n",
            "\t layer3.35.conv2.weight\n",
            "\t layer3.35.bn2.weight\n",
            "\t layer3.35.bn2.bias\n",
            "\t layer3.35.conv3.weight\n",
            "\t layer3.35.bn3.weight\n",
            "\t layer3.35.bn3.bias\n",
            "\t layer4.0.conv1.weight\n",
            "\t layer4.0.bn1.weight\n",
            "\t layer4.0.bn1.bias\n",
            "\t layer4.0.conv2.weight\n",
            "\t layer4.0.bn2.weight\n",
            "\t layer4.0.bn2.bias\n",
            "\t layer4.0.conv3.weight\n",
            "\t layer4.0.bn3.weight\n",
            "\t layer4.0.bn3.bias\n",
            "\t layer4.0.downsample.0.weight\n",
            "\t layer4.0.downsample.1.weight\n",
            "\t layer4.0.downsample.1.bias\n",
            "\t layer4.1.conv1.weight\n",
            "\t layer4.1.bn1.weight\n",
            "\t layer4.1.bn1.bias\n",
            "\t layer4.1.conv2.weight\n",
            "\t layer4.1.bn2.weight\n",
            "\t layer4.1.bn2.bias\n",
            "\t layer4.1.conv3.weight\n",
            "\t layer4.1.bn3.weight\n",
            "\t layer4.1.bn3.bias\n",
            "\t layer4.2.conv1.weight\n",
            "\t layer4.2.bn1.weight\n",
            "\t layer4.2.bn1.bias\n",
            "\t layer4.2.conv2.weight\n",
            "\t layer4.2.bn2.weight\n",
            "\t layer4.2.bn2.bias\n",
            "\t layer4.2.conv3.weight\n",
            "\t layer4.2.bn3.weight\n",
            "\t layer4.2.bn3.bias\n",
            "\t fc.weight\n",
            "\t fc.bias\n"
          ],
          "name": "stdout"
        }
      ]
    },
    {
      "cell_type": "markdown",
      "metadata": {
        "id": "yVCfe9_6IK9d"
      },
      "source": [
        "### Обучение раздельными группами"
      ]
    },
    {
      "cell_type": "code",
      "metadata": {
        "id": "gpIfesRL4p9v"
      },
      "source": [
        "# В качестве cost function используем кросс-энтропию\n",
        "loss_fn = nn.CrossEntropyLoss()\n",
        " \n",
        "# Дифференциальное обучение подход взят из \n",
        "# https://blog.slavv.com/differential-learning-rates-59eff5209a4f\n",
        "# и книги Ian Pointer - Programming PyTorch for Deep Learning_ Creating and Deploying Deep Learning Applications-O’Reilly Media (2019)\n",
        "# сылка на книгу на goodreads (https://www.goodreads.com/book/show/48225828-programming-pytorch-for-deep-learning)\n",
        "# Chapter 4. Transfer Learning and Other Tricks про\n",
        "# Transfer Learning with ResNet50\n",
        " \n",
        "# Выставляем различные скорости обучения для различных слоев\n",
        "optimizer = torch.optim.Adam([\n",
        "{ 'params': model_resnet.fc.parameters(), 'lr': found_lr},\n",
        "{ 'params': model_resnet.layer4.parameters(), 'lr': found_lr / 3},\n",
        "{ 'params': model_resnet.layer3.parameters(), 'lr': found_lr / 10},\n",
        "{ 'params': model_resnet.layer2.parameters(), 'lr': found_lr / 50},\n",
        "{ 'params': model_resnet.layer1.parameters(), 'lr': found_lr / 100},\n",
        "{'params': model_resnet.bn1.parameters(), 'lr': found_lr / 100},\n",
        "{'params': model_resnet.conv1.parameters(), 'lr': found_lr / 100}],\n",
        "lr=found_lr / 100, amsgrad=True)\n",
        " \n",
        " \n",
        "# Задем планировщик изменения learning rate нашего оптимизатора.\n",
        "# будет просто умножать lr optimizer на gamma, каждые step_size эпох.\n",
        "# step_lr_scheduler = lr_scheduler.StepLR(optimizer, step_size=30, gamma=0.1)\n",
        " \n",
        "# Использовать ли GPU\n",
        "model_resnet= model_resnet.cuda()"
      ],
      "execution_count": null,
      "outputs": []
    },
    {
      "cell_type": "markdown",
      "metadata": {
        "id": "JHK1OPvMIRBQ"
      },
      "source": [
        "### Или обучение одним LR на все слои"
      ]
    },
    {
      "cell_type": "code",
      "metadata": {
        "id": "Cd7bI8E2JPSt"
      },
      "source": [
        "# В качестве cost function используем кросс-энтропию\r\n",
        "loss_fn = nn.CrossEntropyLoss()\r\n",
        " \r\n",
        "# Дифференциальное обучение подход взят из \r\n",
        "# https://blog.slavv.com/differential-learning-rates-59eff5209a4f\r\n",
        "# и книги Ian Pointer - Programming PyTorch for Deep Learning_ Creating and Deploying Deep Learning Applications-O’Reilly Media (2019)\r\n",
        "# сылка на книгу на goodreads (https://www.goodreads.com/book/show/48225828-programming-pytorch-for-deep-learning)\r\n",
        "# Chapter 4. Transfer Learning and Other Tricks про\r\n",
        "# Transfer Learning with ResNet50\r\n",
        " \r\n",
        "# Выставляем различные скорости обучения для различных слоев\r\n",
        "optimizer = torch.optim.Adam(model_resnet.parameters(), lr=found_lr / 100, amsgrad=True)\r\n",
        " \r\n",
        " \r\n",
        "# Задем планировщик изменения learning rate нашего оптимизатора.\r\n",
        "# будет просто умножать lr optimizer на gamma, каждые step_size эпох.\r\n",
        "# step_lr_scheduler = lr_scheduler.StepLR(optimizer, step_size=30, gamma=0.1)\r\n",
        " \r\n",
        "# Использовать ли GPU\r\n",
        "model_resnet= model_resnet.cuda()"
      ],
      "execution_count": null,
      "outputs": []
    },
    {
      "cell_type": "markdown",
      "metadata": {
        "id": "k3bpBkIM4p9q"
      },
      "source": [
        "### 1-вый цикл обучения (20 эпох) Accuracy: 0.9859"
      ]
    },
    {
      "cell_type": "code",
      "metadata": {
        "id": "Hy6c3HN04p90"
      },
      "source": [
        "# Зададим путь для сохранения моделей!\n",
        "# path = f'/content/gdrive/MyDrive/agb/model/ResNet34_FixLR_AdamW_aug_oversampling_batchsize_16_fold_{fold}'\n",
        "path = f'/content/gdrive/MyDrive/Local_AgroCode_pre_snippets/model/ResNet152_DGL_Adam_aug_oversampling_batchsize_16_fold_{fold}'"
      ],
      "execution_count": null,
      "outputs": []
    },
    {
      "cell_type": "code",
      "metadata": {
        "colab": {
          "base_uri": "https://localhost:8080/",
          "height": 35
        },
        "id": "jcUVdFtuRgOX",
        "outputId": "1d0dc0bd-01f6-48b5-9009-3fcbb404cd19"
      },
      "source": [
        "path"
      ],
      "execution_count": null,
      "outputs": [
        {
          "output_type": "execute_result",
          "data": {
            "application/vnd.google.colaboratory.intrinsic+json": {
              "type": "string"
            },
            "text/plain": [
              "'/content/gdrive/MyDrive/Local_AgroCode_pre_snippets/model/ResNet152_DGL_Adam_aug_oversampling_batchsize_16_fold_0'"
            ]
          },
          "metadata": {
            "tags": []
          },
          "execution_count": 35
        }
      ]
    },
    {
      "cell_type": "code",
      "metadata": {
        "colab": {
          "base_uri": "https://localhost:8080/",
          "height": 1000,
          "referenced_widgets": [
            "5d2460182df24c2b9deae025e79661f2",
            "8e29dbb727a14a2e8a9e1b689e5212c0",
            "32b3f9e70d814cc29dd4ba249ba478b0",
            "142f00c9e97f48a5963bf41fea5faa1f",
            "4151bbb316f04010b065b7fef39b6bb4",
            "f316509fd1a540b9a456496817b448a6",
            "d30dd8f26aa04c68abf4c95e885c09ef",
            "e7babb510d6d4f3e9768a6bb6fb3094a"
          ]
        },
        "id": "9EV_OVXL4p92",
        "outputId": "c2c606bc-9da0-4af3-a0ea-d60db3667875"
      },
      "source": [
        "# Обучаем модель (Неиспользуется в финальном score можно сразу загрузить веса!)\n",
        "model_resnet, losses, acc, best_model_wts = train_model(model_resnet, dataloaders, loss_fn, optimizer, num_epochs=20, flag_save_wts_to_file=True, path=path)"
      ],
      "execution_count": null,
      "outputs": [
        {
          "output_type": "stream",
          "text": [
            "Logging...\n"
          ],
          "name": "stdout"
        },
        {
          "output_type": "display_data",
          "data": {
            "application/vnd.jupyter.widget-view+json": {
              "model_id": "5d2460182df24c2b9deae025e79661f2",
              "version_minor": 0,
              "version_major": 2
            },
            "text/plain": [
              "HBox(children=(FloatProgress(value=0.0, max=20.0), HTML(value='')))"
            ]
          },
          "metadata": {
            "tags": []
          }
        },
        {
          "output_type": "stream",
          "text": [
            "Epoch 0/19 lr=[0.001, 0.0003333333333333333, 0.0001, 2e-05, 1e-05, 1e-05, 1e-05]\n",
            "----------\n",
            "train Loss: 0.2351 Acc: 0.9019\n",
            "val Loss: 0.0119 Acc: 0.9928\n",
            "\n",
            "***new best wts with acc 0.9928057553956835 at 0 epoh***\n",
            "\n",
            "***new best wts with loss 0.011919369653081723 at 0 epoh***\n",
            "*** save model wts at this 0 epoch ! *** \n",
            "\n",
            "Epoch 1/19 lr=[0.001, 0.0003333333333333333, 0.0001, 2e-05, 1e-05, 1e-05, 1e-05]\n",
            "----------\n",
            "train Loss: 0.1346 Acc: 0.9523\n",
            "val Loss: 0.0340 Acc: 0.9892\n",
            "*** save model wts at this 1 epoch ! *** \n",
            "\n",
            "Epoch 2/19 lr=[0.001, 0.0003333333333333333, 0.0001, 2e-05, 1e-05, 1e-05, 1e-05]\n",
            "----------\n",
            "train Loss: 0.1114 Acc: 0.9604\n",
            "val Loss: 0.0118 Acc: 0.9964\n",
            "\n",
            "***new best wts with acc 0.9964028776978417 at 2 epoh***\n",
            "\n",
            "***new best wts with loss 0.011805273210562819 at 2 epoh***\n",
            "*** save model wts at this 2 epoch ! *** \n",
            "\n",
            "Epoch 3/19 lr=[0.001, 0.0003333333333333333, 0.0001, 2e-05, 1e-05, 1e-05, 1e-05]\n",
            "----------\n",
            "train Loss: 0.0627 Acc: 0.9748\n",
            "val Loss: 0.0185 Acc: 0.9964\n",
            "*** save model wts at this 3 epoch ! *** \n",
            "\n",
            "Epoch 4/19 lr=[0.001, 0.0003333333333333333, 0.0001, 2e-05, 1e-05, 1e-05, 1e-05]\n",
            "----------\n",
            "train Loss: 0.0739 Acc: 0.9748\n",
            "val Loss: 0.0360 Acc: 0.9892\n",
            "*** save model wts at this 4 epoch ! *** \n",
            "\n",
            "Epoch 5/19 lr=[0.001, 0.0003333333333333333, 0.0001, 2e-05, 1e-05, 1e-05, 1e-05]\n",
            "----------\n",
            "train Loss: 0.0685 Acc: 0.9748\n",
            "val Loss: 0.0156 Acc: 0.9964\n",
            "*** save model wts at this 5 epoch ! *** \n",
            "\n",
            "Epoch 6/19 lr=[0.001, 0.0003333333333333333, 0.0001, 2e-05, 1e-05, 1e-05, 1e-05]\n",
            "----------\n",
            "train Loss: 0.0543 Acc: 0.9820\n",
            "val Loss: 0.0037 Acc: 1.0000\n",
            "\n",
            "***new best wts with acc 1.0 at 6 epoh***\n",
            "\n",
            "***new best wts with loss 0.003670500982309886 at 6 epoh***\n",
            "*** save model wts at this 6 epoch ! *** \n",
            "\n",
            "Epoch 7/19 lr=[0.001, 0.0003333333333333333, 0.0001, 2e-05, 1e-05, 1e-05, 1e-05]\n",
            "----------\n",
            "train Loss: 0.0545 Acc: 0.9802\n",
            "val Loss: 0.0322 Acc: 0.9856\n",
            "*** save model wts at this 7 epoch ! *** \n",
            "\n",
            "Epoch 8/19 lr=[0.001, 0.0003333333333333333, 0.0001, 2e-05, 1e-05, 1e-05, 1e-05]\n",
            "----------\n",
            "train Loss: 0.0490 Acc: 0.9838\n",
            "val Loss: 0.0108 Acc: 0.9964\n",
            "*** save model wts at this 8 epoch ! *** \n",
            "\n",
            "Epoch 9/19 lr=[0.001, 0.0003333333333333333, 0.0001, 2e-05, 1e-05, 1e-05, 1e-05]\n",
            "----------\n",
            "train Loss: 0.0434 Acc: 0.9793\n",
            "val Loss: 0.0055 Acc: 1.0000\n",
            "*** save model wts at this 9 epoch ! *** \n",
            "\n",
            "Epoch 10/19 lr=[0.001, 0.0003333333333333333, 0.0001, 2e-05, 1e-05, 1e-05, 1e-05]\n",
            "----------\n",
            "train Loss: 0.0484 Acc: 0.9838\n",
            "val Loss: 0.0115 Acc: 0.9928\n",
            "*** save model wts at this 10 epoch ! *** \n",
            "\n",
            "Epoch 11/19 lr=[0.001, 0.0003333333333333333, 0.0001, 2e-05, 1e-05, 1e-05, 1e-05]\n",
            "----------\n",
            "train Loss: 0.0684 Acc: 0.9766\n",
            "val Loss: 0.0421 Acc: 0.9856\n",
            "*** save model wts at this 11 epoch ! *** \n",
            "\n",
            "Epoch 12/19 lr=[0.001, 0.0003333333333333333, 0.0001, 2e-05, 1e-05, 1e-05, 1e-05]\n",
            "----------\n",
            "train Loss: 0.0629 Acc: 0.9784\n",
            "val Loss: 0.0152 Acc: 0.9964\n",
            "*** save model wts at this 12 epoch ! *** \n",
            "\n",
            "Epoch 13/19 lr=[0.001, 0.0003333333333333333, 0.0001, 2e-05, 1e-05, 1e-05, 1e-05]\n",
            "----------\n",
            "train Loss: 0.0758 Acc: 0.9712\n",
            "val Loss: 0.0815 Acc: 0.9856\n",
            "*** save model wts at this 13 epoch ! *** \n",
            "\n",
            "Epoch 14/19 lr=[0.001, 0.0003333333333333333, 0.0001, 2e-05, 1e-05, 1e-05, 1e-05]\n",
            "----------\n",
            "train Loss: 0.0716 Acc: 0.9739\n",
            "val Loss: 0.0189 Acc: 0.9928\n",
            "*** save model wts at this 14 epoch ! *** \n",
            "\n",
            "Epoch 15/19 lr=[0.001, 0.0003333333333333333, 0.0001, 2e-05, 1e-05, 1e-05, 1e-05]\n",
            "----------\n",
            "train Loss: 0.0278 Acc: 0.9901\n",
            "val Loss: 0.0173 Acc: 0.9928\n",
            "*** save model wts at this 15 epoch ! *** \n",
            "\n",
            "Epoch 16/19 lr=[0.001, 0.0003333333333333333, 0.0001, 2e-05, 1e-05, 1e-05, 1e-05]\n",
            "----------\n",
            "train Loss: 0.0398 Acc: 0.9865\n",
            "val Loss: 0.0090 Acc: 0.9928\n",
            "*** save model wts at this 16 epoch ! *** \n",
            "\n",
            "Epoch 17/19 lr=[0.001, 0.0003333333333333333, 0.0001, 2e-05, 1e-05, 1e-05, 1e-05]\n",
            "----------\n",
            "train Loss: 0.0328 Acc: 0.9874\n",
            "val Loss: 0.0075 Acc: 0.9964\n",
            "*** save model wts at this 17 epoch ! *** \n",
            "\n",
            "Epoch 18/19 lr=[0.001, 0.0003333333333333333, 0.0001, 2e-05, 1e-05, 1e-05, 1e-05]\n",
            "----------\n",
            "train Loss: 0.0412 Acc: 0.9847\n",
            "val Loss: 0.0064 Acc: 0.9964\n",
            "*** save model wts at this 18 epoch ! *** \n",
            "\n",
            "Epoch 19/19 lr=[0.001, 0.0003333333333333333, 0.0001, 2e-05, 1e-05, 1e-05, 1e-05]\n",
            "----------\n",
            "train Loss: 0.0839 Acc: 0.9748\n",
            "val Loss: 0.0189 Acc: 0.9928\n",
            "*** save model wts at this 19 epoch ! *** \n",
            "\n",
            "\n",
            "Training complete in 35m 15s\n",
            "Best val Acc: 1.000000 at 6\n",
            "Best val Loss: 0.003671 at 6\n"
          ],
          "name": "stdout"
        }
      ]
    },
    {
      "cell_type": "code",
      "metadata": {
        "id": "P368QU4nwp7O"
      },
      "source": [
        "# освободим cuda кэш\n",
        "torch.cuda.empty_cache()"
      ],
      "execution_count": null,
      "outputs": []
    },
    {
      "cell_type": "code",
      "metadata": {
        "id": "yiGr3lw-4p95"
      },
      "source": [
        "# загрузим состояние нашей модели, ее веса при которых было достигнута лучшая\n",
        "# точность, а так же losses и accurancy\n",
        "# У НАС ЕСТЬ БЫБОР!\n",
        "# Если:\n",
        "# сторка ниже, - забираем модель с последней эпохи обучения\n",
        "# model_resnet.load_state_dict(torch.load(path + '.pth'))\n",
        "\n",
        "# лучше забрать одну из моделей ниже!\n",
        "# или строка ниже, - забираем модель с лучшей точностью на валидации\n",
        "# model_resnet.load_state_dict(torch.load(path + '_best_w.pth')) \n",
        "\n",
        "# или строка ниже, - забираем модель с наименьшим loss на валидации\n",
        "model_resnet.load_state_dict(torch.load(path + '_best_w_loss.pth'))\n",
        "\n",
        "# загружаем accurancy и loss'ы\n",
        "losses = load_dict_from_file(path + '_losses.pickle')\n",
        "acc = load_dict_from_file(path + '_acc.pickle')"
      ],
      "execution_count": null,
      "outputs": []
    },
    {
      "cell_type": "code",
      "metadata": {
        "colab": {
          "base_uri": "https://localhost:8080/"
        },
        "id": "DgLTBOp04p98",
        "outputId": "dc6bcc2f-4511-4b72-c83a-2cd6798e20f8"
      },
      "source": [
        "# посчитаем Accuracy на всей валидационной выборке Accuracy: 0.9859\n",
        "print(\"Accuracy: {0:.4f}\".format(evaluate(model_resnet, dataloaders['val'], DEVICE, use_gpu =True)))"
      ],
      "execution_count": null,
      "outputs": [
        {
          "output_type": "stream",
          "text": [
            "Accuracy: 1.0000\n"
          ],
          "name": "stdout"
        }
      ]
    },
    {
      "cell_type": "code",
      "metadata": {
        "colab": {
          "base_uri": "https://localhost:8080/",
          "height": 295
        },
        "id": "mdtqIayo4p9_",
        "outputId": "553c8584-d1b5-4a3a-9242-85b5ee453138"
      },
      "source": [
        "show_losses_plots(losses, smooth_flag = False, min = 0)"
      ],
      "execution_count": null,
      "outputs": [
        {
          "output_type": "display_data",
          "data": {
            "image/png": "[encoded data removed]",
            "text/plain": [
              "<Figure size 432x288 with 1 Axes>"
            ]
          },
          "metadata": {
            "tags": [],
            "needs_background": "light"
          }
        }
      ]
    },
    {
      "cell_type": "code",
      "metadata": {
        "colab": {
          "base_uri": "https://localhost:8080/",
          "height": 295
        },
        "id": "yGA8f5dj4p-C",
        "outputId": "7ff720be-a56b-45b5-979d-5c8bc42570eb"
      },
      "source": [
        "show_acc_plots(acc, smooth_flag = False)"
      ],
      "execution_count": null,
      "outputs": [
        {
          "output_type": "display_data",
          "data": {
            "image/png": "[encoded data removed]",
            "text/plain": [
              "<Figure size 432x288 with 1 Axes>"
            ]
          },
          "metadata": {
            "tags": [],
            "needs_background": "light"
          }
        }
      ]
    },
    {
      "cell_type": "markdown",
      "metadata": {
        "id": "sN-U8B0I4p-F"
      },
      "source": [
        "#### оценка предсказательной точности модели по классам 1 цикл"
      ]
    },
    {
      "cell_type": "code",
      "metadata": {
        "colab": {
          "base_uri": "https://localhost:8080/",
          "height": 818
        },
        "id": "DS_lzuSxyQYV",
        "outputId": "0454f1d4-9894-4a05-8605-3d60d7d91b55"
      },
      "source": [
        "# Построим confusion_matrix\n",
        "y_test_all, predictions_all, feature_names = show_confusion_matrix_fucn(model_resnet, dataloaders)"
      ],
      "execution_count": null,
      "outputs": [
        {
          "output_type": "stream",
          "text": [
            "Normalized confusion matrix\n"
          ],
          "name": "stdout"
        },
        {
          "output_type": "display_data",
          "data": {
            "image/png": "[encoded data removed]",
            "text/plain": [
              "<Figure size 1152x792 with 2 Axes>"
            ]
          },
          "metadata": {
            "tags": [],
            "needs_background": "light"
          }
        }
      ]
    },
    {
      "cell_type": "code",
      "metadata": {
        "colab": {
          "base_uri": "https://localhost:8080/"
        },
        "id": "VJzgLrYyyQYb",
        "scrolled": true,
        "outputId": "5d5cd6dd-de0a-460d-dee1-e1b184c6cb40"
      },
      "source": [
        "# Выведем точность для каждого класса\n",
        "accurancy_for_each_class(y_test_all, predictions_all, feature_names)"
      ],
      "execution_count": null,
      "outputs": [
        {
          "output_type": "stream",
          "text": [
            "[180, 98]\n",
            "2\n",
            "Accuracy of health\t100 %\n",
            "Accuracy of  sick\t100 %\n"
          ],
          "name": "stdout"
        }
      ]
    },
    {
      "cell_type": "code",
      "metadata": {
        "id": "qDo9iescRoeP"
      },
      "source": [
        "f1 = f1_score(y_test_all, predictions_all)"
      ],
      "execution_count": null,
      "outputs": []
    },
    {
      "cell_type": "code",
      "metadata": {
        "id": "CjojErhfSQ7o"
      },
      "source": [
        "f1_score_folds.append(f1)"
      ],
      "execution_count": null,
      "outputs": []
    },
    {
      "cell_type": "code",
      "metadata": {
        "id": "EOYQgcfJwzE5"
      },
      "source": [
        "# освободим cuda кэш\n",
        "torch.cuda.empty_cache()"
      ],
      "execution_count": null,
      "outputs": []
    },
    {
      "cell_type": "code",
      "metadata": {
        "id": "pNPbtpfXsPZS"
      },
      "source": [
        "path = '/content/gdrive/MyDrive/AgroCode_pre_snippets/model/ResNet152_DGL_AdamW_aug_oversampling_batchsize_16'\r\n",
        "torch.save(model_resnet, path + '_full_model.pth')"
      ],
      "execution_count": null,
      "outputs": []
    },
    {
      "cell_type": "markdown",
      "metadata": {
        "id": "Mb2Kw7R5SWjV"
      },
      "source": [
        "# Fold 2"
      ]
    },
    {
      "cell_type": "markdown",
      "metadata": {
        "id": "S1mK9H4xSWjV"
      },
      "source": [
        "## Загружаем, созданное ранее разбиение"
      ]
    },
    {
      "cell_type": "code",
      "metadata": {
        "id": "bXxUC7hqSWjW"
      },
      "source": [
        "fold = 1"
      ],
      "execution_count": null,
      "outputs": []
    },
    {
      "cell_type": "code",
      "metadata": {
        "colab": {
          "base_uri": "https://localhost:8080/"
        },
        "id": "XCsEVaRCSWjW",
        "outputId": "742ba147-9b55-40a3-aa62-febfe3ddea4b"
      },
      "source": [
        "# загружаем сохранненное разбиение, чтобы нейросети учились\n",
        "# на одних и тех же выборках\n",
        "data_load_path = '//content//gdrive//MyDrive//AgroCode_pre_snippets//dataset_agro_code//5_folds//'\n",
        "\n",
        "print(f'Загружаем данные с fold {fold}')\n",
        " \n",
        "with open(data_load_path + f'train_files_fold_{fold}.pickle', 'rb') as f:\n",
        "    train_files = pickle.load(f)\n",
        " \n",
        "with open(data_load_path + f'train_labels_fold_{fold}.pickle', 'rb') as f:\n",
        "    train_labels = pickle.load(f)\n",
        " \n",
        "with open(data_load_path + f'val_files_fold_{fold}.pickle', 'rb') as f:\n",
        "    val_files = pickle.load(f)\n",
        " \n",
        "with open(data_load_path + f'val_labels_fold_{fold}.pickle', 'rb') as f:\n",
        "    val_labels = pickle.load(f)"
      ],
      "execution_count": null,
      "outputs": [
        {
          "output_type": "stream",
          "text": [
            "Загружаем данные с fold 1\n"
          ],
          "name": "stdout"
        }
      ]
    },
    {
      "cell_type": "markdown",
      "metadata": {
        "id": "rzZSe3cFSWjW"
      },
      "source": [
        "## Dataset\n"
      ]
    },
    {
      "cell_type": "code",
      "metadata": {
        "id": "8vc78TMsSWjW"
      },
      "source": [
        "# разные режимы датасета \r\n",
        "DATA_MODES = ['train', 'val', 'test']\r\n",
        "# все изображения будут масштабированы к размеру 224x224 px\r\n",
        "RESCALE_SIZE = 224\r\n",
        "# работаем на видеокарте\r\n",
        "DEVICE = torch.device(\"cuda\")"
      ],
      "execution_count": null,
      "outputs": []
    },
    {
      "cell_type": "code",
      "metadata": {
        "id": "dPNKPBTaSWjW"
      },
      "source": [
        "class AppleDataset(Dataset):\n",
        "    \"\"\"\n",
        "    Датасет с картинками, который паралельно подгружает их из папок\n",
        "    производит изменения размера картинок, аугментации и преобразование в тензоры\n",
        "    PyTorch\n",
        "    \"\"\"\n",
        "    def __init__(self, files, mode):\n",
        "        super().__init__()\n",
        "        # список файлов для загрузки\n",
        "        self.files = sorted(files)\n",
        "        # режим работы\n",
        "        self.mode = mode\n",
        "\n",
        "        if self.mode not in DATA_MODES:\n",
        "            print(f\"{self.mode} is not correct; correct modes: {DATA_MODES}\")\n",
        "            raise NameError\n",
        "\n",
        "        self.len_ = len(self.files)\n",
        "     \n",
        "        # кодировщик имен классов\n",
        "        self.label_encoder = LabelEncoder()\n",
        "\n",
        "        if self.mode != 'test':\n",
        "            self.labels = [path.parent.name for path in self.files]\n",
        "            self.label_encoder.fit(self.labels)\n",
        "\n",
        "            path = '//content//gdrive//MyDrive//AgroCode_pre_snippets//model//'\n",
        "            #path = '/content/gdrive/MyDrive/agb/model/'\n",
        "            with open(path + 'label_encoder.pkl', 'wb') as le_dump_file:\n",
        "                  pickle.dump(self.label_encoder, le_dump_file)\n",
        "                      \n",
        "    def __len__(self):\n",
        "        return self.len_\n",
        "      \n",
        "    def load_sample(self, file):\n",
        "        image = Image.open(file)\n",
        "        image.load()\n",
        "        return image\n",
        "  \n",
        "    def __getitem__(self, index):\n",
        "        # для преобразования изображений в тензоры PyTorch и нормализации входа\n",
        "        transform = transforms.Compose([\n",
        "            transforms.Resize(256),\n",
        "            transforms.CenterCrop(RESCALE_SIZE),\n",
        "            transforms.ToTensor(),\n",
        "            # mean и std для набора данных ImageNet на котором были обучены \n",
        "            # предобученные сети из torchvision\n",
        "            transforms.Normalize(mean=[0.485, 0.456, 0.406],\n",
        "                                 std=[0.229, 0.224, 0.225])\n",
        "            ])\n",
        "\n",
        "        # трансформация с аугментацией для обучающей выборки средствами PyTorch\n",
        "        transform_augment = transforms.Compose([\n",
        "            transforms.Resize(size=(256, 256)),\n",
        "            transforms.RandomResizedCrop(RESCALE_SIZE),\n",
        "            transforms.RandomHorizontalFlip(),\n",
        "            # transforms.RandomRotation(40),\n",
        "            # transforms.RandomPerspective(),\n",
        "            # transforms.ColorJitter(hue=.1, saturation=.1),\n",
        "            transforms.ToTensor(),\n",
        "            # mean и std для набора данных ImageNet на котором были обучены \n",
        "            # предобученные сети из torchvision\n",
        "            transforms.Normalize(mean=[0.485, 0.456, 0.406],\n",
        "                                 std=[0.229, 0.224, 0.225])\n",
        "            ])\n",
        "\n",
        "        x = self.load_sample(self.files[index])\n",
        "\n",
        "        # У нас тр режима датасета \n",
        "        # DATA_MODES = ['train', 'val', 'test']\n",
        "        # train - обчающая выборка на которой мы обучаем нейросеть \n",
        "        # (есть картинки и ответы к ним)\n",
        "        # val - валидационная выборка на которой мы тестируем как хорошо\n",
        "        #  нейросеть обучилась! (есть картинки и ответы к ним)\n",
        "        # test - тестовая выборка на которой мы предсказываем ответы для\n",
        "        #  скора в соревновании (есть картинки ответов нет!)\n",
        "\n",
        "        if self.mode == 'test': # если тестовая выборка у нас нет ответов и\n",
        "            x = transform(x)    # датасет не должен аугментировать картинки\n",
        "            return x\n",
        "        else:\n",
        "            if self.mode == 'train': # аугментируем обучающую выборку\n",
        "                x = transform_augment(x)\n",
        "            else:\n",
        "                x = transform(x) # не аугментируем валидационную выборку\n",
        "\n",
        "            # для train или val выборок у нас есть ответы по классам\n",
        "            label = self.labels[index]\n",
        "            label_id = self.label_encoder.transform([label])\n",
        "            y = label_id.item()\n",
        "            return x, y"
      ],
      "execution_count": null,
      "outputs": []
    },
    {
      "cell_type": "markdown",
      "metadata": {
        "id": "E4AL3TioSWjX"
      },
      "source": [
        "### Ручной oversampling до 100 картинок (Выполняется для всех нейросетей в подзаголовках заголовка Теперь обучаем лучшими подходами)\n",
        "\n"
      ]
    },
    {
      "cell_type": "code",
      "metadata": {
        "colab": {
          "base_uri": "https://localhost:8080/"
        },
        "id": "MgSuMawQSWjX",
        "outputId": "e9dbfb40-3420-4422-c74f-0464f9d7b199"
      },
      "source": [
        "BATCH_SIZE = 16\n",
        "\n",
        "# Создадим словарь в котором ключами будут ЯБЛОКИ, а значениями списки с путями к картинкам.\n",
        "dct_path_train = create_dct_path_labels(train_files, train_labels)\n",
        "\n",
        "# Дополним картинки классов у которых менее 100 картинок, до 100 картинок в классе\n",
        "for person in dct_path_train:\n",
        "    if len(dct_path_train[person]) < 100:\n",
        "        dct_path_train[person] = dct_path_train[person] * (100 // len(dct_path_train[person]))\n",
        "        dct_path_train[person].extend(dct_path_train[person][:100 - len(dct_path_train[person])])\n",
        "\n",
        "new_train_files = []\n",
        "\n",
        "for person in dct_path_train:\n",
        "    new_train_files.extend(dct_path_train[person])\n",
        "\n",
        "new_train_label = [path.parent.name for path in new_train_files] # классы train\n",
        "\n",
        "val_dataset = AppleDataset(val_files, mode='val')\n",
        "new_train_dataset = AppleDataset(new_train_files, mode='train')\n",
        "\n",
        "# определим загрузщики данных без взвешивания классов для их балансировки простой вариант\n",
        "# DataLoader достаёт данные из dataset батчами\n",
        "dataloaders = {'train': DataLoader(new_train_dataset, batch_size=BATCH_SIZE, shuffle=True),\n",
        "               'val': DataLoader(val_dataset, batch_size=BATCH_SIZE, shuffle=False)}\n",
        "dataset_sizes = {'train': len(new_train_dataset), 'val':len(val_dataset) }\n",
        "\n",
        "# Ничего не изменилось всех картинок и так больше 100!\n",
        "# исходный вариант {'train': 2282, 'val': 254}\n",
        "dataset_sizes"
      ],
      "execution_count": null,
      "outputs": [
        {
          "output_type": "execute_result",
          "data": {
            "text/plain": [
              "{'train': 1111, 'val': 278}"
            ]
          },
          "metadata": {
            "tags": []
          },
          "execution_count": 19
        }
      ]
    },
    {
      "cell_type": "markdown",
      "metadata": {
        "id": "PLxRndNeSWjX"
      },
      "source": [
        "## ResNet-34"
      ]
    },
    {
      "cell_type": "code",
      "metadata": {
        "colab": {
          "base_uri": "https://localhost:8080/",
          "referenced_widgets": [
            "9efc3ec63c3c4006b119ceb372e2666c",
            "703110fd88ed4f91addea642c708799b",
            "d324324793e64c0ca8c777426a73ca17",
            "7b121aaf0b6f446e804eb7956158e7cf",
            "05334d9a7c9f42b5a0a973cd36fee03e",
            "5614cb3d1b4a4419ba9fb03a1fd4a777",
            "7741f5016fc64a579888ec14279ae067",
            "da71e29fbce642c6b28103fe20d48f6c"
          ]
        },
        "id": "zc8Rn_YUSWjX",
        "outputId": "f0e99944-72b2-4e95-8361-f9cf31a4570f"
      },
      "source": [
        "# Создаём сеть\n",
        "model_resnet= models.resnet34(pretrained=True)"
      ],
      "execution_count": null,
      "outputs": [
        {
          "output_type": "stream",
          "text": [
            "Downloading: \"https://download.pytorch.org/models/resnet34-333f7ec4.pth\" to /root/.cache/torch/hub/checkpoints/resnet34-333f7ec4.pth\n"
          ],
          "name": "stderr"
        },
        {
          "output_type": "display_data",
          "data": {
            "application/vnd.jupyter.widget-view+json": {
              "model_id": "9efc3ec63c3c4006b119ceb372e2666c",
              "version_minor": 0,
              "version_major": 2
            },
            "text/plain": [
              "HBox(children=(FloatProgress(value=0.0, max=87306240.0), HTML(value='')))"
            ]
          },
          "metadata": {
            "tags": []
          }
        },
        {
          "output_type": "stream",
          "text": [
            "\n"
          ],
          "name": "stdout"
        }
      ]
    },
    {
      "cell_type": "code",
      "metadata": {
        "id": "8DP5nhYsSWjX"
      },
      "source": [
        "# посмотрим на сеть от которой мы делаем transfer learning\r\n",
        "#model_resnet"
      ],
      "execution_count": null,
      "outputs": []
    },
    {
      "cell_type": "code",
      "metadata": {
        "id": "jx-wZwlKSWjX"
      },
      "source": [
        "#Заменяем родной классификатор model на наш новый линейный классификатор\r\n",
        "classes_number=2\r\n",
        "model_resnet.fc = nn.Linear(model_resnet.fc.in_features, classes_number)"
      ],
      "execution_count": null,
      "outputs": []
    },
    {
      "cell_type": "markdown",
      "metadata": {
        "id": "v_pW-3zPSWjY"
      },
      "source": [
        "## Обучение ResNet подходом Differential Groups Layers"
      ]
    },
    {
      "cell_type": "code",
      "metadata": {
        "colab": {
          "base_uri": "https://localhost:8080/"
        },
        "id": "BNSxuZTfSWjY",
        "outputId": "0f12627b-a0a8-44dd-b680-20a3c1e0ec26"
      },
      "source": [
        "# из графика видно, что лучший lr для это 1e-3\n",
        "found_lr = 1e-2\n",
        "found_lr"
      ],
      "execution_count": null,
      "outputs": [
        {
          "output_type": "execute_result",
          "data": {
            "text/plain": [
              "0.01"
            ]
          },
          "metadata": {
            "tags": []
          },
          "execution_count": 24
        }
      ]
    },
    {
      "cell_type": "markdown",
      "metadata": {
        "id": "ZRqSF6bgSWjZ"
      },
      "source": [
        "веса подобраны перезапускаем ноутбук, только теперь переходим сразу к обучению модели без подбора learning_rate"
      ]
    },
    {
      "cell_type": "code",
      "metadata": {
        "colab": {
          "base_uri": "https://localhost:8080/"
        },
        "id": "MuBv1zHXSWjZ",
        "outputId": "88a8cffc-3627-4b97-afe3-a13f5e2e7ac1"
      },
      "source": [
        "BATCH_SIZE"
      ],
      "execution_count": null,
      "outputs": [
        {
          "output_type": "execute_result",
          "data": {
            "text/plain": [
              "16"
            ]
          },
          "metadata": {
            "tags": []
          },
          "execution_count": 25
        }
      ]
    },
    {
      "cell_type": "code",
      "metadata": {
        "id": "eK3nsD31SWjZ"
      },
      "source": [
        "# теперь нам необходимо сделать все веса обучаемыми снова!\n",
        "for param in model_resnet.parameters():\n",
        "    param.requires_grad = True"
      ],
      "execution_count": null,
      "outputs": []
    },
    {
      "cell_type": "code",
      "metadata": {
        "colab": {
          "base_uri": "https://localhost:8080/"
        },
        "id": "uIRfiQuVSWjZ",
        "outputId": "bb60a398-ffb6-4654-ad88-9abe6b90c06d"
      },
      "source": [
        "# посмотрим какие параметры учим (учим все слои)\n",
        "params_to_update = print_learn_params(model_resnet)"
      ],
      "execution_count": null,
      "outputs": [
        {
          "output_type": "stream",
          "text": [
            "Params to update:\n",
            "\t conv1.weight\n",
            "\t bn1.weight\n",
            "\t bn1.bias\n",
            "\t layer1.0.conv1.weight\n",
            "\t layer1.0.bn1.weight\n",
            "\t layer1.0.bn1.bias\n",
            "\t layer1.0.conv2.weight\n",
            "\t layer1.0.bn2.weight\n",
            "\t layer1.0.bn2.bias\n",
            "\t layer1.1.conv1.weight\n",
            "\t layer1.1.bn1.weight\n",
            "\t layer1.1.bn1.bias\n",
            "\t layer1.1.conv2.weight\n",
            "\t layer1.1.bn2.weight\n",
            "\t layer1.1.bn2.bias\n",
            "\t layer1.2.conv1.weight\n",
            "\t layer1.2.bn1.weight\n",
            "\t layer1.2.bn1.bias\n",
            "\t layer1.2.conv2.weight\n",
            "\t layer1.2.bn2.weight\n",
            "\t layer1.2.bn2.bias\n",
            "\t layer2.0.conv1.weight\n",
            "\t layer2.0.bn1.weight\n",
            "\t layer2.0.bn1.bias\n",
            "\t layer2.0.conv2.weight\n",
            "\t layer2.0.bn2.weight\n",
            "\t layer2.0.bn2.bias\n",
            "\t layer2.0.downsample.0.weight\n",
            "\t layer2.0.downsample.1.weight\n",
            "\t layer2.0.downsample.1.bias\n",
            "\t layer2.1.conv1.weight\n",
            "\t layer2.1.bn1.weight\n",
            "\t layer2.1.bn1.bias\n",
            "\t layer2.1.conv2.weight\n",
            "\t layer2.1.bn2.weight\n",
            "\t layer2.1.bn2.bias\n",
            "\t layer2.2.conv1.weight\n",
            "\t layer2.2.bn1.weight\n",
            "\t layer2.2.bn1.bias\n",
            "\t layer2.2.conv2.weight\n",
            "\t layer2.2.bn2.weight\n",
            "\t layer2.2.bn2.bias\n",
            "\t layer2.3.conv1.weight\n",
            "\t layer2.3.bn1.weight\n",
            "\t layer2.3.bn1.bias\n",
            "\t layer2.3.conv2.weight\n",
            "\t layer2.3.bn2.weight\n",
            "\t layer2.3.bn2.bias\n",
            "\t layer3.0.conv1.weight\n",
            "\t layer3.0.bn1.weight\n",
            "\t layer3.0.bn1.bias\n",
            "\t layer3.0.conv2.weight\n",
            "\t layer3.0.bn2.weight\n",
            "\t layer3.0.bn2.bias\n",
            "\t layer3.0.downsample.0.weight\n",
            "\t layer3.0.downsample.1.weight\n",
            "\t layer3.0.downsample.1.bias\n",
            "\t layer3.1.conv1.weight\n",
            "\t layer3.1.bn1.weight\n",
            "\t layer3.1.bn1.bias\n",
            "\t layer3.1.conv2.weight\n",
            "\t layer3.1.bn2.weight\n",
            "\t layer3.1.bn2.bias\n",
            "\t layer3.2.conv1.weight\n",
            "\t layer3.2.bn1.weight\n",
            "\t layer3.2.bn1.bias\n",
            "\t layer3.2.conv2.weight\n",
            "\t layer3.2.bn2.weight\n",
            "\t layer3.2.bn2.bias\n",
            "\t layer3.3.conv1.weight\n",
            "\t layer3.3.bn1.weight\n",
            "\t layer3.3.bn1.bias\n",
            "\t layer3.3.conv2.weight\n",
            "\t layer3.3.bn2.weight\n",
            "\t layer3.3.bn2.bias\n",
            "\t layer3.4.conv1.weight\n",
            "\t layer3.4.bn1.weight\n",
            "\t layer3.4.bn1.bias\n",
            "\t layer3.4.conv2.weight\n",
            "\t layer3.4.bn2.weight\n",
            "\t layer3.4.bn2.bias\n",
            "\t layer3.5.conv1.weight\n",
            "\t layer3.5.bn1.weight\n",
            "\t layer3.5.bn1.bias\n",
            "\t layer3.5.conv2.weight\n",
            "\t layer3.5.bn2.weight\n",
            "\t layer3.5.bn2.bias\n",
            "\t layer4.0.conv1.weight\n",
            "\t layer4.0.bn1.weight\n",
            "\t layer4.0.bn1.bias\n",
            "\t layer4.0.conv2.weight\n",
            "\t layer4.0.bn2.weight\n",
            "\t layer4.0.bn2.bias\n",
            "\t layer4.0.downsample.0.weight\n",
            "\t layer4.0.downsample.1.weight\n",
            "\t layer4.0.downsample.1.bias\n",
            "\t layer4.1.conv1.weight\n",
            "\t layer4.1.bn1.weight\n",
            "\t layer4.1.bn1.bias\n",
            "\t layer4.1.conv2.weight\n",
            "\t layer4.1.bn2.weight\n",
            "\t layer4.1.bn2.bias\n",
            "\t layer4.2.conv1.weight\n",
            "\t layer4.2.bn1.weight\n",
            "\t layer4.2.bn1.bias\n",
            "\t layer4.2.conv2.weight\n",
            "\t layer4.2.bn2.weight\n",
            "\t layer4.2.bn2.bias\n",
            "\t fc.weight\n",
            "\t fc.bias\n"
          ],
          "name": "stdout"
        }
      ]
    },
    {
      "cell_type": "markdown",
      "metadata": {
        "id": "A7VMeRrySWjZ"
      },
      "source": [
        "### Обучение раздельными группами"
      ]
    },
    {
      "cell_type": "code",
      "metadata": {
        "id": "vqolzf_8SWjZ"
      },
      "source": [
        "# В качестве cost function используем кросс-энтропию\n",
        "loss_fn = nn.CrossEntropyLoss()\n",
        " \n",
        "# Дифференциальное обучение подход взят из \n",
        "# https://blog.slavv.com/differential-learning-rates-59eff5209a4f\n",
        "# и книги Ian Pointer - Programming PyTorch for Deep Learning_ Creating and Deploying Deep Learning Applications-O’Reilly Media (2019)\n",
        "# сылка на книгу на goodreads (https://www.goodreads.com/book/show/48225828-programming-pytorch-for-deep-learning)\n",
        "# Chapter 4. Transfer Learning and Other Tricks про\n",
        "# Transfer Learning with ResNet50\n",
        " \n",
        "# Выставляем различные скорости обучения для различных слоев\n",
        "optimizer = torch.optim.Adam([\n",
        "{ 'params': model_resnet.fc.parameters(), 'lr': found_lr},\n",
        "{ 'params': model_resnet.layer4.parameters(), 'lr': found_lr / 3},\n",
        "{ 'params': model_resnet.layer3.parameters(), 'lr': found_lr / 10},\n",
        "{ 'params': model_resnet.layer2.parameters(), 'lr': found_lr / 50},\n",
        "{ 'params': model_resnet.layer1.parameters(), 'lr': found_lr / 100},\n",
        "{'params': model_resnet.bn1.parameters(), 'lr': found_lr / 100},\n",
        "{'params': model_resnet.conv1.parameters(), 'lr': found_lr / 100}],\n",
        "lr=found_lr / 100, amsgrad=True)\n",
        " \n",
        " \n",
        "# Задем планировщик изменения learning rate нашего оптимизатора.\n",
        "# будет просто умножать lr optimizer на gamma, каждые step_size эпох.\n",
        "# step_lr_scheduler = lr_scheduler.StepLR(optimizer, step_size=30, gamma=0.1)\n",
        " \n",
        "# Использовать ли GPU\n",
        "model_resnet= model_resnet.cuda()"
      ],
      "execution_count": null,
      "outputs": []
    },
    {
      "cell_type": "markdown",
      "metadata": {
        "id": "CVgywN8FSWjZ"
      },
      "source": [
        "### Или обучение одним LR на все слои"
      ]
    },
    {
      "cell_type": "code",
      "metadata": {
        "id": "6YHTLV-YSWjZ"
      },
      "source": [
        "# В качестве cost function используем кросс-энтропию\r\n",
        "loss_fn = nn.CrossEntropyLoss()\r\n",
        " \r\n",
        "# Дифференциальное обучение подход взят из \r\n",
        "# https://blog.slavv.com/differential-learning-rates-59eff5209a4f\r\n",
        "# и книги Ian Pointer - Programming PyTorch for Deep Learning_ Creating and Deploying Deep Learning Applications-O’Reilly Media (2019)\r\n",
        "# сылка на книгу на goodreads (https://www.goodreads.com/book/show/48225828-programming-pytorch-for-deep-learning)\r\n",
        "# Chapter 4. Transfer Learning and Other Tricks про\r\n",
        "# Transfer Learning with ResNet50\r\n",
        " \r\n",
        "# Выставляем различные скорости обучения для различных слоев\r\n",
        "optimizer = torch.optim.Adam(model_resnet.parameters(), lr=found_lr / 100, amsgrad=True)\r\n",
        " \r\n",
        " \r\n",
        "# Задем планировщик изменения learning rate нашего оптимизатора.\r\n",
        "# будет просто умножать lr optimizer на gamma, каждые step_size эпох.\r\n",
        "# step_lr_scheduler = lr_scheduler.StepLR(optimizer, step_size=30, gamma=0.1)\r\n",
        " \r\n",
        "# Использовать ли GPU\r\n",
        "model_resnet= model_resnet.cuda()"
      ],
      "execution_count": null,
      "outputs": []
    },
    {
      "cell_type": "markdown",
      "metadata": {
        "id": "zvmHHkoNSWjZ"
      },
      "source": [
        "### 1-вый цикл обучения (20 эпох) Accuracy: 0.9859"
      ]
    },
    {
      "cell_type": "code",
      "metadata": {
        "id": "ZVcADDBnSWjZ"
      },
      "source": [
        "# Зададим путь для сохранения моделей!\n",
        "# path = f'/content/gdrive/MyDrive/agb/model/ResNet34_FixLR_AdamW_aug_oversampling_batchsize_16_fold_{fold}'\n",
        "path = f'/content/gdrive/MyDrive/agb/model/ResNet34_DGL_AdamW_aug_oversampling_batchsize_16_fold_{fold}'"
      ],
      "execution_count": null,
      "outputs": []
    },
    {
      "cell_type": "code",
      "metadata": {
        "colab": {
          "base_uri": "https://localhost:8080/"
        },
        "id": "eXyepvo-SWja",
        "outputId": "e969b3ab-7982-439d-aabe-501878c3f962"
      },
      "source": [
        "path"
      ],
      "execution_count": null,
      "outputs": [
        {
          "output_type": "execute_result",
          "data": {
            "application/vnd.google.colaboratory.intrinsic+json": {
              "type": "string"
            },
            "text/plain": [
              "'/content/gdrive/MyDrive/agb/model/ResNet34_DGL_AdamW_aug_oversampling_batchsize_16_fold_1'"
            ]
          },
          "metadata": {
            "tags": []
          },
          "execution_count": 30
        }
      ]
    },
    {
      "cell_type": "code",
      "metadata": {
        "colab": {
          "base_uri": "https://localhost:8080/",
          "height": 1000,
          "referenced_widgets": [
            "bf7379154f7a433c9b74b9714f67a6bc",
            "0fec170184c749eaa47961ed4dc9c1b8",
            "2f034d2a37ea42c3b2a0051b74f03ea6",
            "10819479954c45a29b5f1c3af48bcfb2",
            "550603ee6de54527b8d15a1a35fd66fa",
            "3714e3644c7c498cbd0356b87803f26a",
            "131374c7bde347bea9a33dfe8ebc6030",
            "5c305a16370c4cbd80588bd4d25c2677"
          ]
        },
        "id": "PS6QCjGGSWja",
        "outputId": "a0cbf4af-7d06-4d78-daf8-ba8816916911"
      },
      "source": [
        "# Обучаем модель (Неиспользуется в финальном score можно сразу загрузить веса!)\n",
        "model_resnet, losses, acc, best_model_wts = train_model(model_resnet, dataloaders, loss_fn, optimizer, num_epochs=20, flag_save_wts_to_file=True, path=path)"
      ],
      "execution_count": null,
      "outputs": [
        {
          "output_type": "stream",
          "text": [
            "Logging...\n"
          ],
          "name": "stdout"
        },
        {
          "output_type": "display_data",
          "data": {
            "application/vnd.jupyter.widget-view+json": {
              "model_id": "bf7379154f7a433c9b74b9714f67a6bc",
              "version_minor": 0,
              "version_major": 2
            },
            "text/plain": [
              "HBox(children=(FloatProgress(value=0.0, max=20.0), HTML(value='')))"
            ]
          },
          "metadata": {
            "tags": []
          }
        },
        {
          "output_type": "stream",
          "text": [
            "Epoch 0/19 lr=[0.0001]\n",
            "----------\n",
            "train Loss: 0.2573 Acc: 0.8879\n",
            "val Loss: 0.0435 Acc: 0.9821\n",
            "\n",
            "***new best wts with acc 0.9821428571428571 at 0 epoh***\n",
            "\n",
            "***new best wts with loss 0.04347852550979171 at 0 epoh***\n",
            "*** save model wts at this 0 epoch ! *** \n",
            "\n",
            "Epoch 1/19 lr=[0.0001]\n",
            "----------\n",
            "train Loss: 0.1150 Acc: 0.9600\n",
            "val Loss: 0.1061 Acc: 0.9643\n",
            "*** save model wts at this 1 epoch ! *** \n",
            "\n",
            "Epoch 2/19 lr=[0.0001]\n",
            "----------\n",
            "train Loss: 0.0750 Acc: 0.9700\n",
            "val Loss: 0.0105 Acc: 1.0000\n",
            "\n",
            "***new best wts with acc 1.0 at 2 epoh***\n",
            "\n",
            "***new best wts with loss 0.01053628179111651 at 2 epoh***\n",
            "*** save model wts at this 2 epoch ! *** \n",
            "\n",
            "Epoch 3/19 lr=[0.0001]\n",
            "----------\n",
            "train Loss: 0.0526 Acc: 0.9850\n",
            "val Loss: 0.0133 Acc: 0.9911\n",
            "*** save model wts at this 3 epoch ! *** \n",
            "\n",
            "Epoch 4/19 lr=[0.0001]\n",
            "----------\n",
            "train Loss: 0.0918 Acc: 0.9650\n",
            "val Loss: 0.0284 Acc: 0.9911\n",
            "*** save model wts at this 4 epoch ! *** \n",
            "\n",
            "Epoch 5/19 lr=[0.0001]\n",
            "----------\n",
            "train Loss: 0.0871 Acc: 0.9690\n",
            "val Loss: 0.0053 Acc: 1.0000\n",
            "\n",
            "***new best wts with loss 0.00526534320254411 at 5 epoh***\n",
            "*** save model wts at this 5 epoch ! *** \n",
            "\n",
            "Epoch 6/19 lr=[0.0001]\n",
            "----------\n",
            "train Loss: 0.1019 Acc: 0.9650\n",
            "val Loss: 0.0210 Acc: 0.9911\n",
            "*** save model wts at this 6 epoch ! *** \n",
            "\n",
            "Epoch 7/19 lr=[0.0001]\n",
            "----------\n",
            "train Loss: 0.0637 Acc: 0.9790\n",
            "val Loss: 0.0358 Acc: 0.9821\n",
            "*** save model wts at this 7 epoch ! *** \n",
            "\n",
            "Epoch 8/19 lr=[0.0001]\n",
            "----------\n",
            "train Loss: 0.0393 Acc: 0.9850\n",
            "val Loss: 0.0070 Acc: 1.0000\n",
            "*** save model wts at this 8 epoch ! *** \n",
            "\n",
            "Epoch 9/19 lr=[0.0001]\n",
            "----------\n",
            "train Loss: 0.0779 Acc: 0.9780\n",
            "val Loss: 0.0118 Acc: 1.0000\n",
            "*** save model wts at this 9 epoch ! *** \n",
            "\n",
            "Epoch 10/19 lr=[0.0001]\n",
            "----------\n",
            "train Loss: 0.0391 Acc: 0.9870\n",
            "val Loss: 0.0105 Acc: 1.0000\n",
            "*** save model wts at this 10 epoch ! *** \n",
            "\n",
            "Epoch 11/19 lr=[0.0001]\n",
            "----------\n",
            "train Loss: 0.0424 Acc: 0.9850\n",
            "val Loss: 0.0093 Acc: 1.0000\n",
            "*** save model wts at this 11 epoch ! *** \n",
            "\n",
            "Epoch 12/19 lr=[0.0001]\n",
            "----------\n",
            "train Loss: 0.0305 Acc: 0.9870\n",
            "val Loss: 0.0167 Acc: 0.9911\n",
            "*** save model wts at this 12 epoch ! *** \n",
            "\n",
            "Epoch 13/19 lr=[0.0001]\n",
            "----------\n",
            "train Loss: 0.0559 Acc: 0.9800\n",
            "val Loss: 0.0020 Acc: 1.0000\n",
            "\n",
            "***new best wts with loss 0.0020211997523022418 at 13 epoh***\n",
            "*** save model wts at this 13 epoch ! *** \n",
            "\n",
            "Epoch 14/19 lr=[0.0001]\n",
            "----------\n",
            "train Loss: 0.0582 Acc: 0.9820\n",
            "val Loss: 0.0033 Acc: 1.0000\n",
            "*** save model wts at this 14 epoch ! *** \n",
            "\n",
            "Epoch 15/19 lr=[0.0001]\n",
            "----------\n",
            "train Loss: 0.0458 Acc: 0.9870\n",
            "val Loss: 0.0178 Acc: 0.9911\n",
            "*** save model wts at this 15 epoch ! *** \n",
            "\n",
            "Epoch 16/19 lr=[0.0001]\n",
            "----------\n",
            "train Loss: 0.0207 Acc: 0.9920\n",
            "val Loss: 0.0061 Acc: 1.0000\n",
            "*** save model wts at this 16 epoch ! *** \n",
            "\n",
            "Epoch 17/19 lr=[0.0001]\n",
            "----------\n",
            "train Loss: 0.0618 Acc: 0.9800\n",
            "val Loss: 0.0339 Acc: 0.9821\n",
            "*** save model wts at this 17 epoch ! *** \n",
            "\n",
            "Epoch 18/19 lr=[0.0001]\n",
            "----------\n",
            "train Loss: 0.0401 Acc: 0.9840\n",
            "val Loss: 0.0057 Acc: 1.0000\n",
            "*** save model wts at this 18 epoch ! *** \n",
            "\n",
            "Epoch 19/19 lr=[0.0001]\n",
            "----------\n",
            "train Loss: 0.0457 Acc: 0.9890\n",
            "val Loss: 0.0087 Acc: 1.0000\n",
            "*** save model wts at this 19 epoch ! *** \n",
            "\n",
            "\n",
            "Training complete in 23m 37s\n",
            "Best val Acc: 1.000000 at 2\n",
            "Best val Loss: 0.002021 at 13\n"
          ],
          "name": "stdout"
        }
      ]
    },
    {
      "cell_type": "code",
      "metadata": {
        "id": "ZfU8GdyQSWja"
      },
      "source": [
        "# освободим cuda кэш\n",
        "torch.cuda.empty_cache()"
      ],
      "execution_count": null,
      "outputs": []
    },
    {
      "cell_type": "code",
      "metadata": {
        "id": "8P0neXjPSWja"
      },
      "source": [
        "# загрузим состояние нашей модели, ее веса при которых было достигнута лучшая\n",
        "# точность, а так же losses и accurancy\n",
        "# У НАС ЕСТЬ БЫБОР!\n",
        "# Если:\n",
        "# сторка ниже, - забираем модель с последней эпохи обучения\n",
        "# model_resnet.load_state_dict(torch.load(path + '.pth'))\n",
        "\n",
        "# лучше забрать одну из моделей ниже!\n",
        "# или строка ниже, - забираем модель с лучшей точностью на валидации\n",
        "# model_resnet.load_state_dict(torch.load(path + '_best_w.pth')) \n",
        "\n",
        "# или строка ниже, - забираем модель с наименьшим loss на валидации\n",
        "model_resnet.load_state_dict(torch.load(path + '_best_w_loss.pth'))\n",
        "\n",
        "# загружаем accurancy и loss'ы\n",
        "losses = load_dict_from_file(path + '_losses.pickle')\n",
        "acc = load_dict_from_file(path + '_acc.pickle')"
      ],
      "execution_count": null,
      "outputs": []
    },
    {
      "cell_type": "code",
      "metadata": {
        "colab": {
          "base_uri": "https://localhost:8080/"
        },
        "id": "LZetjOjzSWja",
        "outputId": "63f3c97c-88e7-4118-d0a6-fe84a4ed73f0"
      },
      "source": [
        "# посчитаем Accuracy на всей валидационной выборке Accuracy: 0.9859\n",
        "print(\"Accuracy: {0:.4f}\".format(evaluate(model_resnet, dataloaders['val'], DEVICE, use_gpu =True)))"
      ],
      "execution_count": null,
      "outputs": [
        {
          "output_type": "stream",
          "text": [
            "Accuracy: 1.0000\n"
          ],
          "name": "stdout"
        }
      ]
    },
    {
      "cell_type": "code",
      "metadata": {
        "colab": {
          "base_uri": "https://localhost:8080/",
          "height": 295
        },
        "id": "b_iP1jYnSWja",
        "outputId": "105daa7e-32cf-444b-e90e-b21e4301e780"
      },
      "source": [
        "show_losses_plots(losses, smooth_flag = False, min = 0)"
      ],
      "execution_count": null,
      "outputs": [
        {
          "output_type": "display_data",
          "data": {
            "image/png": "[encoded data removed]",
            "text/plain": [
              "<Figure size 432x288 with 1 Axes>"
            ]
          },
          "metadata": {
            "tags": [],
            "needs_background": "light"
          }
        }
      ]
    },
    {
      "cell_type": "code",
      "metadata": {
        "colab": {
          "base_uri": "https://localhost:8080/",
          "height": 295
        },
        "id": "WwKZ3Fy2SWjb",
        "outputId": "51a81dfc-f1a6-4ad3-95f8-da1cfea38a5c"
      },
      "source": [
        "show_acc_plots(acc, smooth_flag = False)"
      ],
      "execution_count": null,
      "outputs": [
        {
          "output_type": "display_data",
          "data": {
            "image/png": "[encoded data removed]",
            "text/plain": [
              "<Figure size 432x288 with 1 Axes>"
            ]
          },
          "metadata": {
            "tags": [],
            "needs_background": "light"
          }
        }
      ]
    },
    {
      "cell_type": "markdown",
      "metadata": {
        "id": "AnwMkqewSWjb"
      },
      "source": [
        "#### оценка предсказательной точности модели по классам 1 цикл"
      ]
    },
    {
      "cell_type": "code",
      "metadata": {
        "colab": {
          "base_uri": "https://localhost:8080/",
          "height": 818
        },
        "id": "Od9ON8YSSWjb",
        "outputId": "b54c3eac-e49c-4b93-a536-4fcebdbb3177"
      },
      "source": [
        "# Построим confusion_matrix\n",
        "y_test_all, predictions_all, feature_names = show_confusion_matrix_fucn(model_resnet, dataloaders)"
      ],
      "execution_count": null,
      "outputs": [
        {
          "output_type": "stream",
          "text": [
            "Normalized confusion matrix\n"
          ],
          "name": "stdout"
        },
        {
          "output_type": "display_data",
          "data": {
            "image/png": "[encoded data removed]",
            "text/plain": [
              "<Figure size 1152x792 with 2 Axes>"
            ]
          },
          "metadata": {
            "tags": [],
            "needs_background": "light"
          }
        }
      ]
    },
    {
      "cell_type": "code",
      "metadata": {
        "colab": {
          "base_uri": "https://localhost:8080/"
        },
        "scrolled": true,
        "id": "Ymwdzr1SSWjb",
        "outputId": "6e4f1373-82a4-4c8f-9d54-e7942e94e460"
      },
      "source": [
        "# Выведем точность для каждого класса\n",
        "accurancy_for_each_class(y_test_all, predictions_all, feature_names)"
      ],
      "execution_count": null,
      "outputs": [
        {
          "output_type": "stream",
          "text": [
            "[71, 41]\n",
            "2\n",
            "Accuracy of health\t100 %\n",
            "Accuracy of  sick\t100 %\n"
          ],
          "name": "stdout"
        }
      ]
    },
    {
      "cell_type": "code",
      "metadata": {
        "id": "SA3bng-uSWjb"
      },
      "source": [
        "f1 = f1_score(y_test_all, predictions_all)"
      ],
      "execution_count": null,
      "outputs": []
    },
    {
      "cell_type": "code",
      "metadata": {
        "id": "pVciEH3wSWjb"
      },
      "source": [
        "f1_score_folds.append(f1)"
      ],
      "execution_count": null,
      "outputs": []
    },
    {
      "cell_type": "code",
      "metadata": {
        "id": "yrajpQvXSWjb"
      },
      "source": [
        "# освободим cuda кэш\n",
        "torch.cuda.empty_cache()"
      ],
      "execution_count": null,
      "outputs": []
    },
    {
      "cell_type": "markdown",
      "metadata": {
        "id": "FNq60NTeSckE"
      },
      "source": [
        "# Fold 3"
      ]
    },
    {
      "cell_type": "markdown",
      "metadata": {
        "id": "a1_4aHdKSckF"
      },
      "source": [
        "## Загружаем, созданное ранее разбиение"
      ]
    },
    {
      "cell_type": "code",
      "metadata": {
        "id": "dfaqYuNHSckG"
      },
      "source": [
        "fold = 3"
      ],
      "execution_count": null,
      "outputs": []
    },
    {
      "cell_type": "code",
      "metadata": {
        "colab": {
          "base_uri": "https://localhost:8080/"
        },
        "id": "r_EwnxdYSckG",
        "outputId": "742ba147-9b55-40a3-aa62-febfe3ddea4b"
      },
      "source": [
        "# загружаем сохранненное разбиение, чтобы нейросети учились\n",
        "# на одних и тех же выборках\n",
        "data_load_path = '//content//gdrive//MyDrive//AgroCode_pre_snippets//dataset_agro_code//5_folds//'\n",
        "\n",
        "print(f'Загружаем данные с fold {fold}')\n",
        " \n",
        "with open(data_load_path + f'train_files_fold_{fold}.pickle', 'rb') as f:\n",
        "    train_files = pickle.load(f)\n",
        " \n",
        "with open(data_load_path + f'train_labels_fold_{fold}.pickle', 'rb') as f:\n",
        "    train_labels = pickle.load(f)\n",
        " \n",
        "with open(data_load_path + f'val_files_fold_{fold}.pickle', 'rb') as f:\n",
        "    val_files = pickle.load(f)\n",
        " \n",
        "with open(data_load_path + f'val_labels_fold_{fold}.pickle', 'rb') as f:\n",
        "    val_labels = pickle.load(f)"
      ],
      "execution_count": null,
      "outputs": [
        {
          "output_type": "stream",
          "text": [
            "Загружаем данные с fold 1\n"
          ],
          "name": "stdout"
        }
      ]
    },
    {
      "cell_type": "markdown",
      "metadata": {
        "id": "M6tF1_qjSckG"
      },
      "source": [
        "## Dataset\n"
      ]
    },
    {
      "cell_type": "code",
      "metadata": {
        "id": "5A3cr9B6SckH"
      },
      "source": [
        "# разные режимы датасета \r\n",
        "DATA_MODES = ['train', 'val', 'test']\r\n",
        "# все изображения будут масштабированы к размеру 224x224 px\r\n",
        "RESCALE_SIZE = 224\r\n",
        "# работаем на видеокарте\r\n",
        "DEVICE = torch.device(\"cuda\")"
      ],
      "execution_count": null,
      "outputs": []
    },
    {
      "cell_type": "code",
      "metadata": {
        "id": "Tli-eD6cSckH"
      },
      "source": [
        "class AppleDataset(Dataset):\n",
        "    \"\"\"\n",
        "    Датасет с картинками, который паралельно подгружает их из папок\n",
        "    производит изменения размера картинок, аугментации и преобразование в тензоры\n",
        "    PyTorch\n",
        "    \"\"\"\n",
        "    def __init__(self, files, mode):\n",
        "        super().__init__()\n",
        "        # список файлов для загрузки\n",
        "        self.files = sorted(files)\n",
        "        # режим работы\n",
        "        self.mode = mode\n",
        "\n",
        "        if self.mode not in DATA_MODES:\n",
        "            print(f\"{self.mode} is not correct; correct modes: {DATA_MODES}\")\n",
        "            raise NameError\n",
        "\n",
        "        self.len_ = len(self.files)\n",
        "     \n",
        "        # кодировщик имен классов\n",
        "        self.label_encoder = LabelEncoder()\n",
        "\n",
        "        if self.mode != 'test':\n",
        "            self.labels = [path.parent.name for path in self.files]\n",
        "            self.label_encoder.fit(self.labels)\n",
        "\n",
        "            path = '//content//gdrive//MyDrive//AgroCode_pre_snippets//model//'\n",
        "            #path = '/content/gdrive/MyDrive/agb/model/'\n",
        "            with open(path + 'label_encoder.pkl', 'wb') as le_dump_file:\n",
        "                  pickle.dump(self.label_encoder, le_dump_file)\n",
        "                      \n",
        "    def __len__(self):\n",
        "        return self.len_\n",
        "      \n",
        "    def load_sample(self, file):\n",
        "        image = Image.open(file)\n",
        "        image.load()\n",
        "        return image\n",
        "  \n",
        "    def __getitem__(self, index):\n",
        "        # для преобразования изображений в тензоры PyTorch и нормализации входа\n",
        "        transform = transforms.Compose([\n",
        "            transforms.Resize(256),\n",
        "            transforms.CenterCrop(RESCALE_SIZE),\n",
        "            transforms.ToTensor(),\n",
        "            # mean и std для набора данных ImageNet на котором были обучены \n",
        "            # предобученные сети из torchvision\n",
        "            transforms.Normalize(mean=[0.485, 0.456, 0.406],\n",
        "                                 std=[0.229, 0.224, 0.225])\n",
        "            ])\n",
        "\n",
        "        # трансформация с аугментацией для обучающей выборки средствами PyTorch\n",
        "        transform_augment = transforms.Compose([\n",
        "            transforms.Resize(size=(256, 256)),\n",
        "            transforms.RandomResizedCrop(RESCALE_SIZE),\n",
        "            transforms.RandomHorizontalFlip(),\n",
        "            # transforms.RandomRotation(40),\n",
        "            # transforms.RandomPerspective(),\n",
        "            # transforms.ColorJitter(hue=.1, saturation=.1),\n",
        "            transforms.ToTensor(),\n",
        "            # mean и std для набора данных ImageNet на котором были обучены \n",
        "            # предобученные сети из torchvision\n",
        "            transforms.Normalize(mean=[0.485, 0.456, 0.406],\n",
        "                                 std=[0.229, 0.224, 0.225])\n",
        "            ])\n",
        "\n",
        "        x = self.load_sample(self.files[index])\n",
        "\n",
        "        # У нас тр режима датасета \n",
        "        # DATA_MODES = ['train', 'val', 'test']\n",
        "        # train - обчающая выборка на которой мы обучаем нейросеть \n",
        "        # (есть картинки и ответы к ним)\n",
        "        # val - валидационная выборка на которой мы тестируем как хорошо\n",
        "        #  нейросеть обучилась! (есть картинки и ответы к ним)\n",
        "        # test - тестовая выборка на которой мы предсказываем ответы для\n",
        "        #  скора в соревновании (есть картинки ответов нет!)\n",
        "\n",
        "        if self.mode == 'test': # если тестовая выборка у нас нет ответов и\n",
        "            x = transform(x)    # датасет не должен аугментировать картинки\n",
        "            return x\n",
        "        else:\n",
        "            if self.mode == 'train': # аугментируем обучающую выборку\n",
        "                x = transform_augment(x)\n",
        "            else:\n",
        "                x = transform(x) # не аугментируем валидационную выборку\n",
        "\n",
        "            # для train или val выборок у нас есть ответы по классам\n",
        "            label = self.labels[index]\n",
        "            label_id = self.label_encoder.transform([label])\n",
        "            y = label_id.item()\n",
        "            return x, y"
      ],
      "execution_count": null,
      "outputs": []
    },
    {
      "cell_type": "markdown",
      "metadata": {
        "id": "yJrtxkElSckH"
      },
      "source": [
        "### Ручной oversampling до 100 картинок (Выполняется для всех нейросетей в подзаголовках заголовка Теперь обучаем лучшими подходами)\n",
        "\n"
      ]
    },
    {
      "cell_type": "code",
      "metadata": {
        "colab": {
          "base_uri": "https://localhost:8080/"
        },
        "id": "A47XCdDvSckH",
        "outputId": "e9dbfb40-3420-4422-c74f-0464f9d7b199"
      },
      "source": [
        "BATCH_SIZE = 16\n",
        "\n",
        "# Создадим словарь в котором ключами будут ЯБЛОКИ, а значениями списки с путями к картинкам.\n",
        "dct_path_train = create_dct_path_labels(train_files, train_labels)\n",
        "\n",
        "# Дополним картинки классов у которых менее 100 картинок, до 100 картинок в классе\n",
        "for person in dct_path_train:\n",
        "    if len(dct_path_train[person]) < 100:\n",
        "        dct_path_train[person] = dct_path_train[person] * (100 // len(dct_path_train[person]))\n",
        "        dct_path_train[person].extend(dct_path_train[person][:100 - len(dct_path_train[person])])\n",
        "\n",
        "new_train_files = []\n",
        "\n",
        "for person in dct_path_train:\n",
        "    new_train_files.extend(dct_path_train[person])\n",
        "\n",
        "new_train_label = [path.parent.name for path in new_train_files] # классы train\n",
        "\n",
        "val_dataset = AppleDataset(val_files, mode='val')\n",
        "new_train_dataset = AppleDataset(new_train_files, mode='train')\n",
        "\n",
        "# определим загрузщики данных без взвешивания классов для их балансировки простой вариант\n",
        "# DataLoader достаёт данные из dataset батчами\n",
        "dataloaders = {'train': DataLoader(new_train_dataset, batch_size=BATCH_SIZE, shuffle=True),\n",
        "               'val': DataLoader(val_dataset, batch_size=BATCH_SIZE, shuffle=False)}\n",
        "dataset_sizes = {'train': len(new_train_dataset), 'val':len(val_dataset) }\n",
        "\n",
        "# Ничего не изменилось всех картинок и так больше 100!\n",
        "# исходный вариант {'train': 2282, 'val': 254}\n",
        "dataset_sizes"
      ],
      "execution_count": null,
      "outputs": [
        {
          "output_type": "execute_result",
          "data": {
            "text/plain": [
              "{'train': 1111, 'val': 278}"
            ]
          },
          "metadata": {
            "tags": []
          },
          "execution_count": 19
        }
      ]
    },
    {
      "cell_type": "markdown",
      "metadata": {
        "id": "_r1qhzFYSckH"
      },
      "source": [
        "## ResNet-34"
      ]
    },
    {
      "cell_type": "code",
      "metadata": {
        "colab": {
          "base_uri": "https://localhost:8080/",
          "referenced_widgets": [
            "9efc3ec63c3c4006b119ceb372e2666c",
            "703110fd88ed4f91addea642c708799b",
            "d324324793e64c0ca8c777426a73ca17",
            "7b121aaf0b6f446e804eb7956158e7cf",
            "05334d9a7c9f42b5a0a973cd36fee03e",
            "5614cb3d1b4a4419ba9fb03a1fd4a777",
            "7741f5016fc64a579888ec14279ae067",
            "da71e29fbce642c6b28103fe20d48f6c"
          ]
        },
        "id": "qwtldIqOSckH",
        "outputId": "f0e99944-72b2-4e95-8361-f9cf31a4570f"
      },
      "source": [
        "# Создаём сеть\n",
        "model_resnet= models.resnet34(pretrained=True)"
      ],
      "execution_count": null,
      "outputs": [
        {
          "output_type": "stream",
          "text": [
            "Downloading: \"https://download.pytorch.org/models/resnet34-333f7ec4.pth\" to /root/.cache/torch/hub/checkpoints/resnet34-333f7ec4.pth\n"
          ],
          "name": "stderr"
        },
        {
          "output_type": "display_data",
          "data": {
            "application/vnd.jupyter.widget-view+json": {
              "model_id": "9efc3ec63c3c4006b119ceb372e2666c",
              "version_minor": 0,
              "version_major": 2
            },
            "text/plain": [
              "HBox(children=(FloatProgress(value=0.0, max=87306240.0), HTML(value='')))"
            ]
          },
          "metadata": {
            "tags": []
          }
        },
        {
          "output_type": "stream",
          "text": [
            "\n"
          ],
          "name": "stdout"
        }
      ]
    },
    {
      "cell_type": "code",
      "metadata": {
        "id": "IRSO28TnSckI"
      },
      "source": [
        "# посмотрим на сеть от которой мы делаем transfer learning\r\n",
        "#model_resnet"
      ],
      "execution_count": null,
      "outputs": []
    },
    {
      "cell_type": "code",
      "metadata": {
        "id": "8q-6e2RLSckI"
      },
      "source": [
        "#Заменяем родной классификатор model на наш новый линейный классификатор\r\n",
        "classes_number=2\r\n",
        "model_resnet.fc = nn.Linear(model_resnet.fc.in_features, classes_number)"
      ],
      "execution_count": null,
      "outputs": []
    },
    {
      "cell_type": "markdown",
      "metadata": {
        "id": "JySGDnQ3SckI"
      },
      "source": [
        "##№ Подберем оптимальный learning rate для ResNet-152 (подбор learning rate осуществляем на классификаторе) делаем всего 1 раз для всех фолдов!"
      ]
    },
    {
      "cell_type": "code",
      "metadata": {
        "id": "0GnTgMpqSckI"
      },
      "source": [
        "for param in model_resnet.parameters():\r\n",
        "    param.requires_grad = False\r\n",
        "\r\n",
        "for param in model_resnet.fc.parameters():\r\n",
        "    param.requires_grad = True"
      ],
      "execution_count": null,
      "outputs": []
    },
    {
      "cell_type": "code",
      "metadata": {
        "id": "yTAJXGq3SckI"
      },
      "source": [
        "# посмотрим какие параметры в нашей модели можно обучать\r\n",
        "#print_params(model_resnet)"
      ],
      "execution_count": null,
      "outputs": []
    },
    {
      "cell_type": "code",
      "metadata": {
        "colab": {
          "base_uri": "https://localhost:8080/"
        },
        "id": "jV69MgzSSckI",
        "outputId": "01cd9a37-1ef1-4e36-93c7-df7c1a917720"
      },
      "source": [
        "# посмотрим какие параметры учим (учим все слои)\r\n",
        "params_to_update = print_learn_params(model_resnet)"
      ],
      "execution_count": null,
      "outputs": [
        {
          "output_type": "stream",
          "text": [
            "Params to update:\n",
            "\t fc.weight\n",
            "\t fc.bias\n"
          ],
          "name": "stdout"
        }
      ]
    },
    {
      "cell_type": "code",
      "metadata": {
        "id": "zvJb3IdcSckI"
      },
      "source": [
        "# В качестве cost function используем кросс-энтропию\r\n",
        "loss_fn = nn.CrossEntropyLoss()\r\n",
        "\r\n",
        "# В качестве оптимизатора AdaShift из репозитория МФТИ\r\n",
        "optimizer = torch.optim.Adam(params_to_update, lr=1e-3, amsgrad=True)\r\n",
        "\r\n",
        "# Задем планировщик изменения learning rate нашего оптимизатора.\r\n",
        "# будет просто умножать lr optimizer на gamma, каждые step_size эпох.\r\n",
        "# step_lr_scheduler = lr_scheduler.StepLR(optimizer, step_size=30, gamma=0.1)\r\n",
        "\r\n",
        "# Использовать ли GPU\r\n",
        "model_resnet = model_resnet.cuda()"
      ],
      "execution_count": null,
      "outputs": []
    },
    {
      "cell_type": "code",
      "metadata": {
        "id": "8C5Ax_z_SckJ"
      },
      "source": [
        "# подбор оптимального lr для классификатора model.fc\r\n",
        "logs, losses = find_lr(model_resnet, dataloaders, loss_fn, optimizer, init_value=1e-8, final_value=10.0)"
      ],
      "execution_count": null,
      "outputs": []
    },
    {
      "cell_type": "code",
      "metadata": {
        "colab": {
          "base_uri": "https://localhost:8080/",
          "height": 625
        },
        "id": "t7inCjqFSckJ",
        "outputId": "ab480b39-12b4-494b-d646-27203ae8a40a"
      },
      "source": [
        "# построим график для оптимального подбора lr\r\n",
        "fig = plt.figure(figsize=(10,10))\r\n",
        "ax = fig.add_subplot(111)\r\n",
        "ax.plot(logs,losses)\r\n",
        "ax.set_xlabel(\"$10^x$\")\r\n",
        "ax.set_ylabel(\"loss\")"
      ],
      "execution_count": null,
      "outputs": [
        {
          "output_type": "execute_result",
          "data": {
            "text/plain": [
              "Text(0, 0.5, 'loss')"
            ]
          },
          "metadata": {
            "tags": []
          },
          "execution_count": 50
        },
        {
          "output_type": "display_data",
          "data": {
            "image/png": "[encoded data removed]",
            "text/plain": [
              "<Figure size 720x720 with 1 Axes>"
            ]
          },
          "metadata": {
            "tags": [],
            "needs_background": "light"
          }
        }
      ]
    },
    {
      "cell_type": "code",
      "metadata": {
        "id": "ZhxRPzE-SckJ"
      },
      "source": [
        "# освободим cuda кэш\n",
        "torch.cuda.empty_cache()"
      ],
      "execution_count": null,
      "outputs": []
    },
    {
      "cell_type": "markdown",
      "metadata": {
        "id": "AQDsgiNXSckJ"
      },
      "source": [
        "По оси абсцисс у нас значение lr ее степени 10 (например x=-2 , значит что lr=10**-2=0.01) по оси ординат показаны значения loss функции полученные при даном lr. Значение оптимального lr наблюдается там где у нас видно резкое спадание значения loss функции по графику. Резкий спад наблюдается от lr=[10**-4, 10**-2] , поэтому в данном случае оптимальным будет lr=10**-3."
      ]
    },
    {
      "cell_type": "markdown",
      "metadata": {
        "id": "fXNVrjoLSckJ"
      },
      "source": [
        "## Обучение ResNet подходом Differential Groups Layers"
      ]
    },
    {
      "cell_type": "code",
      "metadata": {
        "colab": {
          "base_uri": "https://localhost:8080/"
        },
        "id": "GIxtOOa3SckJ",
        "outputId": "0f12627b-a0a8-44dd-b680-20a3c1e0ec26"
      },
      "source": [
        "# из графика видно, что лучший lr для это 1e-3\n",
        "found_lr = 1e-2\n",
        "found_lr"
      ],
      "execution_count": null,
      "outputs": [
        {
          "output_type": "execute_result",
          "data": {
            "text/plain": [
              "0.01"
            ]
          },
          "metadata": {
            "tags": []
          },
          "execution_count": 24
        }
      ]
    },
    {
      "cell_type": "markdown",
      "metadata": {
        "id": "CncxrwvLSckJ"
      },
      "source": [
        "веса подобраны перезапускаем ноутбук, только теперь переходим сразу к обучению модели без подбора learning_rate"
      ]
    },
    {
      "cell_type": "code",
      "metadata": {
        "colab": {
          "base_uri": "https://localhost:8080/"
        },
        "id": "AGc8ixfNSckJ",
        "outputId": "88a8cffc-3627-4b97-afe3-a13f5e2e7ac1"
      },
      "source": [
        "BATCH_SIZE"
      ],
      "execution_count": null,
      "outputs": [
        {
          "output_type": "execute_result",
          "data": {
            "text/plain": [
              "16"
            ]
          },
          "metadata": {
            "tags": []
          },
          "execution_count": 25
        }
      ]
    },
    {
      "cell_type": "code",
      "metadata": {
        "id": "RzefuxU1SckK"
      },
      "source": [
        "# теперь нам необходимо сделать все веса обучаемыми снова!\n",
        "for param in model_resnet.parameters():\n",
        "    param.requires_grad = True"
      ],
      "execution_count": null,
      "outputs": []
    },
    {
      "cell_type": "code",
      "metadata": {
        "colab": {
          "base_uri": "https://localhost:8080/"
        },
        "id": "GcAihmCeSckK",
        "outputId": "bb60a398-ffb6-4654-ad88-9abe6b90c06d"
      },
      "source": [
        "# посмотрим какие параметры учим (учим все слои)\n",
        "params_to_update = print_learn_params(model_resnet)"
      ],
      "execution_count": null,
      "outputs": [
        {
          "output_type": "stream",
          "text": [
            "Params to update:\n",
            "\t conv1.weight\n",
            "\t bn1.weight\n",
            "\t bn1.bias\n",
            "\t layer1.0.conv1.weight\n",
            "\t layer1.0.bn1.weight\n",
            "\t layer1.0.bn1.bias\n",
            "\t layer1.0.conv2.weight\n",
            "\t layer1.0.bn2.weight\n",
            "\t layer1.0.bn2.bias\n",
            "\t layer1.1.conv1.weight\n",
            "\t layer1.1.bn1.weight\n",
            "\t layer1.1.bn1.bias\n",
            "\t layer1.1.conv2.weight\n",
            "\t layer1.1.bn2.weight\n",
            "\t layer1.1.bn2.bias\n",
            "\t layer1.2.conv1.weight\n",
            "\t layer1.2.bn1.weight\n",
            "\t layer1.2.bn1.bias\n",
            "\t layer1.2.conv2.weight\n",
            "\t layer1.2.bn2.weight\n",
            "\t layer1.2.bn2.bias\n",
            "\t layer2.0.conv1.weight\n",
            "\t layer2.0.bn1.weight\n",
            "\t layer2.0.bn1.bias\n",
            "\t layer2.0.conv2.weight\n",
            "\t layer2.0.bn2.weight\n",
            "\t layer2.0.bn2.bias\n",
            "\t layer2.0.downsample.0.weight\n",
            "\t layer2.0.downsample.1.weight\n",
            "\t layer2.0.downsample.1.bias\n",
            "\t layer2.1.conv1.weight\n",
            "\t layer2.1.bn1.weight\n",
            "\t layer2.1.bn1.bias\n",
            "\t layer2.1.conv2.weight\n",
            "\t layer2.1.bn2.weight\n",
            "\t layer2.1.bn2.bias\n",
            "\t layer2.2.conv1.weight\n",
            "\t layer2.2.bn1.weight\n",
            "\t layer2.2.bn1.bias\n",
            "\t layer2.2.conv2.weight\n",
            "\t layer2.2.bn2.weight\n",
            "\t layer2.2.bn2.bias\n",
            "\t layer2.3.conv1.weight\n",
            "\t layer2.3.bn1.weight\n",
            "\t layer2.3.bn1.bias\n",
            "\t layer2.3.conv2.weight\n",
            "\t layer2.3.bn2.weight\n",
            "\t layer2.3.bn2.bias\n",
            "\t layer3.0.conv1.weight\n",
            "\t layer3.0.bn1.weight\n",
            "\t layer3.0.bn1.bias\n",
            "\t layer3.0.conv2.weight\n",
            "\t layer3.0.bn2.weight\n",
            "\t layer3.0.bn2.bias\n",
            "\t layer3.0.downsample.0.weight\n",
            "\t layer3.0.downsample.1.weight\n",
            "\t layer3.0.downsample.1.bias\n",
            "\t layer3.1.conv1.weight\n",
            "\t layer3.1.bn1.weight\n",
            "\t layer3.1.bn1.bias\n",
            "\t layer3.1.conv2.weight\n",
            "\t layer3.1.bn2.weight\n",
            "\t layer3.1.bn2.bias\n",
            "\t layer3.2.conv1.weight\n",
            "\t layer3.2.bn1.weight\n",
            "\t layer3.2.bn1.bias\n",
            "\t layer3.2.conv2.weight\n",
            "\t layer3.2.bn2.weight\n",
            "\t layer3.2.bn2.bias\n",
            "\t layer3.3.conv1.weight\n",
            "\t layer3.3.bn1.weight\n",
            "\t layer3.3.bn1.bias\n",
            "\t layer3.3.conv2.weight\n",
            "\t layer3.3.bn2.weight\n",
            "\t layer3.3.bn2.bias\n",
            "\t layer3.4.conv1.weight\n",
            "\t layer3.4.bn1.weight\n",
            "\t layer3.4.bn1.bias\n",
            "\t layer3.4.conv2.weight\n",
            "\t layer3.4.bn2.weight\n",
            "\t layer3.4.bn2.bias\n",
            "\t layer3.5.conv1.weight\n",
            "\t layer3.5.bn1.weight\n",
            "\t layer3.5.bn1.bias\n",
            "\t layer3.5.conv2.weight\n",
            "\t layer3.5.bn2.weight\n",
            "\t layer3.5.bn2.bias\n",
            "\t layer4.0.conv1.weight\n",
            "\t layer4.0.bn1.weight\n",
            "\t layer4.0.bn1.bias\n",
            "\t layer4.0.conv2.weight\n",
            "\t layer4.0.bn2.weight\n",
            "\t layer4.0.bn2.bias\n",
            "\t layer4.0.downsample.0.weight\n",
            "\t layer4.0.downsample.1.weight\n",
            "\t layer4.0.downsample.1.bias\n",
            "\t layer4.1.conv1.weight\n",
            "\t layer4.1.bn1.weight\n",
            "\t layer4.1.bn1.bias\n",
            "\t layer4.1.conv2.weight\n",
            "\t layer4.1.bn2.weight\n",
            "\t layer4.1.bn2.bias\n",
            "\t layer4.2.conv1.weight\n",
            "\t layer4.2.bn1.weight\n",
            "\t layer4.2.bn1.bias\n",
            "\t layer4.2.conv2.weight\n",
            "\t layer4.2.bn2.weight\n",
            "\t layer4.2.bn2.bias\n",
            "\t fc.weight\n",
            "\t fc.bias\n"
          ],
          "name": "stdout"
        }
      ]
    },
    {
      "cell_type": "markdown",
      "metadata": {
        "id": "852EtAibSckK"
      },
      "source": [
        "### Обучение раздельными группами"
      ]
    },
    {
      "cell_type": "code",
      "metadata": {
        "id": "XHzaIeyoSckK"
      },
      "source": [
        "# В качестве cost function используем кросс-энтропию\n",
        "loss_fn = nn.CrossEntropyLoss()\n",
        " \n",
        "# Дифференциальное обучение подход взят из \n",
        "# https://blog.slavv.com/differential-learning-rates-59eff5209a4f\n",
        "# и книги Ian Pointer - Programming PyTorch for Deep Learning_ Creating and Deploying Deep Learning Applications-O’Reilly Media (2019)\n",
        "# сылка на книгу на goodreads (https://www.goodreads.com/book/show/48225828-programming-pytorch-for-deep-learning)\n",
        "# Chapter 4. Transfer Learning and Other Tricks про\n",
        "# Transfer Learning with ResNet50\n",
        " \n",
        "# Выставляем различные скорости обучения для различных слоев\n",
        "optimizer = torch.optim.Adam([\n",
        "{ 'params': model_resnet.fc.parameters(), 'lr': found_lr},\n",
        "{ 'params': model_resnet.layer4.parameters(), 'lr': found_lr / 3},\n",
        "{ 'params': model_resnet.layer3.parameters(), 'lr': found_lr / 10},\n",
        "{ 'params': model_resnet.layer2.parameters(), 'lr': found_lr / 50},\n",
        "{ 'params': model_resnet.layer1.parameters(), 'lr': found_lr / 100},\n",
        "{'params': model_resnet.bn1.parameters(), 'lr': found_lr / 100},\n",
        "{'params': model_resnet.conv1.parameters(), 'lr': found_lr / 100}],\n",
        "lr=found_lr / 100, amsgrad=True)\n",
        " \n",
        " \n",
        "# Задем планировщик изменения learning rate нашего оптимизатора.\n",
        "# будет просто умножать lr optimizer на gamma, каждые step_size эпох.\n",
        "# step_lr_scheduler = lr_scheduler.StepLR(optimizer, step_size=30, gamma=0.1)\n",
        " \n",
        "# Использовать ли GPU\n",
        "model_resnet= model_resnet.cuda()"
      ],
      "execution_count": null,
      "outputs": []
    },
    {
      "cell_type": "markdown",
      "metadata": {
        "id": "SX5XxwH7SckK"
      },
      "source": [
        "### Или обучение одним LR на все слои"
      ]
    },
    {
      "cell_type": "code",
      "metadata": {
        "id": "yzj3kLnoSckK"
      },
      "source": [
        "# В качестве cost function используем кросс-энтропию\r\n",
        "loss_fn = nn.CrossEntropyLoss()\r\n",
        " \r\n",
        "# Дифференциальное обучение подход взят из \r\n",
        "# https://blog.slavv.com/differential-learning-rates-59eff5209a4f\r\n",
        "# и книги Ian Pointer - Programming PyTorch for Deep Learning_ Creating and Deploying Deep Learning Applications-O’Reilly Media (2019)\r\n",
        "# сылка на книгу на goodreads (https://www.goodreads.com/book/show/48225828-programming-pytorch-for-deep-learning)\r\n",
        "# Chapter 4. Transfer Learning and Other Tricks про\r\n",
        "# Transfer Learning with ResNet50\r\n",
        " \r\n",
        "# Выставляем различные скорости обучения для различных слоев\r\n",
        "optimizer = torch.optim.Adam(model_resnet.parameters(), lr=found_lr / 100, amsgrad=True)\r\n",
        " \r\n",
        " \r\n",
        "# Задем планировщик изменения learning rate нашего оптимизатора.\r\n",
        "# будет просто умножать lr optimizer на gamma, каждые step_size эпох.\r\n",
        "# step_lr_scheduler = lr_scheduler.StepLR(optimizer, step_size=30, gamma=0.1)\r\n",
        " \r\n",
        "# Использовать ли GPU\r\n",
        "model_resnet= model_resnet.cuda()"
      ],
      "execution_count": null,
      "outputs": []
    },
    {
      "cell_type": "markdown",
      "metadata": {
        "id": "X9TFKcL1SckK"
      },
      "source": [
        "### 1-вый цикл обучения (20 эпох) Accuracy: 0.9859"
      ]
    },
    {
      "cell_type": "code",
      "metadata": {
        "id": "r9A5vuJ0SckK"
      },
      "source": [
        "# Зададим путь для сохранения моделей!\n",
        "# path = f'/content/gdrive/MyDrive/agb/model/ResNet34_FixLR_AdamW_aug_oversampling_batchsize_16_fold_{fold}'\n",
        "path = f'/content/gdrive/MyDrive/agb/model/ResNet34_DGL_AdamW_aug_oversampling_batchsize_16_fold_{fold}'"
      ],
      "execution_count": null,
      "outputs": []
    },
    {
      "cell_type": "code",
      "metadata": {
        "colab": {
          "base_uri": "https://localhost:8080/"
        },
        "id": "YObY9YM9SckK",
        "outputId": "e969b3ab-7982-439d-aabe-501878c3f962"
      },
      "source": [
        "path"
      ],
      "execution_count": null,
      "outputs": [
        {
          "output_type": "execute_result",
          "data": {
            "application/vnd.google.colaboratory.intrinsic+json": {
              "type": "string"
            },
            "text/plain": [
              "'/content/gdrive/MyDrive/agb/model/ResNet34_DGL_AdamW_aug_oversampling_batchsize_16_fold_1'"
            ]
          },
          "metadata": {
            "tags": []
          },
          "execution_count": 30
        }
      ]
    },
    {
      "cell_type": "code",
      "metadata": {
        "colab": {
          "base_uri": "https://localhost:8080/",
          "height": 1000,
          "referenced_widgets": [
            "bf7379154f7a433c9b74b9714f67a6bc",
            "0fec170184c749eaa47961ed4dc9c1b8",
            "2f034d2a37ea42c3b2a0051b74f03ea6",
            "10819479954c45a29b5f1c3af48bcfb2",
            "550603ee6de54527b8d15a1a35fd66fa",
            "3714e3644c7c498cbd0356b87803f26a",
            "131374c7bde347bea9a33dfe8ebc6030",
            "5c305a16370c4cbd80588bd4d25c2677"
          ]
        },
        "id": "UmhM50IiSckK",
        "outputId": "a0cbf4af-7d06-4d78-daf8-ba8816916911"
      },
      "source": [
        "# Обучаем модель (Неиспользуется в финальном score можно сразу загрузить веса!)\n",
        "model_resnet, losses, acc, best_model_wts = train_model(model_resnet, dataloaders, loss_fn, optimizer, num_epochs=20, flag_save_wts_to_file=True, path=path)"
      ],
      "execution_count": null,
      "outputs": [
        {
          "output_type": "stream",
          "text": [
            "Logging...\n"
          ],
          "name": "stdout"
        },
        {
          "output_type": "display_data",
          "data": {
            "application/vnd.jupyter.widget-view+json": {
              "model_id": "bf7379154f7a433c9b74b9714f67a6bc",
              "version_minor": 0,
              "version_major": 2
            },
            "text/plain": [
              "HBox(children=(FloatProgress(value=0.0, max=20.0), HTML(value='')))"
            ]
          },
          "metadata": {
            "tags": []
          }
        },
        {
          "output_type": "stream",
          "text": [
            "Epoch 0/19 lr=[0.0001]\n",
            "----------\n",
            "train Loss: 0.2573 Acc: 0.8879\n",
            "val Loss: 0.0435 Acc: 0.9821\n",
            "\n",
            "***new best wts with acc 0.9821428571428571 at 0 epoh***\n",
            "\n",
            "***new best wts with loss 0.04347852550979171 at 0 epoh***\n",
            "*** save model wts at this 0 epoch ! *** \n",
            "\n",
            "Epoch 1/19 lr=[0.0001]\n",
            "----------\n",
            "train Loss: 0.1150 Acc: 0.9600\n",
            "val Loss: 0.1061 Acc: 0.9643\n",
            "*** save model wts at this 1 epoch ! *** \n",
            "\n",
            "Epoch 2/19 lr=[0.0001]\n",
            "----------\n",
            "train Loss: 0.0750 Acc: 0.9700\n",
            "val Loss: 0.0105 Acc: 1.0000\n",
            "\n",
            "***new best wts with acc 1.0 at 2 epoh***\n",
            "\n",
            "***new best wts with loss 0.01053628179111651 at 2 epoh***\n",
            "*** save model wts at this 2 epoch ! *** \n",
            "\n",
            "Epoch 3/19 lr=[0.0001]\n",
            "----------\n",
            "train Loss: 0.0526 Acc: 0.9850\n",
            "val Loss: 0.0133 Acc: 0.9911\n",
            "*** save model wts at this 3 epoch ! *** \n",
            "\n",
            "Epoch 4/19 lr=[0.0001]\n",
            "----------\n",
            "train Loss: 0.0918 Acc: 0.9650\n",
            "val Loss: 0.0284 Acc: 0.9911\n",
            "*** save model wts at this 4 epoch ! *** \n",
            "\n",
            "Epoch 5/19 lr=[0.0001]\n",
            "----------\n",
            "train Loss: 0.0871 Acc: 0.9690\n",
            "val Loss: 0.0053 Acc: 1.0000\n",
            "\n",
            "***new best wts with loss 0.00526534320254411 at 5 epoh***\n",
            "*** save model wts at this 5 epoch ! *** \n",
            "\n",
            "Epoch 6/19 lr=[0.0001]\n",
            "----------\n",
            "train Loss: 0.1019 Acc: 0.9650\n",
            "val Loss: 0.0210 Acc: 0.9911\n",
            "*** save model wts at this 6 epoch ! *** \n",
            "\n",
            "Epoch 7/19 lr=[0.0001]\n",
            "----------\n",
            "train Loss: 0.0637 Acc: 0.9790\n",
            "val Loss: 0.0358 Acc: 0.9821\n",
            "*** save model wts at this 7 epoch ! *** \n",
            "\n",
            "Epoch 8/19 lr=[0.0001]\n",
            "----------\n",
            "train Loss: 0.0393 Acc: 0.9850\n",
            "val Loss: 0.0070 Acc: 1.0000\n",
            "*** save model wts at this 8 epoch ! *** \n",
            "\n",
            "Epoch 9/19 lr=[0.0001]\n",
            "----------\n",
            "train Loss: 0.0779 Acc: 0.9780\n",
            "val Loss: 0.0118 Acc: 1.0000\n",
            "*** save model wts at this 9 epoch ! *** \n",
            "\n",
            "Epoch 10/19 lr=[0.0001]\n",
            "----------\n",
            "train Loss: 0.0391 Acc: 0.9870\n",
            "val Loss: 0.0105 Acc: 1.0000\n",
            "*** save model wts at this 10 epoch ! *** \n",
            "\n",
            "Epoch 11/19 lr=[0.0001]\n",
            "----------\n",
            "train Loss: 0.0424 Acc: 0.9850\n",
            "val Loss: 0.0093 Acc: 1.0000\n",
            "*** save model wts at this 11 epoch ! *** \n",
            "\n",
            "Epoch 12/19 lr=[0.0001]\n",
            "----------\n",
            "train Loss: 0.0305 Acc: 0.9870\n",
            "val Loss: 0.0167 Acc: 0.9911\n",
            "*** save model wts at this 12 epoch ! *** \n",
            "\n",
            "Epoch 13/19 lr=[0.0001]\n",
            "----------\n",
            "train Loss: 0.0559 Acc: 0.9800\n",
            "val Loss: 0.0020 Acc: 1.0000\n",
            "\n",
            "***new best wts with loss 0.0020211997523022418 at 13 epoh***\n",
            "*** save model wts at this 13 epoch ! *** \n",
            "\n",
            "Epoch 14/19 lr=[0.0001]\n",
            "----------\n",
            "train Loss: 0.0582 Acc: 0.9820\n",
            "val Loss: 0.0033 Acc: 1.0000\n",
            "*** save model wts at this 14 epoch ! *** \n",
            "\n",
            "Epoch 15/19 lr=[0.0001]\n",
            "----------\n",
            "train Loss: 0.0458 Acc: 0.9870\n",
            "val Loss: 0.0178 Acc: 0.9911\n",
            "*** save model wts at this 15 epoch ! *** \n",
            "\n",
            "Epoch 16/19 lr=[0.0001]\n",
            "----------\n",
            "train Loss: 0.0207 Acc: 0.9920\n",
            "val Loss: 0.0061 Acc: 1.0000\n",
            "*** save model wts at this 16 epoch ! *** \n",
            "\n",
            "Epoch 17/19 lr=[0.0001]\n",
            "----------\n",
            "train Loss: 0.0618 Acc: 0.9800\n",
            "val Loss: 0.0339 Acc: 0.9821\n",
            "*** save model wts at this 17 epoch ! *** \n",
            "\n",
            "Epoch 18/19 lr=[0.0001]\n",
            "----------\n",
            "train Loss: 0.0401 Acc: 0.9840\n",
            "val Loss: 0.0057 Acc: 1.0000\n",
            "*** save model wts at this 18 epoch ! *** \n",
            "\n",
            "Epoch 19/19 lr=[0.0001]\n",
            "----------\n",
            "train Loss: 0.0457 Acc: 0.9890\n",
            "val Loss: 0.0087 Acc: 1.0000\n",
            "*** save model wts at this 19 epoch ! *** \n",
            "\n",
            "\n",
            "Training complete in 23m 37s\n",
            "Best val Acc: 1.000000 at 2\n",
            "Best val Loss: 0.002021 at 13\n"
          ],
          "name": "stdout"
        }
      ]
    },
    {
      "cell_type": "code",
      "metadata": {
        "id": "DotKA3IeSckL"
      },
      "source": [
        "# освободим cuda кэш\n",
        "torch.cuda.empty_cache()"
      ],
      "execution_count": null,
      "outputs": []
    },
    {
      "cell_type": "code",
      "metadata": {
        "id": "ssI_YN3FSckL"
      },
      "source": [
        "# загрузим состояние нашей модели, ее веса при которых было достигнута лучшая\n",
        "# точность, а так же losses и accurancy\n",
        "# У НАС ЕСТЬ БЫБОР!\n",
        "# Если:\n",
        "# сторка ниже, - забираем модель с последней эпохи обучения\n",
        "# model_resnet.load_state_dict(torch.load(path + '.pth'))\n",
        "\n",
        "# лучше забрать одну из моделей ниже!\n",
        "# или строка ниже, - забираем модель с лучшей точностью на валидации\n",
        "# model_resnet.load_state_dict(torch.load(path + '_best_w.pth')) \n",
        "\n",
        "# или строка ниже, - забираем модель с наименьшим loss на валидации\n",
        "model_resnet.load_state_dict(torch.load(path + '_best_w_loss.pth'))\n",
        "\n",
        "# загружаем accurancy и loss'ы\n",
        "losses = load_dict_from_file(path + '_losses.pickle')\n",
        "acc = load_dict_from_file(path + '_acc.pickle')"
      ],
      "execution_count": null,
      "outputs": []
    },
    {
      "cell_type": "code",
      "metadata": {
        "colab": {
          "base_uri": "https://localhost:8080/"
        },
        "id": "wvuz0edkSckL",
        "outputId": "63f3c97c-88e7-4118-d0a6-fe84a4ed73f0"
      },
      "source": [
        "# посчитаем Accuracy на всей валидационной выборке Accuracy: 0.9859\n",
        "print(\"Accuracy: {0:.4f}\".format(evaluate(model_resnet, dataloaders['val'], DEVICE, use_gpu =True)))"
      ],
      "execution_count": null,
      "outputs": [
        {
          "output_type": "stream",
          "text": [
            "Accuracy: 1.0000\n"
          ],
          "name": "stdout"
        }
      ]
    },
    {
      "cell_type": "code",
      "metadata": {
        "colab": {
          "base_uri": "https://localhost:8080/",
          "height": 295
        },
        "id": "HUBCCneFSckL",
        "outputId": "105daa7e-32cf-444b-e90e-b21e4301e780"
      },
      "source": [
        "show_losses_plots(losses, smooth_flag = False, min = 0)"
      ],
      "execution_count": null,
      "outputs": [
        {
          "output_type": "display_data",
          "data": {
            "image/png": "[encoded data removed]",
            "text/plain": [
              "<Figure size 432x288 with 1 Axes>"
            ]
          },
          "metadata": {
            "tags": [],
            "needs_background": "light"
          }
        }
      ]
    },
    {
      "cell_type": "code",
      "metadata": {
        "colab": {
          "base_uri": "https://localhost:8080/",
          "height": 295
        },
        "id": "YP8pP6QKSckL",
        "outputId": "51a81dfc-f1a6-4ad3-95f8-da1cfea38a5c"
      },
      "source": [
        "show_acc_plots(acc, smooth_flag = False)"
      ],
      "execution_count": null,
      "outputs": [
        {
          "output_type": "display_data",
          "data": {
            "image/png": "[encoded data removed]",
            "text/plain": [
              "<Figure size 432x288 with 1 Axes>"
            ]
          },
          "metadata": {
            "tags": [],
            "needs_background": "light"
          }
        }
      ]
    },
    {
      "cell_type": "markdown",
      "metadata": {
        "id": "wWP4xoCBSckL"
      },
      "source": [
        "#### оценка предсказательной точности модели по классам 1 цикл"
      ]
    },
    {
      "cell_type": "code",
      "metadata": {
        "colab": {
          "base_uri": "https://localhost:8080/",
          "height": 818
        },
        "id": "NqIvjVNISckL",
        "outputId": "b54c3eac-e49c-4b93-a536-4fcebdbb3177"
      },
      "source": [
        "# Построим confusion_matrix\n",
        "y_test_all, predictions_all, feature_names = show_confusion_matrix_fucn(model_resnet, dataloaders)"
      ],
      "execution_count": null,
      "outputs": [
        {
          "output_type": "stream",
          "text": [
            "Normalized confusion matrix\n"
          ],
          "name": "stdout"
        },
        {
          "output_type": "display_data",
          "data": {
            "image/png": "[encoded data removed]",
            "text/plain": [
              "<Figure size 1152x792 with 2 Axes>"
            ]
          },
          "metadata": {
            "tags": [],
            "needs_background": "light"
          }
        }
      ]
    },
    {
      "cell_type": "code",
      "metadata": {
        "colab": {
          "base_uri": "https://localhost:8080/"
        },
        "scrolled": true,
        "id": "fA4pUeEiSckL",
        "outputId": "6e4f1373-82a4-4c8f-9d54-e7942e94e460"
      },
      "source": [
        "# Выведем точность для каждого класса\n",
        "accurancy_for_each_class(y_test_all, predictions_all, feature_names)"
      ],
      "execution_count": null,
      "outputs": [
        {
          "output_type": "stream",
          "text": [
            "[71, 41]\n",
            "2\n",
            "Accuracy of health\t100 %\n",
            "Accuracy of  sick\t100 %\n"
          ],
          "name": "stdout"
        }
      ]
    },
    {
      "cell_type": "code",
      "metadata": {
        "id": "zjjeDLk1SckL"
      },
      "source": [
        "f1 = f1_score(y_test_all, predictions_all)"
      ],
      "execution_count": null,
      "outputs": []
    },
    {
      "cell_type": "code",
      "metadata": {
        "id": "nHVIjrOFSckL"
      },
      "source": [
        "f1_score_folds.append(f1)"
      ],
      "execution_count": null,
      "outputs": []
    },
    {
      "cell_type": "code",
      "metadata": {
        "id": "tnomyn9FSckL"
      },
      "source": [
        "# освободим cuda кэш\n",
        "torch.cuda.empty_cache()"
      ],
      "execution_count": null,
      "outputs": []
    },
    {
      "cell_type": "markdown",
      "metadata": {
        "id": "lAMt2-rpSjos"
      },
      "source": [
        "# Fold 4"
      ]
    },
    {
      "cell_type": "markdown",
      "metadata": {
        "id": "2Xv5sTTCSjov"
      },
      "source": [
        "## Загружаем, созданное ранее разбиение"
      ]
    },
    {
      "cell_type": "code",
      "metadata": {
        "id": "VU3tCd9xSjov"
      },
      "source": [
        "fold = 4"
      ],
      "execution_count": null,
      "outputs": []
    },
    {
      "cell_type": "code",
      "metadata": {
        "colab": {
          "base_uri": "https://localhost:8080/"
        },
        "id": "QWcsp8IzSjow",
        "outputId": "742ba147-9b55-40a3-aa62-febfe3ddea4b"
      },
      "source": [
        "# загружаем сохранненное разбиение, чтобы нейросети учились\n",
        "# на одних и тех же выборках\n",
        "data_load_path = '//content//gdrive//MyDrive//AgroCode_pre_snippets//dataset_agro_code//5_folds//'\n",
        "\n",
        "print(f'Загружаем данные с fold {fold}')\n",
        " \n",
        "with open(data_load_path + f'train_files_fold_{fold}.pickle', 'rb') as f:\n",
        "    train_files = pickle.load(f)\n",
        " \n",
        "with open(data_load_path + f'train_labels_fold_{fold}.pickle', 'rb') as f:\n",
        "    train_labels = pickle.load(f)\n",
        " \n",
        "with open(data_load_path + f'val_files_fold_{fold}.pickle', 'rb') as f:\n",
        "    val_files = pickle.load(f)\n",
        " \n",
        "with open(data_load_path + f'val_labels_fold_{fold}.pickle', 'rb') as f:\n",
        "    val_labels = pickle.load(f)"
      ],
      "execution_count": null,
      "outputs": [
        {
          "output_type": "stream",
          "text": [
            "Загружаем данные с fold 1\n"
          ],
          "name": "stdout"
        }
      ]
    },
    {
      "cell_type": "markdown",
      "metadata": {
        "id": "7OF5nXtgSjow"
      },
      "source": [
        "## Dataset\n"
      ]
    },
    {
      "cell_type": "code",
      "metadata": {
        "id": "uTib1bXjSjox"
      },
      "source": [
        "# разные режимы датасета \r\n",
        "DATA_MODES = ['train', 'val', 'test']\r\n",
        "# все изображения будут масштабированы к размеру 224x224 px\r\n",
        "RESCALE_SIZE = 224\r\n",
        "# работаем на видеокарте\r\n",
        "DEVICE = torch.device(\"cuda\")"
      ],
      "execution_count": null,
      "outputs": []
    },
    {
      "cell_type": "code",
      "metadata": {
        "id": "TX2qu5H3Sjox"
      },
      "source": [
        "class AppleDataset(Dataset):\n",
        "    \"\"\"\n",
        "    Датасет с картинками, который паралельно подгружает их из папок\n",
        "    производит изменения размера картинок, аугментации и преобразование в тензоры\n",
        "    PyTorch\n",
        "    \"\"\"\n",
        "    def __init__(self, files, mode):\n",
        "        super().__init__()\n",
        "        # список файлов для загрузки\n",
        "        self.files = sorted(files)\n",
        "        # режим работы\n",
        "        self.mode = mode\n",
        "\n",
        "        if self.mode not in DATA_MODES:\n",
        "            print(f\"{self.mode} is not correct; correct modes: {DATA_MODES}\")\n",
        "            raise NameError\n",
        "\n",
        "        self.len_ = len(self.files)\n",
        "     \n",
        "        # кодировщик имен классов\n",
        "        self.label_encoder = LabelEncoder()\n",
        "\n",
        "        if self.mode != 'test':\n",
        "            self.labels = [path.parent.name for path in self.files]\n",
        "            self.label_encoder.fit(self.labels)\n",
        "\n",
        "            path = '//content//gdrive//MyDrive//AgroCode_pre_snippets//model//'\n",
        "            #path = '/content/gdrive/MyDrive/agb/model/'\n",
        "            with open(path + 'label_encoder.pkl', 'wb') as le_dump_file:\n",
        "                  pickle.dump(self.label_encoder, le_dump_file)\n",
        "                      \n",
        "    def __len__(self):\n",
        "        return self.len_\n",
        "      \n",
        "    def load_sample(self, file):\n",
        "        image = Image.open(file)\n",
        "        image.load()\n",
        "        return image\n",
        "  \n",
        "    def __getitem__(self, index):\n",
        "        # для преобразования изображений в тензоры PyTorch и нормализации входа\n",
        "        transform = transforms.Compose([\n",
        "            transforms.Resize(256),\n",
        "            transforms.CenterCrop(RESCALE_SIZE),\n",
        "            transforms.ToTensor(),\n",
        "            # mean и std для набора данных ImageNet на котором были обучены \n",
        "            # предобученные сети из torchvision\n",
        "            transforms.Normalize(mean=[0.485, 0.456, 0.406],\n",
        "                                 std=[0.229, 0.224, 0.225])\n",
        "            ])\n",
        "\n",
        "        # трансформация с аугментацией для обучающей выборки средствами PyTorch\n",
        "        transform_augment = transforms.Compose([\n",
        "            transforms.Resize(size=(256, 256)),\n",
        "            transforms.RandomResizedCrop(RESCALE_SIZE),\n",
        "            transforms.RandomHorizontalFlip(),\n",
        "            # transforms.RandomRotation(40),\n",
        "            # transforms.RandomPerspective(),\n",
        "            # transforms.ColorJitter(hue=.1, saturation=.1),\n",
        "            transforms.ToTensor(),\n",
        "            # mean и std для набора данных ImageNet на котором были обучены \n",
        "            # предобученные сети из torchvision\n",
        "            transforms.Normalize(mean=[0.485, 0.456, 0.406],\n",
        "                                 std=[0.229, 0.224, 0.225])\n",
        "            ])\n",
        "\n",
        "        x = self.load_sample(self.files[index])\n",
        "\n",
        "        # У нас тр режима датасета \n",
        "        # DATA_MODES = ['train', 'val', 'test']\n",
        "        # train - обчающая выборка на которой мы обучаем нейросеть \n",
        "        # (есть картинки и ответы к ним)\n",
        "        # val - валидационная выборка на которой мы тестируем как хорошо\n",
        "        #  нейросеть обучилась! (есть картинки и ответы к ним)\n",
        "        # test - тестовая выборка на которой мы предсказываем ответы для\n",
        "        #  скора в соревновании (есть картинки ответов нет!)\n",
        "\n",
        "        if self.mode == 'test': # если тестовая выборка у нас нет ответов и\n",
        "            x = transform(x)    # датасет не должен аугментировать картинки\n",
        "            return x\n",
        "        else:\n",
        "            if self.mode == 'train': # аугментируем обучающую выборку\n",
        "                x = transform_augment(x)\n",
        "            else:\n",
        "                x = transform(x) # не аугментируем валидационную выборку\n",
        "\n",
        "            # для train или val выборок у нас есть ответы по классам\n",
        "            label = self.labels[index]\n",
        "            label_id = self.label_encoder.transform([label])\n",
        "            y = label_id.item()\n",
        "            return x, y"
      ],
      "execution_count": null,
      "outputs": []
    },
    {
      "cell_type": "markdown",
      "metadata": {
        "id": "AkBMa3JASjox"
      },
      "source": [
        "### Ручной oversampling до 100 картинок (Выполняется для всех нейросетей в подзаголовках заголовка Теперь обучаем лучшими подходами)\n",
        "\n"
      ]
    },
    {
      "cell_type": "code",
      "metadata": {
        "colab": {
          "base_uri": "https://localhost:8080/"
        },
        "id": "rznp2cCASjox",
        "outputId": "e9dbfb40-3420-4422-c74f-0464f9d7b199"
      },
      "source": [
        "BATCH_SIZE = 16\n",
        "\n",
        "# Создадим словарь в котором ключами будут ЯБЛОКИ, а значениями списки с путями к картинкам.\n",
        "dct_path_train = create_dct_path_labels(train_files, train_labels)\n",
        "\n",
        "# Дополним картинки классов у которых менее 100 картинок, до 100 картинок в классе\n",
        "for person in dct_path_train:\n",
        "    if len(dct_path_train[person]) < 100:\n",
        "        dct_path_train[person] = dct_path_train[person] * (100 // len(dct_path_train[person]))\n",
        "        dct_path_train[person].extend(dct_path_train[person][:100 - len(dct_path_train[person])])\n",
        "\n",
        "new_train_files = []\n",
        "\n",
        "for person in dct_path_train:\n",
        "    new_train_files.extend(dct_path_train[person])\n",
        "\n",
        "new_train_label = [path.parent.name for path in new_train_files] # классы train\n",
        "\n",
        "val_dataset = AppleDataset(val_files, mode='val')\n",
        "new_train_dataset = AppleDataset(new_train_files, mode='train')\n",
        "\n",
        "# определим загрузщики данных без взвешивания классов для их балансировки простой вариант\n",
        "# DataLoader достаёт данные из dataset батчами\n",
        "dataloaders = {'train': DataLoader(new_train_dataset, batch_size=BATCH_SIZE, shuffle=True),\n",
        "               'val': DataLoader(val_dataset, batch_size=BATCH_SIZE, shuffle=False)}\n",
        "dataset_sizes = {'train': len(new_train_dataset), 'val':len(val_dataset) }\n",
        "\n",
        "# Ничего не изменилось всех картинок и так больше 100!\n",
        "# исходный вариант {'train': 2282, 'val': 254}\n",
        "dataset_sizes"
      ],
      "execution_count": null,
      "outputs": [
        {
          "output_type": "execute_result",
          "data": {
            "text/plain": [
              "{'train': 1111, 'val': 278}"
            ]
          },
          "metadata": {
            "tags": []
          },
          "execution_count": 19
        }
      ]
    },
    {
      "cell_type": "markdown",
      "metadata": {
        "id": "ih_h5Zd2Sjoy"
      },
      "source": [
        "## ResNet-34"
      ]
    },
    {
      "cell_type": "code",
      "metadata": {
        "colab": {
          "base_uri": "https://localhost:8080/",
          "referenced_widgets": [
            "9efc3ec63c3c4006b119ceb372e2666c",
            "703110fd88ed4f91addea642c708799b",
            "d324324793e64c0ca8c777426a73ca17",
            "7b121aaf0b6f446e804eb7956158e7cf",
            "05334d9a7c9f42b5a0a973cd36fee03e",
            "5614cb3d1b4a4419ba9fb03a1fd4a777",
            "7741f5016fc64a579888ec14279ae067",
            "da71e29fbce642c6b28103fe20d48f6c"
          ]
        },
        "id": "6Or_5Xk_Sjoy",
        "outputId": "f0e99944-72b2-4e95-8361-f9cf31a4570f"
      },
      "source": [
        "# Создаём сеть\n",
        "model_resnet= models.resnet34(pretrained=True)"
      ],
      "execution_count": null,
      "outputs": [
        {
          "output_type": "stream",
          "text": [
            "Downloading: \"https://download.pytorch.org/models/resnet34-333f7ec4.pth\" to /root/.cache/torch/hub/checkpoints/resnet34-333f7ec4.pth\n"
          ],
          "name": "stderr"
        },
        {
          "output_type": "display_data",
          "data": {
            "application/vnd.jupyter.widget-view+json": {
              "model_id": "9efc3ec63c3c4006b119ceb372e2666c",
              "version_minor": 0,
              "version_major": 2
            },
            "text/plain": [
              "HBox(children=(FloatProgress(value=0.0, max=87306240.0), HTML(value='')))"
            ]
          },
          "metadata": {
            "tags": []
          }
        },
        {
          "output_type": "stream",
          "text": [
            "\n"
          ],
          "name": "stdout"
        }
      ]
    },
    {
      "cell_type": "code",
      "metadata": {
        "id": "TrZ-iqboSjoy"
      },
      "source": [
        "# посмотрим на сеть от которой мы делаем transfer learning\r\n",
        "#model_resnet"
      ],
      "execution_count": null,
      "outputs": []
    },
    {
      "cell_type": "code",
      "metadata": {
        "id": "BuQBBzkSSjoy"
      },
      "source": [
        "#Заменяем родной классификатор model на наш новый линейный классификатор\r\n",
        "classes_number=2\r\n",
        "model_resnet.fc = nn.Linear(model_resnet.fc.in_features, classes_number)"
      ],
      "execution_count": null,
      "outputs": []
    },
    {
      "cell_type": "markdown",
      "metadata": {
        "id": "f-tdxj8gSjoy"
      },
      "source": [
        "##№ Подберем оптимальный learning rate для ResNet-152 (подбор learning rate осуществляем на классификаторе) делаем всего 1 раз для всех фолдов!"
      ]
    },
    {
      "cell_type": "code",
      "metadata": {
        "id": "fwqsllIOSjoy"
      },
      "source": [
        "for param in model_resnet.parameters():\r\n",
        "    param.requires_grad = False\r\n",
        "\r\n",
        "for param in model_resnet.fc.parameters():\r\n",
        "    param.requires_grad = True"
      ],
      "execution_count": null,
      "outputs": []
    },
    {
      "cell_type": "code",
      "metadata": {
        "id": "98CjjpWlSjoz"
      },
      "source": [
        "# посмотрим какие параметры в нашей модели можно обучать\r\n",
        "#print_params(model_resnet)"
      ],
      "execution_count": null,
      "outputs": []
    },
    {
      "cell_type": "code",
      "metadata": {
        "colab": {
          "base_uri": "https://localhost:8080/"
        },
        "id": "BKGeO4bMSjoz",
        "outputId": "01cd9a37-1ef1-4e36-93c7-df7c1a917720"
      },
      "source": [
        "# посмотрим какие параметры учим (учим все слои)\r\n",
        "params_to_update = print_learn_params(model_resnet)"
      ],
      "execution_count": null,
      "outputs": [
        {
          "output_type": "stream",
          "text": [
            "Params to update:\n",
            "\t fc.weight\n",
            "\t fc.bias\n"
          ],
          "name": "stdout"
        }
      ]
    },
    {
      "cell_type": "code",
      "metadata": {
        "id": "2zXdcP5HSjoz"
      },
      "source": [
        "# В качестве cost function используем кросс-энтропию\r\n",
        "loss_fn = nn.CrossEntropyLoss()\r\n",
        "\r\n",
        "# В качестве оптимизатора AdaShift из репозитория МФТИ\r\n",
        "optimizer = torch.optim.Adam(params_to_update, lr=1e-3, amsgrad=True)\r\n",
        "\r\n",
        "# Задем планировщик изменения learning rate нашего оптимизатора.\r\n",
        "# будет просто умножать lr optimizer на gamma, каждые step_size эпох.\r\n",
        "# step_lr_scheduler = lr_scheduler.StepLR(optimizer, step_size=30, gamma=0.1)\r\n",
        "\r\n",
        "# Использовать ли GPU\r\n",
        "model_resnet = model_resnet.cuda()"
      ],
      "execution_count": null,
      "outputs": []
    },
    {
      "cell_type": "code",
      "metadata": {
        "id": "z5pqMo7nSjoz"
      },
      "source": [
        "# подбор оптимального lr для классификатора model.fc\r\n",
        "logs, losses = find_lr(model_resnet, dataloaders, loss_fn, optimizer, init_value=1e-8, final_value=10.0)"
      ],
      "execution_count": null,
      "outputs": []
    },
    {
      "cell_type": "code",
      "metadata": {
        "colab": {
          "base_uri": "https://localhost:8080/",
          "height": 625
        },
        "id": "DM6PDgX6Sjoz",
        "outputId": "ab480b39-12b4-494b-d646-27203ae8a40a"
      },
      "source": [
        "# построим график для оптимального подбора lr\r\n",
        "fig = plt.figure(figsize=(10,10))\r\n",
        "ax = fig.add_subplot(111)\r\n",
        "ax.plot(logs,losses)\r\n",
        "ax.set_xlabel(\"$10^x$\")\r\n",
        "ax.set_ylabel(\"loss\")"
      ],
      "execution_count": null,
      "outputs": [
        {
          "output_type": "execute_result",
          "data": {
            "text/plain": [
              "Text(0, 0.5, 'loss')"
            ]
          },
          "metadata": {
            "tags": []
          },
          "execution_count": 50
        },
        {
          "output_type": "display_data",
          "data": {
            "image/png": "[encoded data removed]",
            "text/plain": [
              "<Figure size 720x720 with 1 Axes>"
            ]
          },
          "metadata": {
            "tags": [],
            "needs_background": "light"
          }
        }
      ]
    },
    {
      "cell_type": "code",
      "metadata": {
        "id": "XkRvM-R7Sjoz"
      },
      "source": [
        "# освободим cuda кэш\n",
        "torch.cuda.empty_cache()"
      ],
      "execution_count": null,
      "outputs": []
    },
    {
      "cell_type": "markdown",
      "metadata": {
        "id": "-TUDFGWPSjoz"
      },
      "source": [
        "По оси абсцисс у нас значение lr ее степени 10 (например x=-2 , значит что lr=10**-2=0.01) по оси ординат показаны значения loss функции полученные при даном lr. Значение оптимального lr наблюдается там где у нас видно резкое спадание значения loss функции по графику. Резкий спад наблюдается от lr=[10**-4, 10**-2] , поэтому в данном случае оптимальным будет lr=10**-3."
      ]
    },
    {
      "cell_type": "markdown",
      "metadata": {
        "id": "KVbVA3Q4Sjo0"
      },
      "source": [
        "## Обучение ResNet подходом Differential Groups Layers"
      ]
    },
    {
      "cell_type": "code",
      "metadata": {
        "colab": {
          "base_uri": "https://localhost:8080/"
        },
        "id": "9eebMslJSjo0",
        "outputId": "0f12627b-a0a8-44dd-b680-20a3c1e0ec26"
      },
      "source": [
        "# из графика видно, что лучший lr для это 1e-3\n",
        "found_lr = 1e-2\n",
        "found_lr"
      ],
      "execution_count": null,
      "outputs": [
        {
          "output_type": "execute_result",
          "data": {
            "text/plain": [
              "0.01"
            ]
          },
          "metadata": {
            "tags": []
          },
          "execution_count": 24
        }
      ]
    },
    {
      "cell_type": "markdown",
      "metadata": {
        "id": "oWIyeiEoSjo0"
      },
      "source": [
        "веса подобраны перезапускаем ноутбук, только теперь переходим сразу к обучению модели без подбора learning_rate"
      ]
    },
    {
      "cell_type": "code",
      "metadata": {
        "colab": {
          "base_uri": "https://localhost:8080/"
        },
        "id": "dm0hkTa0Sjo0",
        "outputId": "88a8cffc-3627-4b97-afe3-a13f5e2e7ac1"
      },
      "source": [
        "BATCH_SIZE"
      ],
      "execution_count": null,
      "outputs": [
        {
          "output_type": "execute_result",
          "data": {
            "text/plain": [
              "16"
            ]
          },
          "metadata": {
            "tags": []
          },
          "execution_count": 25
        }
      ]
    },
    {
      "cell_type": "code",
      "metadata": {
        "id": "4cywn65_Sjo0"
      },
      "source": [
        "# теперь нам необходимо сделать все веса обучаемыми снова!\n",
        "for param in model_resnet.parameters():\n",
        "    param.requires_grad = True"
      ],
      "execution_count": null,
      "outputs": []
    },
    {
      "cell_type": "code",
      "metadata": {
        "colab": {
          "base_uri": "https://localhost:8080/"
        },
        "id": "1emj-Zn2Sjo0",
        "outputId": "bb60a398-ffb6-4654-ad88-9abe6b90c06d"
      },
      "source": [
        "# посмотрим какие параметры учим (учим все слои)\n",
        "params_to_update = print_learn_params(model_resnet)"
      ],
      "execution_count": null,
      "outputs": [
        {
          "output_type": "stream",
          "text": [
            "Params to update:\n",
            "\t conv1.weight\n",
            "\t bn1.weight\n",
            "\t bn1.bias\n",
            "\t layer1.0.conv1.weight\n",
            "\t layer1.0.bn1.weight\n",
            "\t layer1.0.bn1.bias\n",
            "\t layer1.0.conv2.weight\n",
            "\t layer1.0.bn2.weight\n",
            "\t layer1.0.bn2.bias\n",
            "\t layer1.1.conv1.weight\n",
            "\t layer1.1.bn1.weight\n",
            "\t layer1.1.bn1.bias\n",
            "\t layer1.1.conv2.weight\n",
            "\t layer1.1.bn2.weight\n",
            "\t layer1.1.bn2.bias\n",
            "\t layer1.2.conv1.weight\n",
            "\t layer1.2.bn1.weight\n",
            "\t layer1.2.bn1.bias\n",
            "\t layer1.2.conv2.weight\n",
            "\t layer1.2.bn2.weight\n",
            "\t layer1.2.bn2.bias\n",
            "\t layer2.0.conv1.weight\n",
            "\t layer2.0.bn1.weight\n",
            "\t layer2.0.bn1.bias\n",
            "\t layer2.0.conv2.weight\n",
            "\t layer2.0.bn2.weight\n",
            "\t layer2.0.bn2.bias\n",
            "\t layer2.0.downsample.0.weight\n",
            "\t layer2.0.downsample.1.weight\n",
            "\t layer2.0.downsample.1.bias\n",
            "\t layer2.1.conv1.weight\n",
            "\t layer2.1.bn1.weight\n",
            "\t layer2.1.bn1.bias\n",
            "\t layer2.1.conv2.weight\n",
            "\t layer2.1.bn2.weight\n",
            "\t layer2.1.bn2.bias\n",
            "\t layer2.2.conv1.weight\n",
            "\t layer2.2.bn1.weight\n",
            "\t layer2.2.bn1.bias\n",
            "\t layer2.2.conv2.weight\n",
            "\t layer2.2.bn2.weight\n",
            "\t layer2.2.bn2.bias\n",
            "\t layer2.3.conv1.weight\n",
            "\t layer2.3.bn1.weight\n",
            "\t layer2.3.bn1.bias\n",
            "\t layer2.3.conv2.weight\n",
            "\t layer2.3.bn2.weight\n",
            "\t layer2.3.bn2.bias\n",
            "\t layer3.0.conv1.weight\n",
            "\t layer3.0.bn1.weight\n",
            "\t layer3.0.bn1.bias\n",
            "\t layer3.0.conv2.weight\n",
            "\t layer3.0.bn2.weight\n",
            "\t layer3.0.bn2.bias\n",
            "\t layer3.0.downsample.0.weight\n",
            "\t layer3.0.downsample.1.weight\n",
            "\t layer3.0.downsample.1.bias\n",
            "\t layer3.1.conv1.weight\n",
            "\t layer3.1.bn1.weight\n",
            "\t layer3.1.bn1.bias\n",
            "\t layer3.1.conv2.weight\n",
            "\t layer3.1.bn2.weight\n",
            "\t layer3.1.bn2.bias\n",
            "\t layer3.2.conv1.weight\n",
            "\t layer3.2.bn1.weight\n",
            "\t layer3.2.bn1.bias\n",
            "\t layer3.2.conv2.weight\n",
            "\t layer3.2.bn2.weight\n",
            "\t layer3.2.bn2.bias\n",
            "\t layer3.3.conv1.weight\n",
            "\t layer3.3.bn1.weight\n",
            "\t layer3.3.bn1.bias\n",
            "\t layer3.3.conv2.weight\n",
            "\t layer3.3.bn2.weight\n",
            "\t layer3.3.bn2.bias\n",
            "\t layer3.4.conv1.weight\n",
            "\t layer3.4.bn1.weight\n",
            "\t layer3.4.bn1.bias\n",
            "\t layer3.4.conv2.weight\n",
            "\t layer3.4.bn2.weight\n",
            "\t layer3.4.bn2.bias\n",
            "\t layer3.5.conv1.weight\n",
            "\t layer3.5.bn1.weight\n",
            "\t layer3.5.bn1.bias\n",
            "\t layer3.5.conv2.weight\n",
            "\t layer3.5.bn2.weight\n",
            "\t layer3.5.bn2.bias\n",
            "\t layer4.0.conv1.weight\n",
            "\t layer4.0.bn1.weight\n",
            "\t layer4.0.bn1.bias\n",
            "\t layer4.0.conv2.weight\n",
            "\t layer4.0.bn2.weight\n",
            "\t layer4.0.bn2.bias\n",
            "\t layer4.0.downsample.0.weight\n",
            "\t layer4.0.downsample.1.weight\n",
            "\t layer4.0.downsample.1.bias\n",
            "\t layer4.1.conv1.weight\n",
            "\t layer4.1.bn1.weight\n",
            "\t layer4.1.bn1.bias\n",
            "\t layer4.1.conv2.weight\n",
            "\t layer4.1.bn2.weight\n",
            "\t layer4.1.bn2.bias\n",
            "\t layer4.2.conv1.weight\n",
            "\t layer4.2.bn1.weight\n",
            "\t layer4.2.bn1.bias\n",
            "\t layer4.2.conv2.weight\n",
            "\t layer4.2.bn2.weight\n",
            "\t layer4.2.bn2.bias\n",
            "\t fc.weight\n",
            "\t fc.bias\n"
          ],
          "name": "stdout"
        }
      ]
    },
    {
      "cell_type": "markdown",
      "metadata": {
        "id": "CKYsJOH9Sjo0"
      },
      "source": [
        "### Обучение раздельными группами"
      ]
    },
    {
      "cell_type": "code",
      "metadata": {
        "id": "88Tv6RL7Sjo1"
      },
      "source": [
        "# В качестве cost function используем кросс-энтропию\n",
        "loss_fn = nn.CrossEntropyLoss()\n",
        " \n",
        "# Дифференциальное обучение подход взят из \n",
        "# https://blog.slavv.com/differential-learning-rates-59eff5209a4f\n",
        "# и книги Ian Pointer - Programming PyTorch for Deep Learning_ Creating and Deploying Deep Learning Applications-O’Reilly Media (2019)\n",
        "# сылка на книгу на goodreads (https://www.goodreads.com/book/show/48225828-programming-pytorch-for-deep-learning)\n",
        "# Chapter 4. Transfer Learning and Other Tricks про\n",
        "# Transfer Learning with ResNet50\n",
        " \n",
        "# Выставляем различные скорости обучения для различных слоев\n",
        "optimizer = torch.optim.Adam([\n",
        "{ 'params': model_resnet.fc.parameters(), 'lr': found_lr},\n",
        "{ 'params': model_resnet.layer4.parameters(), 'lr': found_lr / 3},\n",
        "{ 'params': model_resnet.layer3.parameters(), 'lr': found_lr / 10},\n",
        "{ 'params': model_resnet.layer2.parameters(), 'lr': found_lr / 50},\n",
        "{ 'params': model_resnet.layer1.parameters(), 'lr': found_lr / 100},\n",
        "{'params': model_resnet.bn1.parameters(), 'lr': found_lr / 100},\n",
        "{'params': model_resnet.conv1.parameters(), 'lr': found_lr / 100}],\n",
        "lr=found_lr / 100, amsgrad=True)\n",
        " \n",
        " \n",
        "# Задем планировщик изменения learning rate нашего оптимизатора.\n",
        "# будет просто умножать lr optimizer на gamma, каждые step_size эпох.\n",
        "# step_lr_scheduler = lr_scheduler.StepLR(optimizer, step_size=30, gamma=0.1)\n",
        " \n",
        "# Использовать ли GPU\n",
        "model_resnet= model_resnet.cuda()"
      ],
      "execution_count": null,
      "outputs": []
    },
    {
      "cell_type": "markdown",
      "metadata": {
        "id": "wDxe06LRSjo1"
      },
      "source": [
        "### Или обучение одним LR на все слои"
      ]
    },
    {
      "cell_type": "code",
      "metadata": {
        "id": "NMEkrHZSSjo1"
      },
      "source": [
        "# В качестве cost function используем кросс-энтропию\r\n",
        "loss_fn = nn.CrossEntropyLoss()\r\n",
        " \r\n",
        "# Дифференциальное обучение подход взят из \r\n",
        "# https://blog.slavv.com/differential-learning-rates-59eff5209a4f\r\n",
        "# и книги Ian Pointer - Programming PyTorch for Deep Learning_ Creating and Deploying Deep Learning Applications-O’Reilly Media (2019)\r\n",
        "# сылка на книгу на goodreads (https://www.goodreads.com/book/show/48225828-programming-pytorch-for-deep-learning)\r\n",
        "# Chapter 4. Transfer Learning and Other Tricks про\r\n",
        "# Transfer Learning with ResNet50\r\n",
        " \r\n",
        "# Выставляем различные скорости обучения для различных слоев\r\n",
        "optimizer = torch.optim.Adam(model_resnet.parameters(), lr=found_lr / 100, amsgrad=True)\r\n",
        " \r\n",
        " \r\n",
        "# Задем планировщик изменения learning rate нашего оптимизатора.\r\n",
        "# будет просто умножать lr optimizer на gamma, каждые step_size эпох.\r\n",
        "# step_lr_scheduler = lr_scheduler.StepLR(optimizer, step_size=30, gamma=0.1)\r\n",
        " \r\n",
        "# Использовать ли GPU\r\n",
        "model_resnet= model_resnet.cuda()"
      ],
      "execution_count": null,
      "outputs": []
    },
    {
      "cell_type": "markdown",
      "metadata": {
        "id": "XSRanS3NSjo1"
      },
      "source": [
        "### 1-вый цикл обучения (20 эпох) Accuracy: 0.9859"
      ]
    },
    {
      "cell_type": "code",
      "metadata": {
        "id": "hBGP1DRvSjo1"
      },
      "source": [
        "# Зададим путь для сохранения моделей!\n",
        "# path = f'/content/gdrive/MyDrive/agb/model/ResNet34_FixLR_AdamW_aug_oversampling_batchsize_16_fold_{fold}'\n",
        "path = f'/content/gdrive/MyDrive/agb/model/ResNet34_DGL_AdamW_aug_oversampling_batchsize_16_fold_{fold}'"
      ],
      "execution_count": null,
      "outputs": []
    },
    {
      "cell_type": "code",
      "metadata": {
        "colab": {
          "base_uri": "https://localhost:8080/"
        },
        "id": "q_U8zfkJSjo1",
        "outputId": "e969b3ab-7982-439d-aabe-501878c3f962"
      },
      "source": [
        "path"
      ],
      "execution_count": null,
      "outputs": [
        {
          "output_type": "execute_result",
          "data": {
            "application/vnd.google.colaboratory.intrinsic+json": {
              "type": "string"
            },
            "text/plain": [
              "'/content/gdrive/MyDrive/agb/model/ResNet34_DGL_AdamW_aug_oversampling_batchsize_16_fold_1'"
            ]
          },
          "metadata": {
            "tags": []
          },
          "execution_count": 30
        }
      ]
    },
    {
      "cell_type": "code",
      "metadata": {
        "colab": {
          "base_uri": "https://localhost:8080/",
          "height": 1000,
          "referenced_widgets": [
            "bf7379154f7a433c9b74b9714f67a6bc",
            "0fec170184c749eaa47961ed4dc9c1b8",
            "2f034d2a37ea42c3b2a0051b74f03ea6",
            "10819479954c45a29b5f1c3af48bcfb2",
            "550603ee6de54527b8d15a1a35fd66fa",
            "3714e3644c7c498cbd0356b87803f26a",
            "131374c7bde347bea9a33dfe8ebc6030",
            "5c305a16370c4cbd80588bd4d25c2677"
          ]
        },
        "id": "9ejOEHYZSjo1",
        "outputId": "a0cbf4af-7d06-4d78-daf8-ba8816916911"
      },
      "source": [
        "# Обучаем модель (Неиспользуется в финальном score можно сразу загрузить веса!)\n",
        "model_resnet, losses, acc, best_model_wts = train_model(model_resnet, dataloaders, loss_fn, optimizer, num_epochs=20, flag_save_wts_to_file=True, path=path)"
      ],
      "execution_count": null,
      "outputs": [
        {
          "output_type": "stream",
          "text": [
            "Logging...\n"
          ],
          "name": "stdout"
        },
        {
          "output_type": "display_data",
          "data": {
            "application/vnd.jupyter.widget-view+json": {
              "model_id": "bf7379154f7a433c9b74b9714f67a6bc",
              "version_minor": 0,
              "version_major": 2
            },
            "text/plain": [
              "HBox(children=(FloatProgress(value=0.0, max=20.0), HTML(value='')))"
            ]
          },
          "metadata": {
            "tags": []
          }
        },
        {
          "output_type": "stream",
          "text": [
            "Epoch 0/19 lr=[0.0001]\n",
            "----------\n",
            "train Loss: 0.2573 Acc: 0.8879\n",
            "val Loss: 0.0435 Acc: 0.9821\n",
            "\n",
            "***new best wts with acc 0.9821428571428571 at 0 epoh***\n",
            "\n",
            "***new best wts with loss 0.04347852550979171 at 0 epoh***\n",
            "*** save model wts at this 0 epoch ! *** \n",
            "\n",
            "Epoch 1/19 lr=[0.0001]\n",
            "----------\n",
            "train Loss: 0.1150 Acc: 0.9600\n",
            "val Loss: 0.1061 Acc: 0.9643\n",
            "*** save model wts at this 1 epoch ! *** \n",
            "\n",
            "Epoch 2/19 lr=[0.0001]\n",
            "----------\n",
            "train Loss: 0.0750 Acc: 0.9700\n",
            "val Loss: 0.0105 Acc: 1.0000\n",
            "\n",
            "***new best wts with acc 1.0 at 2 epoh***\n",
            "\n",
            "***new best wts with loss 0.01053628179111651 at 2 epoh***\n",
            "*** save model wts at this 2 epoch ! *** \n",
            "\n",
            "Epoch 3/19 lr=[0.0001]\n",
            "----------\n",
            "train Loss: 0.0526 Acc: 0.9850\n",
            "val Loss: 0.0133 Acc: 0.9911\n",
            "*** save model wts at this 3 epoch ! *** \n",
            "\n",
            "Epoch 4/19 lr=[0.0001]\n",
            "----------\n",
            "train Loss: 0.0918 Acc: 0.9650\n",
            "val Loss: 0.0284 Acc: 0.9911\n",
            "*** save model wts at this 4 epoch ! *** \n",
            "\n",
            "Epoch 5/19 lr=[0.0001]\n",
            "----------\n",
            "train Loss: 0.0871 Acc: 0.9690\n",
            "val Loss: 0.0053 Acc: 1.0000\n",
            "\n",
            "***new best wts with loss 0.00526534320254411 at 5 epoh***\n",
            "*** save model wts at this 5 epoch ! *** \n",
            "\n",
            "Epoch 6/19 lr=[0.0001]\n",
            "----------\n",
            "train Loss: 0.1019 Acc: 0.9650\n",
            "val Loss: 0.0210 Acc: 0.9911\n",
            "*** save model wts at this 6 epoch ! *** \n",
            "\n",
            "Epoch 7/19 lr=[0.0001]\n",
            "----------\n",
            "train Loss: 0.0637 Acc: 0.9790\n",
            "val Loss: 0.0358 Acc: 0.9821\n",
            "*** save model wts at this 7 epoch ! *** \n",
            "\n",
            "Epoch 8/19 lr=[0.0001]\n",
            "----------\n",
            "train Loss: 0.0393 Acc: 0.9850\n",
            "val Loss: 0.0070 Acc: 1.0000\n",
            "*** save model wts at this 8 epoch ! *** \n",
            "\n",
            "Epoch 9/19 lr=[0.0001]\n",
            "----------\n",
            "train Loss: 0.0779 Acc: 0.9780\n",
            "val Loss: 0.0118 Acc: 1.0000\n",
            "*** save model wts at this 9 epoch ! *** \n",
            "\n",
            "Epoch 10/19 lr=[0.0001]\n",
            "----------\n",
            "train Loss: 0.0391 Acc: 0.9870\n",
            "val Loss: 0.0105 Acc: 1.0000\n",
            "*** save model wts at this 10 epoch ! *** \n",
            "\n",
            "Epoch 11/19 lr=[0.0001]\n",
            "----------\n",
            "train Loss: 0.0424 Acc: 0.9850\n",
            "val Loss: 0.0093 Acc: 1.0000\n",
            "*** save model wts at this 11 epoch ! *** \n",
            "\n",
            "Epoch 12/19 lr=[0.0001]\n",
            "----------\n",
            "train Loss: 0.0305 Acc: 0.9870\n",
            "val Loss: 0.0167 Acc: 0.9911\n",
            "*** save model wts at this 12 epoch ! *** \n",
            "\n",
            "Epoch 13/19 lr=[0.0001]\n",
            "----------\n",
            "train Loss: 0.0559 Acc: 0.9800\n",
            "val Loss: 0.0020 Acc: 1.0000\n",
            "\n",
            "***new best wts with loss 0.0020211997523022418 at 13 epoh***\n",
            "*** save model wts at this 13 epoch ! *** \n",
            "\n",
            "Epoch 14/19 lr=[0.0001]\n",
            "----------\n",
            "train Loss: 0.0582 Acc: 0.9820\n",
            "val Loss: 0.0033 Acc: 1.0000\n",
            "*** save model wts at this 14 epoch ! *** \n",
            "\n",
            "Epoch 15/19 lr=[0.0001]\n",
            "----------\n",
            "train Loss: 0.0458 Acc: 0.9870\n",
            "val Loss: 0.0178 Acc: 0.9911\n",
            "*** save model wts at this 15 epoch ! *** \n",
            "\n",
            "Epoch 16/19 lr=[0.0001]\n",
            "----------\n",
            "train Loss: 0.0207 Acc: 0.9920\n",
            "val Loss: 0.0061 Acc: 1.0000\n",
            "*** save model wts at this 16 epoch ! *** \n",
            "\n",
            "Epoch 17/19 lr=[0.0001]\n",
            "----------\n",
            "train Loss: 0.0618 Acc: 0.9800\n",
            "val Loss: 0.0339 Acc: 0.9821\n",
            "*** save model wts at this 17 epoch ! *** \n",
            "\n",
            "Epoch 18/19 lr=[0.0001]\n",
            "----------\n",
            "train Loss: 0.0401 Acc: 0.9840\n",
            "val Loss: 0.0057 Acc: 1.0000\n",
            "*** save model wts at this 18 epoch ! *** \n",
            "\n",
            "Epoch 19/19 lr=[0.0001]\n",
            "----------\n",
            "train Loss: 0.0457 Acc: 0.9890\n",
            "val Loss: 0.0087 Acc: 1.0000\n",
            "*** save model wts at this 19 epoch ! *** \n",
            "\n",
            "\n",
            "Training complete in 23m 37s\n",
            "Best val Acc: 1.000000 at 2\n",
            "Best val Loss: 0.002021 at 13\n"
          ],
          "name": "stdout"
        }
      ]
    },
    {
      "cell_type": "code",
      "metadata": {
        "id": "Qr3wINEoSjo2"
      },
      "source": [
        "# освободим cuda кэш\n",
        "torch.cuda.empty_cache()"
      ],
      "execution_count": null,
      "outputs": []
    },
    {
      "cell_type": "code",
      "metadata": {
        "id": "QZPmVJcHSjo2"
      },
      "source": [
        "# загрузим состояние нашей модели, ее веса при которых было достигнута лучшая\n",
        "# точность, а так же losses и accurancy\n",
        "# У НАС ЕСТЬ БЫБОР!\n",
        "# Если:\n",
        "# сторка ниже, - забираем модель с последней эпохи обучения\n",
        "# model_resnet.load_state_dict(torch.load(path + '.pth'))\n",
        "\n",
        "# лучше забрать одну из моделей ниже!\n",
        "# или строка ниже, - забираем модель с лучшей точностью на валидации\n",
        "# model_resnet.load_state_dict(torch.load(path + '_best_w.pth')) \n",
        "\n",
        "# или строка ниже, - забираем модель с наименьшим loss на валидации\n",
        "model_resnet.load_state_dict(torch.load(path + '_best_w_loss.pth'))\n",
        "\n",
        "# загружаем accurancy и loss'ы\n",
        "losses = load_dict_from_file(path + '_losses.pickle')\n",
        "acc = load_dict_from_file(path + '_acc.pickle')"
      ],
      "execution_count": null,
      "outputs": []
    },
    {
      "cell_type": "code",
      "metadata": {
        "colab": {
          "base_uri": "https://localhost:8080/"
        },
        "id": "ep0bElKGSjo2",
        "outputId": "63f3c97c-88e7-4118-d0a6-fe84a4ed73f0"
      },
      "source": [
        "# посчитаем Accuracy на всей валидационной выборке Accuracy: 0.9859\n",
        "print(\"Accuracy: {0:.4f}\".format(evaluate(model_resnet, dataloaders['val'], DEVICE, use_gpu =True)))"
      ],
      "execution_count": null,
      "outputs": [
        {
          "output_type": "stream",
          "text": [
            "Accuracy: 1.0000\n"
          ],
          "name": "stdout"
        }
      ]
    },
    {
      "cell_type": "code",
      "metadata": {
        "colab": {
          "base_uri": "https://localhost:8080/",
          "height": 295
        },
        "id": "WmQ0xc-ESjo2",
        "outputId": "105daa7e-32cf-444b-e90e-b21e4301e780"
      },
      "source": [
        "show_losses_plots(losses, smooth_flag = False, min = 0)"
      ],
      "execution_count": null,
      "outputs": [
        {
          "output_type": "display_data",
          "data": {
            "image/png": "[encoded data removed]",
            "text/plain": [
              "<Figure size 432x288 with 1 Axes>"
            ]
          },
          "metadata": {
            "tags": [],
            "needs_background": "light"
          }
        }
      ]
    },
    {
      "cell_type": "code",
      "metadata": {
        "colab": {
          "base_uri": "https://localhost:8080/",
          "height": 295
        },
        "id": "9hF8vCx-Sjo2",
        "outputId": "51a81dfc-f1a6-4ad3-95f8-da1cfea38a5c"
      },
      "source": [
        "show_acc_plots(acc, smooth_flag = False)"
      ],
      "execution_count": null,
      "outputs": [
        {
          "output_type": "display_data",
          "data": {
            "image/png": "[encoded data removed]",
            "text/plain": [
              "<Figure size 432x288 with 1 Axes>"
            ]
          },
          "metadata": {
            "tags": [],
            "needs_background": "light"
          }
        }
      ]
    },
    {
      "cell_type": "markdown",
      "metadata": {
        "id": "-1r1lxjqSjo2"
      },
      "source": [
        "#### оценка предсказательной точности модели по классам 1 цикл"
      ]
    },
    {
      "cell_type": "code",
      "metadata": {
        "colab": {
          "base_uri": "https://localhost:8080/",
          "height": 818
        },
        "id": "KtCf2YrbSjo2",
        "outputId": "b54c3eac-e49c-4b93-a536-4fcebdbb3177"
      },
      "source": [
        "# Построим confusion_matrix\n",
        "y_test_all, predictions_all, feature_names = show_confusion_matrix_fucn(model_resnet, dataloaders)"
      ],
      "execution_count": null,
      "outputs": [
        {
          "output_type": "stream",
          "text": [
            "Normalized confusion matrix\n"
          ],
          "name": "stdout"
        },
        {
          "output_type": "display_data",
          "data": {
            "image/png": "[encoded data removed]",
            "text/plain": [
              "<Figure size 1152x792 with 2 Axes>"
            ]
          },
          "metadata": {
            "tags": [],
            "needs_background": "light"
          }
        }
      ]
    },
    {
      "cell_type": "code",
      "metadata": {
        "colab": {
          "base_uri": "https://localhost:8080/"
        },
        "scrolled": true,
        "id": "u0ktvhBkSjo2",
        "outputId": "6e4f1373-82a4-4c8f-9d54-e7942e94e460"
      },
      "source": [
        "# Выведем точность для каждого класса\n",
        "accurancy_for_each_class(y_test_all, predictions_all, feature_names)"
      ],
      "execution_count": null,
      "outputs": [
        {
          "output_type": "stream",
          "text": [
            "[71, 41]\n",
            "2\n",
            "Accuracy of health\t100 %\n",
            "Accuracy of  sick\t100 %\n"
          ],
          "name": "stdout"
        }
      ]
    },
    {
      "cell_type": "code",
      "metadata": {
        "id": "166QEIWjSjo3"
      },
      "source": [
        "f1 = f1_score(y_test_all, predictions_all)"
      ],
      "execution_count": null,
      "outputs": []
    },
    {
      "cell_type": "code",
      "metadata": {
        "id": "PvvjJJLCSjo3"
      },
      "source": [
        "f1_score_folds.append(f1)"
      ],
      "execution_count": null,
      "outputs": []
    },
    {
      "cell_type": "code",
      "metadata": {
        "id": "Gr5ZJwUpSjo3"
      },
      "source": [
        "# освободим cuda кэш\n",
        "torch.cuda.empty_cache()"
      ],
      "execution_count": null,
      "outputs": []
    },
    {
      "cell_type": "markdown",
      "metadata": {
        "id": "JNnmZ_pcSqGH"
      },
      "source": [
        "# Fold 5"
      ]
    },
    {
      "cell_type": "markdown",
      "metadata": {
        "id": "Hb_QpGxySqGK"
      },
      "source": [
        "## Загружаем, созданное ранее разбиение"
      ]
    },
    {
      "cell_type": "code",
      "metadata": {
        "id": "RrHDhXz1SqGL"
      },
      "source": [
        "fold = 5"
      ],
      "execution_count": null,
      "outputs": []
    },
    {
      "cell_type": "code",
      "metadata": {
        "colab": {
          "base_uri": "https://localhost:8080/"
        },
        "id": "MsyiWELHSqGL",
        "outputId": "742ba147-9b55-40a3-aa62-febfe3ddea4b"
      },
      "source": [
        "# загружаем сохранненное разбиение, чтобы нейросети учились\n",
        "# на одних и тех же выборках\n",
        "data_load_path = '//content//gdrive//MyDrive//AgroCode_pre_snippets//dataset_agro_code//5_folds//'\n",
        "\n",
        "print(f'Загружаем данные с fold {fold}')\n",
        " \n",
        "with open(data_load_path + f'train_files_fold_{fold}.pickle', 'rb') as f:\n",
        "    train_files = pickle.load(f)\n",
        " \n",
        "with open(data_load_path + f'train_labels_fold_{fold}.pickle', 'rb') as f:\n",
        "    train_labels = pickle.load(f)\n",
        " \n",
        "with open(data_load_path + f'val_files_fold_{fold}.pickle', 'rb') as f:\n",
        "    val_files = pickle.load(f)\n",
        " \n",
        "with open(data_load_path + f'val_labels_fold_{fold}.pickle', 'rb') as f:\n",
        "    val_labels = pickle.load(f)"
      ],
      "execution_count": null,
      "outputs": [
        {
          "output_type": "stream",
          "text": [
            "Загружаем данные с fold 1\n"
          ],
          "name": "stdout"
        }
      ]
    },
    {
      "cell_type": "markdown",
      "metadata": {
        "id": "pQKtMiKYSqGM"
      },
      "source": [
        "## Dataset\n"
      ]
    },
    {
      "cell_type": "code",
      "metadata": {
        "id": "2XXxoMbWSqGM"
      },
      "source": [
        "# разные режимы датасета \r\n",
        "DATA_MODES = ['train', 'val', 'test']\r\n",
        "# все изображения будут масштабированы к размеру 224x224 px\r\n",
        "RESCALE_SIZE = 224\r\n",
        "# работаем на видеокарте\r\n",
        "DEVICE = torch.device(\"cuda\")"
      ],
      "execution_count": null,
      "outputs": []
    },
    {
      "cell_type": "code",
      "metadata": {
        "id": "89VNly7GSqGM"
      },
      "source": [
        "class AppleDataset(Dataset):\n",
        "    \"\"\"\n",
        "    Датасет с картинками, который паралельно подгружает их из папок\n",
        "    производит изменения размера картинок, аугментации и преобразование в тензоры\n",
        "    PyTorch\n",
        "    \"\"\"\n",
        "    def __init__(self, files, mode):\n",
        "        super().__init__()\n",
        "        # список файлов для загрузки\n",
        "        self.files = sorted(files)\n",
        "        # режим работы\n",
        "        self.mode = mode\n",
        "\n",
        "        if self.mode not in DATA_MODES:\n",
        "            print(f\"{self.mode} is not correct; correct modes: {DATA_MODES}\")\n",
        "            raise NameError\n",
        "\n",
        "        self.len_ = len(self.files)\n",
        "     \n",
        "        # кодировщик имен классов\n",
        "        self.label_encoder = LabelEncoder()\n",
        "\n",
        "        if self.mode != 'test':\n",
        "            self.labels = [path.parent.name for path in self.files]\n",
        "            self.label_encoder.fit(self.labels)\n",
        "\n",
        "            path = '//content//gdrive//MyDrive//AgroCode_pre_snippets//model//'\n",
        "            #path = '/content/gdrive/MyDrive/agb/model/'\n",
        "            with open(path + 'label_encoder.pkl', 'wb') as le_dump_file:\n",
        "                  pickle.dump(self.label_encoder, le_dump_file)\n",
        "                      \n",
        "    def __len__(self):\n",
        "        return self.len_\n",
        "      \n",
        "    def load_sample(self, file):\n",
        "        image = Image.open(file)\n",
        "        image.load()\n",
        "        return image\n",
        "  \n",
        "    def __getitem__(self, index):\n",
        "        # для преобразования изображений в тензоры PyTorch и нормализации входа\n",
        "        transform = transforms.Compose([\n",
        "            transforms.Resize(256),\n",
        "            transforms.CenterCrop(RESCALE_SIZE),\n",
        "            transforms.ToTensor(),\n",
        "            # mean и std для набора данных ImageNet на котором были обучены \n",
        "            # предобученные сети из torchvision\n",
        "            transforms.Normalize(mean=[0.485, 0.456, 0.406],\n",
        "                                 std=[0.229, 0.224, 0.225])\n",
        "            ])\n",
        "\n",
        "        # трансформация с аугментацией для обучающей выборки средствами PyTorch\n",
        "        transform_augment = transforms.Compose([\n",
        "            transforms.Resize(size=(256, 256)),\n",
        "            transforms.RandomResizedCrop(RESCALE_SIZE),\n",
        "            transforms.RandomHorizontalFlip(),\n",
        "            # transforms.RandomRotation(40),\n",
        "            # transforms.RandomPerspective(),\n",
        "            # transforms.ColorJitter(hue=.1, saturation=.1),\n",
        "            transforms.ToTensor(),\n",
        "            # mean и std для набора данных ImageNet на котором были обучены \n",
        "            # предобученные сети из torchvision\n",
        "            transforms.Normalize(mean=[0.485, 0.456, 0.406],\n",
        "                                 std=[0.229, 0.224, 0.225])\n",
        "            ])\n",
        "\n",
        "        x = self.load_sample(self.files[index])\n",
        "\n",
        "        # У нас тр режима датасета \n",
        "        # DATA_MODES = ['train', 'val', 'test']\n",
        "        # train - обчающая выборка на которой мы обучаем нейросеть \n",
        "        # (есть картинки и ответы к ним)\n",
        "        # val - валидационная выборка на которой мы тестируем как хорошо\n",
        "        #  нейросеть обучилась! (есть картинки и ответы к ним)\n",
        "        # test - тестовая выборка на которой мы предсказываем ответы для\n",
        "        #  скора в соревновании (есть картинки ответов нет!)\n",
        "\n",
        "        if self.mode == 'test': # если тестовая выборка у нас нет ответов и\n",
        "            x = transform(x)    # датасет не должен аугментировать картинки\n",
        "            return x\n",
        "        else:\n",
        "            if self.mode == 'train': # аугментируем обучающую выборку\n",
        "                x = transform_augment(x)\n",
        "            else:\n",
        "                x = transform(x) # не аугментируем валидационную выборку\n",
        "\n",
        "            # для train или val выборок у нас есть ответы по классам\n",
        "            label = self.labels[index]\n",
        "            label_id = self.label_encoder.transform([label])\n",
        "            y = label_id.item()\n",
        "            return x, y"
      ],
      "execution_count": null,
      "outputs": []
    },
    {
      "cell_type": "markdown",
      "metadata": {
        "id": "ERrasojuSqGM"
      },
      "source": [
        "### Ручной oversampling до 100 картинок (Выполняется для всех нейросетей в подзаголовках заголовка Теперь обучаем лучшими подходами)\n",
        "\n"
      ]
    },
    {
      "cell_type": "code",
      "metadata": {
        "colab": {
          "base_uri": "https://localhost:8080/"
        },
        "id": "Q5I2EKX9SqGN",
        "outputId": "e9dbfb40-3420-4422-c74f-0464f9d7b199"
      },
      "source": [
        "BATCH_SIZE = 16\n",
        "\n",
        "# Создадим словарь в котором ключами будут ЯБЛОКИ, а значениями списки с путями к картинкам.\n",
        "dct_path_train = create_dct_path_labels(train_files, train_labels)\n",
        "\n",
        "# Дополним картинки классов у которых менее 100 картинок, до 100 картинок в классе\n",
        "for person in dct_path_train:\n",
        "    if len(dct_path_train[person]) < 100:\n",
        "        dct_path_train[person] = dct_path_train[person] * (100 // len(dct_path_train[person]))\n",
        "        dct_path_train[person].extend(dct_path_train[person][:100 - len(dct_path_train[person])])\n",
        "\n",
        "new_train_files = []\n",
        "\n",
        "for person in dct_path_train:\n",
        "    new_train_files.extend(dct_path_train[person])\n",
        "\n",
        "new_train_label = [path.parent.name for path in new_train_files] # классы train\n",
        "\n",
        "val_dataset = AppleDataset(val_files, mode='val')\n",
        "new_train_dataset = AppleDataset(new_train_files, mode='train')\n",
        "\n",
        "# определим загрузщики данных без взвешивания классов для их балансировки простой вариант\n",
        "# DataLoader достаёт данные из dataset батчами\n",
        "dataloaders = {'train': DataLoader(new_train_dataset, batch_size=BATCH_SIZE, shuffle=True),\n",
        "               'val': DataLoader(val_dataset, batch_size=BATCH_SIZE, shuffle=False)}\n",
        "dataset_sizes = {'train': len(new_train_dataset), 'val':len(val_dataset) }\n",
        "\n",
        "# Ничего не изменилось всех картинок и так больше 100!\n",
        "# исходный вариант {'train': 2282, 'val': 254}\n",
        "dataset_sizes"
      ],
      "execution_count": null,
      "outputs": [
        {
          "output_type": "execute_result",
          "data": {
            "text/plain": [
              "{'train': 1111, 'val': 278}"
            ]
          },
          "metadata": {
            "tags": []
          },
          "execution_count": 19
        }
      ]
    },
    {
      "cell_type": "markdown",
      "metadata": {
        "id": "RlL5LiR3SqGN"
      },
      "source": [
        "## ResNet-34"
      ]
    },
    {
      "cell_type": "code",
      "metadata": {
        "colab": {
          "base_uri": "https://localhost:8080/",
          "referenced_widgets": [
            "9efc3ec63c3c4006b119ceb372e2666c",
            "703110fd88ed4f91addea642c708799b",
            "d324324793e64c0ca8c777426a73ca17",
            "7b121aaf0b6f446e804eb7956158e7cf",
            "05334d9a7c9f42b5a0a973cd36fee03e",
            "5614cb3d1b4a4419ba9fb03a1fd4a777",
            "7741f5016fc64a579888ec14279ae067",
            "da71e29fbce642c6b28103fe20d48f6c"
          ]
        },
        "id": "P0mV_8FmSqGN",
        "outputId": "f0e99944-72b2-4e95-8361-f9cf31a4570f"
      },
      "source": [
        "# Создаём сеть\n",
        "model_resnet= models.resnet34(pretrained=True)"
      ],
      "execution_count": null,
      "outputs": [
        {
          "output_type": "stream",
          "text": [
            "Downloading: \"https://download.pytorch.org/models/resnet34-333f7ec4.pth\" to /root/.cache/torch/hub/checkpoints/resnet34-333f7ec4.pth\n"
          ],
          "name": "stderr"
        },
        {
          "output_type": "display_data",
          "data": {
            "application/vnd.jupyter.widget-view+json": {
              "model_id": "9efc3ec63c3c4006b119ceb372e2666c",
              "version_minor": 0,
              "version_major": 2
            },
            "text/plain": [
              "HBox(children=(FloatProgress(value=0.0, max=87306240.0), HTML(value='')))"
            ]
          },
          "metadata": {
            "tags": []
          }
        },
        {
          "output_type": "stream",
          "text": [
            "\n"
          ],
          "name": "stdout"
        }
      ]
    },
    {
      "cell_type": "code",
      "metadata": {
        "id": "I_N8Zgo0SqGN"
      },
      "source": [
        "# посмотрим на сеть от которой мы делаем transfer learning\r\n",
        "#model_resnet"
      ],
      "execution_count": null,
      "outputs": []
    },
    {
      "cell_type": "code",
      "metadata": {
        "id": "wA2KFmmSSqGO"
      },
      "source": [
        "#Заменяем родной классификатор model на наш новый линейный классификатор\r\n",
        "classes_number=2\r\n",
        "model_resnet.fc = nn.Linear(model_resnet.fc.in_features, classes_number)"
      ],
      "execution_count": null,
      "outputs": []
    },
    {
      "cell_type": "markdown",
      "metadata": {
        "id": "1VMv_uTrSqGO"
      },
      "source": [
        "##№ Подберем оптимальный learning rate для ResNet-152 (подбор learning rate осуществляем на классификаторе) делаем всего 1 раз для всех фолдов!"
      ]
    },
    {
      "cell_type": "code",
      "metadata": {
        "id": "ulk3OwDdSqGO"
      },
      "source": [
        "for param in model_resnet.parameters():\r\n",
        "    param.requires_grad = False\r\n",
        "\r\n",
        "for param in model_resnet.fc.parameters():\r\n",
        "    param.requires_grad = True"
      ],
      "execution_count": null,
      "outputs": []
    },
    {
      "cell_type": "code",
      "metadata": {
        "id": "wJj_D9FRSqGO"
      },
      "source": [
        "# посмотрим какие параметры в нашей модели можно обучать\r\n",
        "#print_params(model_resnet)"
      ],
      "execution_count": null,
      "outputs": []
    },
    {
      "cell_type": "code",
      "metadata": {
        "colab": {
          "base_uri": "https://localhost:8080/"
        },
        "id": "GXh8Cc27SqGO",
        "outputId": "01cd9a37-1ef1-4e36-93c7-df7c1a917720"
      },
      "source": [
        "# посмотрим какие параметры учим (учим все слои)\r\n",
        "params_to_update = print_learn_params(model_resnet)"
      ],
      "execution_count": null,
      "outputs": [
        {
          "output_type": "stream",
          "text": [
            "Params to update:\n",
            "\t fc.weight\n",
            "\t fc.bias\n"
          ],
          "name": "stdout"
        }
      ]
    },
    {
      "cell_type": "code",
      "metadata": {
        "id": "RqjJIPtSSqGO"
      },
      "source": [
        "# В качестве cost function используем кросс-энтропию\r\n",
        "loss_fn = nn.CrossEntropyLoss()\r\n",
        "\r\n",
        "# В качестве оптимизатора AdaShift из репозитория МФТИ\r\n",
        "optimizer = torch.optim.Adam(params_to_update, lr=1e-3, amsgrad=True)\r\n",
        "\r\n",
        "# Задем планировщик изменения learning rate нашего оптимизатора.\r\n",
        "# будет просто умножать lr optimizer на gamma, каждые step_size эпох.\r\n",
        "# step_lr_scheduler = lr_scheduler.StepLR(optimizer, step_size=30, gamma=0.1)\r\n",
        "\r\n",
        "# Использовать ли GPU\r\n",
        "model_resnet = model_resnet.cuda()"
      ],
      "execution_count": null,
      "outputs": []
    },
    {
      "cell_type": "code",
      "metadata": {
        "id": "LAzZpJ2WSqGO"
      },
      "source": [
        "# подбор оптимального lr для классификатора model.fc\r\n",
        "logs, losses = find_lr(model_resnet, dataloaders, loss_fn, optimizer, init_value=1e-8, final_value=10.0)"
      ],
      "execution_count": null,
      "outputs": []
    },
    {
      "cell_type": "code",
      "metadata": {
        "colab": {
          "base_uri": "https://localhost:8080/",
          "height": 625
        },
        "id": "zBK5y4eISqGP",
        "outputId": "ab480b39-12b4-494b-d646-27203ae8a40a"
      },
      "source": [
        "# построим график для оптимального подбора lr\r\n",
        "fig = plt.figure(figsize=(10,10))\r\n",
        "ax = fig.add_subplot(111)\r\n",
        "ax.plot(logs,losses)\r\n",
        "ax.set_xlabel(\"$10^x$\")\r\n",
        "ax.set_ylabel(\"loss\")"
      ],
      "execution_count": null,
      "outputs": [
        {
          "output_type": "execute_result",
          "data": {
            "text/plain": [
              "Text(0, 0.5, 'loss')"
            ]
          },
          "metadata": {
            "tags": []
          },
          "execution_count": 50
        },
        {
          "output_type": "display_data",
          "data": {
            "image/png": "[encoded data removed]",
            "text/plain": [
              "<Figure size 720x720 with 1 Axes>"
            ]
          },
          "metadata": {
            "tags": [],
            "needs_background": "light"
          }
        }
      ]
    },
    {
      "cell_type": "code",
      "metadata": {
        "id": "1UQc5lMySqGP"
      },
      "source": [
        "# освободим cuda кэш\n",
        "torch.cuda.empty_cache()"
      ],
      "execution_count": null,
      "outputs": []
    },
    {
      "cell_type": "markdown",
      "metadata": {
        "id": "NfYGGcHCSqGP"
      },
      "source": [
        "По оси абсцисс у нас значение lr ее степени 10 (например x=-2 , значит что lr=10**-2=0.01) по оси ординат показаны значения loss функции полученные при даном lr. Значение оптимального lr наблюдается там где у нас видно резкое спадание значения loss функции по графику. Резкий спад наблюдается от lr=[10**-4, 10**-2] , поэтому в данном случае оптимальным будет lr=10**-3."
      ]
    },
    {
      "cell_type": "markdown",
      "metadata": {
        "id": "HV_guDnVSqGP"
      },
      "source": [
        "## Обучение ResNet подходом Differential Groups Layers"
      ]
    },
    {
      "cell_type": "code",
      "metadata": {
        "colab": {
          "base_uri": "https://localhost:8080/"
        },
        "id": "oL5RtdawSqGP",
        "outputId": "0f12627b-a0a8-44dd-b680-20a3c1e0ec26"
      },
      "source": [
        "# из графика видно, что лучший lr для это 1e-3\n",
        "found_lr = 1e-2\n",
        "found_lr"
      ],
      "execution_count": null,
      "outputs": [
        {
          "output_type": "execute_result",
          "data": {
            "text/plain": [
              "0.01"
            ]
          },
          "metadata": {
            "tags": []
          },
          "execution_count": 24
        }
      ]
    },
    {
      "cell_type": "markdown",
      "metadata": {
        "id": "hzUvOsGkSqGP"
      },
      "source": [
        "веса подобраны перезапускаем ноутбук, только теперь переходим сразу к обучению модели без подбора learning_rate"
      ]
    },
    {
      "cell_type": "code",
      "metadata": {
        "colab": {
          "base_uri": "https://localhost:8080/"
        },
        "id": "je6eWadBSqGP",
        "outputId": "88a8cffc-3627-4b97-afe3-a13f5e2e7ac1"
      },
      "source": [
        "BATCH_SIZE"
      ],
      "execution_count": null,
      "outputs": [
        {
          "output_type": "execute_result",
          "data": {
            "text/plain": [
              "16"
            ]
          },
          "metadata": {
            "tags": []
          },
          "execution_count": 25
        }
      ]
    },
    {
      "cell_type": "code",
      "metadata": {
        "id": "xT57jP7_SqGQ"
      },
      "source": [
        "# теперь нам необходимо сделать все веса обучаемыми снова!\n",
        "for param in model_resnet.parameters():\n",
        "    param.requires_grad = True"
      ],
      "execution_count": null,
      "outputs": []
    },
    {
      "cell_type": "code",
      "metadata": {
        "colab": {
          "base_uri": "https://localhost:8080/"
        },
        "id": "j86wDOuoSqGQ",
        "outputId": "bb60a398-ffb6-4654-ad88-9abe6b90c06d"
      },
      "source": [
        "# посмотрим какие параметры учим (учим все слои)\n",
        "params_to_update = print_learn_params(model_resnet)"
      ],
      "execution_count": null,
      "outputs": [
        {
          "output_type": "stream",
          "text": [
            "Params to update:\n",
            "\t conv1.weight\n",
            "\t bn1.weight\n",
            "\t bn1.bias\n",
            "\t layer1.0.conv1.weight\n",
            "\t layer1.0.bn1.weight\n",
            "\t layer1.0.bn1.bias\n",
            "\t layer1.0.conv2.weight\n",
            "\t layer1.0.bn2.weight\n",
            "\t layer1.0.bn2.bias\n",
            "\t layer1.1.conv1.weight\n",
            "\t layer1.1.bn1.weight\n",
            "\t layer1.1.bn1.bias\n",
            "\t layer1.1.conv2.weight\n",
            "\t layer1.1.bn2.weight\n",
            "\t layer1.1.bn2.bias\n",
            "\t layer1.2.conv1.weight\n",
            "\t layer1.2.bn1.weight\n",
            "\t layer1.2.bn1.bias\n",
            "\t layer1.2.conv2.weight\n",
            "\t layer1.2.bn2.weight\n",
            "\t layer1.2.bn2.bias\n",
            "\t layer2.0.conv1.weight\n",
            "\t layer2.0.bn1.weight\n",
            "\t layer2.0.bn1.bias\n",
            "\t layer2.0.conv2.weight\n",
            "\t layer2.0.bn2.weight\n",
            "\t layer2.0.bn2.bias\n",
            "\t layer2.0.downsample.0.weight\n",
            "\t layer2.0.downsample.1.weight\n",
            "\t layer2.0.downsample.1.bias\n",
            "\t layer2.1.conv1.weight\n",
            "\t layer2.1.bn1.weight\n",
            "\t layer2.1.bn1.bias\n",
            "\t layer2.1.conv2.weight\n",
            "\t layer2.1.bn2.weight\n",
            "\t layer2.1.bn2.bias\n",
            "\t layer2.2.conv1.weight\n",
            "\t layer2.2.bn1.weight\n",
            "\t layer2.2.bn1.bias\n",
            "\t layer2.2.conv2.weight\n",
            "\t layer2.2.bn2.weight\n",
            "\t layer2.2.bn2.bias\n",
            "\t layer2.3.conv1.weight\n",
            "\t layer2.3.bn1.weight\n",
            "\t layer2.3.bn1.bias\n",
            "\t layer2.3.conv2.weight\n",
            "\t layer2.3.bn2.weight\n",
            "\t layer2.3.bn2.bias\n",
            "\t layer3.0.conv1.weight\n",
            "\t layer3.0.bn1.weight\n",
            "\t layer3.0.bn1.bias\n",
            "\t layer3.0.conv2.weight\n",
            "\t layer3.0.bn2.weight\n",
            "\t layer3.0.bn2.bias\n",
            "\t layer3.0.downsample.0.weight\n",
            "\t layer3.0.downsample.1.weight\n",
            "\t layer3.0.downsample.1.bias\n",
            "\t layer3.1.conv1.weight\n",
            "\t layer3.1.bn1.weight\n",
            "\t layer3.1.bn1.bias\n",
            "\t layer3.1.conv2.weight\n",
            "\t layer3.1.bn2.weight\n",
            "\t layer3.1.bn2.bias\n",
            "\t layer3.2.conv1.weight\n",
            "\t layer3.2.bn1.weight\n",
            "\t layer3.2.bn1.bias\n",
            "\t layer3.2.conv2.weight\n",
            "\t layer3.2.bn2.weight\n",
            "\t layer3.2.bn2.bias\n",
            "\t layer3.3.conv1.weight\n",
            "\t layer3.3.bn1.weight\n",
            "\t layer3.3.bn1.bias\n",
            "\t layer3.3.conv2.weight\n",
            "\t layer3.3.bn2.weight\n",
            "\t layer3.3.bn2.bias\n",
            "\t layer3.4.conv1.weight\n",
            "\t layer3.4.bn1.weight\n",
            "\t layer3.4.bn1.bias\n",
            "\t layer3.4.conv2.weight\n",
            "\t layer3.4.bn2.weight\n",
            "\t layer3.4.bn2.bias\n",
            "\t layer3.5.conv1.weight\n",
            "\t layer3.5.bn1.weight\n",
            "\t layer3.5.bn1.bias\n",
            "\t layer3.5.conv2.weight\n",
            "\t layer3.5.bn2.weight\n",
            "\t layer3.5.bn2.bias\n",
            "\t layer4.0.conv1.weight\n",
            "\t layer4.0.bn1.weight\n",
            "\t layer4.0.bn1.bias\n",
            "\t layer4.0.conv2.weight\n",
            "\t layer4.0.bn2.weight\n",
            "\t layer4.0.bn2.bias\n",
            "\t layer4.0.downsample.0.weight\n",
            "\t layer4.0.downsample.1.weight\n",
            "\t layer4.0.downsample.1.bias\n",
            "\t layer4.1.conv1.weight\n",
            "\t layer4.1.bn1.weight\n",
            "\t layer4.1.bn1.bias\n",
            "\t layer4.1.conv2.weight\n",
            "\t layer4.1.bn2.weight\n",
            "\t layer4.1.bn2.bias\n",
            "\t layer4.2.conv1.weight\n",
            "\t layer4.2.bn1.weight\n",
            "\t layer4.2.bn1.bias\n",
            "\t layer4.2.conv2.weight\n",
            "\t layer4.2.bn2.weight\n",
            "\t layer4.2.bn2.bias\n",
            "\t fc.weight\n",
            "\t fc.bias\n"
          ],
          "name": "stdout"
        }
      ]
    },
    {
      "cell_type": "markdown",
      "metadata": {
        "id": "F2aQy0bWSqGQ"
      },
      "source": [
        "### Обучение раздельными группами"
      ]
    },
    {
      "cell_type": "code",
      "metadata": {
        "id": "C27DwLqDSqGQ"
      },
      "source": [
        "# В качестве cost function используем кросс-энтропию\n",
        "loss_fn = nn.CrossEntropyLoss()\n",
        " \n",
        "# Дифференциальное обучение подход взят из \n",
        "# https://blog.slavv.com/differential-learning-rates-59eff5209a4f\n",
        "# и книги Ian Pointer - Programming PyTorch for Deep Learning_ Creating and Deploying Deep Learning Applications-O’Reilly Media (2019)\n",
        "# сылка на книгу на goodreads (https://www.goodreads.com/book/show/48225828-programming-pytorch-for-deep-learning)\n",
        "# Chapter 4. Transfer Learning and Other Tricks про\n",
        "# Transfer Learning with ResNet50\n",
        " \n",
        "# Выставляем различные скорости обучения для различных слоев\n",
        "optimizer = torch.optim.Adam([\n",
        "{ 'params': model_resnet.fc.parameters(), 'lr': found_lr},\n",
        "{ 'params': model_resnet.layer4.parameters(), 'lr': found_lr / 3},\n",
        "{ 'params': model_resnet.layer3.parameters(), 'lr': found_lr / 10},\n",
        "{ 'params': model_resnet.layer2.parameters(), 'lr': found_lr / 50},\n",
        "{ 'params': model_resnet.layer1.parameters(), 'lr': found_lr / 100},\n",
        "{'params': model_resnet.bn1.parameters(), 'lr': found_lr / 100},\n",
        "{'params': model_resnet.conv1.parameters(), 'lr': found_lr / 100}],\n",
        "lr=found_lr / 100, amsgrad=True)\n",
        " \n",
        " \n",
        "# Задем планировщик изменения learning rate нашего оптимизатора.\n",
        "# будет просто умножать lr optimizer на gamma, каждые step_size эпох.\n",
        "# step_lr_scheduler = lr_scheduler.StepLR(optimizer, step_size=30, gamma=0.1)\n",
        " \n",
        "# Использовать ли GPU\n",
        "model_resnet= model_resnet.cuda()"
      ],
      "execution_count": null,
      "outputs": []
    },
    {
      "cell_type": "markdown",
      "metadata": {
        "id": "fYdHqvgUSqGQ"
      },
      "source": [
        "### Или обучение одним LR на все слои"
      ]
    },
    {
      "cell_type": "code",
      "metadata": {
        "id": "A7Q4MXHvSqGQ"
      },
      "source": [
        "# В качестве cost function используем кросс-энтропию\r\n",
        "loss_fn = nn.CrossEntropyLoss()\r\n",
        " \r\n",
        "# Дифференциальное обучение подход взят из \r\n",
        "# https://blog.slavv.com/differential-learning-rates-59eff5209a4f\r\n",
        "# и книги Ian Pointer - Programming PyTorch for Deep Learning_ Creating and Deploying Deep Learning Applications-O’Reilly Media (2019)\r\n",
        "# сылка на книгу на goodreads (https://www.goodreads.com/book/show/48225828-programming-pytorch-for-deep-learning)\r\n",
        "# Chapter 4. Transfer Learning and Other Tricks про\r\n",
        "# Transfer Learning with ResNet50\r\n",
        " \r\n",
        "# Выставляем различные скорости обучения для различных слоев\r\n",
        "optimizer = torch.optim.Adam(model_resnet.parameters(), lr=found_lr / 100, amsgrad=True)\r\n",
        " \r\n",
        " \r\n",
        "# Задем планировщик изменения learning rate нашего оптимизатора.\r\n",
        "# будет просто умножать lr optimizer на gamma, каждые step_size эпох.\r\n",
        "# step_lr_scheduler = lr_scheduler.StepLR(optimizer, step_size=30, gamma=0.1)\r\n",
        " \r\n",
        "# Использовать ли GPU\r\n",
        "model_resnet= model_resnet.cuda()"
      ],
      "execution_count": null,
      "outputs": []
    },
    {
      "cell_type": "markdown",
      "metadata": {
        "id": "jOhInnDMSqGQ"
      },
      "source": [
        "### 1-вый цикл обучения (20 эпох) Accuracy: 0.9859"
      ]
    },
    {
      "cell_type": "code",
      "metadata": {
        "id": "2z-YqrKZSqGQ"
      },
      "source": [
        "# Зададим путь для сохранения моделей!\n",
        "# path = f'/content/gdrive/MyDrive/agb/model/ResNet34_FixLR_AdamW_aug_oversampling_batchsize_16_fold_{fold}'\n",
        "path = f'/content/gdrive/MyDrive/agb/model/ResNet34_DGL_AdamW_aug_oversampling_batchsize_16_fold_{fold}'"
      ],
      "execution_count": null,
      "outputs": []
    },
    {
      "cell_type": "code",
      "metadata": {
        "colab": {
          "base_uri": "https://localhost:8080/"
        },
        "id": "pwLoNuu7SqGR",
        "outputId": "e969b3ab-7982-439d-aabe-501878c3f962"
      },
      "source": [
        "path"
      ],
      "execution_count": null,
      "outputs": [
        {
          "output_type": "execute_result",
          "data": {
            "application/vnd.google.colaboratory.intrinsic+json": {
              "type": "string"
            },
            "text/plain": [
              "'/content/gdrive/MyDrive/agb/model/ResNet34_DGL_AdamW_aug_oversampling_batchsize_16_fold_1'"
            ]
          },
          "metadata": {
            "tags": []
          },
          "execution_count": 30
        }
      ]
    },
    {
      "cell_type": "code",
      "metadata": {
        "colab": {
          "base_uri": "https://localhost:8080/",
          "height": 1000,
          "referenced_widgets": [
            "bf7379154f7a433c9b74b9714f67a6bc",
            "0fec170184c749eaa47961ed4dc9c1b8",
            "2f034d2a37ea42c3b2a0051b74f03ea6",
            "10819479954c45a29b5f1c3af48bcfb2",
            "550603ee6de54527b8d15a1a35fd66fa",
            "3714e3644c7c498cbd0356b87803f26a",
            "131374c7bde347bea9a33dfe8ebc6030",
            "5c305a16370c4cbd80588bd4d25c2677"
          ]
        },
        "id": "6f1u0VfgSqGR",
        "outputId": "a0cbf4af-7d06-4d78-daf8-ba8816916911"
      },
      "source": [
        "# Обучаем модель (Неиспользуется в финальном score можно сразу загрузить веса!)\n",
        "model_resnet, losses, acc, best_model_wts = train_model(model_resnet, dataloaders, loss_fn, optimizer, num_epochs=20, flag_save_wts_to_file=True, path=path)"
      ],
      "execution_count": null,
      "outputs": [
        {
          "output_type": "stream",
          "text": [
            "Logging...\n"
          ],
          "name": "stdout"
        },
        {
          "output_type": "display_data",
          "data": {
            "application/vnd.jupyter.widget-view+json": {
              "model_id": "bf7379154f7a433c9b74b9714f67a6bc",
              "version_minor": 0,
              "version_major": 2
            },
            "text/plain": [
              "HBox(children=(FloatProgress(value=0.0, max=20.0), HTML(value='')))"
            ]
          },
          "metadata": {
            "tags": []
          }
        },
        {
          "output_type": "stream",
          "text": [
            "Epoch 0/19 lr=[0.0001]\n",
            "----------\n",
            "train Loss: 0.2573 Acc: 0.8879\n",
            "val Loss: 0.0435 Acc: 0.9821\n",
            "\n",
            "***new best wts with acc 0.9821428571428571 at 0 epoh***\n",
            "\n",
            "***new best wts with loss 0.04347852550979171 at 0 epoh***\n",
            "*** save model wts at this 0 epoch ! *** \n",
            "\n",
            "Epoch 1/19 lr=[0.0001]\n",
            "----------\n",
            "train Loss: 0.1150 Acc: 0.9600\n",
            "val Loss: 0.1061 Acc: 0.9643\n",
            "*** save model wts at this 1 epoch ! *** \n",
            "\n",
            "Epoch 2/19 lr=[0.0001]\n",
            "----------\n",
            "train Loss: 0.0750 Acc: 0.9700\n",
            "val Loss: 0.0105 Acc: 1.0000\n",
            "\n",
            "***new best wts with acc 1.0 at 2 epoh***\n",
            "\n",
            "***new best wts with loss 0.01053628179111651 at 2 epoh***\n",
            "*** save model wts at this 2 epoch ! *** \n",
            "\n",
            "Epoch 3/19 lr=[0.0001]\n",
            "----------\n",
            "train Loss: 0.0526 Acc: 0.9850\n",
            "val Loss: 0.0133 Acc: 0.9911\n",
            "*** save model wts at this 3 epoch ! *** \n",
            "\n",
            "Epoch 4/19 lr=[0.0001]\n",
            "----------\n",
            "train Loss: 0.0918 Acc: 0.9650\n",
            "val Loss: 0.0284 Acc: 0.9911\n",
            "*** save model wts at this 4 epoch ! *** \n",
            "\n",
            "Epoch 5/19 lr=[0.0001]\n",
            "----------\n",
            "train Loss: 0.0871 Acc: 0.9690\n",
            "val Loss: 0.0053 Acc: 1.0000\n",
            "\n",
            "***new best wts with loss 0.00526534320254411 at 5 epoh***\n",
            "*** save model wts at this 5 epoch ! *** \n",
            "\n",
            "Epoch 6/19 lr=[0.0001]\n",
            "----------\n",
            "train Loss: 0.1019 Acc: 0.9650\n",
            "val Loss: 0.0210 Acc: 0.9911\n",
            "*** save model wts at this 6 epoch ! *** \n",
            "\n",
            "Epoch 7/19 lr=[0.0001]\n",
            "----------\n",
            "train Loss: 0.0637 Acc: 0.9790\n",
            "val Loss: 0.0358 Acc: 0.9821\n",
            "*** save model wts at this 7 epoch ! *** \n",
            "\n",
            "Epoch 8/19 lr=[0.0001]\n",
            "----------\n",
            "train Loss: 0.0393 Acc: 0.9850\n",
            "val Loss: 0.0070 Acc: 1.0000\n",
            "*** save model wts at this 8 epoch ! *** \n",
            "\n",
            "Epoch 9/19 lr=[0.0001]\n",
            "----------\n",
            "train Loss: 0.0779 Acc: 0.9780\n",
            "val Loss: 0.0118 Acc: 1.0000\n",
            "*** save model wts at this 9 epoch ! *** \n",
            "\n",
            "Epoch 10/19 lr=[0.0001]\n",
            "----------\n",
            "train Loss: 0.0391 Acc: 0.9870\n",
            "val Loss: 0.0105 Acc: 1.0000\n",
            "*** save model wts at this 10 epoch ! *** \n",
            "\n",
            "Epoch 11/19 lr=[0.0001]\n",
            "----------\n",
            "train Loss: 0.0424 Acc: 0.9850\n",
            "val Loss: 0.0093 Acc: 1.0000\n",
            "*** save model wts at this 11 epoch ! *** \n",
            "\n",
            "Epoch 12/19 lr=[0.0001]\n",
            "----------\n",
            "train Loss: 0.0305 Acc: 0.9870\n",
            "val Loss: 0.0167 Acc: 0.9911\n",
            "*** save model wts at this 12 epoch ! *** \n",
            "\n",
            "Epoch 13/19 lr=[0.0001]\n",
            "----------\n",
            "train Loss: 0.0559 Acc: 0.9800\n",
            "val Loss: 0.0020 Acc: 1.0000\n",
            "\n",
            "***new best wts with loss 0.0020211997523022418 at 13 epoh***\n",
            "*** save model wts at this 13 epoch ! *** \n",
            "\n",
            "Epoch 14/19 lr=[0.0001]\n",
            "----------\n",
            "train Loss: 0.0582 Acc: 0.9820\n",
            "val Loss: 0.0033 Acc: 1.0000\n",
            "*** save model wts at this 14 epoch ! *** \n",
            "\n",
            "Epoch 15/19 lr=[0.0001]\n",
            "----------\n",
            "train Loss: 0.0458 Acc: 0.9870\n",
            "val Loss: 0.0178 Acc: 0.9911\n",
            "*** save model wts at this 15 epoch ! *** \n",
            "\n",
            "Epoch 16/19 lr=[0.0001]\n",
            "----------\n",
            "train Loss: 0.0207 Acc: 0.9920\n",
            "val Loss: 0.0061 Acc: 1.0000\n",
            "*** save model wts at this 16 epoch ! *** \n",
            "\n",
            "Epoch 17/19 lr=[0.0001]\n",
            "----------\n",
            "train Loss: 0.0618 Acc: 0.9800\n",
            "val Loss: 0.0339 Acc: 0.9821\n",
            "*** save model wts at this 17 epoch ! *** \n",
            "\n",
            "Epoch 18/19 lr=[0.0001]\n",
            "----------\n",
            "train Loss: 0.0401 Acc: 0.9840\n",
            "val Loss: 0.0057 Acc: 1.0000\n",
            "*** save model wts at this 18 epoch ! *** \n",
            "\n",
            "Epoch 19/19 lr=[0.0001]\n",
            "----------\n",
            "train Loss: 0.0457 Acc: 0.9890\n",
            "val Loss: 0.0087 Acc: 1.0000\n",
            "*** save model wts at this 19 epoch ! *** \n",
            "\n",
            "\n",
            "Training complete in 23m 37s\n",
            "Best val Acc: 1.000000 at 2\n",
            "Best val Loss: 0.002021 at 13\n"
          ],
          "name": "stdout"
        }
      ]
    },
    {
      "cell_type": "code",
      "metadata": {
        "id": "uOsHINZHSqGR"
      },
      "source": [
        "# освободим cuda кэш\n",
        "torch.cuda.empty_cache()"
      ],
      "execution_count": null,
      "outputs": []
    },
    {
      "cell_type": "code",
      "metadata": {
        "id": "UeLVrJ97SqGT"
      },
      "source": [
        "# загрузим состояние нашей модели, ее веса при которых было достигнута лучшая\n",
        "# точность, а так же losses и accurancy\n",
        "# У НАС ЕСТЬ БЫБОР!\n",
        "# Если:\n",
        "# сторка ниже, - забираем модель с последней эпохи обучения\n",
        "# model_resnet.load_state_dict(torch.load(path + '.pth'))\n",
        "\n",
        "# лучше забрать одну из моделей ниже!\n",
        "# или строка ниже, - забираем модель с лучшей точностью на валидации\n",
        "# model_resnet.load_state_dict(torch.load(path + '_best_w.pth')) \n",
        "\n",
        "# или строка ниже, - забираем модель с наименьшим loss на валидации\n",
        "model_resnet.load_state_dict(torch.load(path + '_best_w_loss.pth'))\n",
        "\n",
        "# загружаем accurancy и loss'ы\n",
        "losses = load_dict_from_file(path + '_losses.pickle')\n",
        "acc = load_dict_from_file(path + '_acc.pickle')"
      ],
      "execution_count": null,
      "outputs": []
    },
    {
      "cell_type": "code",
      "metadata": {
        "colab": {
          "base_uri": "https://localhost:8080/"
        },
        "id": "AcWTnLw9SqGT",
        "outputId": "63f3c97c-88e7-4118-d0a6-fe84a4ed73f0"
      },
      "source": [
        "# посчитаем Accuracy на всей валидационной выборке Accuracy: 0.9859\n",
        "print(\"Accuracy: {0:.4f}\".format(evaluate(model_resnet, dataloaders['val'], DEVICE, use_gpu =True)))"
      ],
      "execution_count": null,
      "outputs": [
        {
          "output_type": "stream",
          "text": [
            "Accuracy: 1.0000\n"
          ],
          "name": "stdout"
        }
      ]
    },
    {
      "cell_type": "code",
      "metadata": {
        "colab": {
          "base_uri": "https://localhost:8080/",
          "height": 295
        },
        "id": "yw0VJkkcSqGT",
        "outputId": "105daa7e-32cf-444b-e90e-b21e4301e780"
      },
      "source": [
        "show_losses_plots(losses, smooth_flag = False, min = 0)"
      ],
      "execution_count": null,
      "outputs": [
        {
          "output_type": "display_data",
          "data": {
            "image/png": "[encoded data removed]",
            "text/plain": [
              "<Figure size 432x288 with 1 Axes>"
            ]
          },
          "metadata": {
            "tags": [],
            "needs_background": "light"
          }
        }
      ]
    },
    {
      "cell_type": "code",
      "metadata": {
        "colab": {
          "base_uri": "https://localhost:8080/",
          "height": 295
        },
        "id": "bExbwSKSSqGT",
        "outputId": "51a81dfc-f1a6-4ad3-95f8-da1cfea38a5c"
      },
      "source": [
        "show_acc_plots(acc, smooth_flag = False)"
      ],
      "execution_count": null,
      "outputs": [
        {
          "output_type": "display_data",
          "data": {
            "image/png": "[encoded data removed]",
            "text/plain": [
              "<Figure size 432x288 with 1 Axes>"
            ]
          },
          "metadata": {
            "tags": [],
            "needs_background": "light"
          }
        }
      ]
    },
    {
      "cell_type": "markdown",
      "metadata": {
        "id": "c5lAZbpGSqGT"
      },
      "source": [
        "#### оценка предсказательной точности модели по классам 1 цикл"
      ]
    },
    {
      "cell_type": "code",
      "metadata": {
        "colab": {
          "base_uri": "https://localhost:8080/",
          "height": 818
        },
        "id": "PnRCjXdUSqGT",
        "outputId": "b54c3eac-e49c-4b93-a536-4fcebdbb3177"
      },
      "source": [
        "# Построим confusion_matrix\n",
        "y_test_all, predictions_all, feature_names = show_confusion_matrix_fucn(model_resnet, dataloaders)"
      ],
      "execution_count": null,
      "outputs": [
        {
          "output_type": "stream",
          "text": [
            "Normalized confusion matrix\n"
          ],
          "name": "stdout"
        },
        {
          "output_type": "display_data",
          "data": {
            "image/png": "[encoded data removed]",
            "text/plain": [
              "<Figure size 1152x792 with 2 Axes>"
            ]
          },
          "metadata": {
            "tags": [],
            "needs_background": "light"
          }
        }
      ]
    },
    {
      "cell_type": "code",
      "metadata": {
        "colab": {
          "base_uri": "https://localhost:8080/"
        },
        "scrolled": true,
        "id": "926vjG-hSqGU",
        "outputId": "6e4f1373-82a4-4c8f-9d54-e7942e94e460"
      },
      "source": [
        "# Выведем точность для каждого класса\n",
        "accurancy_for_each_class(y_test_all, predictions_all, feature_names)"
      ],
      "execution_count": null,
      "outputs": [
        {
          "output_type": "stream",
          "text": [
            "[71, 41]\n",
            "2\n",
            "Accuracy of health\t100 %\n",
            "Accuracy of  sick\t100 %\n"
          ],
          "name": "stdout"
        }
      ]
    },
    {
      "cell_type": "code",
      "metadata": {
        "id": "Gexsec2fSqGU"
      },
      "source": [
        "f1 = f1_score(y_test_all, predictions_all)"
      ],
      "execution_count": null,
      "outputs": []
    },
    {
      "cell_type": "code",
      "metadata": {
        "id": "KsWpSIv8SqGU"
      },
      "source": [
        "f1_score_folds.append(f1)"
      ],
      "execution_count": null,
      "outputs": []
    },
    {
      "cell_type": "code",
      "metadata": {
        "id": "ky4C-NGWSqGU"
      },
      "source": [
        "# освободим cuda кэш\n",
        "torch.cuda.empty_cache()"
      ],
      "execution_count": null,
      "outputs": []
    },
    {
      "cell_type": "markdown",
      "metadata": {
        "id": "3tfqpjAhS17_"
      },
      "source": [
        "# Подсчет статистики"
      ]
    },
    {
      "cell_type": "code",
      "metadata": {
        "id": "jz_XujJwS6j6"
      },
      "source": [
        "np.mean(f1_score_folds)"
      ],
      "execution_count": null,
      "outputs": []
    },
    {
      "cell_type": "code",
      "metadata": {
        "id": "lhP-7K6pS985"
      },
      "source": [
        "np.std(f1_score_folds)"
      ],
      "execution_count": null,
      "outputs": []
    }
  ]
}